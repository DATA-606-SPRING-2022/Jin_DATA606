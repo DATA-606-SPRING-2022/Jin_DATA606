{
  "nbformat": 4,
  "nbformat_minor": 0,
  "metadata": {
    "colab": {
      "name": "DATA606_Part3_HybridRecommender.ipynb",
      "provenance": [],
      "authorship_tag": "ABX9TyOBkLnSnlGKFDRR41os1nGa",
      "include_colab_link": true
    },
    "kernelspec": {
      "name": "python3",
      "display_name": "Python 3"
    },
    "language_info": {
      "name": "python"
    }
  },
  "cells": [
    {
      "cell_type": "markdown",
      "metadata": {
        "id": "view-in-github",
        "colab_type": "text"
      },
      "source": [
        "<a href=\"https://colab.research.google.com/github/JinHuiXu1991/Jin_DATA606/blob/main/ipynb/DATA606_Part3_HybridRecommender.ipynb\" target=\"_parent\"><img src=\"https://colab.research.google.com/assets/colab-badge.svg\" alt=\"Open In Colab\"/></a>"
      ]
    },
    {
      "cell_type": "markdown",
      "source": [
        "# Amazon Product Recommender Systems\n",
        "## Author: Jin Hui Xu"
      ],
      "metadata": {
        "id": "GkaM31JClPdM"
      }
    },
    {
      "cell_type": "markdown",
      "source": [
        "##Hybrid Recommender"
      ],
      "metadata": {
        "id": "wf2Y6IktlRuA"
      }
    },
    {
      "cell_type": "code",
      "execution_count": 1,
      "metadata": {
        "colab": {
          "base_uri": "https://localhost:8080/"
        },
        "id": "i3htBDtqlIt7",
        "outputId": "8015260b-902d-45ed-9b04-c4a5fe692fd9"
      },
      "outputs": [
        {
          "output_type": "stream",
          "name": "stdout",
          "text": [
            "--2022-04-12 01:21:31--  https://github.com/JinHuiXu1991/Jin_DATA606/blob/main/cleaned_data/cleaned_amazon_product.zip?raw=true\n",
            "Resolving github.com (github.com)... 140.82.121.4\n",
            "Connecting to github.com (github.com)|140.82.121.4|:443... connected.\n",
            "HTTP request sent, awaiting response... 302 Found\n",
            "Location: https://github.com/JinHuiXu1991/Jin_DATA606/raw/main/cleaned_data/cleaned_amazon_product.zip [following]\n",
            "--2022-04-12 01:21:31--  https://github.com/JinHuiXu1991/Jin_DATA606/raw/main/cleaned_data/cleaned_amazon_product.zip\n",
            "Reusing existing connection to github.com:443.\n",
            "HTTP request sent, awaiting response... 302 Found\n",
            "Location: https://raw.githubusercontent.com/JinHuiXu1991/Jin_DATA606/main/cleaned_data/cleaned_amazon_product.zip [following]\n",
            "--2022-04-12 01:21:31--  https://raw.githubusercontent.com/JinHuiXu1991/Jin_DATA606/main/cleaned_data/cleaned_amazon_product.zip\n",
            "Resolving raw.githubusercontent.com (raw.githubusercontent.com)... 185.199.109.133, 185.199.110.133, 185.199.111.133, ...\n",
            "Connecting to raw.githubusercontent.com (raw.githubusercontent.com)|185.199.109.133|:443... connected.\n",
            "HTTP request sent, awaiting response... 200 OK\n",
            "Length: 5348817 (5.1M) [application/zip]\n",
            "Saving to: ‘cleaned_amazon_product.zip?raw=true’\n",
            "\n",
            "cleaned_amazon_prod 100%[===================>]   5.10M  --.-KB/s    in 0.04s   \n",
            "\n",
            "2022-04-12 01:21:31 (116 MB/s) - ‘cleaned_amazon_product.zip?raw=true’ saved [5348817/5348817]\n",
            "\n",
            "--2022-04-12 01:21:32--  https://github.com/JinHuiXu1991/Jin_DATA606/blob/main/cleaned_data/cleaned_amazon_review.zip?raw=true\n",
            "Resolving github.com (github.com)... 140.82.121.3\n",
            "Connecting to github.com (github.com)|140.82.121.3|:443... connected.\n",
            "HTTP request sent, awaiting response... 302 Found\n",
            "Location: https://github.com/JinHuiXu1991/Jin_DATA606/raw/main/cleaned_data/cleaned_amazon_review.zip [following]\n",
            "--2022-04-12 01:21:33--  https://github.com/JinHuiXu1991/Jin_DATA606/raw/main/cleaned_data/cleaned_amazon_review.zip\n",
            "Reusing existing connection to github.com:443.\n",
            "HTTP request sent, awaiting response... 302 Found\n",
            "Location: https://raw.githubusercontent.com/JinHuiXu1991/Jin_DATA606/main/cleaned_data/cleaned_amazon_review.zip [following]\n",
            "--2022-04-12 01:21:33--  https://raw.githubusercontent.com/JinHuiXu1991/Jin_DATA606/main/cleaned_data/cleaned_amazon_review.zip\n",
            "Resolving raw.githubusercontent.com (raw.githubusercontent.com)... 185.199.109.133, 185.199.108.133, 185.199.111.133, ...\n",
            "Connecting to raw.githubusercontent.com (raw.githubusercontent.com)|185.199.109.133|:443... connected.\n",
            "HTTP request sent, awaiting response... 200 OK\n",
            "Length: 51337311 (49M) [application/zip]\n",
            "Saving to: ‘cleaned_amazon_review.zip?raw=true’\n",
            "\n",
            "cleaned_amazon_revi 100%[===================>]  48.96M   176MB/s    in 0.3s    \n",
            "\n",
            "2022-04-12 01:21:36 (176 MB/s) - ‘cleaned_amazon_review.zip?raw=true’ saved [51337311/51337311]\n",
            "\n",
            "--2022-04-12 01:21:36--  https://github.com/JinHuiXu1991/Jin_DATA606/blob/main/models/Content_based_LDA_output.zip?raw=true\n",
            "Resolving github.com (github.com)... 140.82.121.4\n",
            "Connecting to github.com (github.com)|140.82.121.4|:443... connected.\n",
            "HTTP request sent, awaiting response... 302 Found\n",
            "Location: https://github.com/JinHuiXu1991/Jin_DATA606/raw/main/models/Content_based_LDA_output.zip [following]\n",
            "--2022-04-12 01:21:36--  https://github.com/JinHuiXu1991/Jin_DATA606/raw/main/models/Content_based_LDA_output.zip\n",
            "Reusing existing connection to github.com:443.\n",
            "HTTP request sent, awaiting response... 302 Found\n",
            "Location: https://raw.githubusercontent.com/JinHuiXu1991/Jin_DATA606/main/models/Content_based_LDA_output.zip [following]\n",
            "--2022-04-12 01:21:37--  https://raw.githubusercontent.com/JinHuiXu1991/Jin_DATA606/main/models/Content_based_LDA_output.zip\n",
            "Resolving raw.githubusercontent.com (raw.githubusercontent.com)... 185.199.108.133, 185.199.109.133, 185.199.110.133, ...\n",
            "Connecting to raw.githubusercontent.com (raw.githubusercontent.com)|185.199.108.133|:443... connected.\n",
            "HTTP request sent, awaiting response... 200 OK\n",
            "Length: 6486606 (6.2M) [application/zip]\n",
            "Saving to: ‘Content_based_LDA_output.zip?raw=true’\n",
            "\n",
            "Content_based_LDA_o 100%[===================>]   6.19M  --.-KB/s    in 0.04s   \n",
            "\n",
            "2022-04-12 01:21:37 (145 MB/s) - ‘Content_based_LDA_output.zip?raw=true’ saved [6486606/6486606]\n",
            "\n",
            "--2022-04-12 01:21:37--  https://github.com/JinHuiXu1991/Jin_DATA606/blob/main/models/final_cr_sentiment_data.zip?raw=true\n",
            "Resolving github.com (github.com)... 140.82.121.3\n",
            "Connecting to github.com (github.com)|140.82.121.3|:443... connected.\n",
            "HTTP request sent, awaiting response... 302 Found\n",
            "Location: https://github.com/JinHuiXu1991/Jin_DATA606/raw/main/models/final_cr_sentiment_data.zip [following]\n",
            "--2022-04-12 01:21:37--  https://github.com/JinHuiXu1991/Jin_DATA606/raw/main/models/final_cr_sentiment_data.zip\n",
            "Reusing existing connection to github.com:443.\n",
            "HTTP request sent, awaiting response... 302 Found\n",
            "Location: https://raw.githubusercontent.com/JinHuiXu1991/Jin_DATA606/main/models/final_cr_sentiment_data.zip [following]\n",
            "--2022-04-12 01:21:38--  https://raw.githubusercontent.com/JinHuiXu1991/Jin_DATA606/main/models/final_cr_sentiment_data.zip\n",
            "Resolving raw.githubusercontent.com (raw.githubusercontent.com)... 185.199.110.133, 185.199.111.133, 185.199.108.133, ...\n",
            "Connecting to raw.githubusercontent.com (raw.githubusercontent.com)|185.199.110.133|:443... connected.\n",
            "HTTP request sent, awaiting response... 200 OK\n",
            "Length: 1856255 (1.8M) [application/zip]\n",
            "Saving to: ‘final_cr_sentiment_data.zip?raw=true’\n",
            "\n",
            "final_cr_sentiment_ 100%[===================>]   1.77M  --.-KB/s    in 0.02s   \n",
            "\n",
            "2022-04-12 01:21:38 (80.2 MB/s) - ‘final_cr_sentiment_data.zip?raw=true’ saved [1856255/1856255]\n",
            "\n",
            "--2022-04-12 01:21:38--  https://github.com/JinHuiXu1991/Jin_DATA606/blob/main/models/final_cr_sentiment_model.pickle?raw=true\n",
            "Resolving github.com (github.com)... 140.82.121.3\n",
            "Connecting to github.com (github.com)|140.82.121.3|:443... connected.\n",
            "HTTP request sent, awaiting response... 302 Found\n",
            "Location: https://github.com/JinHuiXu1991/Jin_DATA606/raw/main/models/final_cr_sentiment_model.pickle [following]\n",
            "--2022-04-12 01:21:38--  https://github.com/JinHuiXu1991/Jin_DATA606/raw/main/models/final_cr_sentiment_model.pickle\n",
            "Reusing existing connection to github.com:443.\n",
            "HTTP request sent, awaiting response... 302 Found\n",
            "Location: https://raw.githubusercontent.com/JinHuiXu1991/Jin_DATA606/main/models/final_cr_sentiment_model.pickle [following]\n",
            "--2022-04-12 01:21:38--  https://raw.githubusercontent.com/JinHuiXu1991/Jin_DATA606/main/models/final_cr_sentiment_model.pickle\n",
            "Resolving raw.githubusercontent.com (raw.githubusercontent.com)... 185.199.109.133, 185.199.110.133, 185.199.111.133, ...\n",
            "Connecting to raw.githubusercontent.com (raw.githubusercontent.com)|185.199.109.133|:443... connected.\n",
            "HTTP request sent, awaiting response... 200 OK\n",
            "Length: 70748769 (67M) [application/octet-stream]\n",
            "Saving to: ‘final_cr_sentiment_model.pickle?raw=true’\n",
            "\n",
            "final_cr_sentiment_ 100%[===================>]  67.47M   367MB/s    in 0.2s    \n",
            "\n",
            "2022-04-12 01:21:44 (367 MB/s) - ‘final_cr_sentiment_model.pickle?raw=true’ saved [70748769/70748769]\n",
            "\n"
          ]
        }
      ],
      "source": [
        "!wget https://github.com/JinHuiXu1991/Jin_DATA606/blob/main/cleaned_data/cleaned_amazon_product.zip?raw=true\n",
        "\n",
        "!wget https://github.com/JinHuiXu1991/Jin_DATA606/blob/main/cleaned_data/cleaned_amazon_review.zip?raw=true\n",
        "\n",
        "!wget https://github.com/JinHuiXu1991/Jin_DATA606/blob/main/models/Content_based_LDA_output.zip?raw=true\n",
        "\n",
        "!wget https://github.com/JinHuiXu1991/Jin_DATA606/blob/main/models/final_cr_sentiment_data.zip?raw=true \n",
        "\n",
        "!wget https://github.com/JinHuiXu1991/Jin_DATA606/blob/main/models/final_cr_sentiment_model.pickle?raw=true\n",
        "\n"
      ]
    },
    {
      "cell_type": "code",
      "source": [
        "!pip install surprise"
      ],
      "metadata": {
        "colab": {
          "base_uri": "https://localhost:8080/"
        },
        "id": "kogtHhxHsb3Z",
        "outputId": "a1836213-c26e-43bd-dcde-73a7daf2c276"
      },
      "execution_count": 2,
      "outputs": [
        {
          "output_type": "stream",
          "name": "stdout",
          "text": [
            "Collecting surprise\n",
            "  Downloading surprise-0.1-py2.py3-none-any.whl (1.8 kB)\n",
            "Collecting scikit-surprise\n",
            "  Downloading scikit-surprise-1.1.1.tar.gz (11.8 MB)\n",
            "\u001b[K     |████████████████████████████████| 11.8 MB 12.4 MB/s \n",
            "\u001b[?25hRequirement already satisfied: joblib>=0.11 in /usr/local/lib/python3.7/dist-packages (from scikit-surprise->surprise) (1.1.0)\n",
            "Requirement already satisfied: numpy>=1.11.2 in /usr/local/lib/python3.7/dist-packages (from scikit-surprise->surprise) (1.21.5)\n",
            "Requirement already satisfied: scipy>=1.0.0 in /usr/local/lib/python3.7/dist-packages (from scikit-surprise->surprise) (1.4.1)\n",
            "Requirement already satisfied: six>=1.10.0 in /usr/local/lib/python3.7/dist-packages (from scikit-surprise->surprise) (1.15.0)\n",
            "Building wheels for collected packages: scikit-surprise\n",
            "  Building wheel for scikit-surprise (setup.py) ... \u001b[?25l\u001b[?25hdone\n",
            "  Created wheel for scikit-surprise: filename=scikit_surprise-1.1.1-cp37-cp37m-linux_x86_64.whl size=1630193 sha256=c3ea45314bd8ea4e05e8c5ee732cea79c2b7631d319c52d1d88cf2aeba08268f\n",
            "  Stored in directory: /root/.cache/pip/wheels/76/44/74/b498c42be47b2406bd27994e16c5188e337c657025ab400c1c\n",
            "Successfully built scikit-surprise\n",
            "Installing collected packages: scikit-surprise, surprise\n",
            "Successfully installed scikit-surprise-1.1.1 surprise-0.1\n"
          ]
        }
      ]
    },
    {
      "cell_type": "code",
      "source": [
        "import pandas as pd\n",
        "import numpy as np\n",
        "import matplotlib.pyplot as plt\n",
        "from surprise import Dataset\n",
        "from surprise import Reader\n",
        "from surprise import dump\n",
        "import os\n",
        "from surprise import NormalPredictor\n",
        "from surprise import SVD\n",
        "from surprise.accuracy import rmse\n",
        "import gzip\n",
        "from collections import defaultdict"
      ],
      "metadata": {
        "id": "5XC_HaQ4shxo"
      },
      "execution_count": 3,
      "outputs": []
    },
    {
      "cell_type": "code",
      "source": [
        "def load_model(model_filename):\n",
        "    file_name = os.path.expanduser(model_filename)\n",
        "    _, loaded_model = dump.load(file_name)\n",
        "    return loaded_model"
      ],
      "metadata": {
        "id": "PO6mSAJzs0w5"
      },
      "execution_count": 4,
      "outputs": []
    },
    {
      "cell_type": "code",
      "source": [
        "def get_rec_user(uid, input_df):\n",
        "    input_id = uid\n",
        "    data1 = [input_id]\n",
        "    data2 = input_df['asin'].unique().tolist()\n",
        "\n",
        "    df = pd.DataFrame(data1)\n",
        "    df.columns =['reviewerID']\n",
        "\n",
        "    df1 = pd.DataFrame(data2)\n",
        "    df1.columns =['asin']\n",
        "    # filter out reviewed products\n",
        "    reviewed_product = input_df[input_df['reviewerID'] == input_id].asin.unique().tolist()\n",
        "    df1 = df1[~df1['asin'].isin(reviewed_product)]\n",
        "\n",
        "    # Now to perform cross join, we will create\n",
        "    # a key column in both the DataFrames to\n",
        "    # merge on that key.\n",
        "    df['key'] = 1\n",
        "    df1['key'] = 1\n",
        "\n",
        "    # to obtain the cross join we will merge\n",
        "    # on the key and drop it.\n",
        "    result = pd.merge(df, df1, on ='key')\n",
        "\n",
        "    result['overall']=0.0\n",
        "    del result['key']\n",
        "    return result"
      ],
      "metadata": {
        "id": "QLd01DgZtPKh"
      },
      "execution_count": 5,
      "outputs": []
    },
    {
      "cell_type": "code",
      "source": [
        "def collaborative_SVD_recommender(predictions, product_df, LDA_result, top_num=10):\n",
        "    # First map the predictions to each user.\n",
        "    top_n = defaultdict(list)\n",
        "    for uid, iid, _, est, _ in predictions:\n",
        "      if iid in LDA_result:\n",
        "        top_n[uid].append((iid, est))\n",
        "\n",
        "    # Then sort the predictions for each user and retrieve the k highest ones.\n",
        "    for uid, user_ratings in top_n.items():\n",
        "        user_ratings.sort(key=lambda x: x[1], reverse=True)\n",
        "        top_n[uid] = user_ratings[:top_num]\n",
        "\n",
        "    for uid, user_ratings in top_n.items():\n",
        "      result = [iid for (iid, _) in user_ratings]\n",
        "\n",
        "    return result, product_df[product_df['asin'].isin(result)]['ori_title'].tolist()"
      ],
      "metadata": {
        "id": "9csR2bYjtmM3"
      },
      "execution_count": 31,
      "outputs": []
    },
    {
      "cell_type": "code",
      "source": [
        "def topic_modeling_recommender(id, df, top_n=10):\n",
        "    id = id.lower()\n",
        "\n",
        "    # get the input product topic number\n",
        "    topic_num = df[df['asin'].str.lower() == id]['topic_num'].item()\n",
        "\n",
        "    # remove the input product from the recommendation data\n",
        "    exclude_input_df = df.copy()\n",
        "    exclude_input_df = exclude_input_df[exclude_input_df['asin'].str.lower() != id]\n",
        "\n",
        "    # get the top 10 Probability product for the matching topic number\n",
        "    output_df = exclude_input_df[exclude_input_df['topic_num'] == topic_num].sort_values('probability', ascending=False).head(top_n)\n",
        "\n",
        "    # get the product indices\n",
        "    product_indices = output_df.index.tolist()\n",
        "\n",
        "    # return the top 10 most similar product\n",
        "    return df['asin'].iloc[product_indices].tolist(), df['ori_title'].iloc[product_indices].tolist()"
      ],
      "metadata": {
        "id": "D7-0zkCDt8In"
      },
      "execution_count": 12,
      "outputs": []
    },
    {
      "cell_type": "code",
      "source": [
        "product_df = pd.read_csv('./Content_based_LDA_output.zip?raw=true', compression='zip')"
      ],
      "metadata": {
        "id": "RNlv_CU3t1Rp"
      },
      "execution_count": 13,
      "outputs": []
    },
    {
      "cell_type": "code",
      "source": [
        "# get input id and title for the recommendation\n",
        "input_id = product_df[product_df['title'].str.contains('refrigerator', case=False)].iloc[0]['asin']\n",
        "input_title = product_df[product_df['title'].str.contains('refrigerator', case=False)].iloc[0]['title']\n",
        "\n",
        "asin, title = topic_modeling_recommender(input_id, product_df, 50)"
      ],
      "metadata": {
        "id": "FDtOfjlbuBGB"
      },
      "execution_count": 19,
      "outputs": []
    },
    {
      "cell_type": "code",
      "source": [
        "print('Topic Modeling Recommender Result for {}, {}: '.format(input_id, input_title))\n",
        "for i in range(0, len(asin)):\n",
        "  print('{}. {}, {}'.format(i+1, asin[i], title[i]))"
      ],
      "metadata": {
        "colab": {
          "base_uri": "https://localhost:8080/"
        },
        "id": "Ee7068JHuIfR",
        "outputId": "cb398e23-6cbd-441a-d74d-5b2d28b349b5"
      },
      "execution_count": 20,
      "outputs": [
        {
          "output_type": "stream",
          "name": "stdout",
          "text": [
            "Topic Modeling Recommender Result for B0001YH10C, coldmate mr 128 mini cooler warmer deluxe mini refrigerator: \n",
            "1. B013PRRB4W, Power Pair Special-LG Turbo Series Ultra-Capacity Laundry System with Steam*PURE WHITE COLOR*(WM4270HWA_DLEX4270W)\n",
            "2. B013PSOBNA, Power Pair Special-LG Turbo Series Ultra-Capacity Laundry System with Steam and Matching Storage Pedestals *GRAPHITE STEEL*(WM4270HVA_DLEX4270V_WDP4V X 2)\n",
            "3. B013PT1PFQ, Power Pair Special-LG Turbo Series Ultra-Capacity Laundry System with Steam*GRAPHITE STEEL*(WM4270HVA_DLEX4270V)\n",
            "4. B00HX3ZJKS, PAIR SPECIAL- LG Turbo Series Ultra Capacity Laundry System With Steam Technology (WM3470HVA,DLEX3470V,WDP4V x2)\n",
            "5. B0049OSUD2, Maytag MFI2665XEM Ice2O 25.5 Cu. Ft. Stainless Steel French Door Refrigerator - Energy Star\n",
            "6. B00MG225MQ, Power Pair Special- LG Turbo Series Ultra Capacity Laundry System with Steam Technology(WM3570HWA_DLEX3570W)*PURE WHITE IN COLOR*\n",
            "7. B00MG17WBQ, POWER PAIR SPECIAL-LG TURBO SERIES ULTRA CAPACITY LAUNDRY SYSTEM WITH STEAM TECHNOLOGY, AND STAINLESS DRUMS (WM3570HVA_DLEX3570V) *GRAPHITE STEEL COLOR*\n",
            "8. B00MG1FT5M, POWER PAIR SPECIAL-LG Turbo Series ultra Large Capacity Laundry System With Steam Technology (WM3570HVA_DLEX3570V_WDP4V X 2) *GRAPHITE STEEL COLOR*\n",
            "9. B00P9VMNPK, LG H/E Ultra Large Capacity Top Load Laundry System with Turbo Wash Technology (WT5680HWA_DLEX5680W) ELECTRIC DRYER\n",
            "10. B00UNTG9XK, Electrolux Frigidaire Professional FPBS2777RF 27.8 Cu.Ft. Stainless French Door Refrigerator\n",
            "11. B001CW9QBO, Kitchenaid KSRV22FVMS 21.8 cu. ft. Architect Series II Side-by-Side Refrigerator\n",
            "12. B0021J45DG, Maytag MFI2269VEM Ice2O 22.0 Cu. Ft. Stainless Steel French Door Refrigerator - Energy Star\n",
            "13. B00HX3RS3O, LG PAIR SPECIAL- Turbo Series With Steam Technology WM3470HWA+DLEX3470W\n",
            "14. B00294J5ZG,  Speed Queen ATE50\n",
            "15. B00SZAH9Y2, Speed Queen ADEE8RGS 27&quot; ADA Compliant Button Control Front Load Electric Dryer with 7.0 Cu. Ft. Capacity Reversible Door 6 Preset Cycles Moisture Sensor Interior Light Time Remaining Display in\n",
            "16. B00EE87ASO, LG DLEX5680V SteamDryer 7.3 Cu. Ft. Graphite Steel With Steam Cycle Electric Dryer\n",
            "17. B0036ELATC, Frigidaire Affinity Series: FAFW3577K 27'' Front-Load Washer with 3.5 cu. ft. Capacity, 7 Wash Cycles, 17 Options, Energy Saver, 1100 RPM, Water Heater and Stainless Steel Tub\n",
            "18. B005SAFDK4, Maytag MEDB850YW Bravos 7.3 Cu. Ft. White With Steam Cycle Electric Front Load Dryer\n",
            "19. B0015YV2WU, Electrolux EIDW6105GB 24&quot; Built-In Dishwasher with IQ-Touch&trade; Controls and Luxury-Quiet&trade;, Black\n",
            "20. B00A6VVGF6, LG DLEX4070V SteamDryer 7.4 Cu. Ft. Graphite Steel Stackable With Steam Cycle Electric Front Load Dryer\n",
            "21. B00482E3F4, Maytag Bravos X Top Load Washer with with Allergen cycle 3.6 Cu. Ft., Silver MVWX700XL\n",
            "22. B004XQHFHS, Maytag MSF25C2EXB\n",
            "23. B0000AYKNY, Haier LW120W Energy Efficient Dual Compartment Chest Freezer\n",
            "24. B004CZGEAE, Frigidaire FAFW4221LW Affinity 3.68 Cu. Ft. DOE (4.2 Cu. Ft. IEC) Front Load Washer - Classic White\n",
            "25. B00UI18U08, LG LMXC23746S 23 cu.ft. Large Capacity Counter Depth 4-Door French Door Refrigerator w/ CustomChill Drawer\n",
            "26. B0015YT5Y2,  Frigidaire Gallery Series GLTF2940FE 27 Front-Load Washer 3.5 cu. ft. Capacity - Black\n",
            "27. B00132IKQK, Maytag : MHWZ400TQ Washer\n",
            "28. B003VVHS3W, Maytag MVWX600XW Bravos X 3.6 Cu. Ft. White Top Load Washer - Energy Star\n",
            "29. B0093C0IWG, Maytag MSF25C2EXM\n",
            "30. B00FGWW82A, Frigidaire FFFS5115PA3.9 Cu. Ft. Classic Silver Stackable With Steam Cycle Front Load Washer - Energy Star\n",
            "31. B01HC0U48S, LG WM3670HWA 4.5 Cu. Ft. White Front Load Washer\n",
            "32. B000UW3R12, Maytag Ice2O Series MFI2067AEW 36 20.0 cu. ft. Counter-Depth French Door Refrigerator - White\n",
            "33. B000W3LGD0, KitchenAid KUIS15NRTS (KUIS15NRXS) 15 Built-in Ice Maker, 25 lbs. Capacity - Stainless Steel\n",
            "34. B006PJHV34, Danby DUF448WDD Designer 15.8 Cu. Ft. White Upright Freezer - Energy Star\n",
            "35. B006Z2PNP4, Maytag MFX2570AEM Ice2O 25 Cu. Ft. Stainless Steel French Door Refrigerator - Energy Star\n",
            "36. B00BV7AKZG, Frigidaire FGBD2434PF 24&quot; Stainless Steel Full Console Dishwasher - Energy Star\n",
            "37. B0174MW0ZE, LG DLEX9000V TurboSteam 9.0 Cu. Ft. Graphite Steel With Steam Cycle Electric Dryer - Energy Star\n",
            "38. B0015M2OA6, Electrolux EI26SS55GS 25.9 cu. ft. Side by Side Refrigerator w/IQ-Touch - Stainless Steel\n",
            "39. B002Z7OEB2, Electrolux EIFLS55IMB IQ-Touch 4.2 Cu. Ft. Blue Stackable With Steam Cycle Front Load Washer - Energy Star\n",
            "40. B0015LZ6MA,  Electrolux EW26SS65GS 25.9 cu. ft. Side by Side Refrigerator w/Wave-Touch - Stainless Steel\n",
            "41. B0021JC4E8, Maytag MSD2572VEB 25.2 cu. ft. Side by Side Refrigerator - Black\n",
            "42. B0025TH9BC,  KitchenAid KUDS40FVPA 24 Dishwasher - Panel Ready\n",
            "43. B001BWWXD8, Maytag MFF2558VEM 24.8 Cu. Ft. Stainless Steel French Door Refrigerator - Energy Star\n",
            "44. B007E6BTGW, Electrolux EW23BC85KS Wave-Touch 22.6 Cu. Ft. Stainless Steel Counter Depth French Door Refrigerator - Energy Star\n",
            "45. B001JSUQ1U, Asko: D5253XXL Fully Integrated Dishwasher with 6 Wash Programs, 8 Temperature Settings, 10Spray Wash System, SensiClean Sensor, ''Exclusive'' Upper/Middle Racks and 47 dBA Silence Rating\n",
            "46. B0021JA166, Maytag : MSD2274VEB 33 Side-By-Side Refrigerator Black\n",
            "47. B00P81EMJG, LG WT5480CW 27&quot; Top Load Washer in White\n",
            "48. B00JPUZ79A, Electrolux EIDW6305GS IQ-Touch 24&quot; Stainless Steel Semi-Integrated Dishwasher - Energy Star\n",
            "49. B00A8R4V6Y, Maytag MHW7000AG Maxima 4.3 Cu. Ft. Gray Stackable With Steam Cycle Front Load Washer - Energy Star\n",
            "50. B00U7XA4AG, LG WT1801HWA 5.0 Cu. Ft. White With Steam Cycle Top Load Washer - Energy Star\n"
          ]
        }
      ]
    },
    {
      "cell_type": "code",
      "source": [
        "# test the final pretrained model\n",
        "model_filename = \"./final_cr_sentiment_model.pickle?raw=true\"\n",
        "loaded_model = load_model(model_filename)\n",
        "\n",
        "result_list = []\n",
        "title_df = pd.read_csv('./cleaned_amazon_product.zip?raw=true', compression='zip')\n",
        "final_merged_df = pd.read_csv('./final_cr_sentiment_data.zip?raw=true', compression='zip')\n",
        "\n",
        "input_id = 'A1CY6CQC5HPQGL'\n",
        "result = get_rec_user(input_id, final_merged_df)\n",
        "\n",
        "reader = Reader()\n",
        "valid_Dataset = Dataset.load_from_df(result, reader)\n",
        "\n",
        "testset = valid_Dataset.df.values.tolist()\n",
        "predictions = loaded_model.test(testset)\n",
        "\n",
        "top_num=50\n",
        "cr_asin, cr_title = collaborative_SVD_recommender(predictions, title_df, asin, top_num)\n",
        "for i in range(0, len(cr_asin)):\n",
        "  result_list.append((input_id, cr_asin[i], cr_title[i]))\n",
        "\n",
        "result_df = pd.DataFrame(result_list)\n",
        "result_df.columns = ['reviewerID', 'asin', 'ori_title']\n",
        "\n",
        "reviewer_input_id = 'A1CY6CQC5HPQGL'\n",
        "\n",
        "print('Collaborative Recommender Result for customer {}: '.format(reviewer_input_id))\n",
        "\n",
        "for i, product in enumerate(result_df.values.tolist()):\n",
        "  print('{}. {}, {}'.format(i+1, product[1], product[2]))"
      ],
      "metadata": {
        "colab": {
          "base_uri": "https://localhost:8080/",
          "height": 235
        },
        "id": "yzFIrpxksv3N",
        "outputId": "2aab9295-b01d-4dbe-a251-c21af7f2a5d3"
      },
      "execution_count": 34,
      "outputs": [
        {
          "output_type": "error",
          "ename": "IndexError",
          "evalue": "ignored",
          "traceback": [
            "\u001b[0;31m---------------------------------------------------------------------------\u001b[0m",
            "\u001b[0;31mIndexError\u001b[0m                                Traceback (most recent call last)",
            "\u001b[0;32m<ipython-input-34-d2fc99c72bac>\u001b[0m in \u001b[0;36m<module>\u001b[0;34m()\u001b[0m\n\u001b[1;32m     19\u001b[0m \u001b[0masin\u001b[0m\u001b[0;34m,\u001b[0m \u001b[0mtitle\u001b[0m \u001b[0;34m=\u001b[0m \u001b[0mcollaborative_SVD_recommender\u001b[0m\u001b[0;34m(\u001b[0m\u001b[0mpredictions\u001b[0m\u001b[0;34m,\u001b[0m \u001b[0mtitle_df\u001b[0m\u001b[0;34m,\u001b[0m \u001b[0masin\u001b[0m\u001b[0;34m,\u001b[0m \u001b[0mtop_num\u001b[0m\u001b[0;34m)\u001b[0m\u001b[0;34m\u001b[0m\u001b[0;34m\u001b[0m\u001b[0m\n\u001b[1;32m     20\u001b[0m \u001b[0;32mfor\u001b[0m \u001b[0mi\u001b[0m \u001b[0;32min\u001b[0m \u001b[0mrange\u001b[0m\u001b[0;34m(\u001b[0m\u001b[0;36m0\u001b[0m\u001b[0;34m,\u001b[0m \u001b[0mtop_num\u001b[0m\u001b[0;34m-\u001b[0m\u001b[0;36m1\u001b[0m\u001b[0;34m)\u001b[0m\u001b[0;34m:\u001b[0m\u001b[0;34m\u001b[0m\u001b[0;34m\u001b[0m\u001b[0m\n\u001b[0;32m---> 21\u001b[0;31m   \u001b[0mresult_list\u001b[0m\u001b[0;34m.\u001b[0m\u001b[0mappend\u001b[0m\u001b[0;34m(\u001b[0m\u001b[0;34m(\u001b[0m\u001b[0minput_id\u001b[0m\u001b[0;34m,\u001b[0m \u001b[0masin\u001b[0m\u001b[0;34m[\u001b[0m\u001b[0mi\u001b[0m\u001b[0;34m]\u001b[0m\u001b[0;34m,\u001b[0m \u001b[0mtitle\u001b[0m\u001b[0;34m[\u001b[0m\u001b[0mi\u001b[0m\u001b[0;34m]\u001b[0m\u001b[0;34m)\u001b[0m\u001b[0;34m)\u001b[0m\u001b[0;34m\u001b[0m\u001b[0;34m\u001b[0m\u001b[0m\n\u001b[0m\u001b[1;32m     22\u001b[0m \u001b[0;34m\u001b[0m\u001b[0m\n\u001b[1;32m     23\u001b[0m \u001b[0mresult_df\u001b[0m \u001b[0;34m=\u001b[0m \u001b[0mpd\u001b[0m\u001b[0;34m.\u001b[0m\u001b[0mDataFrame\u001b[0m\u001b[0;34m(\u001b[0m\u001b[0mresult_list\u001b[0m\u001b[0;34m)\u001b[0m\u001b[0;34m\u001b[0m\u001b[0;34m\u001b[0m\u001b[0m\n",
            "\u001b[0;31mIndexError\u001b[0m: list index out of range"
          ]
        }
      ]
    }
  ]
}