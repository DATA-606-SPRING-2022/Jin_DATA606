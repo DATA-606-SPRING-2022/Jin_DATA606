{
  "nbformat": 4,
  "nbformat_minor": 0,
  "metadata": {
    "colab": {
      "name": "DATA606_Part3_HybridRecommender.ipynb",
      "provenance": [],
      "authorship_tag": "ABX9TyNHD8bFkXkxK2ILn1VkqTTp",
      "include_colab_link": true
    },
    "kernelspec": {
      "name": "python3",
      "display_name": "Python 3"
    },
    "language_info": {
      "name": "python"
    }
  },
  "cells": [
    {
      "cell_type": "markdown",
      "metadata": {
        "id": "view-in-github",
        "colab_type": "text"
      },
      "source": [
        "<a href=\"https://colab.research.google.com/github/JinHuiXu1991/Jin_DATA606/blob/main/ipynb/DATA606_Part3_HybridRecommender.ipynb\" target=\"_parent\"><img src=\"https://colab.research.google.com/assets/colab-badge.svg\" alt=\"Open In Colab\"/></a>"
      ]
    },
    {
      "cell_type": "markdown",
      "source": [
        "# Amazon Product Recommender Systems\n",
        "## Author: Jin Hui Xu"
      ],
      "metadata": {
        "id": "GkaM31JClPdM"
      }
    },
    {
      "cell_type": "markdown",
      "source": [
        "##Hybrid Recommender"
      ],
      "metadata": {
        "id": "wf2Y6IktlRuA"
      }
    },
    {
      "cell_type": "code",
      "execution_count": 1,
      "metadata": {
        "colab": {
          "base_uri": "https://localhost:8080/"
        },
        "id": "i3htBDtqlIt7",
        "outputId": "aff081fb-444b-40cc-bd15-b90e84721666"
      },
      "outputs": [
        {
          "output_type": "stream",
          "name": "stdout",
          "text": [
            "--2022-04-11 03:39:18--  https://github.com/JinHuiXu1991/Jin_DATA606/blob/main/cleaned_data/cleaned_amazon_product.zip?raw=true\n",
            "Resolving github.com (github.com)... 140.82.112.3\n",
            "Connecting to github.com (github.com)|140.82.112.3|:443... connected.\n",
            "HTTP request sent, awaiting response... 302 Found\n",
            "Location: https://github.com/JinHuiXu1991/Jin_DATA606/raw/main/cleaned_data/cleaned_amazon_product.zip [following]\n",
            "--2022-04-11 03:39:18--  https://github.com/JinHuiXu1991/Jin_DATA606/raw/main/cleaned_data/cleaned_amazon_product.zip\n",
            "Reusing existing connection to github.com:443.\n",
            "HTTP request sent, awaiting response... 302 Found\n",
            "Location: https://raw.githubusercontent.com/JinHuiXu1991/Jin_DATA606/main/cleaned_data/cleaned_amazon_product.zip [following]\n",
            "--2022-04-11 03:39:18--  https://raw.githubusercontent.com/JinHuiXu1991/Jin_DATA606/main/cleaned_data/cleaned_amazon_product.zip\n",
            "Resolving raw.githubusercontent.com (raw.githubusercontent.com)... 185.199.108.133, 185.199.109.133, 185.199.110.133, ...\n",
            "Connecting to raw.githubusercontent.com (raw.githubusercontent.com)|185.199.108.133|:443... connected.\n",
            "HTTP request sent, awaiting response... 200 OK\n",
            "Length: 5348817 (5.1M) [application/zip]\n",
            "Saving to: ‘cleaned_amazon_product.zip?raw=true’\n",
            "\n",
            "cleaned_amazon_prod 100%[===================>]   5.10M  --.-KB/s    in 0.1s    \n",
            "\n",
            "2022-04-11 03:39:18 (49.6 MB/s) - ‘cleaned_amazon_product.zip?raw=true’ saved [5348817/5348817]\n",
            "\n",
            "--2022-04-11 03:39:18--  https://github.com/JinHuiXu1991/Jin_DATA606/blob/main/cleaned_data/cleaned_amazon_review.zip?raw=true\n",
            "Resolving github.com (github.com)... 140.82.113.4\n",
            "Connecting to github.com (github.com)|140.82.113.4|:443... connected.\n",
            "HTTP request sent, awaiting response... 302 Found\n",
            "Location: https://github.com/JinHuiXu1991/Jin_DATA606/raw/main/cleaned_data/cleaned_amazon_review.zip [following]\n",
            "--2022-04-11 03:39:19--  https://github.com/JinHuiXu1991/Jin_DATA606/raw/main/cleaned_data/cleaned_amazon_review.zip\n",
            "Reusing existing connection to github.com:443.\n",
            "HTTP request sent, awaiting response... 302 Found\n",
            "Location: https://raw.githubusercontent.com/JinHuiXu1991/Jin_DATA606/main/cleaned_data/cleaned_amazon_review.zip [following]\n",
            "--2022-04-11 03:39:19--  https://raw.githubusercontent.com/JinHuiXu1991/Jin_DATA606/main/cleaned_data/cleaned_amazon_review.zip\n",
            "Resolving raw.githubusercontent.com (raw.githubusercontent.com)... 185.199.108.133, 185.199.109.133, 185.199.110.133, ...\n",
            "Connecting to raw.githubusercontent.com (raw.githubusercontent.com)|185.199.108.133|:443... connected.\n",
            "HTTP request sent, awaiting response... 200 OK\n",
            "Length: 51337311 (49M) [application/zip]\n",
            "Saving to: ‘cleaned_amazon_review.zip?raw=true’\n",
            "\n",
            "cleaned_amazon_revi 100%[===================>]  48.96M  98.3MB/s    in 0.5s    \n",
            "\n",
            "2022-04-11 03:39:21 (98.3 MB/s) - ‘cleaned_amazon_review.zip?raw=true’ saved [51337311/51337311]\n",
            "\n",
            "--2022-04-11 03:39:21--  https://github.com/JinHuiXu1991/Jin_DATA606/blob/main/models/Content_based_LDA_output.zip?raw=true\n",
            "Resolving github.com (github.com)... 140.82.112.4\n",
            "Connecting to github.com (github.com)|140.82.112.4|:443... connected.\n",
            "HTTP request sent, awaiting response... 302 Found\n",
            "Location: https://github.com/JinHuiXu1991/Jin_DATA606/raw/main/models/Content_based_LDA_output.zip [following]\n",
            "--2022-04-11 03:39:21--  https://github.com/JinHuiXu1991/Jin_DATA606/raw/main/models/Content_based_LDA_output.zip\n",
            "Reusing existing connection to github.com:443.\n",
            "HTTP request sent, awaiting response... 302 Found\n",
            "Location: https://raw.githubusercontent.com/JinHuiXu1991/Jin_DATA606/main/models/Content_based_LDA_output.zip [following]\n",
            "--2022-04-11 03:39:21--  https://raw.githubusercontent.com/JinHuiXu1991/Jin_DATA606/main/models/Content_based_LDA_output.zip\n",
            "Resolving raw.githubusercontent.com (raw.githubusercontent.com)... 185.199.108.133, 185.199.109.133, 185.199.110.133, ...\n",
            "Connecting to raw.githubusercontent.com (raw.githubusercontent.com)|185.199.108.133|:443... connected.\n",
            "HTTP request sent, awaiting response... 200 OK\n",
            "Length: 6486606 (6.2M) [application/zip]\n",
            "Saving to: ‘Content_based_LDA_output.zip?raw=true’\n",
            "\n",
            "Content_based_LDA_o 100%[===================>]   6.19M  --.-KB/s    in 0.1s    \n",
            "\n",
            "2022-04-11 03:39:21 (46.4 MB/s) - ‘Content_based_LDA_output.zip?raw=true’ saved [6486606/6486606]\n",
            "\n",
            "--2022-04-11 03:39:22--  https://github.com/JinHuiXu1991/Jin_DATA606/blob/main/models/final_cr_sentiment_data.zip?raw=true\n",
            "Resolving github.com (github.com)... 140.82.112.4\n",
            "Connecting to github.com (github.com)|140.82.112.4|:443... connected.\n",
            "HTTP request sent, awaiting response... 302 Found\n",
            "Location: https://github.com/JinHuiXu1991/Jin_DATA606/raw/main/models/final_cr_sentiment_data.zip [following]\n",
            "--2022-04-11 03:39:22--  https://github.com/JinHuiXu1991/Jin_DATA606/raw/main/models/final_cr_sentiment_data.zip\n",
            "Reusing existing connection to github.com:443.\n",
            "HTTP request sent, awaiting response... 302 Found\n",
            "Location: https://raw.githubusercontent.com/JinHuiXu1991/Jin_DATA606/main/models/final_cr_sentiment_data.zip [following]\n",
            "--2022-04-11 03:39:22--  https://raw.githubusercontent.com/JinHuiXu1991/Jin_DATA606/main/models/final_cr_sentiment_data.zip\n",
            "Resolving raw.githubusercontent.com (raw.githubusercontent.com)... 185.199.108.133, 185.199.109.133, 185.199.110.133, ...\n",
            "Connecting to raw.githubusercontent.com (raw.githubusercontent.com)|185.199.108.133|:443... connected.\n",
            "HTTP request sent, awaiting response... 200 OK\n",
            "Length: 1856255 (1.8M) [application/zip]\n",
            "Saving to: ‘final_cr_sentiment_data.zip?raw=true’\n",
            "\n",
            "final_cr_sentiment_ 100%[===================>]   1.77M  --.-KB/s    in 0.06s   \n",
            "\n",
            "2022-04-11 03:39:22 (30.6 MB/s) - ‘final_cr_sentiment_data.zip?raw=true’ saved [1856255/1856255]\n",
            "\n",
            "--2022-04-11 03:39:22--  https://github.com/JinHuiXu1991/Jin_DATA606/blob/main/models/final_cr_sentiment_model.pickle?raw=true\n",
            "Resolving github.com (github.com)... 140.82.112.4\n",
            "Connecting to github.com (github.com)|140.82.112.4|:443... connected.\n",
            "HTTP request sent, awaiting response... 302 Found\n",
            "Location: https://github.com/JinHuiXu1991/Jin_DATA606/raw/main/models/final_cr_sentiment_model.pickle [following]\n",
            "--2022-04-11 03:39:23--  https://github.com/JinHuiXu1991/Jin_DATA606/raw/main/models/final_cr_sentiment_model.pickle\n",
            "Reusing existing connection to github.com:443.\n",
            "HTTP request sent, awaiting response... 302 Found\n",
            "Location: https://raw.githubusercontent.com/JinHuiXu1991/Jin_DATA606/main/models/final_cr_sentiment_model.pickle [following]\n",
            "--2022-04-11 03:39:23--  https://raw.githubusercontent.com/JinHuiXu1991/Jin_DATA606/main/models/final_cr_sentiment_model.pickle\n",
            "Resolving raw.githubusercontent.com (raw.githubusercontent.com)... 185.199.108.133, 185.199.109.133, 185.199.110.133, ...\n",
            "Connecting to raw.githubusercontent.com (raw.githubusercontent.com)|185.199.108.133|:443... connected.\n",
            "HTTP request sent, awaiting response... 200 OK\n",
            "Length: 70748769 (67M) [application/octet-stream]\n",
            "Saving to: ‘final_cr_sentiment_model.pickle?raw=true’\n",
            "\n",
            "final_cr_sentiment_ 100%[===================>]  67.47M  87.8MB/s    in 0.8s    \n",
            "\n",
            "2022-04-11 03:39:24 (87.8 MB/s) - ‘final_cr_sentiment_model.pickle?raw=true’ saved [70748769/70748769]\n",
            "\n"
          ]
        }
      ],
      "source": [
        "!wget https://github.com/JinHuiXu1991/Jin_DATA606/blob/main/cleaned_data/cleaned_amazon_product.zip?raw=true\n",
        "\n",
        "!wget https://github.com/JinHuiXu1991/Jin_DATA606/blob/main/cleaned_data/cleaned_amazon_review.zip?raw=true\n",
        "\n",
        "!wget https://github.com/JinHuiXu1991/Jin_DATA606/blob/main/models/Content_based_LDA_output.zip?raw=true\n",
        "\n",
        "!wget https://github.com/JinHuiXu1991/Jin_DATA606/blob/main/models/final_cr_sentiment_data.zip?raw=true \n",
        "\n",
        "!wget https://github.com/JinHuiXu1991/Jin_DATA606/blob/main/models/final_cr_sentiment_model.pickle?raw=true\n",
        "\n"
      ]
    },
    {
      "cell_type": "code",
      "source": [
        "!pip install surprise"
      ],
      "metadata": {
        "colab": {
          "base_uri": "https://localhost:8080/"
        },
        "id": "kogtHhxHsb3Z",
        "outputId": "a17ea8e8-e3fa-4e50-a13b-7b6f8bc99a52"
      },
      "execution_count": 2,
      "outputs": [
        {
          "output_type": "stream",
          "name": "stdout",
          "text": [
            "Collecting surprise\n",
            "  Downloading surprise-0.1-py2.py3-none-any.whl (1.8 kB)\n",
            "Collecting scikit-surprise\n",
            "  Downloading scikit-surprise-1.1.1.tar.gz (11.8 MB)\n",
            "\u001b[K     |████████████████████████████████| 11.8 MB 4.7 MB/s \n",
            "\u001b[?25hRequirement already satisfied: joblib>=0.11 in /usr/local/lib/python3.7/dist-packages (from scikit-surprise->surprise) (1.1.0)\n",
            "Requirement already satisfied: numpy>=1.11.2 in /usr/local/lib/python3.7/dist-packages (from scikit-surprise->surprise) (1.21.5)\n",
            "Requirement already satisfied: scipy>=1.0.0 in /usr/local/lib/python3.7/dist-packages (from scikit-surprise->surprise) (1.4.1)\n",
            "Requirement already satisfied: six>=1.10.0 in /usr/local/lib/python3.7/dist-packages (from scikit-surprise->surprise) (1.15.0)\n",
            "Building wheels for collected packages: scikit-surprise\n",
            "  Building wheel for scikit-surprise (setup.py) ... \u001b[?25l\u001b[?25hdone\n",
            "  Created wheel for scikit-surprise: filename=scikit_surprise-1.1.1-cp37-cp37m-linux_x86_64.whl size=1630202 sha256=46b73597b7daba1bb5a3b7399986fbc81ed62f411b0a10d0470ae8ffd302c6ac\n",
            "  Stored in directory: /root/.cache/pip/wheels/76/44/74/b498c42be47b2406bd27994e16c5188e337c657025ab400c1c\n",
            "Successfully built scikit-surprise\n",
            "Installing collected packages: scikit-surprise, surprise\n",
            "Successfully installed scikit-surprise-1.1.1 surprise-0.1\n"
          ]
        }
      ]
    },
    {
      "cell_type": "code",
      "source": [
        "import pandas as pd\n",
        "import numpy as np\n",
        "import matplotlib.pyplot as plt\n",
        "from surprise import Dataset\n",
        "from surprise import Reader\n",
        "from surprise import dump\n",
        "import os\n",
        "from surprise import NormalPredictor\n",
        "from surprise import SVD\n",
        "from surprise.accuracy import rmse\n",
        "import gzip\n",
        "from collections import defaultdict"
      ],
      "metadata": {
        "id": "5XC_HaQ4shxo"
      },
      "execution_count": 9,
      "outputs": []
    },
    {
      "cell_type": "code",
      "source": [
        "def load_model(model_filename):\n",
        "    file_name = os.path.expanduser(model_filename)\n",
        "    _, loaded_model = dump.load(file_name)\n",
        "    return loaded_model"
      ],
      "metadata": {
        "id": "PO6mSAJzs0w5"
      },
      "execution_count": 4,
      "outputs": []
    },
    {
      "cell_type": "code",
      "source": [
        "def get_rec_user(uid, input_df):\n",
        "    input_id = uid\n",
        "    data1 = [input_id]\n",
        "    data2 = input_df['asin'].unique().tolist()\n",
        "\n",
        "    df = pd.DataFrame(data1)\n",
        "    df.columns =['reviewerID']\n",
        "\n",
        "    df1 = pd.DataFrame(data2)\n",
        "    df1.columns =['asin']\n",
        "    # filter out reviewed products\n",
        "    reviewed_product = input_df[input_df['reviewerID'] == input_id].asin.unique().tolist()\n",
        "    df1 = df1[~df1['asin'].isin(reviewed_product)]\n",
        "\n",
        "    # Now to perform cross join, we will create\n",
        "    # a key column in both the DataFrames to\n",
        "    # merge on that key.\n",
        "    df['key'] = 1\n",
        "    df1['key'] = 1\n",
        "\n",
        "    # to obtain the cross join we will merge\n",
        "    # on the key and drop it.\n",
        "    result = pd.merge(df, df1, on ='key')\n",
        "\n",
        "    result['overall']=0.0\n",
        "    del result['key']\n",
        "    return result"
      ],
      "metadata": {
        "id": "QLd01DgZtPKh"
      },
      "execution_count": 6,
      "outputs": []
    },
    {
      "cell_type": "code",
      "source": [
        "def collaborative_SVD_recommender(predictions, product_df):\n",
        "    # First map the predictions to each user.\n",
        "    top_n = defaultdict(list)\n",
        "    for uid, iid, _, est, _ in predictions:\n",
        "        top_n[uid].append((iid, est))\n",
        "\n",
        "    # Then sort the predictions for each user and retrieve the k highest ones.\n",
        "    for uid, user_ratings in top_n.items():\n",
        "        user_ratings.sort(key=lambda x: x[1], reverse=True)\n",
        "        top_n[uid] = user_ratings[:10]\n",
        "\n",
        "    for uid, user_ratings in top_n.items():\n",
        "      result = [iid for (iid, _) in user_ratings]\n",
        "\n",
        "    return result, product_df[product_df['asin'].isin(result)]['ori_title'].tolist()"
      ],
      "metadata": {
        "id": "9csR2bYjtmM3"
      },
      "execution_count": 10,
      "outputs": []
    },
    {
      "cell_type": "code",
      "source": [
        "def topic_modeling_recommender(id, df):\n",
        "    id = id.lower()\n",
        "\n",
        "    # get the input product topic number\n",
        "    topic_num = df[df['asin'].str.lower() == id]['topic_num'].item()\n",
        "\n",
        "    # remove the input product from the recommendation data\n",
        "    exclude_input_df = df.copy()\n",
        "    exclude_input_df = exclude_input_df[exclude_input_df['asin'].str.lower() != id]\n",
        "\n",
        "    # get the top 10 Probability product for the matching topic number\n",
        "    output_df = exclude_input_df[exclude_input_df['topic_num'] == topic_num].sort_values('probability', ascending=False).head(10)\n",
        "\n",
        "    # get the product indices\n",
        "    product_indices = output_df.index.tolist()\n",
        "\n",
        "    # return the top 10 most similar product\n",
        "    return df['asin'].iloc[product_indices].tolist(), df['ori_title'].iloc[product_indices].tolist()"
      ],
      "metadata": {
        "id": "D7-0zkCDt8In"
      },
      "execution_count": 13,
      "outputs": []
    },
    {
      "cell_type": "code",
      "source": [
        "product_df = pd.read_csv('./Content_based_LDA_output.zip?raw=true', compression='zip')"
      ],
      "metadata": {
        "id": "RNlv_CU3t1Rp"
      },
      "execution_count": 15,
      "outputs": []
    },
    {
      "cell_type": "code",
      "source": [
        "# get input id and title for the recommendation\n",
        "input_id = product_df[product_df['title'].str.contains('refrigerator', case=False)].iloc[0]['asin']\n",
        "input_title = product_df[product_df['title'].str.contains('refrigerator', case=False)].iloc[0]['title']\n",
        "\n",
        "asin, title = topic_modeling_recommender(input_id, product_df)"
      ],
      "metadata": {
        "id": "FDtOfjlbuBGB"
      },
      "execution_count": 17,
      "outputs": []
    },
    {
      "cell_type": "code",
      "source": [
        "print('Topic Modeling Recommender Result for {}, {}: '.format(input_id, input_title))\n",
        "for i in range(0, 10):\n",
        "  print('{}. {}, {}'.format(i+1, asin[i], title[i]))"
      ],
      "metadata": {
        "colab": {
          "base_uri": "https://localhost:8080/"
        },
        "id": "Ee7068JHuIfR",
        "outputId": "3614664c-c78c-4c17-ebde-ba95d6c19ba9"
      },
      "execution_count": 19,
      "outputs": [
        {
          "output_type": "stream",
          "name": "stdout",
          "text": [
            "Topic Modeling Recommender Result for B0001YH10C, coldmate mr 128 mini cooler warmer deluxe mini refrigerator: \n",
            "1. B013PRRB4W, Power Pair Special-LG Turbo Series Ultra-Capacity Laundry System with Steam*PURE WHITE COLOR*(WM4270HWA_DLEX4270W)\n",
            "2. B013PSOBNA, Power Pair Special-LG Turbo Series Ultra-Capacity Laundry System with Steam and Matching Storage Pedestals *GRAPHITE STEEL*(WM4270HVA_DLEX4270V_WDP4V X 2)\n",
            "3. B013PT1PFQ, Power Pair Special-LG Turbo Series Ultra-Capacity Laundry System with Steam*GRAPHITE STEEL*(WM4270HVA_DLEX4270V)\n",
            "4. B00HX3ZJKS, PAIR SPECIAL- LG Turbo Series Ultra Capacity Laundry System With Steam Technology (WM3470HVA,DLEX3470V,WDP4V x2)\n",
            "5. B0049OSUD2, Maytag MFI2665XEM Ice2O 25.5 Cu. Ft. Stainless Steel French Door Refrigerator - Energy Star\n",
            "6. B00MG225MQ, Power Pair Special- LG Turbo Series Ultra Capacity Laundry System with Steam Technology(WM3570HWA_DLEX3570W)*PURE WHITE IN COLOR*\n",
            "7. B00MG17WBQ, POWER PAIR SPECIAL-LG TURBO SERIES ULTRA CAPACITY LAUNDRY SYSTEM WITH STEAM TECHNOLOGY, AND STAINLESS DRUMS (WM3570HVA_DLEX3570V) *GRAPHITE STEEL COLOR*\n",
            "8. B00MG1FT5M, POWER PAIR SPECIAL-LG Turbo Series ultra Large Capacity Laundry System With Steam Technology (WM3570HVA_DLEX3570V_WDP4V X 2) *GRAPHITE STEEL COLOR*\n",
            "9. B00P9VMNPK, LG H/E Ultra Large Capacity Top Load Laundry System with Turbo Wash Technology (WT5680HWA_DLEX5680W) ELECTRIC DRYER\n",
            "10. B00UNTG9XK, Electrolux Frigidaire Professional FPBS2777RF 27.8 Cu.Ft. Stainless French Door Refrigerator\n"
          ]
        }
      ]
    },
    {
      "cell_type": "code",
      "source": [
        "# test the final pretrained model\n",
        "model_filename = \"./final_cr_sentiment_model.pickle?raw=true\"\n",
        "loaded_model = load_model(model_filename)\n",
        "\n",
        "result_list = []\n",
        "title_df = pd.read_csv('./cleaned_amazon_product.zip?raw=true', compression='zip')\n",
        "final_merged_df = pd.read_csv('./final_cr_sentiment_data.zip?raw=true', compression='zip')\n",
        "\n",
        "input_id = 'A1CY6CQC5HPQGL'\n",
        "result = get_rec_user(input_id, final_merged_df)\n",
        "\n",
        "reader = Reader()\n",
        "valid_Dataset = Dataset.load_from_df(result, reader)\n",
        "\n",
        "testset = valid_Dataset.df.values.tolist()\n",
        "predictions = loaded_model.test(testset)\n",
        "\n",
        "\n",
        "asin, title = collaborative_SVD_recommender(predictions, title_df)\n",
        "for i in range(0, 10):\n",
        "  result_list.append((input_id, asin[i], title[i]))\n",
        "\n",
        "result_df = pd.DataFrame(result_list)\n",
        "result_df.columns = ['reviewerID', 'asin', 'ori_title']\n",
        "\n",
        "reviewer_input_id = 'A1CY6CQC5HPQGL'\n",
        "\n",
        "print('Collaborative Recommender Result for customer {}: '.format(reviewer_input_id))\n",
        "\n",
        "for i, product in enumerate(result_df.values.tolist()):\n",
        "  print('{}. {}, {}'.format(i+1, product[1], product[2]))"
      ],
      "metadata": {
        "colab": {
          "base_uri": "https://localhost:8080/"
        },
        "id": "yzFIrpxksv3N",
        "outputId": "cb5b8ff4-74f3-48b9-f884-8ce5f2ebd291"
      },
      "execution_count": 11,
      "outputs": [
        {
          "output_type": "stream",
          "name": "stdout",
          "text": [
            "Collaborative Recommender Result for customer A1CY6CQC5HPQGL: \n",
            "1. B00LPDJSV8, Maytag 22002315 Washer Drive Pulley Genuine Original Equipment Manufacturer (OEM) part for Maytag &amp; Amana\n",
            "2. B002YTOCP4, Whirlpool Part Number 8181673: Gasket, Tub\n",
            "3. B00IMO2Y1Y, Whirlpool 8181887 Handle for Washing Machine\n",
            "4. B00L4JD7S8, LG Electronics 5005JJ2014A Refrigerator Door Shelf/Bin, White with Clear Trim\n",
            "5. B00AFSMIP2, Supco MP21MA 2100W Cooktop Stove Surface Element Replacement for 0E00801799, Y04100166, AP4283501\n",
            "6. B0053F8Y0A, 2206671B Whirlpool Refrigerator Grille Overflow (black)\n",
            "7. B0156NCY8G, General Electric WR17X11264 Funnel Ice Display\n",
            "8. B001DHNT7K, General Electric WR72X209 Drawer Slide Rail\n",
            "9. B0156NDG4M, Whirlpool W10074200 Gasket Door\n",
            "10. B00DZUA3DQ, Whirlpool 2206670W Grille\n"
          ]
        }
      ]
    }
  ]
}