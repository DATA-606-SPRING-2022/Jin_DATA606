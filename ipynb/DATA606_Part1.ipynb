{
  "nbformat": 4,
  "nbformat_minor": 0,
  "metadata": {
    "colab": {
      "name": "DATA606_part1.ipynb",
      "provenance": [],
      "collapsed_sections": [],
      "toc_visible": true,
      "include_colab_link": true
    },
    "kernelspec": {
      "name": "python3",
      "display_name": "Python 3"
    },
    "language_info": {
      "name": "python"
    },
    "accelerator": "GPU"
  },
  "cells": [
    {
      "cell_type": "markdown",
      "metadata": {
        "id": "view-in-github",
        "colab_type": "text"
      },
      "source": [
        "<a href=\"https://colab.research.google.com/github/JinHuiXu1991/Jin_DATA606/blob/main/ipynb/DATA606_Part1.ipynb\" target=\"_parent\"><img src=\"https://colab.research.google.com/assets/colab-badge.svg\" alt=\"Open In Colab\"/></a>"
      ]
    },
    {
      "cell_type": "markdown",
      "source": [
        "# Amazon Product Recommender Systems\n",
        "## Author: Jin Hui Xu\n",
        "\n"
      ],
      "metadata": {
        "id": "IBqWel5PQXJ6"
      }
    },
    {
      "cell_type": "markdown",
      "source": [
        "# EDA"
      ],
      "metadata": {
        "id": "2bpJhk2WqMjG"
      }
    },
    {
      "cell_type": "code",
      "source": [
        "!wget https://github.com/JinHuiXu1991/Jin_DATA606/blob/main/source_data/Appliances.json.gz?raw=true\n",
        "\n",
        "!wget https://github.com/JinHuiXu1991/Jin_DATA606/blob/main/source_data/meta_Appliances.json.gz?raw=true"
      ],
      "metadata": {
        "id": "w2ciH4oBWEdh",
        "outputId": "8d309f55-376c-4ccd-b9cd-fa12160c95c7",
        "colab": {
          "base_uri": "https://localhost:8080/"
        }
      },
      "execution_count": 38,
      "outputs": [
        {
          "output_type": "stream",
          "name": "stdout",
          "text": [
            "--2022-02-20 15:26:07--  https://github.com/JinHuiXu1991/Jin_DATA606/blob/main/source_data/Appliances.json.gz?raw=true\n",
            "Resolving github.com (github.com)... 140.82.113.3\n",
            "Connecting to github.com (github.com)|140.82.113.3|:443... connected.\n",
            "HTTP request sent, awaiting response... 302 Found\n",
            "Location: https://github.com/JinHuiXu1991/Jin_DATA606/raw/main/source_data/Appliances.json.gz [following]\n",
            "--2022-02-20 15:26:07--  https://github.com/JinHuiXu1991/Jin_DATA606/raw/main/source_data/Appliances.json.gz\n",
            "Reusing existing connection to github.com:443.\n",
            "HTTP request sent, awaiting response... 302 Found\n",
            "Location: https://raw.githubusercontent.com/JinHuiXu1991/Jin_DATA606/main/source_data/Appliances.json.gz [following]\n",
            "--2022-02-20 15:26:07--  https://raw.githubusercontent.com/JinHuiXu1991/Jin_DATA606/main/source_data/Appliances.json.gz\n",
            "Resolving raw.githubusercontent.com (raw.githubusercontent.com)... 185.199.111.133, 185.199.108.133, 185.199.110.133, ...\n",
            "Connecting to raw.githubusercontent.com (raw.githubusercontent.com)|185.199.111.133|:443... connected.\n",
            "HTTP request sent, awaiting response... 200 OK\n",
            "Length: 69677301 (66M) [application/octet-stream]\n",
            "Saving to: ‘Appliances.json.gz?raw=true.1’\n",
            "\n",
            "Appliances.json.gz? 100%[===================>]  66.45M   130MB/s    in 0.5s    \n",
            "\n",
            "2022-02-20 15:26:08 (130 MB/s) - ‘Appliances.json.gz?raw=true.1’ saved [69677301/69677301]\n",
            "\n",
            "--2022-02-20 15:26:08--  https://github.com/JinHuiXu1991/Jin_DATA606/blob/main/source_data/meta_Appliances.json.gz?raw=true\n",
            "Resolving github.com (github.com)... 140.82.113.4\n",
            "Connecting to github.com (github.com)|140.82.113.4|:443... connected.\n",
            "HTTP request sent, awaiting response... 302 Found\n",
            "Location: https://github.com/JinHuiXu1991/Jin_DATA606/raw/main/source_data/meta_Appliances.json.gz [following]\n",
            "--2022-02-20 15:26:08--  https://github.com/JinHuiXu1991/Jin_DATA606/raw/main/source_data/meta_Appliances.json.gz\n",
            "Reusing existing connection to github.com:443.\n",
            "HTTP request sent, awaiting response... 302 Found\n",
            "Location: https://raw.githubusercontent.com/JinHuiXu1991/Jin_DATA606/main/source_data/meta_Appliances.json.gz [following]\n",
            "--2022-02-20 15:26:08--  https://raw.githubusercontent.com/JinHuiXu1991/Jin_DATA606/main/source_data/meta_Appliances.json.gz\n",
            "Resolving raw.githubusercontent.com (raw.githubusercontent.com)... 185.199.108.133, 185.199.109.133, 185.199.110.133, ...\n",
            "Connecting to raw.githubusercontent.com (raw.githubusercontent.com)|185.199.108.133|:443... connected.\n",
            "HTTP request sent, awaiting response... 200 OK\n",
            "Length: 59884788 (57M) [application/octet-stream]\n",
            "Saving to: ‘meta_Appliances.json.gz?raw=true.1’\n",
            "\n",
            "meta_Appliances.jso 100%[===================>]  57.11M  83.8MB/s    in 0.7s    \n",
            "\n",
            "2022-02-20 15:26:09 (83.8 MB/s) - ‘meta_Appliances.json.gz?raw=true.1’ saved [59884788/59884788]\n",
            "\n"
          ]
        }
      ]
    },
    {
      "cell_type": "code",
      "source": [
        "!pip3 install simplejson"
      ],
      "metadata": {
        "id": "o2vWkc-FYew6",
        "outputId": "d4862cef-a58d-4b02-c791-25391c253250",
        "colab": {
          "base_uri": "https://localhost:8080/"
        }
      },
      "execution_count": 39,
      "outputs": [
        {
          "output_type": "stream",
          "name": "stdout",
          "text": [
            "Requirement already satisfied: simplejson in /usr/local/lib/python3.7/dist-packages (3.17.6)\n"
          ]
        }
      ]
    },
    {
      "cell_type": "code",
      "source": [
        "import pandas as pd\n",
        "import gzip\n",
        "import simplejson as json\n",
        "import numpy as np\n",
        "import matplotlib.pyplot as plt\n",
        "from mlxtend.plotting import scatterplotmatrix\n",
        "import seaborn as sns"
      ],
      "metadata": {
        "id": "eYtBCvD-Zqe0"
      },
      "execution_count": 40,
      "outputs": []
    },
    {
      "cell_type": "code",
      "execution_count": 41,
      "metadata": {
        "id": "JhuAJzIGQRHQ"
      },
      "outputs": [],
      "source": [
        "# helper functions to load the zip file and read it into the pandas dataframe\n",
        "def parse(path):\n",
        "  g = gzip.open(path, 'rb')\n",
        "  for l in g:\n",
        "    yield json.loads(l)\n",
        "\n",
        "def getDF(path):\n",
        "  i = 0\n",
        "  df = {}\n",
        "  for d in parse(path):\n",
        "    df[i] = d\n",
        "    i += 1\n",
        "  return pd.DataFrame.from_dict(df, orient='index')"
      ]
    },
    {
      "cell_type": "markdown",
      "source": [
        "## Review data"
      ],
      "metadata": {
        "id": "HJ0Iuz4Fp9Kc"
      }
    },
    {
      "cell_type": "code",
      "source": [
        "review_df = getDF('/content/Appliances.json.gz?raw=true')"
      ],
      "metadata": {
        "id": "24ASzPuyYm5e"
      },
      "execution_count": 42,
      "outputs": []
    },
    {
      "cell_type": "code",
      "source": [
        "review_df.head(10)"
      ],
      "metadata": {
        "id": "Jh-fN103bPYP",
        "outputId": "547c6576-c00a-42d4-a31f-97ed02a833ca",
        "colab": {
          "base_uri": "https://localhost:8080/",
          "height": 581
        }
      },
      "execution_count": 43,
      "outputs": [
        {
          "output_type": "execute_result",
          "data": {
            "text/html": [
              "\n",
              "  <div id=\"df-202e6300-457d-494c-a72c-26f46d7b2b74\">\n",
              "    <div class=\"colab-df-container\">\n",
              "      <div>\n",
              "<style scoped>\n",
              "    .dataframe tbody tr th:only-of-type {\n",
              "        vertical-align: middle;\n",
              "    }\n",
              "\n",
              "    .dataframe tbody tr th {\n",
              "        vertical-align: top;\n",
              "    }\n",
              "\n",
              "    .dataframe thead th {\n",
              "        text-align: right;\n",
              "    }\n",
              "</style>\n",
              "<table border=\"1\" class=\"dataframe\">\n",
              "  <thead>\n",
              "    <tr style=\"text-align: right;\">\n",
              "      <th></th>\n",
              "      <th>overall</th>\n",
              "      <th>vote</th>\n",
              "      <th>verified</th>\n",
              "      <th>reviewTime</th>\n",
              "      <th>reviewerID</th>\n",
              "      <th>asin</th>\n",
              "      <th>style</th>\n",
              "      <th>reviewerName</th>\n",
              "      <th>reviewText</th>\n",
              "      <th>summary</th>\n",
              "      <th>unixReviewTime</th>\n",
              "      <th>image</th>\n",
              "    </tr>\n",
              "  </thead>\n",
              "  <tbody>\n",
              "    <tr>\n",
              "      <th>0</th>\n",
              "      <td>5.0</td>\n",
              "      <td>2</td>\n",
              "      <td>False</td>\n",
              "      <td>11 27, 2013</td>\n",
              "      <td>A3NHUQ33CFH3VM</td>\n",
              "      <td>1118461304</td>\n",
              "      <td>{'Format:': ' Hardcover'}</td>\n",
              "      <td>Greeny</td>\n",
              "      <td>Not one thing in this book seemed an obvious o...</td>\n",
              "      <td>Clear on what leads to innovation</td>\n",
              "      <td>1385510400</td>\n",
              "      <td>NaN</td>\n",
              "    </tr>\n",
              "    <tr>\n",
              "      <th>1</th>\n",
              "      <td>5.0</td>\n",
              "      <td>NaN</td>\n",
              "      <td>False</td>\n",
              "      <td>11 1, 2013</td>\n",
              "      <td>A3SK6VNBQDNBJE</td>\n",
              "      <td>1118461304</td>\n",
              "      <td>{'Format:': ' Kindle Edition'}</td>\n",
              "      <td>Leif C. Ulstrup</td>\n",
              "      <td>I have enjoyed Dr. Alan Gregerman's weekly blo...</td>\n",
              "      <td>Becoming more innovative by opening yourself t...</td>\n",
              "      <td>1383264000</td>\n",
              "      <td>NaN</td>\n",
              "    </tr>\n",
              "    <tr>\n",
              "      <th>2</th>\n",
              "      <td>5.0</td>\n",
              "      <td>NaN</td>\n",
              "      <td>False</td>\n",
              "      <td>10 10, 2013</td>\n",
              "      <td>A3SOFHUR27FO3K</td>\n",
              "      <td>1118461304</td>\n",
              "      <td>{'Format:': ' Hardcover'}</td>\n",
              "      <td>Harry Gilbert Miller III</td>\n",
              "      <td>Alan Gregerman believes that innovation comes ...</td>\n",
              "      <td>The World from Different Perspectives</td>\n",
              "      <td>1381363200</td>\n",
              "      <td>NaN</td>\n",
              "    </tr>\n",
              "    <tr>\n",
              "      <th>3</th>\n",
              "      <td>5.0</td>\n",
              "      <td>NaN</td>\n",
              "      <td>False</td>\n",
              "      <td>10 9, 2013</td>\n",
              "      <td>A1HOG1PYCAE157</td>\n",
              "      <td>1118461304</td>\n",
              "      <td>{'Format:': ' Hardcover'}</td>\n",
              "      <td>Rebecca Ripley</td>\n",
              "      <td>Alan Gregerman is a smart, funny, entertaining...</td>\n",
              "      <td>Strangers are Your New Best Friends</td>\n",
              "      <td>1381276800</td>\n",
              "      <td>NaN</td>\n",
              "    </tr>\n",
              "    <tr>\n",
              "      <th>4</th>\n",
              "      <td>5.0</td>\n",
              "      <td>10</td>\n",
              "      <td>False</td>\n",
              "      <td>09 7, 2013</td>\n",
              "      <td>A26JGAM6GZMM4V</td>\n",
              "      <td>1118461304</td>\n",
              "      <td>{'Format:': ' Hardcover'}</td>\n",
              "      <td>Robert Morris</td>\n",
              "      <td>As I began to read this book, I was again remi...</td>\n",
              "      <td>How and why it is imperative to engage, learn ...</td>\n",
              "      <td>1378512000</td>\n",
              "      <td>NaN</td>\n",
              "    </tr>\n",
              "    <tr>\n",
              "      <th>5</th>\n",
              "      <td>5.0</td>\n",
              "      <td>NaN</td>\n",
              "      <td>False</td>\n",
              "      <td>05 11, 2014</td>\n",
              "      <td>A17K8WANMYHTX2</td>\n",
              "      <td>1118461304</td>\n",
              "      <td>{'Format:': ' Hardcover'}</td>\n",
              "      <td>mark h wellman</td>\n",
              "      <td>I teach a class on innovation and I used the N...</td>\n",
              "      <td>Insightful &amp; Very Useful!</td>\n",
              "      <td>1399766400</td>\n",
              "      <td>NaN</td>\n",
              "    </tr>\n",
              "    <tr>\n",
              "      <th>6</th>\n",
              "      <td>5.0</td>\n",
              "      <td>NaN</td>\n",
              "      <td>False</td>\n",
              "      <td>05 9, 2014</td>\n",
              "      <td>A13IW3A6W43U0G</td>\n",
              "      <td>1118461304</td>\n",
              "      <td>{'Format:': ' Hardcover'}</td>\n",
              "      <td>Mmf</td>\n",
              "      <td>I so appreciated the insights and perspective ...</td>\n",
              "      <td>The necessity of this book!</td>\n",
              "      <td>1399593600</td>\n",
              "      <td>NaN</td>\n",
              "    </tr>\n",
              "    <tr>\n",
              "      <th>7</th>\n",
              "      <td>5.0</td>\n",
              "      <td>NaN</td>\n",
              "      <td>True</td>\n",
              "      <td>05 7, 2014</td>\n",
              "      <td>A1ECEGG1MP7J8J</td>\n",
              "      <td>1118461304</td>\n",
              "      <td>{'Format:': ' Hardcover'}</td>\n",
              "      <td>G. Deatherage</td>\n",
              "      <td>As with \"Surrounded by Genius\", Alan Gregerman...</td>\n",
              "      <td>Great insight-Great book</td>\n",
              "      <td>1399420800</td>\n",
              "      <td>NaN</td>\n",
              "    </tr>\n",
              "    <tr>\n",
              "      <th>8</th>\n",
              "      <td>5.0</td>\n",
              "      <td>NaN</td>\n",
              "      <td>False</td>\n",
              "      <td>05 4, 2014</td>\n",
              "      <td>A2D5X9G9S3A7RN</td>\n",
              "      <td>1118461304</td>\n",
              "      <td>{'Format:': ' Hardcover'}</td>\n",
              "      <td>Teresa Fritsch</td>\n",
              "      <td>Alan Gregermans book provides valuable ideas f...</td>\n",
              "      <td>The Necessity of Strangers dares you to be ope...</td>\n",
              "      <td>1399161600</td>\n",
              "      <td>NaN</td>\n",
              "    </tr>\n",
              "    <tr>\n",
              "      <th>9</th>\n",
              "      <td>5.0</td>\n",
              "      <td>NaN</td>\n",
              "      <td>False</td>\n",
              "      <td>05 2, 2014</td>\n",
              "      <td>AP2F86JFRQ205</td>\n",
              "      <td>1118461304</td>\n",
              "      <td>{'Format:': ' Hardcover'}</td>\n",
              "      <td>Ken Harris</td>\n",
              "      <td>I am a believer in Alan Gregerman.  I have enj...</td>\n",
              "      <td>Review: The Necessity of Strangers</td>\n",
              "      <td>1398988800</td>\n",
              "      <td>NaN</td>\n",
              "    </tr>\n",
              "  </tbody>\n",
              "</table>\n",
              "</div>\n",
              "      <button class=\"colab-df-convert\" onclick=\"convertToInteractive('df-202e6300-457d-494c-a72c-26f46d7b2b74')\"\n",
              "              title=\"Convert this dataframe to an interactive table.\"\n",
              "              style=\"display:none;\">\n",
              "        \n",
              "  <svg xmlns=\"http://www.w3.org/2000/svg\" height=\"24px\"viewBox=\"0 0 24 24\"\n",
              "       width=\"24px\">\n",
              "    <path d=\"M0 0h24v24H0V0z\" fill=\"none\"/>\n",
              "    <path d=\"M18.56 5.44l.94 2.06.94-2.06 2.06-.94-2.06-.94-.94-2.06-.94 2.06-2.06.94zm-11 1L8.5 8.5l.94-2.06 2.06-.94-2.06-.94L8.5 2.5l-.94 2.06-2.06.94zm10 10l.94 2.06.94-2.06 2.06-.94-2.06-.94-.94-2.06-.94 2.06-2.06.94z\"/><path d=\"M17.41 7.96l-1.37-1.37c-.4-.4-.92-.59-1.43-.59-.52 0-1.04.2-1.43.59L10.3 9.45l-7.72 7.72c-.78.78-.78 2.05 0 2.83L4 21.41c.39.39.9.59 1.41.59.51 0 1.02-.2 1.41-.59l7.78-7.78 2.81-2.81c.8-.78.8-2.07 0-2.86zM5.41 20L4 18.59l7.72-7.72 1.47 1.35L5.41 20z\"/>\n",
              "  </svg>\n",
              "      </button>\n",
              "      \n",
              "  <style>\n",
              "    .colab-df-container {\n",
              "      display:flex;\n",
              "      flex-wrap:wrap;\n",
              "      gap: 12px;\n",
              "    }\n",
              "\n",
              "    .colab-df-convert {\n",
              "      background-color: #E8F0FE;\n",
              "      border: none;\n",
              "      border-radius: 50%;\n",
              "      cursor: pointer;\n",
              "      display: none;\n",
              "      fill: #1967D2;\n",
              "      height: 32px;\n",
              "      padding: 0 0 0 0;\n",
              "      width: 32px;\n",
              "    }\n",
              "\n",
              "    .colab-df-convert:hover {\n",
              "      background-color: #E2EBFA;\n",
              "      box-shadow: 0px 1px 2px rgba(60, 64, 67, 0.3), 0px 1px 3px 1px rgba(60, 64, 67, 0.15);\n",
              "      fill: #174EA6;\n",
              "    }\n",
              "\n",
              "    [theme=dark] .colab-df-convert {\n",
              "      background-color: #3B4455;\n",
              "      fill: #D2E3FC;\n",
              "    }\n",
              "\n",
              "    [theme=dark] .colab-df-convert:hover {\n",
              "      background-color: #434B5C;\n",
              "      box-shadow: 0px 1px 3px 1px rgba(0, 0, 0, 0.15);\n",
              "      filter: drop-shadow(0px 1px 2px rgba(0, 0, 0, 0.3));\n",
              "      fill: #FFFFFF;\n",
              "    }\n",
              "  </style>\n",
              "\n",
              "      <script>\n",
              "        const buttonEl =\n",
              "          document.querySelector('#df-202e6300-457d-494c-a72c-26f46d7b2b74 button.colab-df-convert');\n",
              "        buttonEl.style.display =\n",
              "          google.colab.kernel.accessAllowed ? 'block' : 'none';\n",
              "\n",
              "        async function convertToInteractive(key) {\n",
              "          const element = document.querySelector('#df-202e6300-457d-494c-a72c-26f46d7b2b74');\n",
              "          const dataTable =\n",
              "            await google.colab.kernel.invokeFunction('convertToInteractive',\n",
              "                                                     [key], {});\n",
              "          if (!dataTable) return;\n",
              "\n",
              "          const docLinkHtml = 'Like what you see? Visit the ' +\n",
              "            '<a target=\"_blank\" href=https://colab.research.google.com/notebooks/data_table.ipynb>data table notebook</a>'\n",
              "            + ' to learn more about interactive tables.';\n",
              "          element.innerHTML = '';\n",
              "          dataTable['output_type'] = 'display_data';\n",
              "          await google.colab.output.renderOutput(dataTable, element);\n",
              "          const docLink = document.createElement('div');\n",
              "          docLink.innerHTML = docLinkHtml;\n",
              "          element.appendChild(docLink);\n",
              "        }\n",
              "      </script>\n",
              "    </div>\n",
              "  </div>\n",
              "  "
            ],
            "text/plain": [
              "   overall vote  ...  unixReviewTime image\n",
              "0      5.0    2  ...      1385510400   NaN\n",
              "1      5.0  NaN  ...      1383264000   NaN\n",
              "2      5.0  NaN  ...      1381363200   NaN\n",
              "3      5.0  NaN  ...      1381276800   NaN\n",
              "4      5.0   10  ...      1378512000   NaN\n",
              "5      5.0  NaN  ...      1399766400   NaN\n",
              "6      5.0  NaN  ...      1399593600   NaN\n",
              "7      5.0  NaN  ...      1399420800   NaN\n",
              "8      5.0  NaN  ...      1399161600   NaN\n",
              "9      5.0  NaN  ...      1398988800   NaN\n",
              "\n",
              "[10 rows x 12 columns]"
            ]
          },
          "metadata": {},
          "execution_count": 43
        }
      ]
    },
    {
      "cell_type": "code",
      "source": [
        "review_df.shape"
      ],
      "metadata": {
        "id": "klhDWJp3o04B",
        "outputId": "b745ca18-1131-435a-a45d-e2d0381699b0",
        "colab": {
          "base_uri": "https://localhost:8080/"
        }
      },
      "execution_count": 44,
      "outputs": [
        {
          "output_type": "execute_result",
          "data": {
            "text/plain": [
              "(602777, 12)"
            ]
          },
          "metadata": {},
          "execution_count": 44
        }
      ]
    },
    {
      "cell_type": "markdown",
      "source": [
        "The most important feature of the review dataset is the overall rating, so we check if any record has a null rating value."
      ],
      "metadata": {
        "id": "ujMbdU3j4__B"
      }
    },
    {
      "cell_type": "code",
      "source": [
        "review_df.isnull().sum()"
      ],
      "metadata": {
        "id": "tvna4pj7pn8M",
        "outputId": "66e7ac8c-54cc-4a71-8464-b3c55516e99e",
        "colab": {
          "base_uri": "https://localhost:8080/"
        }
      },
      "execution_count": 45,
      "outputs": [
        {
          "output_type": "execute_result",
          "data": {
            "text/plain": [
              "overall                0\n",
              "vote              537515\n",
              "verified               0\n",
              "reviewTime             0\n",
              "reviewerID             0\n",
              "asin                   0\n",
              "style             464804\n",
              "reviewerName          15\n",
              "reviewText           324\n",
              "summary              128\n",
              "unixReviewTime         0\n",
              "image             593519\n",
              "dtype: int64"
            ]
          },
          "metadata": {},
          "execution_count": 45
        }
      ]
    },
    {
      "cell_type": "markdown",
      "source": [
        "All review records have rating value, but a few of them are having no review text and summary which is acceptable for meeting the real-world situation."
      ],
      "metadata": {
        "id": "HAJ_yiC65Mdb"
      }
    },
    {
      "cell_type": "markdown",
      "source": [
        "Check dataset column data types"
      ],
      "metadata": {
        "id": "BDy5n-5EwEv_"
      }
    },
    {
      "cell_type": "code",
      "source": [
        "review_df.dtypes"
      ],
      "metadata": {
        "id": "PTfQDKq-rlpI",
        "outputId": "e32a675e-06a2-4996-f91e-7ff7d90f1400",
        "colab": {
          "base_uri": "https://localhost:8080/"
        }
      },
      "execution_count": 46,
      "outputs": [
        {
          "output_type": "execute_result",
          "data": {
            "text/plain": [
              "overall           float64\n",
              "vote               object\n",
              "verified             bool\n",
              "reviewTime         object\n",
              "reviewerID         object\n",
              "asin               object\n",
              "style              object\n",
              "reviewerName       object\n",
              "reviewText         object\n",
              "summary            object\n",
              "unixReviewTime      int64\n",
              "image              object\n",
              "dtype: object"
            ]
          },
          "metadata": {},
          "execution_count": 46
        }
      ]
    },
    {
      "cell_type": "markdown",
      "source": [
        "Convert review time to datetime data type and extract review year and month \n"
      ],
      "metadata": {
        "id": "eoT9Rhvfv62v"
      }
    },
    {
      "cell_type": "code",
      "source": [
        "review_df['reviewTime'] = pd.to_datetime(review_df['reviewTime'].str.strip())\n",
        "review_df['reviewTimeYear'] = review_df['reviewTime'].dt.year\n",
        "review_df['reviewTimeMonth'] = review_df['reviewTime'].dt.month"
      ],
      "metadata": {
        "id": "XGmNIvt-tu5A"
      },
      "execution_count": 47,
      "outputs": []
    },
    {
      "cell_type": "code",
      "source": [
        "review_df = review_df[['overall', 'reviewTime', 'reviewerID', 'asin', 'reviewText', 'summary', 'reviewTimeYear', 'reviewTimeMonth']]"
      ],
      "metadata": {
        "id": "xlxazBUG70wk"
      },
      "execution_count": 96,
      "outputs": []
    },
    {
      "cell_type": "code",
      "source": [
        "review_df.head(10)"
      ],
      "metadata": {
        "id": "NpJTtaAQu9Q7",
        "outputId": "6ce7678c-d726-4afc-e482-4d37c1301f62",
        "colab": {
          "base_uri": "https://localhost:8080/",
          "height": 363
        }
      },
      "execution_count": 97,
      "outputs": [
        {
          "output_type": "execute_result",
          "data": {
            "text/html": [
              "\n",
              "  <div id=\"df-0899edb7-a961-4639-87a7-b44da7210145\">\n",
              "    <div class=\"colab-df-container\">\n",
              "      <div>\n",
              "<style scoped>\n",
              "    .dataframe tbody tr th:only-of-type {\n",
              "        vertical-align: middle;\n",
              "    }\n",
              "\n",
              "    .dataframe tbody tr th {\n",
              "        vertical-align: top;\n",
              "    }\n",
              "\n",
              "    .dataframe thead th {\n",
              "        text-align: right;\n",
              "    }\n",
              "</style>\n",
              "<table border=\"1\" class=\"dataframe\">\n",
              "  <thead>\n",
              "    <tr style=\"text-align: right;\">\n",
              "      <th></th>\n",
              "      <th>overall</th>\n",
              "      <th>reviewTime</th>\n",
              "      <th>reviewerID</th>\n",
              "      <th>asin</th>\n",
              "      <th>reviewText</th>\n",
              "      <th>summary</th>\n",
              "      <th>reviewTimeYear</th>\n",
              "      <th>reviewTimeMonth</th>\n",
              "    </tr>\n",
              "  </thead>\n",
              "  <tbody>\n",
              "    <tr>\n",
              "      <th>0</th>\n",
              "      <td>5.0</td>\n",
              "      <td>2013-11-27</td>\n",
              "      <td>A3NHUQ33CFH3VM</td>\n",
              "      <td>1118461304</td>\n",
              "      <td>Not one thing in this book seemed an obvious o...</td>\n",
              "      <td>Clear on what leads to innovation</td>\n",
              "      <td>2013</td>\n",
              "      <td>11</td>\n",
              "    </tr>\n",
              "    <tr>\n",
              "      <th>1</th>\n",
              "      <td>5.0</td>\n",
              "      <td>2013-11-01</td>\n",
              "      <td>A3SK6VNBQDNBJE</td>\n",
              "      <td>1118461304</td>\n",
              "      <td>I have enjoyed Dr. Alan Gregerman's weekly blo...</td>\n",
              "      <td>Becoming more innovative by opening yourself t...</td>\n",
              "      <td>2013</td>\n",
              "      <td>11</td>\n",
              "    </tr>\n",
              "    <tr>\n",
              "      <th>2</th>\n",
              "      <td>5.0</td>\n",
              "      <td>2013-10-10</td>\n",
              "      <td>A3SOFHUR27FO3K</td>\n",
              "      <td>1118461304</td>\n",
              "      <td>Alan Gregerman believes that innovation comes ...</td>\n",
              "      <td>The World from Different Perspectives</td>\n",
              "      <td>2013</td>\n",
              "      <td>10</td>\n",
              "    </tr>\n",
              "    <tr>\n",
              "      <th>3</th>\n",
              "      <td>5.0</td>\n",
              "      <td>2013-10-09</td>\n",
              "      <td>A1HOG1PYCAE157</td>\n",
              "      <td>1118461304</td>\n",
              "      <td>Alan Gregerman is a smart, funny, entertaining...</td>\n",
              "      <td>Strangers are Your New Best Friends</td>\n",
              "      <td>2013</td>\n",
              "      <td>10</td>\n",
              "    </tr>\n",
              "    <tr>\n",
              "      <th>4</th>\n",
              "      <td>5.0</td>\n",
              "      <td>2013-09-07</td>\n",
              "      <td>A26JGAM6GZMM4V</td>\n",
              "      <td>1118461304</td>\n",
              "      <td>As I began to read this book, I was again remi...</td>\n",
              "      <td>How and why it is imperative to engage, learn ...</td>\n",
              "      <td>2013</td>\n",
              "      <td>9</td>\n",
              "    </tr>\n",
              "    <tr>\n",
              "      <th>5</th>\n",
              "      <td>5.0</td>\n",
              "      <td>2014-05-11</td>\n",
              "      <td>A17K8WANMYHTX2</td>\n",
              "      <td>1118461304</td>\n",
              "      <td>I teach a class on innovation and I used the N...</td>\n",
              "      <td>Insightful &amp; Very Useful!</td>\n",
              "      <td>2014</td>\n",
              "      <td>5</td>\n",
              "    </tr>\n",
              "    <tr>\n",
              "      <th>6</th>\n",
              "      <td>5.0</td>\n",
              "      <td>2014-05-09</td>\n",
              "      <td>A13IW3A6W43U0G</td>\n",
              "      <td>1118461304</td>\n",
              "      <td>I so appreciated the insights and perspective ...</td>\n",
              "      <td>The necessity of this book!</td>\n",
              "      <td>2014</td>\n",
              "      <td>5</td>\n",
              "    </tr>\n",
              "    <tr>\n",
              "      <th>7</th>\n",
              "      <td>5.0</td>\n",
              "      <td>2014-05-07</td>\n",
              "      <td>A1ECEGG1MP7J8J</td>\n",
              "      <td>1118461304</td>\n",
              "      <td>As with \"Surrounded by Genius\", Alan Gregerman...</td>\n",
              "      <td>Great insight-Great book</td>\n",
              "      <td>2014</td>\n",
              "      <td>5</td>\n",
              "    </tr>\n",
              "    <tr>\n",
              "      <th>8</th>\n",
              "      <td>5.0</td>\n",
              "      <td>2014-05-04</td>\n",
              "      <td>A2D5X9G9S3A7RN</td>\n",
              "      <td>1118461304</td>\n",
              "      <td>Alan Gregermans book provides valuable ideas f...</td>\n",
              "      <td>The Necessity of Strangers dares you to be ope...</td>\n",
              "      <td>2014</td>\n",
              "      <td>5</td>\n",
              "    </tr>\n",
              "    <tr>\n",
              "      <th>9</th>\n",
              "      <td>5.0</td>\n",
              "      <td>2014-05-02</td>\n",
              "      <td>AP2F86JFRQ205</td>\n",
              "      <td>1118461304</td>\n",
              "      <td>I am a believer in Alan Gregerman.  I have enj...</td>\n",
              "      <td>Review: The Necessity of Strangers</td>\n",
              "      <td>2014</td>\n",
              "      <td>5</td>\n",
              "    </tr>\n",
              "  </tbody>\n",
              "</table>\n",
              "</div>\n",
              "      <button class=\"colab-df-convert\" onclick=\"convertToInteractive('df-0899edb7-a961-4639-87a7-b44da7210145')\"\n",
              "              title=\"Convert this dataframe to an interactive table.\"\n",
              "              style=\"display:none;\">\n",
              "        \n",
              "  <svg xmlns=\"http://www.w3.org/2000/svg\" height=\"24px\"viewBox=\"0 0 24 24\"\n",
              "       width=\"24px\">\n",
              "    <path d=\"M0 0h24v24H0V0z\" fill=\"none\"/>\n",
              "    <path d=\"M18.56 5.44l.94 2.06.94-2.06 2.06-.94-2.06-.94-.94-2.06-.94 2.06-2.06.94zm-11 1L8.5 8.5l.94-2.06 2.06-.94-2.06-.94L8.5 2.5l-.94 2.06-2.06.94zm10 10l.94 2.06.94-2.06 2.06-.94-2.06-.94-.94-2.06-.94 2.06-2.06.94z\"/><path d=\"M17.41 7.96l-1.37-1.37c-.4-.4-.92-.59-1.43-.59-.52 0-1.04.2-1.43.59L10.3 9.45l-7.72 7.72c-.78.78-.78 2.05 0 2.83L4 21.41c.39.39.9.59 1.41.59.51 0 1.02-.2 1.41-.59l7.78-7.78 2.81-2.81c.8-.78.8-2.07 0-2.86zM5.41 20L4 18.59l7.72-7.72 1.47 1.35L5.41 20z\"/>\n",
              "  </svg>\n",
              "      </button>\n",
              "      \n",
              "  <style>\n",
              "    .colab-df-container {\n",
              "      display:flex;\n",
              "      flex-wrap:wrap;\n",
              "      gap: 12px;\n",
              "    }\n",
              "\n",
              "    .colab-df-convert {\n",
              "      background-color: #E8F0FE;\n",
              "      border: none;\n",
              "      border-radius: 50%;\n",
              "      cursor: pointer;\n",
              "      display: none;\n",
              "      fill: #1967D2;\n",
              "      height: 32px;\n",
              "      padding: 0 0 0 0;\n",
              "      width: 32px;\n",
              "    }\n",
              "\n",
              "    .colab-df-convert:hover {\n",
              "      background-color: #E2EBFA;\n",
              "      box-shadow: 0px 1px 2px rgba(60, 64, 67, 0.3), 0px 1px 3px 1px rgba(60, 64, 67, 0.15);\n",
              "      fill: #174EA6;\n",
              "    }\n",
              "\n",
              "    [theme=dark] .colab-df-convert {\n",
              "      background-color: #3B4455;\n",
              "      fill: #D2E3FC;\n",
              "    }\n",
              "\n",
              "    [theme=dark] .colab-df-convert:hover {\n",
              "      background-color: #434B5C;\n",
              "      box-shadow: 0px 1px 3px 1px rgba(0, 0, 0, 0.15);\n",
              "      filter: drop-shadow(0px 1px 2px rgba(0, 0, 0, 0.3));\n",
              "      fill: #FFFFFF;\n",
              "    }\n",
              "  </style>\n",
              "\n",
              "      <script>\n",
              "        const buttonEl =\n",
              "          document.querySelector('#df-0899edb7-a961-4639-87a7-b44da7210145 button.colab-df-convert');\n",
              "        buttonEl.style.display =\n",
              "          google.colab.kernel.accessAllowed ? 'block' : 'none';\n",
              "\n",
              "        async function convertToInteractive(key) {\n",
              "          const element = document.querySelector('#df-0899edb7-a961-4639-87a7-b44da7210145');\n",
              "          const dataTable =\n",
              "            await google.colab.kernel.invokeFunction('convertToInteractive',\n",
              "                                                     [key], {});\n",
              "          if (!dataTable) return;\n",
              "\n",
              "          const docLinkHtml = 'Like what you see? Visit the ' +\n",
              "            '<a target=\"_blank\" href=https://colab.research.google.com/notebooks/data_table.ipynb>data table notebook</a>'\n",
              "            + ' to learn more about interactive tables.';\n",
              "          element.innerHTML = '';\n",
              "          dataTable['output_type'] = 'display_data';\n",
              "          await google.colab.output.renderOutput(dataTable, element);\n",
              "          const docLink = document.createElement('div');\n",
              "          docLink.innerHTML = docLinkHtml;\n",
              "          element.appendChild(docLink);\n",
              "        }\n",
              "      </script>\n",
              "    </div>\n",
              "  </div>\n",
              "  "
            ],
            "text/plain": [
              "   overall reviewTime  ... reviewTimeYear reviewTimeMonth\n",
              "0      5.0 2013-11-27  ...           2013              11\n",
              "1      5.0 2013-11-01  ...           2013              11\n",
              "2      5.0 2013-10-10  ...           2013              10\n",
              "3      5.0 2013-10-09  ...           2013              10\n",
              "4      5.0 2013-09-07  ...           2013               9\n",
              "5      5.0 2014-05-11  ...           2014               5\n",
              "6      5.0 2014-05-09  ...           2014               5\n",
              "7      5.0 2014-05-07  ...           2014               5\n",
              "8      5.0 2014-05-04  ...           2014               5\n",
              "9      5.0 2014-05-02  ...           2014               5\n",
              "\n",
              "[10 rows x 8 columns]"
            ]
          },
          "metadata": {},
          "execution_count": 97
        }
      ]
    },
    {
      "cell_type": "markdown",
      "source": [
        "Display the overall rating in the dataset and its distribution"
      ],
      "metadata": {
        "id": "euflh-Uk3jr6"
      }
    },
    {
      "cell_type": "code",
      "source": [
        "review_df['overall'].value_counts()"
      ],
      "metadata": {
        "id": "3xVCunYlp2Oe",
        "outputId": "524a2197-c319-4ca1-d67d-51abaf143b1e",
        "colab": {
          "base_uri": "https://localhost:8080/"
        }
      },
      "execution_count": 98,
      "outputs": [
        {
          "output_type": "execute_result",
          "data": {
            "text/plain": [
              "5.0    416288\n",
              "4.0     75476\n",
              "1.0     59627\n",
              "3.0     30652\n",
              "2.0     20734\n",
              "Name: overall, dtype: int64"
            ]
          },
          "metadata": {},
          "execution_count": 98
        }
      ]
    },
    {
      "cell_type": "code",
      "source": [
        "review_df['overall'].value_counts(normalize=True).mul(100).round(1).astype(str) + '%'"
      ],
      "metadata": {
        "id": "owzZFu6VqVKM",
        "outputId": "cc352819-e241-443c-a38d-79689c659453",
        "colab": {
          "base_uri": "https://localhost:8080/"
        }
      },
      "execution_count": 99,
      "outputs": [
        {
          "output_type": "execute_result",
          "data": {
            "text/plain": [
              "5.0    69.1%\n",
              "4.0    12.5%\n",
              "1.0     9.9%\n",
              "3.0     5.1%\n",
              "2.0     3.4%\n",
              "Name: overall, dtype: object"
            ]
          },
          "metadata": {},
          "execution_count": 99
        }
      ]
    },
    {
      "cell_type": "code",
      "source": [
        "fig, axes = plt.subplots(ncols=2, figsize=(18, 6))\n",
        "plt.tight_layout()\n",
        "\n",
        "review_df['overall'].value_counts().plot(kind='pie', ax=axes[0], autopct='%.1f%%', shadow=True)\n",
        "ax=sns.countplot(x=\"overall\", data=review_df, ax=axes[1])\n",
        "\n",
        "for p in ax.patches:\n",
        "  ax.annotate(\"%.f\" % p.get_height(), (p.get_x() + p.get_width() / 2., p.get_height()),\n",
        "      ha='center', va='center', fontsize=11, xytext=(0, 7),\n",
        "      textcoords='offset points')\n",
        "\n",
        "axes[0].set_title('Rating Distributions')\n",
        "axes[0].set_ylabel(' ')\n",
        "\n",
        "axes[1].set_title('Rating Counts')\n",
        "axes[1].set_xlabel(' ')\n",
        "\n",
        "plt.show()"
      ],
      "metadata": {
        "id": "AS8AUi3xqaDw",
        "outputId": "a854e4b8-287c-487d-c4c2-a61b5caa68d8",
        "colab": {
          "base_uri": "https://localhost:8080/",
          "height": 467
        }
      },
      "execution_count": 100,
      "outputs": [
        {
          "output_type": "display_data",
          "data": {
            "image/png": "[encoded data removed]",
            "text/plain": [
              "<Figure size 1296x432 with 2 Axes>"
            ]
          },
          "metadata": {
            "needs_background": "light"
          }
        }
      ]
    },
    {
      "cell_type": "code",
      "source": [
        "print('rating mean: {}'.format(review_df['overall'].mean()))\n",
        "print('rating median: {}'.format(review_df['overall'].median()))"
      ],
      "metadata": {
        "id": "v-94uSDTdthZ",
        "outputId": "e6ab121c-b452-4329-d6e8-88f2e7f9f5f6",
        "colab": {
          "base_uri": "https://localhost:8080/"
        }
      },
      "execution_count": 101,
      "outputs": [
        {
          "output_type": "stream",
          "name": "stdout",
          "text": [
            "rating mean: 4.2742092017445925\n",
            "rating median: 5.0\n"
          ]
        }
      ]
    },
    {
      "cell_type": "markdown",
      "source": [
        "The results show that the overall ratings in this review data set are highly imbalanced, which contains more than 69% of 5 stars rating. \n",
        "\n",
        "Thus, in the following model development, we need to keep in mind that the accuracy metric may not be useful for evaluating the machine learning models; instead, precision, recall,  and F1 score values could be suitable for model evaluation."
      ],
      "metadata": {
        "id": "VloyQusL3qXq"
      }
    },
    {
      "cell_type": "markdown",
      "source": [
        "Display the review time and its distribution in the dataset"
      ],
      "metadata": {
        "id": "u2ZUIYyc3PS3"
      }
    },
    {
      "cell_type": "code",
      "source": [
        "review_df['reviewTimeYear'].value_counts()"
      ],
      "metadata": {
        "id": "I8Ovy5WQx34g",
        "outputId": "da56fd57-5815-4be1-d321-561dad3cc799",
        "colab": {
          "base_uri": "https://localhost:8080/"
        }
      },
      "execution_count": 102,
      "outputs": [
        {
          "output_type": "execute_result",
          "data": {
            "text/plain": [
              "2016    140696\n",
              "2017    135978\n",
              "2015    110286\n",
              "2018     77422\n",
              "2014     71126\n",
              "2013     38477\n",
              "2012     13820\n",
              "2011      7406\n",
              "2010      3677\n",
              "2009      1781\n",
              "2008      1080\n",
              "2007       640\n",
              "2006       262\n",
              "2005        96\n",
              "2004        25\n",
              "2003         2\n",
              "2001         1\n",
              "2002         1\n",
              "2000         1\n",
              "Name: reviewTimeYear, dtype: int64"
            ]
          },
          "metadata": {},
          "execution_count": 102
        }
      ]
    },
    {
      "cell_type": "code",
      "source": [
        "review_df['reviewTimeYear'].value_counts(normalize=True).mul(100).round(1).astype(str) + '%'"
      ],
      "metadata": {
        "id": "_NWf0vddztSP",
        "outputId": "c8d5c37e-0b44-4b99-9787-171c588611d9",
        "colab": {
          "base_uri": "https://localhost:8080/"
        }
      },
      "execution_count": 103,
      "outputs": [
        {
          "output_type": "execute_result",
          "data": {
            "text/plain": [
              "2016    23.3%\n",
              "2017    22.6%\n",
              "2015    18.3%\n",
              "2018    12.8%\n",
              "2014    11.8%\n",
              "2013     6.4%\n",
              "2012     2.3%\n",
              "2011     1.2%\n",
              "2010     0.6%\n",
              "2009     0.3%\n",
              "2008     0.2%\n",
              "2007     0.1%\n",
              "2006     0.0%\n",
              "2005     0.0%\n",
              "2004     0.0%\n",
              "2003     0.0%\n",
              "2001     0.0%\n",
              "2002     0.0%\n",
              "2000     0.0%\n",
              "Name: reviewTimeYear, dtype: object"
            ]
          },
          "metadata": {},
          "execution_count": 103
        }
      ]
    },
    {
      "cell_type": "code",
      "source": [
        "fig, axes = plt.subplots(ncols=2, figsize=(18, 6))\n",
        "plt.tight_layout()\n",
        "\n",
        "review_df['reviewTimeYear'].value_counts().plot(kind='pie', ax=axes[0], autopct='%.1f%%', shadow=True)\n",
        "ax=sns.countplot(x=\"reviewTimeYear\", data=review_df, ax=axes[1])\n",
        "\n",
        "for p in ax.patches:\n",
        "  ax.annotate(\"%.f\" % p.get_height(), (p.get_x() + p.get_width() / 2., p.get_height()),\n",
        "      ha='center', va='center', fontsize=11, xytext=(0, 7),\n",
        "      textcoords='offset points')\n",
        "\n",
        "axes[0].set_title('Review Year Distributions')\n",
        "axes[0].set_ylabel(' ')\n",
        "\n",
        "axes[1].set_title('Review Year Counts')\n",
        "axes[1].set_xlabel(' ')\n",
        "\n",
        "plt.show()"
      ],
      "metadata": {
        "id": "Ytdm830WzkVg",
        "outputId": "060cb9cb-7aa4-4b80-8c0e-d88019ea79c0",
        "colab": {
          "base_uri": "https://localhost:8080/",
          "height": 467
        }
      },
      "execution_count": 104,
      "outputs": [
        {
          "output_type": "display_data",
          "data": {
            "image/png": "[encoded data removed]",
            "text/plain": [
              "<Figure size 1296x432 with 2 Axes>"
            ]
          },
          "metadata": {
            "needs_background": "light"
          }
        }
      ]
    },
    {
      "cell_type": "markdown",
      "source": [
        "The results show that the reviews in this dataset are heavily collected after the year 2013, which can quite well represent the current generation customers' preferences."
      ],
      "metadata": {
        "id": "ozfzLIJT054l"
      }
    },
    {
      "cell_type": "markdown",
      "source": [
        "Let's display the review month and see if the season is an important factor to influence the purchase of the appliances."
      ],
      "metadata": {
        "id": "kMvsgbeP6OKP"
      }
    },
    {
      "cell_type": "code",
      "source": [
        "review_df['reviewTimeMonth'].value_counts()"
      ],
      "metadata": {
        "id": "X64yi22o54ej",
        "outputId": "5f50e0bd-fa34-4773-fe9b-9de332b6ffe7",
        "colab": {
          "base_uri": "https://localhost:8080/"
        }
      },
      "execution_count": 105,
      "outputs": [
        {
          "output_type": "execute_result",
          "data": {
            "text/plain": [
              "3     60462\n",
              "1     57548\n",
              "2     53935\n",
              "8     52340\n",
              "7     50664\n",
              "12    49953\n",
              "4     49485\n",
              "5     47401\n",
              "9     46662\n",
              "6     46328\n",
              "10    44469\n",
              "11    43530\n",
              "Name: reviewTimeMonth, dtype: int64"
            ]
          },
          "metadata": {},
          "execution_count": 105
        }
      ]
    },
    {
      "cell_type": "code",
      "source": [
        "fig, axes = plt.subplots(ncols=2, figsize=(18, 6))\n",
        "plt.tight_layout()\n",
        "\n",
        "review_df['reviewTimeMonth'].value_counts().plot(kind='pie', ax=axes[0], autopct='%.1f%%', shadow=True)\n",
        "ax=sns.countplot(x=\"reviewTimeMonth\", data=review_df, ax=axes[1])\n",
        "\n",
        "for p in ax.patches:\n",
        "  ax.annotate(\"%.f\" % p.get_height(), (p.get_x() + p.get_width() / 2., p.get_height()),\n",
        "      ha='center', va='center', fontsize=11, xytext=(0, 7),\n",
        "      textcoords='offset points')\n",
        "\n",
        "axes[0].set_title('Review Month Distributions')\n",
        "axes[0].set_ylabel(' ')\n",
        "\n",
        "axes[1].set_title('Review Month Counts')\n",
        "axes[1].set_xlabel(' ')\n",
        "\n",
        "plt.show()"
      ],
      "metadata": {
        "id": "w0GC8Cml58AV",
        "outputId": "f181d367-01ca-40fd-c4df-c928d18d4f62",
        "colab": {
          "base_uri": "https://localhost:8080/",
          "height": 467
        }
      },
      "execution_count": 106,
      "outputs": [
        {
          "output_type": "display_data",
          "data": {
            "image/png": "[encoded data removed]",
            "text/plain": [
              "<Figure size 1296x432 with 2 Axes>"
            ]
          },
          "metadata": {
            "needs_background": "light"
          }
        }
      ]
    },
    {
      "cell_type": "markdown",
      "source": [
        "The results show that the months are quite evenly distributed in the dataset, which we can conclude that the season doesn't play a significant role in the influence of the purchase of the appliances."
      ],
      "metadata": {
        "id": "Pw9oF4eg6erM"
      }
    },
    {
      "cell_type": "markdown",
      "source": [
        "## Product Data"
      ],
      "metadata": {
        "id": "4LVj4NkkqGUC"
      }
    },
    {
      "cell_type": "code",
      "source": [
        "product_df = getDF('/content/meta_Appliances.json.gz?raw=true')"
      ],
      "metadata": {
        "id": "IzMx9BWrZk1c"
      },
      "execution_count": 53,
      "outputs": []
    },
    {
      "cell_type": "code",
      "source": [
        "product_df.head(5)"
      ],
      "metadata": {
        "id": "8sm1bggrciDm",
        "outputId": "4651c27f-a397-4601-f1ff-d0d9d2cd7a6c",
        "colab": {
          "base_uri": "https://localhost:8080/",
          "height": 687
        }
      },
      "execution_count": 54,
      "outputs": [
        {
          "output_type": "execute_result",
          "data": {
            "text/html": [
              "\n",
              "  <div id=\"df-367f9f29-1b61-4fe1-bde2-01ab146c4911\">\n",
              "    <div class=\"colab-df-container\">\n",
              "      <div>\n",
              "<style scoped>\n",
              "    .dataframe tbody tr th:only-of-type {\n",
              "        vertical-align: middle;\n",
              "    }\n",
              "\n",
              "    .dataframe tbody tr th {\n",
              "        vertical-align: top;\n",
              "    }\n",
              "\n",
              "    .dataframe thead th {\n",
              "        text-align: right;\n",
              "    }\n",
              "</style>\n",
              "<table border=\"1\" class=\"dataframe\">\n",
              "  <thead>\n",
              "    <tr style=\"text-align: right;\">\n",
              "      <th></th>\n",
              "      <th>category</th>\n",
              "      <th>tech1</th>\n",
              "      <th>description</th>\n",
              "      <th>fit</th>\n",
              "      <th>title</th>\n",
              "      <th>also_buy</th>\n",
              "      <th>tech2</th>\n",
              "      <th>brand</th>\n",
              "      <th>feature</th>\n",
              "      <th>rank</th>\n",
              "      <th>also_view</th>\n",
              "      <th>details</th>\n",
              "      <th>main_cat</th>\n",
              "      <th>similar_item</th>\n",
              "      <th>date</th>\n",
              "      <th>price</th>\n",
              "      <th>asin</th>\n",
              "      <th>imageURL</th>\n",
              "      <th>imageURLHighRes</th>\n",
              "    </tr>\n",
              "  </thead>\n",
              "  <tbody>\n",
              "    <tr>\n",
              "      <th>0</th>\n",
              "      <td>[Appliances, Refrigerators, Freezers &amp; Ice Mak...</td>\n",
              "      <td>class=\"a-keyvalue prodDetTable\" role=\"present...</td>\n",
              "      <td>[]</td>\n",
              "      <td></td>\n",
              "      <td>Tupperware Freezer Square Round Container Set ...</td>\n",
              "      <td>[]</td>\n",
              "      <td></td>\n",
              "      <td>Tupperware</td>\n",
              "      <td>[Each 3-pc. set includes two 7/8-cup/200 mL an...</td>\n",
              "      <td>[&gt;#39,745 in Appliances (See top 100)]</td>\n",
              "      <td>[]</td>\n",
              "      <td>{}</td>\n",
              "      <td>Appliances</td>\n",
              "      <td></td>\n",
              "      <td>November 19, 2008</td>\n",
              "      <td></td>\n",
              "      <td>7301113188</td>\n",
              "      <td>[]</td>\n",
              "      <td>[]</td>\n",
              "    </tr>\n",
              "    <tr>\n",
              "      <th>1</th>\n",
              "      <td>[Appliances, Refrigerators, Freezers &amp; Ice Mak...</td>\n",
              "      <td>class=\"a-keyvalue prodDetTable\" role=\"present...</td>\n",
              "      <td>[2 X Tupperware Pure &amp; Fresh Unique Covered Co...</td>\n",
              "      <td></td>\n",
              "      <td>2 X Tupperware Pure &amp;amp; Fresh Unique Covered...</td>\n",
              "      <td>[]</td>\n",
              "      <td></td>\n",
              "      <td>Tupperware</td>\n",
              "      <td>[2 X Tupperware Pure &amp; Fresh Unique Covered Co...</td>\n",
              "      <td>[&gt;#6,118 in Appliances (See top 100)]</td>\n",
              "      <td>[B004RUGHJW]</td>\n",
              "      <td>{}</td>\n",
              "      <td>Appliances</td>\n",
              "      <td></td>\n",
              "      <td>June 5, 2016</td>\n",
              "      <td>$3.62</td>\n",
              "      <td>7861850250</td>\n",
              "      <td>[https://images-na.ssl-images-amazon.com/image...</td>\n",
              "      <td>[https://images-na.ssl-images-amazon.com/image...</td>\n",
              "    </tr>\n",
              "    <tr>\n",
              "      <th>2</th>\n",
              "      <td>[Appliances, Parts &amp;amp; Accessories]</td>\n",
              "      <td></td>\n",
              "      <td>[]</td>\n",
              "      <td></td>\n",
              "      <td>The Cigar - Moments of Pleasure</td>\n",
              "      <td>[]</td>\n",
              "      <td></td>\n",
              "      <td>The Cigar Book</td>\n",
              "      <td>[]</td>\n",
              "      <td>[&gt;#1,861,816 in Home &amp;amp; Kitchen (See Top 10...</td>\n",
              "      <td>[B01HCAVSLK, 1632206579]</td>\n",
              "      <td>{}</td>\n",
              "      <td>Amazon Home</td>\n",
              "      <td></td>\n",
              "      <td></td>\n",
              "      <td>$150.26</td>\n",
              "      <td>8792559360</td>\n",
              "      <td>[https://images-na.ssl-images-amazon.com/image...</td>\n",
              "      <td>[https://images-na.ssl-images-amazon.com/image...</td>\n",
              "    </tr>\n",
              "    <tr>\n",
              "      <th>3</th>\n",
              "      <td>[Appliances, Parts &amp; Accessories]</td>\n",
              "      <td>class=\"a-keyvalue prodDetTable\" role=\"present...</td>\n",
              "      <td>[Multi purpost descaler, especially suited to ...</td>\n",
              "      <td></td>\n",
              "      <td>Caraselle 2X 50G Appliance Descalene</td>\n",
              "      <td>[]</td>\n",
              "      <td></td>\n",
              "      <td>Caraselle</td>\n",
              "      <td>[]</td>\n",
              "      <td>[&gt;#1,654,505 in Tools &amp; Home Improvement (See ...</td>\n",
              "      <td>[]</td>\n",
              "      <td>{}</td>\n",
              "      <td>Tools &amp; Home Improvement</td>\n",
              "      <td></td>\n",
              "      <td>December 17, 2014</td>\n",
              "      <td>.a-box-inner{background-color:#fff}#alohaBuyBo...</td>\n",
              "      <td>9792954481</td>\n",
              "      <td>[https://images-na.ssl-images-amazon.com/image...</td>\n",
              "      <td>[https://images-na.ssl-images-amazon.com/image...</td>\n",
              "    </tr>\n",
              "    <tr>\n",
              "      <th>4</th>\n",
              "      <td>[Appliances, Parts &amp; Accessories, Range Parts ...</td>\n",
              "      <td>class=\"a-keyvalue prodDetTable\" role=\"present...</td>\n",
              "      <td>[Full gauge and size beveled-edge; furnished w...</td>\n",
              "      <td></td>\n",
              "      <td>EATON Wiring 39CH-SP-L Arrow Hart 1-Gang Chrom...</td>\n",
              "      <td>[]</td>\n",
              "      <td></td>\n",
              "      <td>EATON Wiring</td>\n",
              "      <td>[Returns will not be honored on this closeout ...</td>\n",
              "      <td>[&gt;#3,066,990 in Tools &amp; Home Improvement (See ...</td>\n",
              "      <td>[]</td>\n",
              "      <td>{}</td>\n",
              "      <td>Tools &amp; Home Improvement</td>\n",
              "      <td></td>\n",
              "      <td>January 16, 2007</td>\n",
              "      <td>$3.43</td>\n",
              "      <td>B00002N5EL</td>\n",
              "      <td>[]</td>\n",
              "      <td>[]</td>\n",
              "    </tr>\n",
              "  </tbody>\n",
              "</table>\n",
              "</div>\n",
              "      <button class=\"colab-df-convert\" onclick=\"convertToInteractive('df-367f9f29-1b61-4fe1-bde2-01ab146c4911')\"\n",
              "              title=\"Convert this dataframe to an interactive table.\"\n",
              "              style=\"display:none;\">\n",
              "        \n",
              "  <svg xmlns=\"http://www.w3.org/2000/svg\" height=\"24px\"viewBox=\"0 0 24 24\"\n",
              "       width=\"24px\">\n",
              "    <path d=\"M0 0h24v24H0V0z\" fill=\"none\"/>\n",
              "    <path d=\"M18.56 5.44l.94 2.06.94-2.06 2.06-.94-2.06-.94-.94-2.06-.94 2.06-2.06.94zm-11 1L8.5 8.5l.94-2.06 2.06-.94-2.06-.94L8.5 2.5l-.94 2.06-2.06.94zm10 10l.94 2.06.94-2.06 2.06-.94-2.06-.94-.94-2.06-.94 2.06-2.06.94z\"/><path d=\"M17.41 7.96l-1.37-1.37c-.4-.4-.92-.59-1.43-.59-.52 0-1.04.2-1.43.59L10.3 9.45l-7.72 7.72c-.78.78-.78 2.05 0 2.83L4 21.41c.39.39.9.59 1.41.59.51 0 1.02-.2 1.41-.59l7.78-7.78 2.81-2.81c.8-.78.8-2.07 0-2.86zM5.41 20L4 18.59l7.72-7.72 1.47 1.35L5.41 20z\"/>\n",
              "  </svg>\n",
              "      </button>\n",
              "      \n",
              "  <style>\n",
              "    .colab-df-container {\n",
              "      display:flex;\n",
              "      flex-wrap:wrap;\n",
              "      gap: 12px;\n",
              "    }\n",
              "\n",
              "    .colab-df-convert {\n",
              "      background-color: #E8F0FE;\n",
              "      border: none;\n",
              "      border-radius: 50%;\n",
              "      cursor: pointer;\n",
              "      display: none;\n",
              "      fill: #1967D2;\n",
              "      height: 32px;\n",
              "      padding: 0 0 0 0;\n",
              "      width: 32px;\n",
              "    }\n",
              "\n",
              "    .colab-df-convert:hover {\n",
              "      background-color: #E2EBFA;\n",
              "      box-shadow: 0px 1px 2px rgba(60, 64, 67, 0.3), 0px 1px 3px 1px rgba(60, 64, 67, 0.15);\n",
              "      fill: #174EA6;\n",
              "    }\n",
              "\n",
              "    [theme=dark] .colab-df-convert {\n",
              "      background-color: #3B4455;\n",
              "      fill: #D2E3FC;\n",
              "    }\n",
              "\n",
              "    [theme=dark] .colab-df-convert:hover {\n",
              "      background-color: #434B5C;\n",
              "      box-shadow: 0px 1px 3px 1px rgba(0, 0, 0, 0.15);\n",
              "      filter: drop-shadow(0px 1px 2px rgba(0, 0, 0, 0.3));\n",
              "      fill: #FFFFFF;\n",
              "    }\n",
              "  </style>\n",
              "\n",
              "      <script>\n",
              "        const buttonEl =\n",
              "          document.querySelector('#df-367f9f29-1b61-4fe1-bde2-01ab146c4911 button.colab-df-convert');\n",
              "        buttonEl.style.display =\n",
              "          google.colab.kernel.accessAllowed ? 'block' : 'none';\n",
              "\n",
              "        async function convertToInteractive(key) {\n",
              "          const element = document.querySelector('#df-367f9f29-1b61-4fe1-bde2-01ab146c4911');\n",
              "          const dataTable =\n",
              "            await google.colab.kernel.invokeFunction('convertToInteractive',\n",
              "                                                     [key], {});\n",
              "          if (!dataTable) return;\n",
              "\n",
              "          const docLinkHtml = 'Like what you see? Visit the ' +\n",
              "            '<a target=\"_blank\" href=https://colab.research.google.com/notebooks/data_table.ipynb>data table notebook</a>'\n",
              "            + ' to learn more about interactive tables.';\n",
              "          element.innerHTML = '';\n",
              "          dataTable['output_type'] = 'display_data';\n",
              "          await google.colab.output.renderOutput(dataTable, element);\n",
              "          const docLink = document.createElement('div');\n",
              "          docLink.innerHTML = docLinkHtml;\n",
              "          element.appendChild(docLink);\n",
              "        }\n",
              "      </script>\n",
              "    </div>\n",
              "  </div>\n",
              "  "
            ],
            "text/plain": [
              "                                            category  ...                                    imageURLHighRes\n",
              "0  [Appliances, Refrigerators, Freezers & Ice Mak...  ...                                                 []\n",
              "1  [Appliances, Refrigerators, Freezers & Ice Mak...  ...  [https://images-na.ssl-images-amazon.com/image...\n",
              "2              [Appliances, Parts &amp; Accessories]  ...  [https://images-na.ssl-images-amazon.com/image...\n",
              "3                  [Appliances, Parts & Accessories]  ...  [https://images-na.ssl-images-amazon.com/image...\n",
              "4  [Appliances, Parts & Accessories, Range Parts ...  ...                                                 []\n",
              "\n",
              "[5 rows x 19 columns]"
            ]
          },
          "metadata": {},
          "execution_count": 54
        }
      ]
    },
    {
      "cell_type": "code",
      "source": [
        "product_df.shape"
      ],
      "metadata": {
        "id": "AOvxRZDnpd40",
        "outputId": "6d13a0b6-8c37-4da1-aa0d-3d589d946047",
        "colab": {
          "base_uri": "https://localhost:8080/"
        }
      },
      "execution_count": 55,
      "outputs": [
        {
          "output_type": "execute_result",
          "data": {
            "text/plain": [
              "(30445, 19)"
            ]
          },
          "metadata": {},
          "execution_count": 55
        }
      ]
    },
    {
      "cell_type": "code",
      "source": [
        "product_df.isnull().sum()"
      ],
      "metadata": {
        "id": "NlamlLGDplnN",
        "outputId": "60dda813-fb76-4242-c24d-24c2f878a289",
        "colab": {
          "base_uri": "https://localhost:8080/"
        }
      },
      "execution_count": 56,
      "outputs": [
        {
          "output_type": "execute_result",
          "data": {
            "text/plain": [
              "category           0\n",
              "tech1              0\n",
              "description        0\n",
              "fit                0\n",
              "title              0\n",
              "also_buy           0\n",
              "tech2              0\n",
              "brand              0\n",
              "feature            0\n",
              "rank               0\n",
              "also_view          0\n",
              "details            0\n",
              "main_cat           0\n",
              "similar_item       0\n",
              "date               0\n",
              "price              0\n",
              "asin               0\n",
              "imageURL           0\n",
              "imageURLHighRes    0\n",
              "dtype: int64"
            ]
          },
          "metadata": {},
          "execution_count": 56
        }
      ]
    }
  ]
}