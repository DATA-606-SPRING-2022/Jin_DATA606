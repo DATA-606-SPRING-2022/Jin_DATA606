{
  "nbformat": 4,
  "nbformat_minor": 0,
  "metadata": {
    "colab": {
      "name": "DATA606_Part2_ContentBasedFiltering.ipynb",
      "provenance": [],
      "machine_shape": "hm",
      "toc_visible": true,
      "authorship_tag": "ABX9TyN++DBjXI6++osP5pa4gmhw",
      "include_colab_link": true
    },
    "kernelspec": {
      "name": "python3",
      "display_name": "Python 3"
    },
    "language_info": {
      "name": "python"
    },
    "accelerator": "GPU"
  },
  "cells": [
    {
      "cell_type": "markdown",
      "metadata": {
        "id": "view-in-github",
        "colab_type": "text"
      },
      "source": [
        "<a href=\"https://colab.research.google.com/github/JinHuiXu1991/Jin_DATA606/blob/main/ipynb/DATA606_Part2_ContentBasedFiltering.ipynb\" target=\"_parent\"><img src=\"https://colab.research.google.com/assets/colab-badge.svg\" alt=\"Open In Colab\"/></a>"
      ]
    },
    {
      "cell_type": "markdown",
      "source": [
        "# Amazon Product Recommender Systems\n",
        "## Author: Jin Hui Xu"
      ],
      "metadata": {
        "id": "IBqWel5PQXJ6"
      }
    },
    {
      "cell_type": "markdown",
      "source": [
        "##Content Based Filtering "
      ],
      "metadata": {
        "id": "3wPShliQZrYA"
      }
    },
    {
      "cell_type": "code",
      "execution_count": 1,
      "metadata": {
        "id": "JhuAJzIGQRHQ",
        "colab": {
          "base_uri": "https://localhost:8080/"
        },
        "outputId": "798a2241-e900-49f3-e2dc-fd88b615fbbe"
      },
      "outputs": [
        {
          "output_type": "stream",
          "name": "stdout",
          "text": [
            "--2022-03-21 03:27:12--  https://github.com/JinHuiXu1991/Jin_DATA606/blob/main/cleaned_data/cleaned_amazon_product.zip?raw=true\n",
            "Resolving github.com (github.com)... 140.82.121.3\n",
            "Connecting to github.com (github.com)|140.82.121.3|:443... connected.\n",
            "HTTP request sent, awaiting response... 302 Found\n",
            "Location: https://github.com/JinHuiXu1991/Jin_DATA606/raw/main/cleaned_data/cleaned_amazon_product.zip [following]\n",
            "--2022-03-21 03:27:13--  https://github.com/JinHuiXu1991/Jin_DATA606/raw/main/cleaned_data/cleaned_amazon_product.zip\n",
            "Reusing existing connection to github.com:443.\n",
            "HTTP request sent, awaiting response... 302 Found\n",
            "Location: https://raw.githubusercontent.com/JinHuiXu1991/Jin_DATA606/main/cleaned_data/cleaned_amazon_product.zip [following]\n",
            "--2022-03-21 03:27:13--  https://raw.githubusercontent.com/JinHuiXu1991/Jin_DATA606/main/cleaned_data/cleaned_amazon_product.zip\n",
            "Resolving raw.githubusercontent.com (raw.githubusercontent.com)... 185.199.109.133, 185.199.110.133, 185.199.111.133, ...\n",
            "Connecting to raw.githubusercontent.com (raw.githubusercontent.com)|185.199.109.133|:443... connected.\n",
            "HTTP request sent, awaiting response... 200 OK\n",
            "Length: 5348817 (5.1M) [application/zip]\n",
            "Saving to: ‘cleaned_amazon_product.zip?raw=true’\n",
            "\n",
            "cleaned_amazon_prod 100%[===================>]   5.10M  --.-KB/s    in 0.03s   \n",
            "\n",
            "2022-03-21 03:27:13 (165 MB/s) - ‘cleaned_amazon_product.zip?raw=true’ saved [5348817/5348817]\n",
            "\n",
            "--2022-03-21 03:27:13--  https://github.com/JinHuiXu1991/Jin_DATA606/blob/main/cleaned_data/cleaned_amazon_review.zip?raw=true\n",
            "Resolving github.com (github.com)... 140.82.121.3\n",
            "Connecting to github.com (github.com)|140.82.121.3|:443... connected.\n",
            "HTTP request sent, awaiting response... 302 Found\n",
            "Location: https://github.com/JinHuiXu1991/Jin_DATA606/raw/main/cleaned_data/cleaned_amazon_review.zip [following]\n",
            "--2022-03-21 03:27:13--  https://github.com/JinHuiXu1991/Jin_DATA606/raw/main/cleaned_data/cleaned_amazon_review.zip\n",
            "Reusing existing connection to github.com:443.\n",
            "HTTP request sent, awaiting response... 302 Found\n",
            "Location: https://raw.githubusercontent.com/JinHuiXu1991/Jin_DATA606/main/cleaned_data/cleaned_amazon_review.zip [following]\n",
            "--2022-03-21 03:27:14--  https://raw.githubusercontent.com/JinHuiXu1991/Jin_DATA606/main/cleaned_data/cleaned_amazon_review.zip\n",
            "Resolving raw.githubusercontent.com (raw.githubusercontent.com)... 185.199.108.133, 185.199.109.133, 185.199.110.133, ...\n",
            "Connecting to raw.githubusercontent.com (raw.githubusercontent.com)|185.199.108.133|:443... connected.\n",
            "HTTP request sent, awaiting response... 200 OK\n",
            "Length: 51337311 (49M) [application/zip]\n",
            "Saving to: ‘cleaned_amazon_review.zip?raw=true’\n",
            "\n",
            "cleaned_amazon_revi 100%[===================>]  48.96M  --.-KB/s    in 0.1s    \n",
            "\n",
            "2022-03-21 03:27:16 (368 MB/s) - ‘cleaned_amazon_review.zip?raw=true’ saved [51337311/51337311]\n",
            "\n"
          ]
        }
      ],
      "source": [
        "!wget https://github.com/JinHuiXu1991/Jin_DATA606/blob/main/cleaned_data/cleaned_amazon_product.zip?raw=true\n",
        "\n",
        "!wget https://github.com/JinHuiXu1991/Jin_DATA606/blob/main/cleaned_data/cleaned_amazon_review.zip?raw=true"
      ]
    },
    {
      "cell_type": "code",
      "source": [
        "import pandas as pd\n",
        "from sklearn.feature_extraction.text import TfidfVectorizer\n",
        "from sklearn.metrics.pairwise import cosine_similarity\n",
        "from sklearn.metrics.pairwise import linear_kernel\n",
        "import time\n",
        "import numpy as np\n",
        "import nltk\n",
        "from nltk.corpus import stopwords\n",
        "import re\n",
        "from nltk.stem import WordNetLemmatizer\n",
        "nltk.download('stopwords')\n",
        "nltk.download('wordnet')\n",
        "nltk.download('words')\n",
        "import gensim\n",
        "from gensim.utils import simple_preprocess\n",
        "import gensim.corpora as corpora\n",
        "from pprint import pprint\n",
        "from gensim.models import CoherenceModel\n",
        "import spacy\n",
        "from bs4 import BeautifulSoup\n",
        "import matplotlib.pyplot as plt"
      ],
      "metadata": {
        "id": "h_oy-cnD3mTa",
        "colab": {
          "base_uri": "https://localhost:8080/"
        },
        "outputId": "7589df66-b755-4f5f-f364-802613969c97"
      },
      "execution_count": 2,
      "outputs": [
        {
          "output_type": "stream",
          "name": "stdout",
          "text": [
            "[nltk_data] Downloading package stopwords to /root/nltk_data...\n",
            "[nltk_data]   Unzipping corpora/stopwords.zip.\n",
            "[nltk_data] Downloading package wordnet to /root/nltk_data...\n",
            "[nltk_data]   Unzipping corpora/wordnet.zip.\n",
            "[nltk_data] Downloading package words to /root/nltk_data...\n",
            "[nltk_data]   Unzipping corpora/words.zip.\n"
          ]
        }
      ]
    },
    {
      "cell_type": "markdown",
      "source": [
        "### Description Based Recommender (Cosine Similarity)"
      ],
      "metadata": {
        "id": "f5Rtf0qLZvuf"
      }
    },
    {
      "cell_type": "code",
      "source": [
        "product_df = pd.read_csv('/content/cleaned_amazon_product.zip?raw=true', compression='zip')"
      ],
      "metadata": {
        "id": "KpgFhp7f33iv"
      },
      "execution_count": 3,
      "outputs": []
    },
    {
      "cell_type": "code",
      "source": [
        "product_df.head()"
      ],
      "metadata": {
        "colab": {
          "base_uri": "https://localhost:8080/",
          "height": 458
        },
        "id": "hdRDusr836UP",
        "outputId": "ffd922f9-0055-4be6-e6c0-990dae6d4a7d"
      },
      "execution_count": 4,
      "outputs": [
        {
          "output_type": "execute_result",
          "data": {
            "text/plain": [
              "                                            category  \\\n",
              "0    Appliances Refrigerators, Freezers & Ice Makers   \n",
              "1    Appliances Refrigerators, Freezers & Ice Makers   \n",
              "2                     Appliances Parts & Accessories   \n",
              "3                     Appliances Parts & Accessories   \n",
              "4  Appliances Parts & Accessories Range Parts & A...   \n",
              "\n",
              "                                         description  \\\n",
              "0                                                NaN   \n",
              "1  2 x tupperware pure fresh unique covered cool ...   \n",
              "2                                                NaN   \n",
              "3  multi purpost descaler especially suited to wa...   \n",
              "4  full gauge and size beveled edge furnished wit...   \n",
              "\n",
              "                                               title           brand  \\\n",
              "0  tupperware freezer square round container set ...      tupperware   \n",
              "1  2 x tupperware pure amp fresh unique covered c...      tupperware   \n",
              "2                      the cigar moments of pleasure  the cigar book   \n",
              "3               caraselle 2x 50g appliance descalene       caraselle   \n",
              "4  eaton wiring 39ch sp l arrow hart 1 gang chrom...    eaton wiring   \n",
              "\n",
              "                                             feature                main_cat  \\\n",
              "0  each 3 pc set includes two 7 8 cup 200 ml and ...              appliances   \n",
              "1  2 x tupperware pure fresh unique covered cool ...              appliances   \n",
              "2                                                NaN             amazon home   \n",
              "3                                                NaN  tools home improvement   \n",
              "4  returns will not be honored on this closeout i...  tools home improvement   \n",
              "\n",
              "         date   price        asin  \\\n",
              "0  2008-11-19     NaN  7301113188   \n",
              "1  2016-06-05    3.62  7861850250   \n",
              "2         NaN  150.26  8792559360   \n",
              "3  2014-12-17     NaN  9792954481   \n",
              "4  2007-01-16    3.43  B00002N5EL   \n",
              "\n",
              "                                     imageURLHighRes  dateYear  dateMonth  \\\n",
              "0                                                 []      2008         11   \n",
              "1  ['https://images-na.ssl-images-amazon.com/imag...      2016          6   \n",
              "2  ['https://images-na.ssl-images-amazon.com/imag...         0          0   \n",
              "3  ['https://images-na.ssl-images-amazon.com/imag...      2014         12   \n",
              "4                                                 []      2007          1   \n",
              "\n",
              "                                           ori_title  \n",
              "0  Tupperware Freezer Square Round Container Set ...  \n",
              "1  2 X Tupperware Pure &amp; Fresh Unique Covered...  \n",
              "2                    The Cigar - Moments of Pleasure  \n",
              "3               Caraselle 2X 50G Appliance Descalene  \n",
              "4  EATON Wiring 39CH-SP-L Arrow Hart 1-Gang Chrom...  "
            ],
            "text/html": [
              "\n",
              "  <div id=\"df-0b03f6bf-95ab-463f-a399-76a80855e8c1\">\n",
              "    <div class=\"colab-df-container\">\n",
              "      <div>\n",
              "<style scoped>\n",
              "    .dataframe tbody tr th:only-of-type {\n",
              "        vertical-align: middle;\n",
              "    }\n",
              "\n",
              "    .dataframe tbody tr th {\n",
              "        vertical-align: top;\n",
              "    }\n",
              "\n",
              "    .dataframe thead th {\n",
              "        text-align: right;\n",
              "    }\n",
              "</style>\n",
              "<table border=\"1\" class=\"dataframe\">\n",
              "  <thead>\n",
              "    <tr style=\"text-align: right;\">\n",
              "      <th></th>\n",
              "      <th>category</th>\n",
              "      <th>description</th>\n",
              "      <th>title</th>\n",
              "      <th>brand</th>\n",
              "      <th>feature</th>\n",
              "      <th>main_cat</th>\n",
              "      <th>date</th>\n",
              "      <th>price</th>\n",
              "      <th>asin</th>\n",
              "      <th>imageURLHighRes</th>\n",
              "      <th>dateYear</th>\n",
              "      <th>dateMonth</th>\n",
              "      <th>ori_title</th>\n",
              "    </tr>\n",
              "  </thead>\n",
              "  <tbody>\n",
              "    <tr>\n",
              "      <th>0</th>\n",
              "      <td>Appliances Refrigerators, Freezers &amp; Ice Makers</td>\n",
              "      <td>NaN</td>\n",
              "      <td>tupperware freezer square round container set ...</td>\n",
              "      <td>tupperware</td>\n",
              "      <td>each 3 pc set includes two 7 8 cup 200 ml and ...</td>\n",
              "      <td>appliances</td>\n",
              "      <td>2008-11-19</td>\n",
              "      <td>NaN</td>\n",
              "      <td>7301113188</td>\n",
              "      <td>[]</td>\n",
              "      <td>2008</td>\n",
              "      <td>11</td>\n",
              "      <td>Tupperware Freezer Square Round Container Set ...</td>\n",
              "    </tr>\n",
              "    <tr>\n",
              "      <th>1</th>\n",
              "      <td>Appliances Refrigerators, Freezers &amp; Ice Makers</td>\n",
              "      <td>2 x tupperware pure fresh unique covered cool ...</td>\n",
              "      <td>2 x tupperware pure amp fresh unique covered c...</td>\n",
              "      <td>tupperware</td>\n",
              "      <td>2 x tupperware pure fresh unique covered cool ...</td>\n",
              "      <td>appliances</td>\n",
              "      <td>2016-06-05</td>\n",
              "      <td>3.62</td>\n",
              "      <td>7861850250</td>\n",
              "      <td>['https://images-na.ssl-images-amazon.com/imag...</td>\n",
              "      <td>2016</td>\n",
              "      <td>6</td>\n",
              "      <td>2 X Tupperware Pure &amp;amp; Fresh Unique Covered...</td>\n",
              "    </tr>\n",
              "    <tr>\n",
              "      <th>2</th>\n",
              "      <td>Appliances Parts &amp; Accessories</td>\n",
              "      <td>NaN</td>\n",
              "      <td>the cigar moments of pleasure</td>\n",
              "      <td>the cigar book</td>\n",
              "      <td>NaN</td>\n",
              "      <td>amazon home</td>\n",
              "      <td>NaN</td>\n",
              "      <td>150.26</td>\n",
              "      <td>8792559360</td>\n",
              "      <td>['https://images-na.ssl-images-amazon.com/imag...</td>\n",
              "      <td>0</td>\n",
              "      <td>0</td>\n",
              "      <td>The Cigar - Moments of Pleasure</td>\n",
              "    </tr>\n",
              "    <tr>\n",
              "      <th>3</th>\n",
              "      <td>Appliances Parts &amp; Accessories</td>\n",
              "      <td>multi purpost descaler especially suited to wa...</td>\n",
              "      <td>caraselle 2x 50g appliance descalene</td>\n",
              "      <td>caraselle</td>\n",
              "      <td>NaN</td>\n",
              "      <td>tools home improvement</td>\n",
              "      <td>2014-12-17</td>\n",
              "      <td>NaN</td>\n",
              "      <td>9792954481</td>\n",
              "      <td>['https://images-na.ssl-images-amazon.com/imag...</td>\n",
              "      <td>2014</td>\n",
              "      <td>12</td>\n",
              "      <td>Caraselle 2X 50G Appliance Descalene</td>\n",
              "    </tr>\n",
              "    <tr>\n",
              "      <th>4</th>\n",
              "      <td>Appliances Parts &amp; Accessories Range Parts &amp; A...</td>\n",
              "      <td>full gauge and size beveled edge furnished wit...</td>\n",
              "      <td>eaton wiring 39ch sp l arrow hart 1 gang chrom...</td>\n",
              "      <td>eaton wiring</td>\n",
              "      <td>returns will not be honored on this closeout i...</td>\n",
              "      <td>tools home improvement</td>\n",
              "      <td>2007-01-16</td>\n",
              "      <td>3.43</td>\n",
              "      <td>B00002N5EL</td>\n",
              "      <td>[]</td>\n",
              "      <td>2007</td>\n",
              "      <td>1</td>\n",
              "      <td>EATON Wiring 39CH-SP-L Arrow Hart 1-Gang Chrom...</td>\n",
              "    </tr>\n",
              "  </tbody>\n",
              "</table>\n",
              "</div>\n",
              "      <button class=\"colab-df-convert\" onclick=\"convertToInteractive('df-0b03f6bf-95ab-463f-a399-76a80855e8c1')\"\n",
              "              title=\"Convert this dataframe to an interactive table.\"\n",
              "              style=\"display:none;\">\n",
              "        \n",
              "  <svg xmlns=\"http://www.w3.org/2000/svg\" height=\"24px\"viewBox=\"0 0 24 24\"\n",
              "       width=\"24px\">\n",
              "    <path d=\"M0 0h24v24H0V0z\" fill=\"none\"/>\n",
              "    <path d=\"M18.56 5.44l.94 2.06.94-2.06 2.06-.94-2.06-.94-.94-2.06-.94 2.06-2.06.94zm-11 1L8.5 8.5l.94-2.06 2.06-.94-2.06-.94L8.5 2.5l-.94 2.06-2.06.94zm10 10l.94 2.06.94-2.06 2.06-.94-2.06-.94-.94-2.06-.94 2.06-2.06.94z\"/><path d=\"M17.41 7.96l-1.37-1.37c-.4-.4-.92-.59-1.43-.59-.52 0-1.04.2-1.43.59L10.3 9.45l-7.72 7.72c-.78.78-.78 2.05 0 2.83L4 21.41c.39.39.9.59 1.41.59.51 0 1.02-.2 1.41-.59l7.78-7.78 2.81-2.81c.8-.78.8-2.07 0-2.86zM5.41 20L4 18.59l7.72-7.72 1.47 1.35L5.41 20z\"/>\n",
              "  </svg>\n",
              "      </button>\n",
              "      \n",
              "  <style>\n",
              "    .colab-df-container {\n",
              "      display:flex;\n",
              "      flex-wrap:wrap;\n",
              "      gap: 12px;\n",
              "    }\n",
              "\n",
              "    .colab-df-convert {\n",
              "      background-color: #E8F0FE;\n",
              "      border: none;\n",
              "      border-radius: 50%;\n",
              "      cursor: pointer;\n",
              "      display: none;\n",
              "      fill: #1967D2;\n",
              "      height: 32px;\n",
              "      padding: 0 0 0 0;\n",
              "      width: 32px;\n",
              "    }\n",
              "\n",
              "    .colab-df-convert:hover {\n",
              "      background-color: #E2EBFA;\n",
              "      box-shadow: 0px 1px 2px rgba(60, 64, 67, 0.3), 0px 1px 3px 1px rgba(60, 64, 67, 0.15);\n",
              "      fill: #174EA6;\n",
              "    }\n",
              "\n",
              "    [theme=dark] .colab-df-convert {\n",
              "      background-color: #3B4455;\n",
              "      fill: #D2E3FC;\n",
              "    }\n",
              "\n",
              "    [theme=dark] .colab-df-convert:hover {\n",
              "      background-color: #434B5C;\n",
              "      box-shadow: 0px 1px 3px 1px rgba(0, 0, 0, 0.15);\n",
              "      filter: drop-shadow(0px 1px 2px rgba(0, 0, 0, 0.3));\n",
              "      fill: #FFFFFF;\n",
              "    }\n",
              "  </style>\n",
              "\n",
              "      <script>\n",
              "        const buttonEl =\n",
              "          document.querySelector('#df-0b03f6bf-95ab-463f-a399-76a80855e8c1 button.colab-df-convert');\n",
              "        buttonEl.style.display =\n",
              "          google.colab.kernel.accessAllowed ? 'block' : 'none';\n",
              "\n",
              "        async function convertToInteractive(key) {\n",
              "          const element = document.querySelector('#df-0b03f6bf-95ab-463f-a399-76a80855e8c1');\n",
              "          const dataTable =\n",
              "            await google.colab.kernel.invokeFunction('convertToInteractive',\n",
              "                                                     [key], {});\n",
              "          if (!dataTable) return;\n",
              "\n",
              "          const docLinkHtml = 'Like what you see? Visit the ' +\n",
              "            '<a target=\"_blank\" href=https://colab.research.google.com/notebooks/data_table.ipynb>data table notebook</a>'\n",
              "            + ' to learn more about interactive tables.';\n",
              "          element.innerHTML = '';\n",
              "          dataTable['output_type'] = 'display_data';\n",
              "          await google.colab.output.renderOutput(dataTable, element);\n",
              "          const docLink = document.createElement('div');\n",
              "          docLink.innerHTML = docLinkHtml;\n",
              "          element.appendChild(docLink);\n",
              "        }\n",
              "      </script>\n",
              "    </div>\n",
              "  </div>\n",
              "  "
            ]
          },
          "metadata": {},
          "execution_count": 4
        }
      ]
    },
    {
      "cell_type": "code",
      "source": [
        "product_df.shape"
      ],
      "metadata": {
        "id": "lqIbznqFmZJb",
        "outputId": "2866a549-ad9f-4896-e0d2-8e699d36b43f",
        "colab": {
          "base_uri": "https://localhost:8080/"
        }
      },
      "execution_count": 5,
      "outputs": [
        {
          "output_type": "execute_result",
          "data": {
            "text/plain": [
              "(30239, 13)"
            ]
          },
          "metadata": {},
          "execution_count": 5
        }
      ]
    },
    {
      "cell_type": "code",
      "source": [
        "# Replace all NaN with an empty string\n",
        "product_df = product_df.fillna('')\n",
        "product_df.isnull().sum()"
      ],
      "metadata": {
        "id": "uN8kZQImcZE1",
        "outputId": "81276347-93da-4a7c-e582-ad162fd5c934",
        "colab": {
          "base_uri": "https://localhost:8080/"
        }
      },
      "execution_count": 6,
      "outputs": [
        {
          "output_type": "execute_result",
          "data": {
            "text/plain": [
              "category           0\n",
              "description        0\n",
              "title              0\n",
              "brand              0\n",
              "feature            0\n",
              "main_cat           0\n",
              "date               0\n",
              "price              0\n",
              "asin               0\n",
              "imageURLHighRes    0\n",
              "dateYear           0\n",
              "dateMonth          0\n",
              "ori_title          0\n",
              "dtype: int64"
            ]
          },
          "metadata": {},
          "execution_count": 6
        }
      ]
    },
    {
      "cell_type": "code",
      "source": [
        "stop = stopwords.words('english')"
      ],
      "metadata": {
        "id": "hJoIiQqc86Wu"
      },
      "execution_count": 7,
      "outputs": []
    },
    {
      "cell_type": "code",
      "source": [
        "lem = WordNetLemmatizer()\n",
        "def lemma(text):\n",
        "    return ' '.join(lem.lemmatize(w) for w in text.split() if w not in stop)   "
      ],
      "metadata": {
        "id": "I7gR__0BW2px"
      },
      "execution_count": 8,
      "outputs": []
    },
    {
      "cell_type": "code",
      "source": [
        "product_df['description'] = product_df['description'].apply(lemma)"
      ],
      "metadata": {
        "id": "cym1OkB0XAkl"
      },
      "execution_count": 9,
      "outputs": []
    },
    {
      "cell_type": "code",
      "source": [
        "# Define a TF-IDF Vectorizer object and remove all english stopwords\n",
        "tfidf = TfidfVectorizer(stop_words='english', max_df = 0.9, min_df = 5)"
      ],
      "metadata": {
        "id": "mVZ7Xw3GcTjq"
      },
      "execution_count": 10,
      "outputs": []
    },
    {
      "cell_type": "code",
      "source": [
        "# Construct the required TF-IDF matrix \n",
        "tfidf_matrix = tfidf.fit_transform(product_df['description'])"
      ],
      "metadata": {
        "id": "s1HLfKZKcVPu"
      },
      "execution_count": 11,
      "outputs": []
    },
    {
      "cell_type": "code",
      "source": [
        "# Output the shape of tfidf_matrix\n",
        "tfidf_matrix.shape"
      ],
      "metadata": {
        "id": "_1rhvJm-c-Px",
        "outputId": "e6e75ed9-c4c9-4386-e7bb-68d0ec4284f4",
        "colab": {
          "base_uri": "https://localhost:8080/"
        }
      },
      "execution_count": 12,
      "outputs": [
        {
          "output_type": "execute_result",
          "data": {
            "text/plain": [
              "(30239, 9568)"
            ]
          },
          "metadata": {},
          "execution_count": 12
        }
      ]
    },
    {
      "cell_type": "markdown",
      "source": [
        "Both linear_kernel and cosine_similarity methods produce the same result. We would like to apply both methods can see the performance of creating the cosine similarity matrix, and choose the faster one."
      ],
      "metadata": {
        "id": "K7RwGuq9uCFY"
      }
    },
    {
      "cell_type": "code",
      "source": [
        "start = time.time()\n",
        "cosine_sim = linear_kernel(tfidf_matrix, tfidf_matrix)\n",
        "print(\"Time taken: %s seconds\" % (time.time() - start))"
      ],
      "metadata": {
        "id": "cTgIW-1OeE3C",
        "outputId": "bd5f62cd-ac5a-4694-a0c8-93ae88c335f3",
        "colab": {
          "base_uri": "https://localhost:8080/"
        }
      },
      "execution_count": 13,
      "outputs": [
        {
          "output_type": "stream",
          "name": "stdout",
          "text": [
            "Time taken: 13.161040306091309 seconds\n"
          ]
        }
      ]
    },
    {
      "cell_type": "code",
      "source": [
        "# start = time.time()\n",
        "# cosine_sim2 = cosine_similarity(tfidf_matrix, tfidf_matrix)\n",
        "# print(\"Time taken: %s seconds\" % (time.time() - start))"
      ],
      "metadata": {
        "id": "eSwHoC3BeGdl"
      },
      "execution_count": 14,
      "outputs": []
    },
    {
      "cell_type": "markdown",
      "source": [
        "The performance results are very close, and the linear_kernel result will be used"
      ],
      "metadata": {
        "id": "EQHugHhAuhc7"
      }
    },
    {
      "cell_type": "code",
      "source": [
        "# Reverse mapping of indices and product id\n",
        "indices = pd.Series(product_df.index, index=product_df['asin'].str.lower()).drop_duplicates()"
      ],
      "metadata": {
        "id": "mUWwgEmKgxfi"
      },
      "execution_count": 15,
      "outputs": []
    },
    {
      "cell_type": "code",
      "source": [
        "# Function that takes in product id as input and gives recommendations \n",
        "def description_recommender(id, cosine_sim = cosine_sim, df = product_df, indices = indices):\n",
        "  # get the index of the product that matches the id\n",
        "  idx = indices[id.lower()]\n",
        "\n",
        "  # get the pairwsie similarity scores \n",
        "  # then convert it into a list of tuples as described above\n",
        "  sim_scores = list(enumerate(cosine_sim[idx]))\n",
        "\n",
        "  # sort the product based on the cosine similarity scores\n",
        "  sim_scores = sorted(sim_scores, key=lambda x: x[1], reverse=True)\n",
        "\n",
        "  # get the scores of the 10 most similar product. Ignore the first one because it is the input product.\n",
        "  sim_scores = sim_scores[1:11]\n",
        "\n",
        "  # get the product indices\n",
        "  product_indices = [i[0] for i in sim_scores]\n",
        "\n",
        "  # return the top 10 most similar product\n",
        "  return df['asin'].iloc[product_indices].tolist(), df['ori_title'].iloc[product_indices].tolist()"
      ],
      "metadata": {
        "id": "i6vi4fLvhDQl"
      },
      "execution_count": 66,
      "outputs": []
    },
    {
      "cell_type": "code",
      "source": [
        "product_df[product_df['title'].str.contains('refrigerator', case=False)].head(1)"
      ],
      "metadata": {
        "id": "Q88318ZNhyZO",
        "outputId": "e1c2ce1b-9626-4798-9eba-d10cb2851300",
        "colab": {
          "base_uri": "https://localhost:8080/",
          "height": 212
        }
      },
      "execution_count": 61,
      "outputs": [
        {
          "output_type": "execute_result",
          "data": {
            "text/plain": [
              "                                            category  \\\n",
              "131  Appliances Refrigerators, Freezers & Ice Makers   \n",
              "\n",
              "                                           description  \\\n",
              "131  this compact mini cooler and warmer holds 17 l...   \n",
              "\n",
              "                                                 title     brand  \\\n",
              "131  coldmate mr 128 mini cooler warmer deluxe mini...  coldmate   \n",
              "\n",
              "                                               feature    main_cat  \\\n",
              "131  press the cold button to cool to 40 f and hot ...  appliances   \n",
              "\n",
              "           date price        asin  \\\n",
              "131  2001-10-02        B0001YH10C   \n",
              "\n",
              "                                       imageURLHighRes  dateYear  dateMonth  \\\n",
              "131  ['https://images-na.ssl-images-amazon.com/imag...      2001         10   \n",
              "\n",
              "                                             ori_title  \\\n",
              "131  Coldmate MR-128 Mini Cooler/Warmer Deluxe Mini...   \n",
              "\n",
              "                                              all_text  Doc  Topic  \\\n",
              "131  appliances refrigerators freezers ice makers t...  131      1   \n",
              "\n",
              "     Probability  \n",
              "131     0.366799  "
            ],
            "text/html": [
              "\n",
              "  <div id=\"df-e7f4ad5b-9bfa-4235-afec-fe7fd58a5805\">\n",
              "    <div class=\"colab-df-container\">\n",
              "      <div>\n",
              "<style scoped>\n",
              "    .dataframe tbody tr th:only-of-type {\n",
              "        vertical-align: middle;\n",
              "    }\n",
              "\n",
              "    .dataframe tbody tr th {\n",
              "        vertical-align: top;\n",
              "    }\n",
              "\n",
              "    .dataframe thead th {\n",
              "        text-align: right;\n",
              "    }\n",
              "</style>\n",
              "<table border=\"1\" class=\"dataframe\">\n",
              "  <thead>\n",
              "    <tr style=\"text-align: right;\">\n",
              "      <th></th>\n",
              "      <th>category</th>\n",
              "      <th>description</th>\n",
              "      <th>title</th>\n",
              "      <th>brand</th>\n",
              "      <th>feature</th>\n",
              "      <th>main_cat</th>\n",
              "      <th>date</th>\n",
              "      <th>price</th>\n",
              "      <th>asin</th>\n",
              "      <th>imageURLHighRes</th>\n",
              "      <th>dateYear</th>\n",
              "      <th>dateMonth</th>\n",
              "      <th>ori_title</th>\n",
              "      <th>all_text</th>\n",
              "      <th>Doc</th>\n",
              "      <th>Topic</th>\n",
              "      <th>Probability</th>\n",
              "    </tr>\n",
              "  </thead>\n",
              "  <tbody>\n",
              "    <tr>\n",
              "      <th>131</th>\n",
              "      <td>Appliances Refrigerators, Freezers &amp; Ice Makers</td>\n",
              "      <td>this compact mini cooler and warmer holds 17 l...</td>\n",
              "      <td>coldmate mr 128 mini cooler warmer deluxe mini...</td>\n",
              "      <td>coldmate</td>\n",
              "      <td>press the cold button to cool to 40 f and hot ...</td>\n",
              "      <td>appliances</td>\n",
              "      <td>2001-10-02</td>\n",
              "      <td></td>\n",
              "      <td>B0001YH10C</td>\n",
              "      <td>['https://images-na.ssl-images-amazon.com/imag...</td>\n",
              "      <td>2001</td>\n",
              "      <td>10</td>\n",
              "      <td>Coldmate MR-128 Mini Cooler/Warmer Deluxe Mini...</td>\n",
              "      <td>appliances refrigerators freezers ice makers t...</td>\n",
              "      <td>131</td>\n",
              "      <td>1</td>\n",
              "      <td>0.366799</td>\n",
              "    </tr>\n",
              "  </tbody>\n",
              "</table>\n",
              "</div>\n",
              "      <button class=\"colab-df-convert\" onclick=\"convertToInteractive('df-e7f4ad5b-9bfa-4235-afec-fe7fd58a5805')\"\n",
              "              title=\"Convert this dataframe to an interactive table.\"\n",
              "              style=\"display:none;\">\n",
              "        \n",
              "  <svg xmlns=\"http://www.w3.org/2000/svg\" height=\"24px\"viewBox=\"0 0 24 24\"\n",
              "       width=\"24px\">\n",
              "    <path d=\"M0 0h24v24H0V0z\" fill=\"none\"/>\n",
              "    <path d=\"M18.56 5.44l.94 2.06.94-2.06 2.06-.94-2.06-.94-.94-2.06-.94 2.06-2.06.94zm-11 1L8.5 8.5l.94-2.06 2.06-.94-2.06-.94L8.5 2.5l-.94 2.06-2.06.94zm10 10l.94 2.06.94-2.06 2.06-.94-2.06-.94-.94-2.06-.94 2.06-2.06.94z\"/><path d=\"M17.41 7.96l-1.37-1.37c-.4-.4-.92-.59-1.43-.59-.52 0-1.04.2-1.43.59L10.3 9.45l-7.72 7.72c-.78.78-.78 2.05 0 2.83L4 21.41c.39.39.9.59 1.41.59.51 0 1.02-.2 1.41-.59l7.78-7.78 2.81-2.81c.8-.78.8-2.07 0-2.86zM5.41 20L4 18.59l7.72-7.72 1.47 1.35L5.41 20z\"/>\n",
              "  </svg>\n",
              "      </button>\n",
              "      \n",
              "  <style>\n",
              "    .colab-df-container {\n",
              "      display:flex;\n",
              "      flex-wrap:wrap;\n",
              "      gap: 12px;\n",
              "    }\n",
              "\n",
              "    .colab-df-convert {\n",
              "      background-color: #E8F0FE;\n",
              "      border: none;\n",
              "      border-radius: 50%;\n",
              "      cursor: pointer;\n",
              "      display: none;\n",
              "      fill: #1967D2;\n",
              "      height: 32px;\n",
              "      padding: 0 0 0 0;\n",
              "      width: 32px;\n",
              "    }\n",
              "\n",
              "    .colab-df-convert:hover {\n",
              "      background-color: #E2EBFA;\n",
              "      box-shadow: 0px 1px 2px rgba(60, 64, 67, 0.3), 0px 1px 3px 1px rgba(60, 64, 67, 0.15);\n",
              "      fill: #174EA6;\n",
              "    }\n",
              "\n",
              "    [theme=dark] .colab-df-convert {\n",
              "      background-color: #3B4455;\n",
              "      fill: #D2E3FC;\n",
              "    }\n",
              "\n",
              "    [theme=dark] .colab-df-convert:hover {\n",
              "      background-color: #434B5C;\n",
              "      box-shadow: 0px 1px 3px 1px rgba(0, 0, 0, 0.15);\n",
              "      filter: drop-shadow(0px 1px 2px rgba(0, 0, 0, 0.3));\n",
              "      fill: #FFFFFF;\n",
              "    }\n",
              "  </style>\n",
              "\n",
              "      <script>\n",
              "        const buttonEl =\n",
              "          document.querySelector('#df-e7f4ad5b-9bfa-4235-afec-fe7fd58a5805 button.colab-df-convert');\n",
              "        buttonEl.style.display =\n",
              "          google.colab.kernel.accessAllowed ? 'block' : 'none';\n",
              "\n",
              "        async function convertToInteractive(key) {\n",
              "          const element = document.querySelector('#df-e7f4ad5b-9bfa-4235-afec-fe7fd58a5805');\n",
              "          const dataTable =\n",
              "            await google.colab.kernel.invokeFunction('convertToInteractive',\n",
              "                                                     [key], {});\n",
              "          if (!dataTable) return;\n",
              "\n",
              "          const docLinkHtml = 'Like what you see? Visit the ' +\n",
              "            '<a target=\"_blank\" href=https://colab.research.google.com/notebooks/data_table.ipynb>data table notebook</a>'\n",
              "            + ' to learn more about interactive tables.';\n",
              "          element.innerHTML = '';\n",
              "          dataTable['output_type'] = 'display_data';\n",
              "          await google.colab.output.renderOutput(dataTable, element);\n",
              "          const docLink = document.createElement('div');\n",
              "          docLink.innerHTML = docLinkHtml;\n",
              "          element.appendChild(docLink);\n",
              "        }\n",
              "      </script>\n",
              "    </div>\n",
              "  </div>\n",
              "  "
            ]
          },
          "metadata": {},
          "execution_count": 61
        }
      ]
    },
    {
      "cell_type": "code",
      "source": [
        "# get input id and title for the recommendation\n",
        "input_id = product_df[product_df['title'].str.contains('refrigerator', case=False)].iloc[0]['asin']\n",
        "input_title = product_df[product_df['title'].str.contains('refrigerator', case=False)].iloc[0]['title']"
      ],
      "metadata": {
        "id": "hoYG3qhjpxDC"
      },
      "execution_count": 62,
      "outputs": []
    },
    {
      "cell_type": "code",
      "source": [
        "#Get recommendations for Coldmate MR-128 Mini Cooler/Warmer Deluxe Mini Refrigerator, input the product id \n",
        "asin, title = description_recommender(input_id)"
      ],
      "metadata": {
        "id": "ve_-2M0jhutw"
      },
      "execution_count": 67,
      "outputs": []
    },
    {
      "cell_type": "code",
      "source": [
        "print('Description Based Recommender Result for {}, {}: '.format(input_id, input_title))\n",
        "for i in range(0, 10):\n",
        "  print('{}. {}, {}'.format(i+1, asin[i], title[i]))"
      ],
      "metadata": {
        "id": "vTLC12LFob-w",
        "outputId": "51a27117-f44f-4a70-a3bf-06f56adef0b0",
        "colab": {
          "base_uri": "https://localhost:8080/"
        }
      },
      "execution_count": 68,
      "outputs": [
        {
          "output_type": "stream",
          "name": "stdout",
          "text": [
            "Description Based Recommender Result for B0001YH10C, coldmate mr 128 mini cooler warmer deluxe mini refrigerator: \n",
            "1. B00ID8CLMG, Avanti FF45006W 4.3 CF Frost Free Refrigerator Freezer, White\n",
            "2. B00RNAH5OY, goFridge Mini Fridge Portable Electric Cooler\n",
            "3. B001H80RN4, Frigidaire 241505301 Refrigerator Door Bin Genuine Original Equipment Manufacturer (OEM) Part\n",
            "4. B004NEYPYQ, Frost-Free 4.3 Cu. Ft. Refrigerator/Freezer White\n",
            "5. B000JLL3BK, Pek Vino Vault Wine Preserving Refrigerator, Silver\n",
            "6. B01F79MKME, Amana AMA43BK Compact Single Door Refrigerator, 4.3 cu. ft, Black\n",
            "7. B00OVI6HHW, Avanti AR4456SS Counterhigh Refrigerator, 4.5 cu. ft, Black/Stainless Steel\n",
            "8. B001TIYPI0, Whirlpool Part Number 2179374: Wine Rack\n",
            "9. B001F7H4RY, PORTABLE COOLER WARMER MINI FRIDGE WINE BEER\n",
            "10. B001775T4C, Nostalgia Electrics CRF170RETRORED Retro Series Mini Fridge, 1.7 Cubic Feet\n"
          ]
        }
      ]
    },
    {
      "cell_type": "markdown",
      "source": [
        "<h3>Was trying to save the calculated cosine similarity matrix for web api use, but the matrix size is too large for local RAM or web hosting service storage and RAM. Try using another model for Web API deployment for content-based filtering. </h3>"
      ],
      "metadata": {
        "id": "kXPprlw-n4gx"
      }
    },
    {
      "cell_type": "code",
      "source": [
        "# np.save('cosine_sim', cosine_sim)"
      ],
      "metadata": {
        "id": "pn2Li6e2OQOY"
      },
      "execution_count": 21,
      "outputs": []
    },
    {
      "cell_type": "code",
      "source": [
        "# original_cs = np.load(\"cosine_sim.npy\")\n",
        "# original_cs"
      ],
      "metadata": {
        "id": "e6TlEqV9PDXK"
      },
      "execution_count": 22,
      "outputs": []
    },
    {
      "cell_type": "code",
      "source": [
        "# get input id and title for the recommendation\n",
        "# input_id = product_df[product_df['title'].str.contains('refrigerator', case=False)].iloc[1]['asin']\n",
        "# input_title = product_df[product_df['title'].str.contains('refrigerator', case=False)].iloc[1]['title']"
      ],
      "metadata": {
        "id": "_1qh4GUZRCPE"
      },
      "execution_count": 23,
      "outputs": []
    },
    {
      "cell_type": "code",
      "source": [
        "#Get recommendations\n",
        "# asin, title = description_recommender(input_id, cosine_sim=original_cs)"
      ],
      "metadata": {
        "id": "VihsEg-ZREkS"
      },
      "execution_count": 24,
      "outputs": []
    },
    {
      "cell_type": "code",
      "source": [
        "# print('Description Based Recommender Result for {}, {}: '.format(input_id, input_title))\n",
        "# for i in range(0, 10):\n",
        "#   print('{}. {}, {}'.format(i+1, asin[i], title[i]))"
      ],
      "metadata": {
        "id": "gbJ35xtpQt4z"
      },
      "execution_count": 25,
      "outputs": []
    },
    {
      "cell_type": "markdown",
      "source": [
        "### Metadata Based Recommender (Cosine Similarity)"
      ],
      "metadata": {
        "id": "YfIQKHicnnIo"
      }
    },
    {
      "cell_type": "code",
      "source": [
        "product_df = pd.read_csv('/content/cleaned_amazon_product.zip?raw=true', compression='zip')\n",
        "product_df = product_df.fillna('')"
      ],
      "metadata": {
        "id": "Xz23qOx1aimV"
      },
      "execution_count": 26,
      "outputs": []
    },
    {
      "cell_type": "code",
      "source": [
        "product_df.info()"
      ],
      "metadata": {
        "id": "hOK69ojkamwj",
        "outputId": "3fdc6a86-27d4-422b-ea9c-3368528beb1f",
        "colab": {
          "base_uri": "https://localhost:8080/"
        }
      },
      "execution_count": 27,
      "outputs": [
        {
          "output_type": "stream",
          "name": "stdout",
          "text": [
            "<class 'pandas.core.frame.DataFrame'>\n",
            "RangeIndex: 30239 entries, 0 to 30238\n",
            "Data columns (total 13 columns):\n",
            " #   Column           Non-Null Count  Dtype \n",
            "---  ------           --------------  ----- \n",
            " 0   category         30239 non-null  object\n",
            " 1   description      30239 non-null  object\n",
            " 2   title            30239 non-null  object\n",
            " 3   brand            30239 non-null  object\n",
            " 4   feature          30239 non-null  object\n",
            " 5   main_cat         30239 non-null  object\n",
            " 6   date             30239 non-null  object\n",
            " 7   price            30239 non-null  object\n",
            " 8   asin             30239 non-null  object\n",
            " 9   imageURLHighRes  30239 non-null  object\n",
            " 10  dateYear         30239 non-null  int64 \n",
            " 11  dateMonth        30239 non-null  int64 \n",
            " 12  ori_title        30239 non-null  object\n",
            "dtypes: int64(2), object(11)\n",
            "memory usage: 3.0+ MB\n"
          ]
        }
      ]
    },
    {
      "cell_type": "code",
      "source": [
        "# Use meta data except description and features\n",
        "product_df['meta_text'] = product_df['category'] + ' ' +  product_df['title'] + ' ' +  product_df['brand'] + ' ' + product_df['main_cat'] + ' ' + product_df['price'].astype(str) + ' ' + product_df['dateYear'].astype(str) + ' ' + product_df['dateMonth'].astype(str) \n",
        "product_df['meta_text'] = product_df['meta_text'].apply(lemma)"
      ],
      "metadata": {
        "id": "vOw-1YRzncWP"
      },
      "execution_count": 28,
      "outputs": []
    },
    {
      "cell_type": "code",
      "source": [
        "# Define a TF-IDF Vectorizer object and remove all english stopwords\n",
        "tfidf2 = TfidfVectorizer(stop_words='english', max_df = 0.9, min_df = 5)"
      ],
      "metadata": {
        "id": "7TTolxYHoss8"
      },
      "execution_count": 29,
      "outputs": []
    },
    {
      "cell_type": "code",
      "source": [
        "tfidf_matrix2 = tfidf2.fit_transform(product_df['meta_text'])"
      ],
      "metadata": {
        "id": "z1yuRxOwcdmX"
      },
      "execution_count": 30,
      "outputs": []
    },
    {
      "cell_type": "code",
      "source": [
        "tfidf_matrix2.shape"
      ],
      "metadata": {
        "id": "t-LGdfsocjFb",
        "outputId": "79f50d30-fe1c-470c-fa96-866cc4a7a05b",
        "colab": {
          "base_uri": "https://localhost:8080/"
        }
      },
      "execution_count": 31,
      "outputs": [
        {
          "output_type": "execute_result",
          "data": {
            "text/plain": [
              "(30239, 3381)"
            ]
          },
          "metadata": {},
          "execution_count": 31
        }
      ]
    },
    {
      "cell_type": "code",
      "source": [
        "cosine_sim2 = linear_kernel(tfidf_matrix2, tfidf_matrix2)"
      ],
      "metadata": {
        "id": "8JirBTDjcnaz"
      },
      "execution_count": 32,
      "outputs": []
    },
    {
      "cell_type": "code",
      "source": [
        "indices = pd.Series(product_df.index, index=product_df['asin'].str.lower()).drop_duplicates()"
      ],
      "metadata": {
        "id": "4H092bO7cuVa"
      },
      "execution_count": 33,
      "outputs": []
    },
    {
      "cell_type": "code",
      "source": [
        "# Function that takes in product id as input and gives recommendations \n",
        "def description_recommender(id, cosine_sim = cosine_sim2, df = product_df, indices = indices):\n",
        "  # get the index of the product that matches the id\n",
        "  idx = indices[id.lower()]\n",
        "\n",
        "  # get the pairwsie similarity scores \n",
        "  # then convert it into a list of tuples as described above\n",
        "  sim_scores = list(enumerate(cosine_sim[idx]))\n",
        "\n",
        "  # sort the product based on the cosine similarity scores\n",
        "  sim_scores = sorted(sim_scores, key=lambda x: x[1], reverse=True)\n",
        "\n",
        "  # get the scores of the 10 most similar product. Ignore the first one because it is the input product.\n",
        "  sim_scores = sim_scores[1:11]\n",
        "\n",
        "  # get the product indices\n",
        "  product_indices = [i[0] for i in sim_scores]\n",
        "\n",
        "  # return the top 10 most similar product\n",
        "  return df['asin'].iloc[product_indices].tolist(), df['ori_title'].iloc[product_indices].tolist()"
      ],
      "metadata": {
        "id": "8aNKLpfAcyAH"
      },
      "execution_count": 34,
      "outputs": []
    },
    {
      "cell_type": "code",
      "source": [
        "product_df[product_df['title'].str.contains('refrigerator', case=False)].head(1)"
      ],
      "metadata": {
        "id": "AxmlCJfDc0zW",
        "outputId": "cd203ac3-02b9-4fca-ddd7-1a1e4cce0cb5",
        "colab": {
          "base_uri": "https://localhost:8080/",
          "height": 177
        }
      },
      "execution_count": 35,
      "outputs": [
        {
          "output_type": "execute_result",
          "data": {
            "text/plain": [
              "                                            category  \\\n",
              "131  Appliances Refrigerators, Freezers & Ice Makers   \n",
              "\n",
              "                                           description  \\\n",
              "131  this compact mini cooler and warmer holds 17 l...   \n",
              "\n",
              "                                                 title     brand  \\\n",
              "131  coldmate mr 128 mini cooler warmer deluxe mini...  coldmate   \n",
              "\n",
              "                                               feature    main_cat  \\\n",
              "131  press the cold button to cool to 40 f and hot ...  appliances   \n",
              "\n",
              "           date price        asin  \\\n",
              "131  2001-10-02        B0001YH10C   \n",
              "\n",
              "                                       imageURLHighRes  dateYear  dateMonth  \\\n",
              "131  ['https://images-na.ssl-images-amazon.com/imag...      2001         10   \n",
              "\n",
              "                                             ori_title  \\\n",
              "131  Coldmate MR-128 Mini Cooler/Warmer Deluxe Mini...   \n",
              "\n",
              "                                             meta_text  \n",
              "131  Appliances Refrigerators, Freezers & Ice Maker...  "
            ],
            "text/html": [
              "\n",
              "  <div id=\"df-4d5857de-a1c8-4572-860f-b5e45b57e267\">\n",
              "    <div class=\"colab-df-container\">\n",
              "      <div>\n",
              "<style scoped>\n",
              "    .dataframe tbody tr th:only-of-type {\n",
              "        vertical-align: middle;\n",
              "    }\n",
              "\n",
              "    .dataframe tbody tr th {\n",
              "        vertical-align: top;\n",
              "    }\n",
              "\n",
              "    .dataframe thead th {\n",
              "        text-align: right;\n",
              "    }\n",
              "</style>\n",
              "<table border=\"1\" class=\"dataframe\">\n",
              "  <thead>\n",
              "    <tr style=\"text-align: right;\">\n",
              "      <th></th>\n",
              "      <th>category</th>\n",
              "      <th>description</th>\n",
              "      <th>title</th>\n",
              "      <th>brand</th>\n",
              "      <th>feature</th>\n",
              "      <th>main_cat</th>\n",
              "      <th>date</th>\n",
              "      <th>price</th>\n",
              "      <th>asin</th>\n",
              "      <th>imageURLHighRes</th>\n",
              "      <th>dateYear</th>\n",
              "      <th>dateMonth</th>\n",
              "      <th>ori_title</th>\n",
              "      <th>meta_text</th>\n",
              "    </tr>\n",
              "  </thead>\n",
              "  <tbody>\n",
              "    <tr>\n",
              "      <th>131</th>\n",
              "      <td>Appliances Refrigerators, Freezers &amp; Ice Makers</td>\n",
              "      <td>this compact mini cooler and warmer holds 17 l...</td>\n",
              "      <td>coldmate mr 128 mini cooler warmer deluxe mini...</td>\n",
              "      <td>coldmate</td>\n",
              "      <td>press the cold button to cool to 40 f and hot ...</td>\n",
              "      <td>appliances</td>\n",
              "      <td>2001-10-02</td>\n",
              "      <td></td>\n",
              "      <td>B0001YH10C</td>\n",
              "      <td>['https://images-na.ssl-images-amazon.com/imag...</td>\n",
              "      <td>2001</td>\n",
              "      <td>10</td>\n",
              "      <td>Coldmate MR-128 Mini Cooler/Warmer Deluxe Mini...</td>\n",
              "      <td>Appliances Refrigerators, Freezers &amp; Ice Maker...</td>\n",
              "    </tr>\n",
              "  </tbody>\n",
              "</table>\n",
              "</div>\n",
              "      <button class=\"colab-df-convert\" onclick=\"convertToInteractive('df-4d5857de-a1c8-4572-860f-b5e45b57e267')\"\n",
              "              title=\"Convert this dataframe to an interactive table.\"\n",
              "              style=\"display:none;\">\n",
              "        \n",
              "  <svg xmlns=\"http://www.w3.org/2000/svg\" height=\"24px\"viewBox=\"0 0 24 24\"\n",
              "       width=\"24px\">\n",
              "    <path d=\"M0 0h24v24H0V0z\" fill=\"none\"/>\n",
              "    <path d=\"M18.56 5.44l.94 2.06.94-2.06 2.06-.94-2.06-.94-.94-2.06-.94 2.06-2.06.94zm-11 1L8.5 8.5l.94-2.06 2.06-.94-2.06-.94L8.5 2.5l-.94 2.06-2.06.94zm10 10l.94 2.06.94-2.06 2.06-.94-2.06-.94-.94-2.06-.94 2.06-2.06.94z\"/><path d=\"M17.41 7.96l-1.37-1.37c-.4-.4-.92-.59-1.43-.59-.52 0-1.04.2-1.43.59L10.3 9.45l-7.72 7.72c-.78.78-.78 2.05 0 2.83L4 21.41c.39.39.9.59 1.41.59.51 0 1.02-.2 1.41-.59l7.78-7.78 2.81-2.81c.8-.78.8-2.07 0-2.86zM5.41 20L4 18.59l7.72-7.72 1.47 1.35L5.41 20z\"/>\n",
              "  </svg>\n",
              "      </button>\n",
              "      \n",
              "  <style>\n",
              "    .colab-df-container {\n",
              "      display:flex;\n",
              "      flex-wrap:wrap;\n",
              "      gap: 12px;\n",
              "    }\n",
              "\n",
              "    .colab-df-convert {\n",
              "      background-color: #E8F0FE;\n",
              "      border: none;\n",
              "      border-radius: 50%;\n",
              "      cursor: pointer;\n",
              "      display: none;\n",
              "      fill: #1967D2;\n",
              "      height: 32px;\n",
              "      padding: 0 0 0 0;\n",
              "      width: 32px;\n",
              "    }\n",
              "\n",
              "    .colab-df-convert:hover {\n",
              "      background-color: #E2EBFA;\n",
              "      box-shadow: 0px 1px 2px rgba(60, 64, 67, 0.3), 0px 1px 3px 1px rgba(60, 64, 67, 0.15);\n",
              "      fill: #174EA6;\n",
              "    }\n",
              "\n",
              "    [theme=dark] .colab-df-convert {\n",
              "      background-color: #3B4455;\n",
              "      fill: #D2E3FC;\n",
              "    }\n",
              "\n",
              "    [theme=dark] .colab-df-convert:hover {\n",
              "      background-color: #434B5C;\n",
              "      box-shadow: 0px 1px 3px 1px rgba(0, 0, 0, 0.15);\n",
              "      filter: drop-shadow(0px 1px 2px rgba(0, 0, 0, 0.3));\n",
              "      fill: #FFFFFF;\n",
              "    }\n",
              "  </style>\n",
              "\n",
              "      <script>\n",
              "        const buttonEl =\n",
              "          document.querySelector('#df-4d5857de-a1c8-4572-860f-b5e45b57e267 button.colab-df-convert');\n",
              "        buttonEl.style.display =\n",
              "          google.colab.kernel.accessAllowed ? 'block' : 'none';\n",
              "\n",
              "        async function convertToInteractive(key) {\n",
              "          const element = document.querySelector('#df-4d5857de-a1c8-4572-860f-b5e45b57e267');\n",
              "          const dataTable =\n",
              "            await google.colab.kernel.invokeFunction('convertToInteractive',\n",
              "                                                     [key], {});\n",
              "          if (!dataTable) return;\n",
              "\n",
              "          const docLinkHtml = 'Like what you see? Visit the ' +\n",
              "            '<a target=\"_blank\" href=https://colab.research.google.com/notebooks/data_table.ipynb>data table notebook</a>'\n",
              "            + ' to learn more about interactive tables.';\n",
              "          element.innerHTML = '';\n",
              "          dataTable['output_type'] = 'display_data';\n",
              "          await google.colab.output.renderOutput(dataTable, element);\n",
              "          const docLink = document.createElement('div');\n",
              "          docLink.innerHTML = docLinkHtml;\n",
              "          element.appendChild(docLink);\n",
              "        }\n",
              "      </script>\n",
              "    </div>\n",
              "  </div>\n",
              "  "
            ]
          },
          "metadata": {},
          "execution_count": 35
        }
      ]
    },
    {
      "cell_type": "code",
      "source": [
        "# get input id and title for the recommendation\n",
        "input_id = product_df[product_df['title'].str.contains('refrigerator', case=False)].iloc[0]['asin']\n",
        "input_title = product_df[product_df['title'].str.contains('refrigerator', case=False)].iloc[0]['title']"
      ],
      "metadata": {
        "id": "8ik0cIoVc4GO"
      },
      "execution_count": 36,
      "outputs": []
    },
    {
      "cell_type": "code",
      "source": [
        "#Get recommendations\n",
        "asin2, title2 = description_recommender(input_id, cosine_sim=cosine_sim2)"
      ],
      "metadata": {
        "id": "_jykFIK1c5nH"
      },
      "execution_count": 37,
      "outputs": []
    },
    {
      "cell_type": "code",
      "source": [
        "print('Description Based Recommender Result for {}, {}: '.format(input_id, input_title))\n",
        "for i in range(0, 10):\n",
        "  print('{}. {}, {}'.format(i+1, asin2[i], title2[i]))"
      ],
      "metadata": {
        "id": "HN5a20Eqc7fg",
        "outputId": "8c505454-4d8a-4868-b8c5-d3887fc33017",
        "colab": {
          "base_uri": "https://localhost:8080/"
        }
      },
      "execution_count": 38,
      "outputs": [
        {
          "output_type": "stream",
          "name": "stdout",
          "text": [
            "Description Based Recommender Result for B0001YH10C, coldmate mr 128 mini cooler warmer deluxe mini refrigerator: \n",
            "1. B001F7H4RY, PORTABLE COOLER WARMER MINI FRIDGE WINE BEER\n",
            "2. B00YNNEC8Q, Mini Wine Cooler\n",
            "3. B00ND5CWAA, Phoenix USB 5v Portable One Zip-top Can Cooler-mini Car Compact Refrigerator and Warmer\n",
            "4. B00YNMUYV6, Mini Wine Cooler Refrigerator with Lock\n",
            "5. B00RNAH5OY, goFridge Mini Fridge Portable Electric Cooler\n",
            "6. B016K4J3U2, Honeykoko Mini USB PC Refrigerator Fridge Beverage Drink Can Cooler Warmer Heater Gadget One Can in Home Office\n",
            "7. B016KQ7X8E, ThreeH New Mini Red USB Fridge Cooler Beverage Drink Cans Cooler/Warmer Refrigerator for Laptop PC Computer Red H-UF05Red\n",
            "8. B0187KYRQC, Coca-Cola Mini Can Cooler\n",
            "9. B00KE7FM3O, Mini USB Desktop Fridge Cooler Refrigerator\n",
            "10. B005JAVC94, Mini Desktop Fridge Cooler Personal Fridge(Black)\n"
          ]
        }
      ]
    },
    {
      "cell_type": "markdown",
      "source": [
        "### Topic Modeling Recommender (LDA)"
      ],
      "metadata": {
        "id": "TeS0svs67EVB"
      }
    },
    {
      "cell_type": "code",
      "source": [
        "product_df = pd.read_csv('/content/cleaned_amazon_product.zip?raw=true', compression='zip')\n",
        "product_df = product_df.fillna('')"
      ],
      "metadata": {
        "id": "Im4bKwiF7C_t"
      },
      "execution_count": 39,
      "outputs": []
    },
    {
      "cell_type": "code",
      "source": [
        "product_df.head()"
      ],
      "metadata": {
        "colab": {
          "base_uri": "https://localhost:8080/",
          "height": 458
        },
        "id": "gPrWDsz58Ffc",
        "outputId": "c4c064ef-3625-4603-ea66-53cfc4c5f3cf"
      },
      "execution_count": 40,
      "outputs": [
        {
          "output_type": "execute_result",
          "data": {
            "text/plain": [
              "                                            category  \\\n",
              "0    Appliances Refrigerators, Freezers & Ice Makers   \n",
              "1    Appliances Refrigerators, Freezers & Ice Makers   \n",
              "2                     Appliances Parts & Accessories   \n",
              "3                     Appliances Parts & Accessories   \n",
              "4  Appliances Parts & Accessories Range Parts & A...   \n",
              "\n",
              "                                         description  \\\n",
              "0                                                      \n",
              "1  2 x tupperware pure fresh unique covered cool ...   \n",
              "2                                                      \n",
              "3  multi purpost descaler especially suited to wa...   \n",
              "4  full gauge and size beveled edge furnished wit...   \n",
              "\n",
              "                                               title           brand  \\\n",
              "0  tupperware freezer square round container set ...      tupperware   \n",
              "1  2 x tupperware pure amp fresh unique covered c...      tupperware   \n",
              "2                      the cigar moments of pleasure  the cigar book   \n",
              "3               caraselle 2x 50g appliance descalene       caraselle   \n",
              "4  eaton wiring 39ch sp l arrow hart 1 gang chrom...    eaton wiring   \n",
              "\n",
              "                                             feature                main_cat  \\\n",
              "0  each 3 pc set includes two 7 8 cup 200 ml and ...              appliances   \n",
              "1  2 x tupperware pure fresh unique covered cool ...              appliances   \n",
              "2                                                                amazon home   \n",
              "3                                                     tools home improvement   \n",
              "4  returns will not be honored on this closeout i...  tools home improvement   \n",
              "\n",
              "         date   price        asin  \\\n",
              "0  2008-11-19          7301113188   \n",
              "1  2016-06-05    3.62  7861850250   \n",
              "2              150.26  8792559360   \n",
              "3  2014-12-17          9792954481   \n",
              "4  2007-01-16    3.43  B00002N5EL   \n",
              "\n",
              "                                     imageURLHighRes  dateYear  dateMonth  \\\n",
              "0                                                 []      2008         11   \n",
              "1  ['https://images-na.ssl-images-amazon.com/imag...      2016          6   \n",
              "2  ['https://images-na.ssl-images-amazon.com/imag...         0          0   \n",
              "3  ['https://images-na.ssl-images-amazon.com/imag...      2014         12   \n",
              "4                                                 []      2007          1   \n",
              "\n",
              "                                           ori_title  \n",
              "0  Tupperware Freezer Square Round Container Set ...  \n",
              "1  2 X Tupperware Pure &amp; Fresh Unique Covered...  \n",
              "2                    The Cigar - Moments of Pleasure  \n",
              "3               Caraselle 2X 50G Appliance Descalene  \n",
              "4  EATON Wiring 39CH-SP-L Arrow Hart 1-Gang Chrom...  "
            ],
            "text/html": [
              "\n",
              "  <div id=\"df-74259d33-4bfc-42b1-a391-eb0e9a2b5903\">\n",
              "    <div class=\"colab-df-container\">\n",
              "      <div>\n",
              "<style scoped>\n",
              "    .dataframe tbody tr th:only-of-type {\n",
              "        vertical-align: middle;\n",
              "    }\n",
              "\n",
              "    .dataframe tbody tr th {\n",
              "        vertical-align: top;\n",
              "    }\n",
              "\n",
              "    .dataframe thead th {\n",
              "        text-align: right;\n",
              "    }\n",
              "</style>\n",
              "<table border=\"1\" class=\"dataframe\">\n",
              "  <thead>\n",
              "    <tr style=\"text-align: right;\">\n",
              "      <th></th>\n",
              "      <th>category</th>\n",
              "      <th>description</th>\n",
              "      <th>title</th>\n",
              "      <th>brand</th>\n",
              "      <th>feature</th>\n",
              "      <th>main_cat</th>\n",
              "      <th>date</th>\n",
              "      <th>price</th>\n",
              "      <th>asin</th>\n",
              "      <th>imageURLHighRes</th>\n",
              "      <th>dateYear</th>\n",
              "      <th>dateMonth</th>\n",
              "      <th>ori_title</th>\n",
              "    </tr>\n",
              "  </thead>\n",
              "  <tbody>\n",
              "    <tr>\n",
              "      <th>0</th>\n",
              "      <td>Appliances Refrigerators, Freezers &amp; Ice Makers</td>\n",
              "      <td></td>\n",
              "      <td>tupperware freezer square round container set ...</td>\n",
              "      <td>tupperware</td>\n",
              "      <td>each 3 pc set includes two 7 8 cup 200 ml and ...</td>\n",
              "      <td>appliances</td>\n",
              "      <td>2008-11-19</td>\n",
              "      <td></td>\n",
              "      <td>7301113188</td>\n",
              "      <td>[]</td>\n",
              "      <td>2008</td>\n",
              "      <td>11</td>\n",
              "      <td>Tupperware Freezer Square Round Container Set ...</td>\n",
              "    </tr>\n",
              "    <tr>\n",
              "      <th>1</th>\n",
              "      <td>Appliances Refrigerators, Freezers &amp; Ice Makers</td>\n",
              "      <td>2 x tupperware pure fresh unique covered cool ...</td>\n",
              "      <td>2 x tupperware pure amp fresh unique covered c...</td>\n",
              "      <td>tupperware</td>\n",
              "      <td>2 x tupperware pure fresh unique covered cool ...</td>\n",
              "      <td>appliances</td>\n",
              "      <td>2016-06-05</td>\n",
              "      <td>3.62</td>\n",
              "      <td>7861850250</td>\n",
              "      <td>['https://images-na.ssl-images-amazon.com/imag...</td>\n",
              "      <td>2016</td>\n",
              "      <td>6</td>\n",
              "      <td>2 X Tupperware Pure &amp;amp; Fresh Unique Covered...</td>\n",
              "    </tr>\n",
              "    <tr>\n",
              "      <th>2</th>\n",
              "      <td>Appliances Parts &amp; Accessories</td>\n",
              "      <td></td>\n",
              "      <td>the cigar moments of pleasure</td>\n",
              "      <td>the cigar book</td>\n",
              "      <td></td>\n",
              "      <td>amazon home</td>\n",
              "      <td></td>\n",
              "      <td>150.26</td>\n",
              "      <td>8792559360</td>\n",
              "      <td>['https://images-na.ssl-images-amazon.com/imag...</td>\n",
              "      <td>0</td>\n",
              "      <td>0</td>\n",
              "      <td>The Cigar - Moments of Pleasure</td>\n",
              "    </tr>\n",
              "    <tr>\n",
              "      <th>3</th>\n",
              "      <td>Appliances Parts &amp; Accessories</td>\n",
              "      <td>multi purpost descaler especially suited to wa...</td>\n",
              "      <td>caraselle 2x 50g appliance descalene</td>\n",
              "      <td>caraselle</td>\n",
              "      <td></td>\n",
              "      <td>tools home improvement</td>\n",
              "      <td>2014-12-17</td>\n",
              "      <td></td>\n",
              "      <td>9792954481</td>\n",
              "      <td>['https://images-na.ssl-images-amazon.com/imag...</td>\n",
              "      <td>2014</td>\n",
              "      <td>12</td>\n",
              "      <td>Caraselle 2X 50G Appliance Descalene</td>\n",
              "    </tr>\n",
              "    <tr>\n",
              "      <th>4</th>\n",
              "      <td>Appliances Parts &amp; Accessories Range Parts &amp; A...</td>\n",
              "      <td>full gauge and size beveled edge furnished wit...</td>\n",
              "      <td>eaton wiring 39ch sp l arrow hart 1 gang chrom...</td>\n",
              "      <td>eaton wiring</td>\n",
              "      <td>returns will not be honored on this closeout i...</td>\n",
              "      <td>tools home improvement</td>\n",
              "      <td>2007-01-16</td>\n",
              "      <td>3.43</td>\n",
              "      <td>B00002N5EL</td>\n",
              "      <td>[]</td>\n",
              "      <td>2007</td>\n",
              "      <td>1</td>\n",
              "      <td>EATON Wiring 39CH-SP-L Arrow Hart 1-Gang Chrom...</td>\n",
              "    </tr>\n",
              "  </tbody>\n",
              "</table>\n",
              "</div>\n",
              "      <button class=\"colab-df-convert\" onclick=\"convertToInteractive('df-74259d33-4bfc-42b1-a391-eb0e9a2b5903')\"\n",
              "              title=\"Convert this dataframe to an interactive table.\"\n",
              "              style=\"display:none;\">\n",
              "        \n",
              "  <svg xmlns=\"http://www.w3.org/2000/svg\" height=\"24px\"viewBox=\"0 0 24 24\"\n",
              "       width=\"24px\">\n",
              "    <path d=\"M0 0h24v24H0V0z\" fill=\"none\"/>\n",
              "    <path d=\"M18.56 5.44l.94 2.06.94-2.06 2.06-.94-2.06-.94-.94-2.06-.94 2.06-2.06.94zm-11 1L8.5 8.5l.94-2.06 2.06-.94-2.06-.94L8.5 2.5l-.94 2.06-2.06.94zm10 10l.94 2.06.94-2.06 2.06-.94-2.06-.94-.94-2.06-.94 2.06-2.06.94z\"/><path d=\"M17.41 7.96l-1.37-1.37c-.4-.4-.92-.59-1.43-.59-.52 0-1.04.2-1.43.59L10.3 9.45l-7.72 7.72c-.78.78-.78 2.05 0 2.83L4 21.41c.39.39.9.59 1.41.59.51 0 1.02-.2 1.41-.59l7.78-7.78 2.81-2.81c.8-.78.8-2.07 0-2.86zM5.41 20L4 18.59l7.72-7.72 1.47 1.35L5.41 20z\"/>\n",
              "  </svg>\n",
              "      </button>\n",
              "      \n",
              "  <style>\n",
              "    .colab-df-container {\n",
              "      display:flex;\n",
              "      flex-wrap:wrap;\n",
              "      gap: 12px;\n",
              "    }\n",
              "\n",
              "    .colab-df-convert {\n",
              "      background-color: #E8F0FE;\n",
              "      border: none;\n",
              "      border-radius: 50%;\n",
              "      cursor: pointer;\n",
              "      display: none;\n",
              "      fill: #1967D2;\n",
              "      height: 32px;\n",
              "      padding: 0 0 0 0;\n",
              "      width: 32px;\n",
              "    }\n",
              "\n",
              "    .colab-df-convert:hover {\n",
              "      background-color: #E2EBFA;\n",
              "      box-shadow: 0px 1px 2px rgba(60, 64, 67, 0.3), 0px 1px 3px 1px rgba(60, 64, 67, 0.15);\n",
              "      fill: #174EA6;\n",
              "    }\n",
              "\n",
              "    [theme=dark] .colab-df-convert {\n",
              "      background-color: #3B4455;\n",
              "      fill: #D2E3FC;\n",
              "    }\n",
              "\n",
              "    [theme=dark] .colab-df-convert:hover {\n",
              "      background-color: #434B5C;\n",
              "      box-shadow: 0px 1px 3px 1px rgba(0, 0, 0, 0.15);\n",
              "      filter: drop-shadow(0px 1px 2px rgba(0, 0, 0, 0.3));\n",
              "      fill: #FFFFFF;\n",
              "    }\n",
              "  </style>\n",
              "\n",
              "      <script>\n",
              "        const buttonEl =\n",
              "          document.querySelector('#df-74259d33-4bfc-42b1-a391-eb0e9a2b5903 button.colab-df-convert');\n",
              "        buttonEl.style.display =\n",
              "          google.colab.kernel.accessAllowed ? 'block' : 'none';\n",
              "\n",
              "        async function convertToInteractive(key) {\n",
              "          const element = document.querySelector('#df-74259d33-4bfc-42b1-a391-eb0e9a2b5903');\n",
              "          const dataTable =\n",
              "            await google.colab.kernel.invokeFunction('convertToInteractive',\n",
              "                                                     [key], {});\n",
              "          if (!dataTable) return;\n",
              "\n",
              "          const docLinkHtml = 'Like what you see? Visit the ' +\n",
              "            '<a target=\"_blank\" href=https://colab.research.google.com/notebooks/data_table.ipynb>data table notebook</a>'\n",
              "            + ' to learn more about interactive tables.';\n",
              "          element.innerHTML = '';\n",
              "          dataTable['output_type'] = 'display_data';\n",
              "          await google.colab.output.renderOutput(dataTable, element);\n",
              "          const docLink = document.createElement('div');\n",
              "          docLink.innerHTML = docLinkHtml;\n",
              "          element.appendChild(docLink);\n",
              "        }\n",
              "      </script>\n",
              "    </div>\n",
              "  </div>\n",
              "  "
            ]
          },
          "metadata": {},
          "execution_count": 40
        }
      ]
    },
    {
      "cell_type": "code",
      "source": [
        "product_df['all_text'] = product_df['category'] + ' ' + product_df['description'] + ' ' + product_df['title'] + ' ' + product_df['brand'] + ' ' + product_df['feature'] +\\\n",
        "                         product_df['main_cat']"
      ],
      "metadata": {
        "id": "64x14FF3g6we"
      },
      "execution_count": 41,
      "outputs": []
    },
    {
      "cell_type": "code",
      "source": [
        "words = set(nltk.corpus.words.words())\n",
        "\n",
        "def clear_text(doc):\n",
        "  #cleaned_text = \" \".join(w for w in nltk.wordpunct_tokenize(cleaned_text) if w.lower() in words or not w.isalpha())\n",
        "  cleaned_text = re.sub('[^a-zA-Z0-9]', ' ', doc)\n",
        "  cleaned_text = re.sub('\\s\\s+', ' ', cleaned_text)\n",
        "  cleaned_text = cleaned_text.lower()\n",
        "  return cleaned_text"
      ],
      "metadata": {
        "id": "WGzlRyPLiPn7"
      },
      "execution_count": 44,
      "outputs": []
    },
    {
      "cell_type": "code",
      "source": [
        "product_df['all_text'] = product_df['all_text'].apply(clear_text)"
      ],
      "metadata": {
        "id": "0HoWGaQ68NmL"
      },
      "execution_count": 45,
      "outputs": []
    },
    {
      "cell_type": "code",
      "source": [
        "def sent_to_words(sentences):\n",
        "    for sentence in sentences:\n",
        "        yield(gensim.utils.simple_preprocess(str(sentence), deacc=True))  # deacc=True removes punctuations and special characters\n",
        "\n",
        "data_words = list(sent_to_words(product_df['all_text']))"
      ],
      "metadata": {
        "id": "G4LFCLWE8Vgo"
      },
      "execution_count": 46,
      "outputs": []
    },
    {
      "cell_type": "code",
      "source": [
        "def remove_stopwords(texts):\n",
        "    return [[word for word in simple_preprocess(str(doc)) if word not in stop] for doc in texts]"
      ],
      "metadata": {
        "id": "mzJQPhiB8vDO"
      },
      "execution_count": 47,
      "outputs": []
    },
    {
      "cell_type": "code",
      "source": [
        "# Build the bigram \n",
        "bigram = gensim.models.Phrases(data_words, min_count=5, threshold=10) # higher threshold fewer phrases.\n",
        "bigram_mod = gensim.models.phrases.Phraser(bigram)\n",
        "\n",
        "def make_bigrams(texts):\n",
        "    return [bigram_mod[doc] for doc in texts]"
      ],
      "metadata": {
        "id": "l7Q_jueG8wka"
      },
      "execution_count": 48,
      "outputs": []
    },
    {
      "cell_type": "code",
      "source": [
        "lem = WordNetLemmatizer()\n",
        "def lemma(texts):\n",
        "    return [[lem.lemmatize(w) for w in simple_preprocess(str(doc))] for doc in texts]"
      ],
      "metadata": {
        "id": "pQV5Av8kjCCo"
      },
      "execution_count": 49,
      "outputs": []
    },
    {
      "cell_type": "code",
      "source": [
        "# Remove Stop Words\n",
        "data_words_nostops = remove_stopwords(data_words)\n",
        "\n",
        "# Form Bigrams\n",
        "data_words_bigrams = make_bigrams(data_words_nostops)\n",
        "\n",
        "# Do lemmatization\n",
        "data_lemmatized = lemma(data_words_bigrams)\n",
        "data_lemmatized[0]"
      ],
      "metadata": {
        "colab": {
          "base_uri": "https://localhost:8080/"
        },
        "id": "RJaQKdc09Es6",
        "outputId": "15d9a210-ef5a-45ad-e129-0b3b4d288e8d"
      },
      "execution_count": 50,
      "outputs": [
        {
          "output_type": "execute_result",
          "data": {
            "text/plain": [
              "['appliance',\n",
              " 'ice_maker',\n",
              " 'tupperware',\n",
              " 'freezer',\n",
              " 'square',\n",
              " 'round',\n",
              " 'container',\n",
              " 'set',\n",
              " 'tupperware',\n",
              " 'pc',\n",
              " 'set',\n",
              " 'includes',\n",
              " 'two',\n",
              " 'cup_ml',\n",
              " 'one',\n",
              " 'cup_ml',\n",
              " 'use',\n",
              " 'keep',\n",
              " 'sandwich',\n",
              " 'filling',\n",
              " 'salad',\n",
              " 'leftover',\n",
              " 'fresh',\n",
              " 'refrigerator',\n",
              " 'gently',\n",
              " 'twist',\n",
              " 'container',\n",
              " 'pop',\n",
              " 'frozen_food',\n",
              " 'reheating',\n",
              " 'dishwasher_safe',\n",
              " 'set',\n",
              " 'weight',\n",
              " 'le',\n",
              " 'oz',\n",
              " 'appliance']"
            ]
          },
          "metadata": {},
          "execution_count": 50
        }
      ]
    },
    {
      "cell_type": "markdown",
      "source": [
        "Create the two main inputs for the LDA topic model: the dictionary(id2word) and the corpus. "
      ],
      "metadata": {
        "id": "TWtZc5EVrdK2"
      }
    },
    {
      "cell_type": "code",
      "source": [
        "# Create Dictionary\n",
        "id2word = corpora.Dictionary(data_lemmatized)\n",
        "\n",
        "# Filter out tokens that appear in only 1 documents and appear in more than 90% of the documents\n",
        "id2word.filter_extremes(no_below=2, no_above=0.9)\n",
        "\n",
        "# Create Corpus\n",
        "texts = data_lemmatized\n",
        "\n",
        "# Term Document Frequency\n",
        "corpus = [id2word.doc2bow(text) for text in texts]\n",
        "\n",
        "# View\n",
        "print(corpus[:1])"
      ],
      "metadata": {
        "colab": {
          "base_uri": "https://localhost:8080/"
        },
        "id": "BrUJxHL9-AAc",
        "outputId": "d1b0d477-1fb1-445e-e617-47e590be73c1"
      },
      "execution_count": 51,
      "outputs": [
        {
          "output_type": "stream",
          "name": "stdout",
          "text": [
            "[[(0, 2), (1, 2), (2, 1), (3, 1), (4, 1), (5, 1), (6, 1), (7, 1), (8, 1), (9, 1), (10, 1), (11, 1), (12, 1), (13, 1), (14, 1), (15, 1), (16, 1), (17, 1), (18, 1), (19, 1), (20, 1), (21, 1), (22, 3), (23, 1), (24, 2), (25, 1), (26, 1), (27, 1), (28, 1)]]\n"
          ]
        }
      ]
    },
    {
      "cell_type": "code",
      "source": [
        "# supporting function\n",
        "def compute_coherence_values(corpus, dictionary, k):\n",
        "    \n",
        "    lda_model = gensim.models.LdaMulticore(corpus=corpus,\n",
        "                                           id2word=id2word,\n",
        "                                           num_topics=k, \n",
        "                                           random_state=100,\n",
        "                                           chunksize=100,\n",
        "                                           passes=10,\n",
        "                                           per_word_topics=True)\n",
        "    \n",
        "    coherence_model_lda = CoherenceModel(model=lda_model, texts=data_lemmatized, dictionary=id2word, coherence='c_v')\n",
        "    \n",
        "    return coherence_model_lda.get_coherence()"
      ],
      "metadata": {
        "id": "dSW48fv4_19C"
      },
      "execution_count": 153,
      "outputs": []
    },
    {
      "cell_type": "code",
      "source": [
        "# Iterate over possible number of topics.\n",
        "topic_nums = [1,2,3,4,5,6,7,8,9,10,11,12,13,14,15,16,17,18,19,20]\n",
        "coherence_scores = []\n",
        "\n",
        "for k in topic_nums:\n",
        "    coherence_score = compute_coherence_values(corpus=corpus, dictionary=id2word, k=k)\n",
        "    coherence_scores.append(coherence_score)\n",
        "\n",
        "coherence_df = pd.DataFrame()\n",
        "coherence_df[\"topic_num\"] = topic_nums\n",
        "coherence_df['coherence_score'] = coherence_scores\n",
        "coherence_df"
      ],
      "metadata": {
        "colab": {
          "base_uri": "https://localhost:8080/",
          "height": 1000
        },
        "id": "1uKxZvfD_8XU",
        "outputId": "37d6b6c9-1179-40b6-ae9c-b5b34adc0f74"
      },
      "execution_count": 154,
      "outputs": [
        {
          "output_type": "stream",
          "name": "stderr",
          "text": [
            "Process ForkPoolWorker-11:\n",
            "Process ForkPoolWorker-10:\n",
            "Process ForkPoolWorker-12:\n",
            "Traceback (most recent call last):\n",
            "  File \"/usr/lib/python3.7/multiprocessing/process.py\", line 297, in _bootstrap\n",
            "    self.run()\n",
            "Traceback (most recent call last):\n",
            "Traceback (most recent call last):\n",
            "  File \"/usr/lib/python3.7/multiprocessing/process.py\", line 99, in run\n",
            "    self._target(*self._args, **self._kwargs)\n",
            "  File \"/usr/lib/python3.7/multiprocessing/process.py\", line 297, in _bootstrap\n",
            "    self.run()\n",
            "  File \"/usr/lib/python3.7/multiprocessing/process.py\", line 297, in _bootstrap\n",
            "    self.run()\n",
            "  File \"/usr/lib/python3.7/multiprocessing/pool.py\", line 105, in worker\n",
            "    initializer(*initargs)\n"
          ]
        },
        {
          "output_type": "error",
          "ename": "KeyboardInterrupt",
          "evalue": "ignored",
          "traceback": [
            "\u001b[0;31m---------------------------------------------------------------------------\u001b[0m",
            "\u001b[0;31mFull\u001b[0m                                      Traceback (most recent call last)",
            "\u001b[0;32m/usr/local/lib/python3.7/dist-packages/gensim/models/ldamulticore.py\u001b[0m in \u001b[0;36mupdate\u001b[0;34m(self, corpus, chunks_as_numpy)\u001b[0m\n\u001b[1;32m    287\u001b[0m                     \u001b[0;32mtry\u001b[0m\u001b[0;34m:\u001b[0m\u001b[0;34m\u001b[0m\u001b[0;34m\u001b[0m\u001b[0m\n\u001b[0;32m--> 288\u001b[0;31m                         \u001b[0mjob_queue\u001b[0m\u001b[0;34m.\u001b[0m\u001b[0mput\u001b[0m\u001b[0;34m(\u001b[0m\u001b[0;34m(\u001b[0m\u001b[0mchunk_no\u001b[0m\u001b[0;34m,\u001b[0m \u001b[0mchunk\u001b[0m\u001b[0;34m,\u001b[0m \u001b[0mself\u001b[0m\u001b[0;34m)\u001b[0m\u001b[0;34m,\u001b[0m \u001b[0mblock\u001b[0m\u001b[0;34m=\u001b[0m\u001b[0;32mFalse\u001b[0m\u001b[0;34m,\u001b[0m \u001b[0mtimeout\u001b[0m\u001b[0;34m=\u001b[0m\u001b[0;36m0.1\u001b[0m\u001b[0;34m)\u001b[0m\u001b[0;34m\u001b[0m\u001b[0;34m\u001b[0m\u001b[0m\n\u001b[0m\u001b[1;32m    289\u001b[0m                         \u001b[0mchunk_put\u001b[0m \u001b[0;34m=\u001b[0m \u001b[0;32mTrue\u001b[0m\u001b[0;34m\u001b[0m\u001b[0;34m\u001b[0m\u001b[0m\n",
            "\u001b[0;32m/usr/lib/python3.7/multiprocessing/queues.py\u001b[0m in \u001b[0;36mput\u001b[0;34m(self, obj, block, timeout)\u001b[0m\n\u001b[1;32m     82\u001b[0m         \u001b[0;32mif\u001b[0m \u001b[0;32mnot\u001b[0m \u001b[0mself\u001b[0m\u001b[0;34m.\u001b[0m\u001b[0m_sem\u001b[0m\u001b[0;34m.\u001b[0m\u001b[0macquire\u001b[0m\u001b[0;34m(\u001b[0m\u001b[0mblock\u001b[0m\u001b[0;34m,\u001b[0m \u001b[0mtimeout\u001b[0m\u001b[0;34m)\u001b[0m\u001b[0;34m:\u001b[0m\u001b[0;34m\u001b[0m\u001b[0;34m\u001b[0m\u001b[0m\n\u001b[0;32m---> 83\u001b[0;31m             \u001b[0;32mraise\u001b[0m \u001b[0mFull\u001b[0m\u001b[0;34m\u001b[0m\u001b[0;34m\u001b[0m\u001b[0m\n\u001b[0m\u001b[1;32m     84\u001b[0m \u001b[0;34m\u001b[0m\u001b[0m\n",
            "\u001b[0;31mFull\u001b[0m: ",
            "\nDuring handling of the above exception, another exception occurred:\n",
            "\u001b[0;31mKeyboardInterrupt\u001b[0m                         Traceback (most recent call last)",
            "\u001b[0;32m<ipython-input-154-2ad084d5289b>\u001b[0m in \u001b[0;36m<module>\u001b[0;34m()\u001b[0m\n\u001b[1;32m      4\u001b[0m \u001b[0;34m\u001b[0m\u001b[0m\n\u001b[1;32m      5\u001b[0m \u001b[0;32mfor\u001b[0m \u001b[0mk\u001b[0m \u001b[0;32min\u001b[0m \u001b[0mtopic_nums\u001b[0m\u001b[0;34m:\u001b[0m\u001b[0;34m\u001b[0m\u001b[0;34m\u001b[0m\u001b[0m\n\u001b[0;32m----> 6\u001b[0;31m     \u001b[0mcoherence_score\u001b[0m \u001b[0;34m=\u001b[0m \u001b[0mcompute_coherence_values\u001b[0m\u001b[0;34m(\u001b[0m\u001b[0mcorpus\u001b[0m\u001b[0;34m=\u001b[0m\u001b[0mcorpus\u001b[0m\u001b[0;34m,\u001b[0m \u001b[0mdictionary\u001b[0m\u001b[0;34m=\u001b[0m\u001b[0mid2word\u001b[0m\u001b[0;34m,\u001b[0m \u001b[0mk\u001b[0m\u001b[0;34m=\u001b[0m\u001b[0mk\u001b[0m\u001b[0;34m)\u001b[0m\u001b[0;34m\u001b[0m\u001b[0;34m\u001b[0m\u001b[0m\n\u001b[0m\u001b[1;32m      7\u001b[0m     \u001b[0mcoherence_scores\u001b[0m\u001b[0;34m.\u001b[0m\u001b[0mappend\u001b[0m\u001b[0;34m(\u001b[0m\u001b[0mcoherence_score\u001b[0m\u001b[0;34m)\u001b[0m\u001b[0;34m\u001b[0m\u001b[0;34m\u001b[0m\u001b[0m\n\u001b[1;32m      8\u001b[0m \u001b[0;34m\u001b[0m\u001b[0m\n",
            "\u001b[0;32m<ipython-input-153-36f3c38b55f0>\u001b[0m in \u001b[0;36mcompute_coherence_values\u001b[0;34m(corpus, dictionary, k)\u001b[0m\n\u001b[1;32m      8\u001b[0m                                            \u001b[0mchunksize\u001b[0m\u001b[0;34m=\u001b[0m\u001b[0;36m100\u001b[0m\u001b[0;34m,\u001b[0m\u001b[0;34m\u001b[0m\u001b[0;34m\u001b[0m\u001b[0m\n\u001b[1;32m      9\u001b[0m                                            \u001b[0mpasses\u001b[0m\u001b[0;34m=\u001b[0m\u001b[0;36m10\u001b[0m\u001b[0;34m,\u001b[0m\u001b[0;34m\u001b[0m\u001b[0;34m\u001b[0m\u001b[0m\n\u001b[0;32m---> 10\u001b[0;31m                                            per_word_topics=True)\n\u001b[0m\u001b[1;32m     11\u001b[0m \u001b[0;34m\u001b[0m\u001b[0m\n\u001b[1;32m     12\u001b[0m     \u001b[0mcoherence_model_lda\u001b[0m \u001b[0;34m=\u001b[0m \u001b[0mCoherenceModel\u001b[0m\u001b[0;34m(\u001b[0m\u001b[0mmodel\u001b[0m\u001b[0;34m=\u001b[0m\u001b[0mlda_model\u001b[0m\u001b[0;34m,\u001b[0m \u001b[0mtexts\u001b[0m\u001b[0;34m=\u001b[0m\u001b[0mdata_lemmatized\u001b[0m\u001b[0;34m,\u001b[0m \u001b[0mdictionary\u001b[0m\u001b[0;34m=\u001b[0m\u001b[0mid2word\u001b[0m\u001b[0;34m,\u001b[0m \u001b[0mcoherence\u001b[0m\u001b[0;34m=\u001b[0m\u001b[0;34m'c_v'\u001b[0m\u001b[0;34m)\u001b[0m\u001b[0;34m\u001b[0m\u001b[0;34m\u001b[0m\u001b[0m\n",
            "\u001b[0;32m/usr/local/lib/python3.7/dist-packages/gensim/models/ldamulticore.py\u001b[0m in \u001b[0;36m__init__\u001b[0;34m(self, corpus, num_topics, id2word, workers, chunksize, passes, batch, alpha, eta, decay, offset, eval_every, iterations, gamma_threshold, random_state, minimum_probability, minimum_phi_value, per_word_topics, dtype)\u001b[0m\n\u001b[1;32m    177\u001b[0m             \u001b[0mdecay\u001b[0m\u001b[0;34m=\u001b[0m\u001b[0mdecay\u001b[0m\u001b[0;34m,\u001b[0m \u001b[0moffset\u001b[0m\u001b[0;34m=\u001b[0m\u001b[0moffset\u001b[0m\u001b[0;34m,\u001b[0m \u001b[0meval_every\u001b[0m\u001b[0;34m=\u001b[0m\u001b[0meval_every\u001b[0m\u001b[0;34m,\u001b[0m \u001b[0miterations\u001b[0m\u001b[0;34m=\u001b[0m\u001b[0miterations\u001b[0m\u001b[0;34m,\u001b[0m\u001b[0;34m\u001b[0m\u001b[0;34m\u001b[0m\u001b[0m\n\u001b[1;32m    178\u001b[0m             \u001b[0mgamma_threshold\u001b[0m\u001b[0;34m=\u001b[0m\u001b[0mgamma_threshold\u001b[0m\u001b[0;34m,\u001b[0m \u001b[0mrandom_state\u001b[0m\u001b[0;34m=\u001b[0m\u001b[0mrandom_state\u001b[0m\u001b[0;34m,\u001b[0m \u001b[0mminimum_probability\u001b[0m\u001b[0;34m=\u001b[0m\u001b[0mminimum_probability\u001b[0m\u001b[0;34m,\u001b[0m\u001b[0;34m\u001b[0m\u001b[0;34m\u001b[0m\u001b[0m\n\u001b[0;32m--> 179\u001b[0;31m             \u001b[0mminimum_phi_value\u001b[0m\u001b[0;34m=\u001b[0m\u001b[0mminimum_phi_value\u001b[0m\u001b[0;34m,\u001b[0m \u001b[0mper_word_topics\u001b[0m\u001b[0;34m=\u001b[0m\u001b[0mper_word_topics\u001b[0m\u001b[0;34m,\u001b[0m \u001b[0mdtype\u001b[0m\u001b[0;34m=\u001b[0m\u001b[0mdtype\u001b[0m\u001b[0;34m\u001b[0m\u001b[0;34m\u001b[0m\u001b[0m\n\u001b[0m\u001b[1;32m    180\u001b[0m         )\n\u001b[1;32m    181\u001b[0m \u001b[0;34m\u001b[0m\u001b[0m\n",
            "\u001b[0;32m/usr/local/lib/python3.7/dist-packages/gensim/models/ldamodel.py\u001b[0m in \u001b[0;36m__init__\u001b[0;34m(self, corpus, num_topics, id2word, distributed, chunksize, passes, update_every, alpha, eta, decay, offset, eval_every, iterations, gamma_threshold, minimum_probability, random_state, ns_conf, minimum_phi_value, per_word_topics, callbacks, dtype)\u001b[0m\n\u001b[1;32m    513\u001b[0m         \u001b[0;32mif\u001b[0m \u001b[0mcorpus\u001b[0m \u001b[0;32mis\u001b[0m \u001b[0;32mnot\u001b[0m \u001b[0;32mNone\u001b[0m\u001b[0;34m:\u001b[0m\u001b[0;34m\u001b[0m\u001b[0;34m\u001b[0m\u001b[0m\n\u001b[1;32m    514\u001b[0m             \u001b[0muse_numpy\u001b[0m \u001b[0;34m=\u001b[0m \u001b[0mself\u001b[0m\u001b[0;34m.\u001b[0m\u001b[0mdispatcher\u001b[0m \u001b[0;32mis\u001b[0m \u001b[0;32mnot\u001b[0m \u001b[0;32mNone\u001b[0m\u001b[0;34m\u001b[0m\u001b[0;34m\u001b[0m\u001b[0m\n\u001b[0;32m--> 515\u001b[0;31m             \u001b[0mself\u001b[0m\u001b[0;34m.\u001b[0m\u001b[0mupdate\u001b[0m\u001b[0;34m(\u001b[0m\u001b[0mcorpus\u001b[0m\u001b[0;34m,\u001b[0m \u001b[0mchunks_as_numpy\u001b[0m\u001b[0;34m=\u001b[0m\u001b[0muse_numpy\u001b[0m\u001b[0;34m)\u001b[0m\u001b[0;34m\u001b[0m\u001b[0;34m\u001b[0m\u001b[0m\n\u001b[0m\u001b[1;32m    516\u001b[0m \u001b[0;34m\u001b[0m\u001b[0m\n\u001b[1;32m    517\u001b[0m     \u001b[0;32mdef\u001b[0m \u001b[0minit_dir_prior\u001b[0m\u001b[0;34m(\u001b[0m\u001b[0mself\u001b[0m\u001b[0;34m,\u001b[0m \u001b[0mprior\u001b[0m\u001b[0;34m,\u001b[0m \u001b[0mname\u001b[0m\u001b[0;34m)\u001b[0m\u001b[0;34m:\u001b[0m\u001b[0;34m\u001b[0m\u001b[0;34m\u001b[0m\u001b[0m\n",
            "\u001b[0;32m/usr/local/lib/python3.7/dist-packages/gensim/models/ldamulticore.py\u001b[0m in \u001b[0;36mupdate\u001b[0;34m(self, corpus, chunks_as_numpy)\u001b[0m\n\u001b[1;32m    294\u001b[0m                             \u001b[0mpass_\u001b[0m\u001b[0;34m,\u001b[0m \u001b[0mchunk_no\u001b[0m\u001b[0;34m,\u001b[0m \u001b[0mchunk_no\u001b[0m \u001b[0;34m*\u001b[0m \u001b[0mself\u001b[0m\u001b[0;34m.\u001b[0m\u001b[0mchunksize\u001b[0m \u001b[0;34m+\u001b[0m \u001b[0mlen\u001b[0m\u001b[0;34m(\u001b[0m\u001b[0mchunk\u001b[0m\u001b[0;34m)\u001b[0m\u001b[0;34m,\u001b[0m \u001b[0mlencorpus\u001b[0m\u001b[0;34m,\u001b[0m \u001b[0mqueue_size\u001b[0m\u001b[0;34m[\u001b[0m\u001b[0;36m0\u001b[0m\u001b[0;34m]\u001b[0m\u001b[0;34m\u001b[0m\u001b[0;34m\u001b[0m\u001b[0m\n\u001b[1;32m    295\u001b[0m                         )\n\u001b[0;32m--> 296\u001b[0;31m                     \u001b[0;32mexcept\u001b[0m \u001b[0mqueue\u001b[0m\u001b[0;34m.\u001b[0m\u001b[0mFull\u001b[0m\u001b[0;34m:\u001b[0m\u001b[0;34m\u001b[0m\u001b[0;34m\u001b[0m\u001b[0m\n\u001b[0m\u001b[1;32m    297\u001b[0m                         \u001b[0;31m# in case the input job queue is full, keep clearing the\u001b[0m\u001b[0;34m\u001b[0m\u001b[0;34m\u001b[0m\u001b[0;34m\u001b[0m\u001b[0m\n\u001b[1;32m    298\u001b[0m                         \u001b[0;31m# result queue, to make sure we don't deadlock\u001b[0m\u001b[0;34m\u001b[0m\u001b[0;34m\u001b[0m\u001b[0;34m\u001b[0m\u001b[0m\n",
            "\u001b[0;31mKeyboardInterrupt\u001b[0m: "
          ]
        },
        {
          "output_type": "stream",
          "name": "stderr",
          "text": [
            "  File \"/usr/lib/python3.7/multiprocessing/process.py\", line 99, in run\n",
            "    self._target(*self._args, **self._kwargs)\n",
            "  File \"/usr/lib/python3.7/multiprocessing/process.py\", line 99, in run\n",
            "    self._target(*self._args, **self._kwargs)\n",
            "  File \"/usr/local/lib/python3.7/dist-packages/gensim/models/ldamulticore.py\", line 333, in worker_e_step\n",
            "    worker_lda.do_estep(chunk)  # TODO: auto-tune alpha?\n",
            "  File \"/usr/lib/python3.7/multiprocessing/pool.py\", line 105, in worker\n",
            "    initializer(*initargs)\n",
            "  File \"/usr/local/lib/python3.7/dist-packages/gensim/models/ldamodel.py\", line 725, in do_estep\n",
            "    gamma, sstats = self.inference(chunk, collect_sstats=True)\n",
            "  File \"/usr/local/lib/python3.7/dist-packages/gensim/models/ldamulticore.py\", line 330, in worker_e_step\n",
            "    chunk_no, chunk, worker_lda = input_queue.get()\n",
            "  File \"/usr/local/lib/python3.7/dist-packages/gensim/models/ldamodel.py\", line 690, in inference\n",
            "    sstats[:, ids] += np.outer(expElogthetad.T, cts / phinorm)\n",
            "  File \"/usr/lib/python3.7/multiprocessing/pool.py\", line 105, in worker\n",
            "    initializer(*initargs)\n",
            "  File \"/usr/lib/python3.7/multiprocessing/queues.py\", line 93, in get\n",
            "    with self._rlock:\n",
            "KeyboardInterrupt\n",
            "  File \"/usr/local/lib/python3.7/dist-packages/gensim/models/ldamulticore.py\", line 330, in worker_e_step\n",
            "    chunk_no, chunk, worker_lda = input_queue.get()\n",
            "  File \"/usr/lib/python3.7/multiprocessing/synchronize.py\", line 95, in __enter__\n",
            "    return self._semlock.__enter__()\n",
            "  File \"/usr/lib/python3.7/multiprocessing/queues.py\", line 94, in get\n",
            "    res = self._recv_bytes()\n",
            "KeyboardInterrupt\n",
            "  File \"/usr/lib/python3.7/multiprocessing/connection.py\", line 216, in recv_bytes\n",
            "    buf = self._recv_bytes(maxlength)\n",
            "  File \"/usr/lib/python3.7/multiprocessing/connection.py\", line 407, in _recv_bytes\n",
            "    buf = self._recv(4)\n",
            "  File \"/usr/lib/python3.7/multiprocessing/connection.py\", line 379, in _recv\n",
            "    chunk = read(handle, remaining)\n",
            "KeyboardInterrupt\n"
          ]
        }
      ]
    },
    {
      "cell_type": "code",
      "source": [
        "plt.figure(figsize=(16, 8))\n",
        "plt.plot(topic_nums, coherence_df['coherence_score'])\n",
        "\n",
        "plt.title(\"Coherence Scores vs Topic Numbers for LDA Model\")\n",
        "plt.xlabel(\"Topic Numbers\")\n",
        "plt.ylabel(\"Coherence Scores\")\n",
        "plt.show()"
      ],
      "metadata": {
        "id": "72_kSlcFAGrc"
      },
      "execution_count": null,
      "outputs": []
    },
    {
      "cell_type": "code",
      "source": [
        "# Build LDA model\n",
        "k=10\n",
        "lda_model = gensim.models.LdaMulticore(corpus=corpus,\n",
        "                                       id2word=id2word,\n",
        "                                       num_topics=k, \n",
        "                                       random_state=100,\n",
        "                                       chunksize=100,\n",
        "                                       passes=10,\n",
        "                                       per_word_topics=True)"
      ],
      "metadata": {
        "id": "1dymBZO3_S_8"
      },
      "execution_count": 52,
      "outputs": []
    },
    {
      "cell_type": "code",
      "source": [
        "lda_model.print_topics()"
      ],
      "metadata": {
        "colab": {
          "base_uri": "https://localhost:8080/"
        },
        "id": "hrn2jpaJ_cq9",
        "outputId": "edbcc077-7010-45f6-abf2-75ad06be023e"
      },
      "execution_count": 53,
      "outputs": [
        {
          "output_type": "execute_result",
          "data": {
            "text/plain": [
              "[(0,\n",
              "  '0.044*\"range_hood\" + 0.031*\"stainless_steel\" + 0.025*\"filter\" + 0.018*\"speed\" + 0.015*\"control\" + 0.014*\"inch\" + 0.013*\"cfm\" + 0.012*\"hood\" + 0.010*\"fan\" + 0.010*\"air\"'),\n",
              " (1,\n",
              "  '0.045*\"refrigerator\" + 0.027*\"temperature\" + 0.026*\"ice_maker\" + 0.023*\"door\" + 0.022*\"ice\" + 0.020*\"wr\" + 0.019*\"freezer\" + 0.011*\"shelf\" + 0.010*\"humidity\" + 0.010*\"cu_ft\"'),\n",
              " (2,\n",
              "  '0.167*\"part\" + 0.053*\"accessory\" + 0.047*\"oem\" + 0.039*\"fit\" + 0.036*\"whirlpool\" + 0.032*\"ge\" + 0.031*\"number\" + 0.031*\"improvement\" + 0.025*\"authorized\" + 0.025*\"brand_models\"'),\n",
              " (3,\n",
              "  '0.167*\"part\" + 0.085*\"replacement\" + 0.069*\"accessory\" + 0.059*\"genuine\" + 0.032*\"frigidaire\" + 0.026*\"model_number\" + 0.024*\"name\" + 0.024*\"dryer\" + 0.023*\"following_item\" + 0.022*\"whirlpool\"'),\n",
              " (4,\n",
              "  '0.012*\"easy\" + 0.011*\"use\" + 0.007*\"one\" + 0.007*\"home\" + 0.006*\"clean\" + 0.006*\"time\" + 0.006*\"limited_time\" + 0.006*\"add\" + 0.006*\"logo\" + 0.006*\"make\"'),\n",
              " (5,\n",
              "  '0.072*\"filter\" + 0.072*\"water\" + 0.029*\"refrigerator\" + 0.029*\"replacement\" + 0.026*\"part\" + 0.021*\"accessory\" + 0.017*\"product\" + 0.014*\"compatible\" + 0.013*\"brand\" + 0.012*\"humidifier\"'),\n",
              " (6,\n",
              "  '0.046*\"whirlpool\" + 0.044*\"washer\" + 0.023*\"dryer\" + 0.019*\"kenmore_sears\" + 0.014*\"bearing\" + 0.013*\"dishwasher\" + 0.011*\"laundry\" + 0.011*\"maytag\" + 0.010*\"front_load\" + 0.009*\"wash\"'),\n",
              " (7,\n",
              "  '0.062*\"part\" + 0.054*\"accessory\" + 0.045*\"range\" + 0.040*\"wb\" + 0.028*\"ge\" + 0.022*\"knob\" + 0.014*\"oem\" + 0.011*\"genf\" + 0.010*\"stove\" + 0.009*\"fit\"'),\n",
              " (8,\n",
              "  '0.026*\"dryer\" + 0.025*\"accessory\" + 0.021*\"part\" + 0.021*\"washing_machine\" + 0.017*\"hose\" + 0.012*\"use\" + 0.011*\"dishwasher\" + 0.011*\"machine\" + 0.010*\"washer\" + 0.010*\"inch\"'),\n",
              " (9,\n",
              "  '0.045*\"oven\" + 0.027*\"range\" + 0.025*\"gas\" + 0.019*\"stainless_steel\" + 0.018*\"burner\" + 0.012*\"heat\" + 0.011*\"cooktop\" + 0.010*\"cooking\" + 0.010*\"electric\" + 0.009*\"rack\"')]"
            ]
          },
          "metadata": {},
          "execution_count": 53
        }
      ]
    },
    {
      "cell_type": "code",
      "source": [
        "coherence_model_lda = CoherenceModel(model=lda_model, texts=data_lemmatized, dictionary=id2word, coherence='c_v')\n",
        "coherence_lda = coherence_model_lda.get_coherence()\n",
        "print('LDA model Coherence Score: ', coherence_lda)"
      ],
      "metadata": {
        "colab": {
          "base_uri": "https://localhost:8080/"
        },
        "id": "TcYshZmw_xvw",
        "outputId": "0934d48e-76e3-43ec-befd-0d63112c7ada"
      },
      "execution_count": 70,
      "outputs": [
        {
          "output_type": "stream",
          "name": "stdout",
          "text": [
            "LDA model Coherence Score:  0.5709976851379508\n"
          ]
        }
      ]
    },
    {
      "cell_type": "code",
      "source": [
        "topic_num = []\n",
        "probability = []\n",
        "\n",
        "for n in range(len(product_df)):\n",
        "  # predict the topic number\n",
        "  get_document_topics = lda_model.get_document_topics(corpus[n])\n",
        "\n",
        "  # sort by each topic numbers' probability\n",
        "  sorted_doc_topics = (sorted(get_document_topics, key = lambda x: x[1], reverse = True)) \n",
        "\n",
        "  # get the top topic number\n",
        "  topic_num.append(sorted_doc_topics[0][0]) \n",
        "\n",
        "   # get the top topic number probability\n",
        "  probability.append(sorted_doc_topics[0][1])\n",
        "\n",
        "product_df['topic_num'] = topic_num\n",
        "product_df['probability'] = probability\n"
      ],
      "metadata": {
        "id": "gg3jNh01GoJW"
      },
      "execution_count": 83,
      "outputs": []
    },
    {
      "cell_type": "code",
      "source": [
        "product_df.head()"
      ],
      "metadata": {
        "colab": {
          "base_uri": "https://localhost:8080/",
          "height": 704
        },
        "id": "sORUB2gqVNPh",
        "outputId": "504c0eca-22de-479e-af86-f1ddad0cefc1"
      },
      "execution_count": 84,
      "outputs": [
        {
          "output_type": "execute_result",
          "data": {
            "text/plain": [
              "                                            category  \\\n",
              "0    Appliances Refrigerators, Freezers & Ice Makers   \n",
              "1    Appliances Refrigerators, Freezers & Ice Makers   \n",
              "2                     Appliances Parts & Accessories   \n",
              "3                     Appliances Parts & Accessories   \n",
              "4  Appliances Parts & Accessories Range Parts & A...   \n",
              "\n",
              "                                         description  \\\n",
              "0                                                      \n",
              "1  2 x tupperware pure fresh unique covered cool ...   \n",
              "2                                                      \n",
              "3  multi purpost descaler especially suited to wa...   \n",
              "4  full gauge and size beveled edge furnished wit...   \n",
              "\n",
              "                                               title           brand  \\\n",
              "0  tupperware freezer square round container set ...      tupperware   \n",
              "1  2 x tupperware pure amp fresh unique covered c...      tupperware   \n",
              "2                      the cigar moments of pleasure  the cigar book   \n",
              "3               caraselle 2x 50g appliance descalene       caraselle   \n",
              "4  eaton wiring 39ch sp l arrow hart 1 gang chrom...    eaton wiring   \n",
              "\n",
              "                                             feature                main_cat  \\\n",
              "0  each 3 pc set includes two 7 8 cup 200 ml and ...              appliances   \n",
              "1  2 x tupperware pure fresh unique covered cool ...              appliances   \n",
              "2                                                                amazon home   \n",
              "3                                                     tools home improvement   \n",
              "4  returns will not be honored on this closeout i...  tools home improvement   \n",
              "\n",
              "         date   price        asin  \\\n",
              "0  2008-11-19          7301113188   \n",
              "1  2016-06-05    3.62  7861850250   \n",
              "2              150.26  8792559360   \n",
              "3  2014-12-17          9792954481   \n",
              "4  2007-01-16    3.43  B00002N5EL   \n",
              "\n",
              "                                     imageURLHighRes  dateYear  dateMonth  \\\n",
              "0                                                 []      2008         11   \n",
              "1  ['https://images-na.ssl-images-amazon.com/imag...      2016          6   \n",
              "2  ['https://images-na.ssl-images-amazon.com/imag...         0          0   \n",
              "3  ['https://images-na.ssl-images-amazon.com/imag...      2014         12   \n",
              "4                                                 []      2007          1   \n",
              "\n",
              "                                           ori_title  \\\n",
              "0  Tupperware Freezer Square Round Container Set ...   \n",
              "1  2 X Tupperware Pure &amp; Fresh Unique Covered...   \n",
              "2                    The Cigar - Moments of Pleasure   \n",
              "3               Caraselle 2X 50G Appliance Descalene   \n",
              "4  EATON Wiring 39CH-SP-L Arrow Hart 1-Gang Chrom...   \n",
              "\n",
              "                                            all_text  Doc  Topic  Probability  \\\n",
              "0  appliances refrigerators freezers ice makers t...    0      4     0.838047   \n",
              "1  appliances refrigerators freezers ice makers 2...    1      1     0.436292   \n",
              "2  appliances parts accessories the cigar moments...    2      7     0.673443   \n",
              "3  appliances parts accessories multi purpost des...    3      2     0.346032   \n",
              "4  appliances parts accessories range parts acces...    4      4     0.351157   \n",
              "\n",
              "   topic_num  probability  \n",
              "0          4     0.838050  \n",
              "1          1     0.436292  \n",
              "2          7     0.673443  \n",
              "3          2     0.346007  \n",
              "4          4     0.351166  "
            ],
            "text/html": [
              "\n",
              "  <div id=\"df-18cac77e-8521-4b62-8457-1f7cd2b7fb88\">\n",
              "    <div class=\"colab-df-container\">\n",
              "      <div>\n",
              "<style scoped>\n",
              "    .dataframe tbody tr th:only-of-type {\n",
              "        vertical-align: middle;\n",
              "    }\n",
              "\n",
              "    .dataframe tbody tr th {\n",
              "        vertical-align: top;\n",
              "    }\n",
              "\n",
              "    .dataframe thead th {\n",
              "        text-align: right;\n",
              "    }\n",
              "</style>\n",
              "<table border=\"1\" class=\"dataframe\">\n",
              "  <thead>\n",
              "    <tr style=\"text-align: right;\">\n",
              "      <th></th>\n",
              "      <th>category</th>\n",
              "      <th>description</th>\n",
              "      <th>title</th>\n",
              "      <th>brand</th>\n",
              "      <th>feature</th>\n",
              "      <th>main_cat</th>\n",
              "      <th>date</th>\n",
              "      <th>price</th>\n",
              "      <th>asin</th>\n",
              "      <th>imageURLHighRes</th>\n",
              "      <th>dateYear</th>\n",
              "      <th>dateMonth</th>\n",
              "      <th>ori_title</th>\n",
              "      <th>all_text</th>\n",
              "      <th>Doc</th>\n",
              "      <th>Topic</th>\n",
              "      <th>Probability</th>\n",
              "      <th>topic_num</th>\n",
              "      <th>probability</th>\n",
              "    </tr>\n",
              "  </thead>\n",
              "  <tbody>\n",
              "    <tr>\n",
              "      <th>0</th>\n",
              "      <td>Appliances Refrigerators, Freezers &amp; Ice Makers</td>\n",
              "      <td></td>\n",
              "      <td>tupperware freezer square round container set ...</td>\n",
              "      <td>tupperware</td>\n",
              "      <td>each 3 pc set includes two 7 8 cup 200 ml and ...</td>\n",
              "      <td>appliances</td>\n",
              "      <td>2008-11-19</td>\n",
              "      <td></td>\n",
              "      <td>7301113188</td>\n",
              "      <td>[]</td>\n",
              "      <td>2008</td>\n",
              "      <td>11</td>\n",
              "      <td>Tupperware Freezer Square Round Container Set ...</td>\n",
              "      <td>appliances refrigerators freezers ice makers t...</td>\n",
              "      <td>0</td>\n",
              "      <td>4</td>\n",
              "      <td>0.838047</td>\n",
              "      <td>4</td>\n",
              "      <td>0.838050</td>\n",
              "    </tr>\n",
              "    <tr>\n",
              "      <th>1</th>\n",
              "      <td>Appliances Refrigerators, Freezers &amp; Ice Makers</td>\n",
              "      <td>2 x tupperware pure fresh unique covered cool ...</td>\n",
              "      <td>2 x tupperware pure amp fresh unique covered c...</td>\n",
              "      <td>tupperware</td>\n",
              "      <td>2 x tupperware pure fresh unique covered cool ...</td>\n",
              "      <td>appliances</td>\n",
              "      <td>2016-06-05</td>\n",
              "      <td>3.62</td>\n",
              "      <td>7861850250</td>\n",
              "      <td>['https://images-na.ssl-images-amazon.com/imag...</td>\n",
              "      <td>2016</td>\n",
              "      <td>6</td>\n",
              "      <td>2 X Tupperware Pure &amp;amp; Fresh Unique Covered...</td>\n",
              "      <td>appliances refrigerators freezers ice makers 2...</td>\n",
              "      <td>1</td>\n",
              "      <td>1</td>\n",
              "      <td>0.436292</td>\n",
              "      <td>1</td>\n",
              "      <td>0.436292</td>\n",
              "    </tr>\n",
              "    <tr>\n",
              "      <th>2</th>\n",
              "      <td>Appliances Parts &amp; Accessories</td>\n",
              "      <td></td>\n",
              "      <td>the cigar moments of pleasure</td>\n",
              "      <td>the cigar book</td>\n",
              "      <td></td>\n",
              "      <td>amazon home</td>\n",
              "      <td></td>\n",
              "      <td>150.26</td>\n",
              "      <td>8792559360</td>\n",
              "      <td>['https://images-na.ssl-images-amazon.com/imag...</td>\n",
              "      <td>0</td>\n",
              "      <td>0</td>\n",
              "      <td>The Cigar - Moments of Pleasure</td>\n",
              "      <td>appliances parts accessories the cigar moments...</td>\n",
              "      <td>2</td>\n",
              "      <td>7</td>\n",
              "      <td>0.673443</td>\n",
              "      <td>7</td>\n",
              "      <td>0.673443</td>\n",
              "    </tr>\n",
              "    <tr>\n",
              "      <th>3</th>\n",
              "      <td>Appliances Parts &amp; Accessories</td>\n",
              "      <td>multi purpost descaler especially suited to wa...</td>\n",
              "      <td>caraselle 2x 50g appliance descalene</td>\n",
              "      <td>caraselle</td>\n",
              "      <td></td>\n",
              "      <td>tools home improvement</td>\n",
              "      <td>2014-12-17</td>\n",
              "      <td></td>\n",
              "      <td>9792954481</td>\n",
              "      <td>['https://images-na.ssl-images-amazon.com/imag...</td>\n",
              "      <td>2014</td>\n",
              "      <td>12</td>\n",
              "      <td>Caraselle 2X 50G Appliance Descalene</td>\n",
              "      <td>appliances parts accessories multi purpost des...</td>\n",
              "      <td>3</td>\n",
              "      <td>2</td>\n",
              "      <td>0.346032</td>\n",
              "      <td>2</td>\n",
              "      <td>0.346007</td>\n",
              "    </tr>\n",
              "    <tr>\n",
              "      <th>4</th>\n",
              "      <td>Appliances Parts &amp; Accessories Range Parts &amp; A...</td>\n",
              "      <td>full gauge and size beveled edge furnished wit...</td>\n",
              "      <td>eaton wiring 39ch sp l arrow hart 1 gang chrom...</td>\n",
              "      <td>eaton wiring</td>\n",
              "      <td>returns will not be honored on this closeout i...</td>\n",
              "      <td>tools home improvement</td>\n",
              "      <td>2007-01-16</td>\n",
              "      <td>3.43</td>\n",
              "      <td>B00002N5EL</td>\n",
              "      <td>[]</td>\n",
              "      <td>2007</td>\n",
              "      <td>1</td>\n",
              "      <td>EATON Wiring 39CH-SP-L Arrow Hart 1-Gang Chrom...</td>\n",
              "      <td>appliances parts accessories range parts acces...</td>\n",
              "      <td>4</td>\n",
              "      <td>4</td>\n",
              "      <td>0.351157</td>\n",
              "      <td>4</td>\n",
              "      <td>0.351166</td>\n",
              "    </tr>\n",
              "  </tbody>\n",
              "</table>\n",
              "</div>\n",
              "      <button class=\"colab-df-convert\" onclick=\"convertToInteractive('df-18cac77e-8521-4b62-8457-1f7cd2b7fb88')\"\n",
              "              title=\"Convert this dataframe to an interactive table.\"\n",
              "              style=\"display:none;\">\n",
              "        \n",
              "  <svg xmlns=\"http://www.w3.org/2000/svg\" height=\"24px\"viewBox=\"0 0 24 24\"\n",
              "       width=\"24px\">\n",
              "    <path d=\"M0 0h24v24H0V0z\" fill=\"none\"/>\n",
              "    <path d=\"M18.56 5.44l.94 2.06.94-2.06 2.06-.94-2.06-.94-.94-2.06-.94 2.06-2.06.94zm-11 1L8.5 8.5l.94-2.06 2.06-.94-2.06-.94L8.5 2.5l-.94 2.06-2.06.94zm10 10l.94 2.06.94-2.06 2.06-.94-2.06-.94-.94-2.06-.94 2.06-2.06.94z\"/><path d=\"M17.41 7.96l-1.37-1.37c-.4-.4-.92-.59-1.43-.59-.52 0-1.04.2-1.43.59L10.3 9.45l-7.72 7.72c-.78.78-.78 2.05 0 2.83L4 21.41c.39.39.9.59 1.41.59.51 0 1.02-.2 1.41-.59l7.78-7.78 2.81-2.81c.8-.78.8-2.07 0-2.86zM5.41 20L4 18.59l7.72-7.72 1.47 1.35L5.41 20z\"/>\n",
              "  </svg>\n",
              "      </button>\n",
              "      \n",
              "  <style>\n",
              "    .colab-df-container {\n",
              "      display:flex;\n",
              "      flex-wrap:wrap;\n",
              "      gap: 12px;\n",
              "    }\n",
              "\n",
              "    .colab-df-convert {\n",
              "      background-color: #E8F0FE;\n",
              "      border: none;\n",
              "      border-radius: 50%;\n",
              "      cursor: pointer;\n",
              "      display: none;\n",
              "      fill: #1967D2;\n",
              "      height: 32px;\n",
              "      padding: 0 0 0 0;\n",
              "      width: 32px;\n",
              "    }\n",
              "\n",
              "    .colab-df-convert:hover {\n",
              "      background-color: #E2EBFA;\n",
              "      box-shadow: 0px 1px 2px rgba(60, 64, 67, 0.3), 0px 1px 3px 1px rgba(60, 64, 67, 0.15);\n",
              "      fill: #174EA6;\n",
              "    }\n",
              "\n",
              "    [theme=dark] .colab-df-convert {\n",
              "      background-color: #3B4455;\n",
              "      fill: #D2E3FC;\n",
              "    }\n",
              "\n",
              "    [theme=dark] .colab-df-convert:hover {\n",
              "      background-color: #434B5C;\n",
              "      box-shadow: 0px 1px 3px 1px rgba(0, 0, 0, 0.15);\n",
              "      filter: drop-shadow(0px 1px 2px rgba(0, 0, 0, 0.3));\n",
              "      fill: #FFFFFF;\n",
              "    }\n",
              "  </style>\n",
              "\n",
              "      <script>\n",
              "        const buttonEl =\n",
              "          document.querySelector('#df-18cac77e-8521-4b62-8457-1f7cd2b7fb88 button.colab-df-convert');\n",
              "        buttonEl.style.display =\n",
              "          google.colab.kernel.accessAllowed ? 'block' : 'none';\n",
              "\n",
              "        async function convertToInteractive(key) {\n",
              "          const element = document.querySelector('#df-18cac77e-8521-4b62-8457-1f7cd2b7fb88');\n",
              "          const dataTable =\n",
              "            await google.colab.kernel.invokeFunction('convertToInteractive',\n",
              "                                                     [key], {});\n",
              "          if (!dataTable) return;\n",
              "\n",
              "          const docLinkHtml = 'Like what you see? Visit the ' +\n",
              "            '<a target=\"_blank\" href=https://colab.research.google.com/notebooks/data_table.ipynb>data table notebook</a>'\n",
              "            + ' to learn more about interactive tables.';\n",
              "          element.innerHTML = '';\n",
              "          dataTable['output_type'] = 'display_data';\n",
              "          await google.colab.output.renderOutput(dataTable, element);\n",
              "          const docLink = document.createElement('div');\n",
              "          docLink.innerHTML = docLinkHtml;\n",
              "          element.appendChild(docLink);\n",
              "        }\n",
              "      </script>\n",
              "    </div>\n",
              "  </div>\n",
              "  "
            ]
          },
          "metadata": {},
          "execution_count": 84
        }
      ]
    },
    {
      "cell_type": "code",
      "source": [
        "def topic_modeling_recommender(id, df):\n",
        "    id = id.lower()\n",
        "\n",
        "    # get the input product topic number\n",
        "    topic_num = df[df['asin'].str.lower() == id]['topic_num'].item()\n",
        "\n",
        "    # remove the input product from the recommendation data\n",
        "    exclude_input_df = df.copy()\n",
        "    exclude_input_df = exclude_input_df[exclude_input_df['asin'].str.lower() != id]\n",
        "\n",
        "    # get the top 10 Probability product for the matching topic number\n",
        "    output_df = exclude_input_df[exclude_input_df['topic_num'] == topic_num].sort_values('Probability', ascending=False).head(10)\n",
        "\n",
        "    # get the product indices\n",
        "    product_indices = output_df.index.tolist()\n",
        "\n",
        "    # return the top 10 most similar product\n",
        "    return df['asin'].iloc[product_indices].tolist(), df['ori_title'].iloc[product_indices].tolist()"
      ],
      "metadata": {
        "id": "3D0lKCxiHYws"
      },
      "execution_count": 147,
      "outputs": []
    },
    {
      "cell_type": "code",
      "source": [
        "# get input id and title for the recommendation\n",
        "input_id = product_df[product_df['title'].str.contains('refrigerator', case=False)].iloc[0]['asin']\n",
        "input_title = product_df[product_df['title'].str.contains('refrigerator', case=False)].iloc[0]['title']"
      ],
      "metadata": {
        "id": "Ut7W561hrZlx"
      },
      "execution_count": 148,
      "outputs": []
    },
    {
      "cell_type": "code",
      "source": [
        "#Get recommendations\n",
        "asin3, title3 = topic_modeling_recommender('B008XCK6SI', product_df)"
      ],
      "metadata": {
        "id": "uX4Ja_idrd1r"
      },
      "execution_count": 151,
      "outputs": []
    },
    {
      "cell_type": "code",
      "source": [
        "print('Topic Modeling Recommender Result for {}, {}: '.format(input_id, input_title))\n",
        "for i in range(0, 10):\n",
        "  print('{}. {}, {}'.format(i+1, asin3[i], title3[i]))"
      ],
      "metadata": {
        "id": "paVZCOztrlyf",
        "outputId": "23a292bb-a565-43ec-e35f-102f45faf9c9",
        "colab": {
          "base_uri": "https://localhost:8080/"
        }
      },
      "execution_count": 152,
      "outputs": [
        {
          "output_type": "stream",
          "name": "stdout",
          "text": [
            "Topic Modeling Recommender Result for B0001YH10C, coldmate mr 128 mini cooler warmer deluxe mini refrigerator: \n",
            "1. B001ASTT0S, GE GSCS3PGXSS 22.7 Cu. Ft. Stainless Steel Counter Depth Side-By-Side Refrigerator\n",
            "2. B0076CVOW8, GE GTS18CBDBB 18.1 Cu. Ft. Black Top Freezer Refrigerator\n",
            "3. B001BXC2LK, Summit : FF1325SS 10.4 cu. ft. Counter-Depth Top-Freezer Refrigerator - Stainless Steel Doors\n",
            "4. B0018S1V88, GE GSL25JFXLB 25 cu. Ft. Side by Side Refrigerator with Water and Ice Dispenser - CleanSteel\n",
            "5. B00EZ2EWLM, GE GZS23HGEWW 22.7 Cu. Ft. White Counter Depth Side-By-Side Refrigerator\n",
            "6. B00CXNLBBO, Amana ASD2575BRW 25.5 Cu. Ft. White Side-By-Side Refrigerator - Energy Star\n",
            "7. B0074WFW28, GE GTH17DBDWW 16.5 Cu. Ft. White Top Freezer Refrigerator - Energy Star\n",
            "8. B003V1CP26, GE Profile: PGCS1PJZSS 20.6 cu. ft. Counter-Depth French Door Refrigerator with 4 Adjustable Glass Shelves, Armoire Style Double Drawer Freezer System and External Water Dispenser\n",
            "9. B001ASOVMO, GE PSDS5YGXSS Profile 24.6 Cu. Ft. Stainless Steel Counter Depth Side-By-Side Refrigerator - Energy Star\n",
            "10. B00N45VO94, Frigidaire FFTR1022QW 10.0 Cu. Ft. White Counter Depth Top Freezer Refrigerator\n"
          ]
        }
      ]
    },
    {
      "cell_type": "code",
      "source": [
        "product_df.to_csv(\"Content_based_LDA_output.csv\", index=False)"
      ],
      "metadata": {
        "id": "wNLlkZ1uZEJS"
      },
      "execution_count": null,
      "outputs": []
    }
  ]
}