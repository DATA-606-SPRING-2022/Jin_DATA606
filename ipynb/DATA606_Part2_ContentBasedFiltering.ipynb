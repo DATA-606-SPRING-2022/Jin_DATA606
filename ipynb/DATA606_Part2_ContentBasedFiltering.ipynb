{
  "nbformat": 4,
  "nbformat_minor": 0,
  "metadata": {
    "colab": {
      "name": "DATA606_Part2_ContentBasedFiltering.ipynb",
      "provenance": [],
      "machine_shape": "hm",
      "toc_visible": true,
      "authorship_tag": "ABX9TyP7irqhvQZCdE4mDEJkHW8b",
      "include_colab_link": true
    },
    "kernelspec": {
      "name": "python3",
      "display_name": "Python 3"
    },
    "language_info": {
      "name": "python"
    },
    "accelerator": "GPU"
  },
  "cells": [
    {
      "cell_type": "markdown",
      "metadata": {
        "id": "view-in-github",
        "colab_type": "text"
      },
      "source": [
        "<a href=\"https://colab.research.google.com/github/JinHuiXu1991/Jin_DATA606/blob/main/ipynb/DATA606_Part2_ContentBasedFiltering.ipynb\" target=\"_parent\"><img src=\"https://colab.research.google.com/assets/colab-badge.svg\" alt=\"Open In Colab\"/></a>"
      ]
    },
    {
      "cell_type": "markdown",
      "source": [
        "# Amazon Product Recommender Systems\n",
        "## Author: Jin Hui Xu"
      ],
      "metadata": {
        "id": "IBqWel5PQXJ6"
      }
    },
    {
      "cell_type": "markdown",
      "source": [
        "##Content Based Filtering "
      ],
      "metadata": {
        "id": "3wPShliQZrYA"
      }
    },
    {
      "cell_type": "code",
      "execution_count": 1,
      "metadata": {
        "id": "JhuAJzIGQRHQ",
        "colab": {
          "base_uri": "https://localhost:8080/"
        },
        "outputId": "697d9ed3-b654-444c-8145-e298203f6590"
      },
      "outputs": [
        {
          "output_type": "stream",
          "name": "stdout",
          "text": [
            "--2022-03-20 16:11:39--  https://github.com/JinHuiXu1991/Jin_DATA606/blob/main/cleaned_data/cleaned_amazon_product.zip?raw=true\n",
            "Resolving github.com (github.com)... 140.82.121.3\n",
            "Connecting to github.com (github.com)|140.82.121.3|:443... connected.\n",
            "HTTP request sent, awaiting response... 302 Found\n",
            "Location: https://github.com/JinHuiXu1991/Jin_DATA606/raw/main/cleaned_data/cleaned_amazon_product.zip [following]\n",
            "--2022-03-20 16:11:40--  https://github.com/JinHuiXu1991/Jin_DATA606/raw/main/cleaned_data/cleaned_amazon_product.zip\n",
            "Reusing existing connection to github.com:443.\n",
            "HTTP request sent, awaiting response... 302 Found\n",
            "Location: https://raw.githubusercontent.com/JinHuiXu1991/Jin_DATA606/main/cleaned_data/cleaned_amazon_product.zip [following]\n",
            "--2022-03-20 16:11:40--  https://raw.githubusercontent.com/JinHuiXu1991/Jin_DATA606/main/cleaned_data/cleaned_amazon_product.zip\n",
            "Resolving raw.githubusercontent.com (raw.githubusercontent.com)... 185.199.111.133, 185.199.108.133, 185.199.110.133, ...\n",
            "Connecting to raw.githubusercontent.com (raw.githubusercontent.com)|185.199.111.133|:443... connected.\n",
            "HTTP request sent, awaiting response... 200 OK\n",
            "Length: 5544756 (5.3M) [application/zip]\n",
            "Saving to: ‘cleaned_amazon_product.zip?raw=true’\n",
            "\n",
            "cleaned_amazon_prod 100%[===================>]   5.29M  --.-KB/s    in 0.04s   \n",
            "\n",
            "2022-03-20 16:11:41 (127 MB/s) - ‘cleaned_amazon_product.zip?raw=true’ saved [5544756/5544756]\n",
            "\n",
            "--2022-03-20 16:11:41--  https://github.com/JinHuiXu1991/Jin_DATA606/blob/main/cleaned_data/cleaned_amazon_review.zip?raw=true\n",
            "Resolving github.com (github.com)... 140.82.121.4\n",
            "Connecting to github.com (github.com)|140.82.121.4|:443... connected.\n",
            "HTTP request sent, awaiting response... 302 Found\n",
            "Location: https://github.com/JinHuiXu1991/Jin_DATA606/raw/main/cleaned_data/cleaned_amazon_review.zip [following]\n",
            "--2022-03-20 16:11:41--  https://github.com/JinHuiXu1991/Jin_DATA606/raw/main/cleaned_data/cleaned_amazon_review.zip\n",
            "Reusing existing connection to github.com:443.\n",
            "HTTP request sent, awaiting response... 302 Found\n",
            "Location: https://raw.githubusercontent.com/JinHuiXu1991/Jin_DATA606/main/cleaned_data/cleaned_amazon_review.zip [following]\n",
            "--2022-03-20 16:11:41--  https://raw.githubusercontent.com/JinHuiXu1991/Jin_DATA606/main/cleaned_data/cleaned_amazon_review.zip\n",
            "Resolving raw.githubusercontent.com (raw.githubusercontent.com)... 185.199.111.133, 185.199.108.133, 185.199.110.133, ...\n",
            "Connecting to raw.githubusercontent.com (raw.githubusercontent.com)|185.199.111.133|:443... connected.\n",
            "HTTP request sent, awaiting response... 200 OK\n",
            "Length: 51337311 (49M) [application/zip]\n",
            "Saving to: ‘cleaned_amazon_review.zip?raw=true’\n",
            "\n",
            "cleaned_amazon_revi 100%[===================>]  48.96M   229MB/s    in 0.2s    \n",
            "\n",
            "2022-03-20 16:11:43 (229 MB/s) - ‘cleaned_amazon_review.zip?raw=true’ saved [51337311/51337311]\n",
            "\n"
          ]
        }
      ],
      "source": [
        "!wget https://github.com/JinHuiXu1991/Jin_DATA606/blob/main/cleaned_data/cleaned_amazon_product.zip?raw=true\n",
        "\n",
        "!wget https://github.com/JinHuiXu1991/Jin_DATA606/blob/main/cleaned_data/cleaned_amazon_review.zip?raw=true"
      ]
    },
    {
      "cell_type": "code",
      "source": [
        "import pandas as pd\n",
        "from sklearn.feature_extraction.text import TfidfVectorizer\n",
        "from sklearn.metrics.pairwise import cosine_similarity\n",
        "from sklearn.metrics.pairwise import linear_kernel\n",
        "import time\n",
        "import numpy as np\n",
        "import nltk\n",
        "from nltk.corpus import stopwords\n",
        "import re\n",
        "from nltk.stem import WordNetLemmatizer\n",
        "nltk.download('stopwords')\n",
        "nltk.download('wordnet')\n",
        "stop = stopwords.words('english')"
      ],
      "metadata": {
        "id": "h_oy-cnD3mTa",
        "colab": {
          "base_uri": "https://localhost:8080/"
        },
        "outputId": "48ae6542-4479-4cc0-a993-b3531f812cc7"
      },
      "execution_count": 2,
      "outputs": [
        {
          "output_type": "stream",
          "name": "stdout",
          "text": [
            "[nltk_data] Downloading package stopwords to /root/nltk_data...\n",
            "[nltk_data]   Unzipping corpora/stopwords.zip.\n",
            "[nltk_data] Downloading package wordnet to /root/nltk_data...\n",
            "[nltk_data]   Unzipping corpora/wordnet.zip.\n"
          ]
        }
      ]
    },
    {
      "cell_type": "markdown",
      "source": [
        "### Description Based Recommender"
      ],
      "metadata": {
        "id": "f5Rtf0qLZvuf"
      }
    },
    {
      "cell_type": "code",
      "source": [
        "product_df = pd.read_csv('/content/cleaned_amazon_product.zip?raw=true', compression='zip')"
      ],
      "metadata": {
        "id": "KpgFhp7f33iv"
      },
      "execution_count": 3,
      "outputs": []
    },
    {
      "cell_type": "code",
      "source": [
        "product_df.head()"
      ],
      "metadata": {
        "colab": {
          "base_uri": "https://localhost:8080/",
          "height": 458
        },
        "id": "hdRDusr836UP",
        "outputId": "78e23656-3663-464d-ff4a-e5c14f472ff7"
      },
      "execution_count": 4,
      "outputs": [
        {
          "output_type": "execute_result",
          "data": {
            "text/plain": [
              "                                            category  \\\n",
              "0    Appliances Refrigerators, Freezers & Ice Makers   \n",
              "1    Appliances Refrigerators, Freezers & Ice Makers   \n",
              "2                     Appliances Parts & Accessories   \n",
              "3                     Appliances Parts & Accessories   \n",
              "4  Appliances Parts & Accessories Range Parts & A...   \n",
              "\n",
              "                                         description  \\\n",
              "0                                                NaN   \n",
              "1  2 x tupperware pure fresh unique covered cool ...   \n",
              "2                                                NaN   \n",
              "3  multi purpost descaler especially suited to wa...   \n",
              "4  full gauge and size beveled edge furnished wit...   \n",
              "\n",
              "                                               title           brand  \\\n",
              "0  tupperware freezer square round container set ...      tupperware   \n",
              "1  2 x tupperware pure amp fresh unique covered c...      tupperware   \n",
              "2                      the cigar moments of pleasure  the cigar book   \n",
              "3               caraselle 2x 50g appliance descalene       caraselle   \n",
              "4  eaton wiring 39ch sp l arrow hart 1 gang chrom...    eaton wiring   \n",
              "\n",
              "                                             feature                main_cat  \\\n",
              "0  each 3 pc set includes two 7 8 cup 200 ml and ...              appliances   \n",
              "1  2 x tupperware pure fresh unique covered cool ...              appliances   \n",
              "2                                                NaN             amazon home   \n",
              "3                                                NaN  tools home improvement   \n",
              "4  returns will not be honored on this closeout i...  tools home improvement   \n",
              "\n",
              "         date   price        asin  \\\n",
              "0  2008-11-19     NaN  7301113188   \n",
              "1  2016-06-05    3.62  7861850250   \n",
              "2         NaN  150.26  8792559360   \n",
              "3  2014-12-17     NaN  9792954481   \n",
              "4  2007-01-16    3.43  B00002N5EL   \n",
              "\n",
              "                                     imageURLHighRes  dateYear  dateMonth  \\\n",
              "0                                                 []      2008         11   \n",
              "1  ['https://images-na.ssl-images-amazon.com/imag...      2016          6   \n",
              "2  ['https://images-na.ssl-images-amazon.com/imag...         0          0   \n",
              "3  ['https://images-na.ssl-images-amazon.com/imag...      2014         12   \n",
              "4                                                 []      2007          1   \n",
              "\n",
              "                                           ori_title  \n",
              "0  Tupperware Freezer Square Round Container Set ...  \n",
              "1  2 X Tupperware Pure &amp; Fresh Unique Covered...  \n",
              "2                    The Cigar - Moments of Pleasure  \n",
              "3               Caraselle 2X 50G Appliance Descalene  \n",
              "4  EATON Wiring 39CH-SP-L Arrow Hart 1-Gang Chrom...  "
            ],
            "text/html": [
              "\n",
              "  <div id=\"df-8d827ee8-ccb7-4999-bcd0-ce4d9dbc3796\">\n",
              "    <div class=\"colab-df-container\">\n",
              "      <div>\n",
              "<style scoped>\n",
              "    .dataframe tbody tr th:only-of-type {\n",
              "        vertical-align: middle;\n",
              "    }\n",
              "\n",
              "    .dataframe tbody tr th {\n",
              "        vertical-align: top;\n",
              "    }\n",
              "\n",
              "    .dataframe thead th {\n",
              "        text-align: right;\n",
              "    }\n",
              "</style>\n",
              "<table border=\"1\" class=\"dataframe\">\n",
              "  <thead>\n",
              "    <tr style=\"text-align: right;\">\n",
              "      <th></th>\n",
              "      <th>category</th>\n",
              "      <th>description</th>\n",
              "      <th>title</th>\n",
              "      <th>brand</th>\n",
              "      <th>feature</th>\n",
              "      <th>main_cat</th>\n",
              "      <th>date</th>\n",
              "      <th>price</th>\n",
              "      <th>asin</th>\n",
              "      <th>imageURLHighRes</th>\n",
              "      <th>dateYear</th>\n",
              "      <th>dateMonth</th>\n",
              "      <th>ori_title</th>\n",
              "    </tr>\n",
              "  </thead>\n",
              "  <tbody>\n",
              "    <tr>\n",
              "      <th>0</th>\n",
              "      <td>Appliances Refrigerators, Freezers &amp; Ice Makers</td>\n",
              "      <td>NaN</td>\n",
              "      <td>tupperware freezer square round container set ...</td>\n",
              "      <td>tupperware</td>\n",
              "      <td>each 3 pc set includes two 7 8 cup 200 ml and ...</td>\n",
              "      <td>appliances</td>\n",
              "      <td>2008-11-19</td>\n",
              "      <td>NaN</td>\n",
              "      <td>7301113188</td>\n",
              "      <td>[]</td>\n",
              "      <td>2008</td>\n",
              "      <td>11</td>\n",
              "      <td>Tupperware Freezer Square Round Container Set ...</td>\n",
              "    </tr>\n",
              "    <tr>\n",
              "      <th>1</th>\n",
              "      <td>Appliances Refrigerators, Freezers &amp; Ice Makers</td>\n",
              "      <td>2 x tupperware pure fresh unique covered cool ...</td>\n",
              "      <td>2 x tupperware pure amp fresh unique covered c...</td>\n",
              "      <td>tupperware</td>\n",
              "      <td>2 x tupperware pure fresh unique covered cool ...</td>\n",
              "      <td>appliances</td>\n",
              "      <td>2016-06-05</td>\n",
              "      <td>3.62</td>\n",
              "      <td>7861850250</td>\n",
              "      <td>['https://images-na.ssl-images-amazon.com/imag...</td>\n",
              "      <td>2016</td>\n",
              "      <td>6</td>\n",
              "      <td>2 X Tupperware Pure &amp;amp; Fresh Unique Covered...</td>\n",
              "    </tr>\n",
              "    <tr>\n",
              "      <th>2</th>\n",
              "      <td>Appliances Parts &amp; Accessories</td>\n",
              "      <td>NaN</td>\n",
              "      <td>the cigar moments of pleasure</td>\n",
              "      <td>the cigar book</td>\n",
              "      <td>NaN</td>\n",
              "      <td>amazon home</td>\n",
              "      <td>NaN</td>\n",
              "      <td>150.26</td>\n",
              "      <td>8792559360</td>\n",
              "      <td>['https://images-na.ssl-images-amazon.com/imag...</td>\n",
              "      <td>0</td>\n",
              "      <td>0</td>\n",
              "      <td>The Cigar - Moments of Pleasure</td>\n",
              "    </tr>\n",
              "    <tr>\n",
              "      <th>3</th>\n",
              "      <td>Appliances Parts &amp; Accessories</td>\n",
              "      <td>multi purpost descaler especially suited to wa...</td>\n",
              "      <td>caraselle 2x 50g appliance descalene</td>\n",
              "      <td>caraselle</td>\n",
              "      <td>NaN</td>\n",
              "      <td>tools home improvement</td>\n",
              "      <td>2014-12-17</td>\n",
              "      <td>NaN</td>\n",
              "      <td>9792954481</td>\n",
              "      <td>['https://images-na.ssl-images-amazon.com/imag...</td>\n",
              "      <td>2014</td>\n",
              "      <td>12</td>\n",
              "      <td>Caraselle 2X 50G Appliance Descalene</td>\n",
              "    </tr>\n",
              "    <tr>\n",
              "      <th>4</th>\n",
              "      <td>Appliances Parts &amp; Accessories Range Parts &amp; A...</td>\n",
              "      <td>full gauge and size beveled edge furnished wit...</td>\n",
              "      <td>eaton wiring 39ch sp l arrow hart 1 gang chrom...</td>\n",
              "      <td>eaton wiring</td>\n",
              "      <td>returns will not be honored on this closeout i...</td>\n",
              "      <td>tools home improvement</td>\n",
              "      <td>2007-01-16</td>\n",
              "      <td>3.43</td>\n",
              "      <td>B00002N5EL</td>\n",
              "      <td>[]</td>\n",
              "      <td>2007</td>\n",
              "      <td>1</td>\n",
              "      <td>EATON Wiring 39CH-SP-L Arrow Hart 1-Gang Chrom...</td>\n",
              "    </tr>\n",
              "  </tbody>\n",
              "</table>\n",
              "</div>\n",
              "      <button class=\"colab-df-convert\" onclick=\"convertToInteractive('df-8d827ee8-ccb7-4999-bcd0-ce4d9dbc3796')\"\n",
              "              title=\"Convert this dataframe to an interactive table.\"\n",
              "              style=\"display:none;\">\n",
              "        \n",
              "  <svg xmlns=\"http://www.w3.org/2000/svg\" height=\"24px\"viewBox=\"0 0 24 24\"\n",
              "       width=\"24px\">\n",
              "    <path d=\"M0 0h24v24H0V0z\" fill=\"none\"/>\n",
              "    <path d=\"M18.56 5.44l.94 2.06.94-2.06 2.06-.94-2.06-.94-.94-2.06-.94 2.06-2.06.94zm-11 1L8.5 8.5l.94-2.06 2.06-.94-2.06-.94L8.5 2.5l-.94 2.06-2.06.94zm10 10l.94 2.06.94-2.06 2.06-.94-2.06-.94-.94-2.06-.94 2.06-2.06.94z\"/><path d=\"M17.41 7.96l-1.37-1.37c-.4-.4-.92-.59-1.43-.59-.52 0-1.04.2-1.43.59L10.3 9.45l-7.72 7.72c-.78.78-.78 2.05 0 2.83L4 21.41c.39.39.9.59 1.41.59.51 0 1.02-.2 1.41-.59l7.78-7.78 2.81-2.81c.8-.78.8-2.07 0-2.86zM5.41 20L4 18.59l7.72-7.72 1.47 1.35L5.41 20z\"/>\n",
              "  </svg>\n",
              "      </button>\n",
              "      \n",
              "  <style>\n",
              "    .colab-df-container {\n",
              "      display:flex;\n",
              "      flex-wrap:wrap;\n",
              "      gap: 12px;\n",
              "    }\n",
              "\n",
              "    .colab-df-convert {\n",
              "      background-color: #E8F0FE;\n",
              "      border: none;\n",
              "      border-radius: 50%;\n",
              "      cursor: pointer;\n",
              "      display: none;\n",
              "      fill: #1967D2;\n",
              "      height: 32px;\n",
              "      padding: 0 0 0 0;\n",
              "      width: 32px;\n",
              "    }\n",
              "\n",
              "    .colab-df-convert:hover {\n",
              "      background-color: #E2EBFA;\n",
              "      box-shadow: 0px 1px 2px rgba(60, 64, 67, 0.3), 0px 1px 3px 1px rgba(60, 64, 67, 0.15);\n",
              "      fill: #174EA6;\n",
              "    }\n",
              "\n",
              "    [theme=dark] .colab-df-convert {\n",
              "      background-color: #3B4455;\n",
              "      fill: #D2E3FC;\n",
              "    }\n",
              "\n",
              "    [theme=dark] .colab-df-convert:hover {\n",
              "      background-color: #434B5C;\n",
              "      box-shadow: 0px 1px 3px 1px rgba(0, 0, 0, 0.15);\n",
              "      filter: drop-shadow(0px 1px 2px rgba(0, 0, 0, 0.3));\n",
              "      fill: #FFFFFF;\n",
              "    }\n",
              "  </style>\n",
              "\n",
              "      <script>\n",
              "        const buttonEl =\n",
              "          document.querySelector('#df-8d827ee8-ccb7-4999-bcd0-ce4d9dbc3796 button.colab-df-convert');\n",
              "        buttonEl.style.display =\n",
              "          google.colab.kernel.accessAllowed ? 'block' : 'none';\n",
              "\n",
              "        async function convertToInteractive(key) {\n",
              "          const element = document.querySelector('#df-8d827ee8-ccb7-4999-bcd0-ce4d9dbc3796');\n",
              "          const dataTable =\n",
              "            await google.colab.kernel.invokeFunction('convertToInteractive',\n",
              "                                                     [key], {});\n",
              "          if (!dataTable) return;\n",
              "\n",
              "          const docLinkHtml = 'Like what you see? Visit the ' +\n",
              "            '<a target=\"_blank\" href=https://colab.research.google.com/notebooks/data_table.ipynb>data table notebook</a>'\n",
              "            + ' to learn more about interactive tables.';\n",
              "          element.innerHTML = '';\n",
              "          dataTable['output_type'] = 'display_data';\n",
              "          await google.colab.output.renderOutput(dataTable, element);\n",
              "          const docLink = document.createElement('div');\n",
              "          docLink.innerHTML = docLinkHtml;\n",
              "          element.appendChild(docLink);\n",
              "        }\n",
              "      </script>\n",
              "    </div>\n",
              "  </div>\n",
              "  "
            ]
          },
          "metadata": {},
          "execution_count": 4
        }
      ]
    },
    {
      "cell_type": "code",
      "source": [
        "product_df.shape"
      ],
      "metadata": {
        "id": "lqIbznqFmZJb",
        "outputId": "8e345bb6-68c0-48bd-e9fb-ea1a1b7b3c08",
        "colab": {
          "base_uri": "https://localhost:8080/"
        }
      },
      "execution_count": 5,
      "outputs": [
        {
          "output_type": "execute_result",
          "data": {
            "text/plain": [
              "(30239, 13)"
            ]
          },
          "metadata": {},
          "execution_count": 5
        }
      ]
    },
    {
      "cell_type": "code",
      "source": [
        "# Replace all NaN with an empty string\n",
        "product_df = product_df.fillna('')\n",
        "product_df.isnull().sum()"
      ],
      "metadata": {
        "id": "uN8kZQImcZE1",
        "outputId": "fe3ca1eb-8e23-45f3-dab1-1bb3570b8380",
        "colab": {
          "base_uri": "https://localhost:8080/"
        }
      },
      "execution_count": 6,
      "outputs": [
        {
          "output_type": "execute_result",
          "data": {
            "text/plain": [
              "category           0\n",
              "description        0\n",
              "title              0\n",
              "brand              0\n",
              "feature            0\n",
              "main_cat           0\n",
              "date               0\n",
              "price              0\n",
              "asin               0\n",
              "imageURLHighRes    0\n",
              "dateYear           0\n",
              "dateMonth          0\n",
              "ori_title          0\n",
              "dtype: int64"
            ]
          },
          "metadata": {},
          "execution_count": 6
        }
      ]
    },
    {
      "cell_type": "code",
      "source": [
        "lem = WordNetLemmatizer()\n",
        "def lemma(text):\n",
        "    return ' '.join(lem.lemmatize(w) for w in text.split() if w not in stop)   "
      ],
      "metadata": {
        "id": "I7gR__0BW2px"
      },
      "execution_count": 7,
      "outputs": []
    },
    {
      "cell_type": "code",
      "source": [
        "product_df['description'] = product_df['description'].apply(lemma)"
      ],
      "metadata": {
        "id": "cym1OkB0XAkl"
      },
      "execution_count": 8,
      "outputs": []
    },
    {
      "cell_type": "code",
      "source": [
        "# Define a TF-IDF Vectorizer object and remove all english stopwords\n",
        "tfidf = TfidfVectorizer(stop_words='english', max_df = 0.9, min_df = 5)"
      ],
      "metadata": {
        "id": "mVZ7Xw3GcTjq"
      },
      "execution_count": 9,
      "outputs": []
    },
    {
      "cell_type": "code",
      "source": [
        "# Construct the required TF-IDF matrix \n",
        "tfidf_matrix = tfidf.fit_transform(product_df['description'])"
      ],
      "metadata": {
        "id": "s1HLfKZKcVPu"
      },
      "execution_count": 10,
      "outputs": []
    },
    {
      "cell_type": "code",
      "source": [
        "# Output the shape of tfidf_matrix\n",
        "tfidf_matrix.shape"
      ],
      "metadata": {
        "id": "_1rhvJm-c-Px",
        "outputId": "cf5ddddd-68ad-4152-c339-e23749f70cb7",
        "colab": {
          "base_uri": "https://localhost:8080/"
        }
      },
      "execution_count": 11,
      "outputs": [
        {
          "output_type": "execute_result",
          "data": {
            "text/plain": [
              "(30239, 9738)"
            ]
          },
          "metadata": {},
          "execution_count": 11
        }
      ]
    },
    {
      "cell_type": "markdown",
      "source": [
        "Both linear_kernel and cosine_similarity methods produce the same result. We would like to apply both methods can see the performance of creating the cosine similarity matrix, and choose the faster one."
      ],
      "metadata": {
        "id": "K7RwGuq9uCFY"
      }
    },
    {
      "cell_type": "code",
      "source": [
        "start = time.time()\n",
        "cosine_sim = linear_kernel(tfidf_matrix, tfidf_matrix)\n",
        "print(\"Time taken: %s seconds\" % (time.time() - start))"
      ],
      "metadata": {
        "id": "cTgIW-1OeE3C",
        "outputId": "b087705a-3364-4eed-b104-3d83e6d051c7",
        "colab": {
          "base_uri": "https://localhost:8080/"
        }
      },
      "execution_count": 12,
      "outputs": [
        {
          "output_type": "stream",
          "name": "stdout",
          "text": [
            "Time taken: 15.165456533432007 seconds\n"
          ]
        }
      ]
    },
    {
      "cell_type": "code",
      "source": [
        "# start = time.time()\n",
        "# cosine_sim2 = cosine_similarity(tfidf_matrix, tfidf_matrix)\n",
        "# print(\"Time taken: %s seconds\" % (time.time() - start))"
      ],
      "metadata": {
        "id": "eSwHoC3BeGdl"
      },
      "execution_count": 13,
      "outputs": []
    },
    {
      "cell_type": "markdown",
      "source": [
        "The performance results are very close, and the linear_kernel result will be used"
      ],
      "metadata": {
        "id": "EQHugHhAuhc7"
      }
    },
    {
      "cell_type": "code",
      "source": [
        "# Reverse mapping of indices and product id\n",
        "indices = pd.Series(product_df.index, index=product_df['asin'].str.lower()).drop_duplicates()"
      ],
      "metadata": {
        "id": "mUWwgEmKgxfi"
      },
      "execution_count": 14,
      "outputs": []
    },
    {
      "cell_type": "code",
      "source": [
        "# Function that takes in product id as input and gives recommendations \n",
        "def description_recommender(id, cosine_sim = cosine_sim, df = product_df, indices = indices):\n",
        "  # get the index of the product that matches the id\n",
        "  idx = indices[id.lower()]\n",
        "\n",
        "  # get the pairwsie similarity scores \n",
        "  # then convert it into a list of tuples as described above\n",
        "  sim_scores = list(enumerate(cosine_sim[idx]))\n",
        "\n",
        "  # sort the product based on the cosine similarity scores\n",
        "  sim_scores = sorted(sim_scores, key=lambda x: x[1], reverse=True)\n",
        "\n",
        "  # get the scores of the 10 most similar product. Ignore the first one because it is the input product.\n",
        "  sim_scores = sim_scores[1:11]\n",
        "\n",
        "  # get the product indices\n",
        "  product_indices = [i[0] for i in sim_scores]\n",
        "\n",
        "  # return the top 10 most similar product\n",
        "  return df['asin'].iloc[product_indices].tolist(), df['ori_title'].iloc[product_indices].tolist()"
      ],
      "metadata": {
        "id": "i6vi4fLvhDQl"
      },
      "execution_count": 15,
      "outputs": []
    },
    {
      "cell_type": "code",
      "source": [
        "product_df[product_df['title'].str.contains('refrigerator', case=False)].head(1)"
      ],
      "metadata": {
        "id": "Q88318ZNhyZO",
        "outputId": "ab194973-6bcc-4de4-cc58-70579dab5780",
        "colab": {
          "base_uri": "https://localhost:8080/",
          "height": 159
        }
      },
      "execution_count": 16,
      "outputs": [
        {
          "output_type": "execute_result",
          "data": {
            "text/plain": [
              "                                            category  \\\n",
              "131  Appliances Refrigerators, Freezers & Ice Makers   \n",
              "\n",
              "                                           description  \\\n",
              "131  compact mini cooler warmer hold 17 liter twent...   \n",
              "\n",
              "                                                 title     brand  \\\n",
              "131  coldmate mr 128 mini cooler warmer deluxe mini...  coldmate   \n",
              "\n",
              "                                               feature    main_cat  \\\n",
              "131  press the cold button to cool to 40 f and hot ...  appliances   \n",
              "\n",
              "           date price        asin  \\\n",
              "131  2001-10-02        B0001YH10C   \n",
              "\n",
              "                                       imageURLHighRes  dateYear  dateMonth  \\\n",
              "131  ['https://images-na.ssl-images-amazon.com/imag...      2001         10   \n",
              "\n",
              "                                             ori_title  \n",
              "131  Coldmate MR-128 Mini Cooler/Warmer Deluxe Mini...  "
            ],
            "text/html": [
              "\n",
              "  <div id=\"df-952e2bd0-279c-4389-9fb3-59e0c565ddba\">\n",
              "    <div class=\"colab-df-container\">\n",
              "      <div>\n",
              "<style scoped>\n",
              "    .dataframe tbody tr th:only-of-type {\n",
              "        vertical-align: middle;\n",
              "    }\n",
              "\n",
              "    .dataframe tbody tr th {\n",
              "        vertical-align: top;\n",
              "    }\n",
              "\n",
              "    .dataframe thead th {\n",
              "        text-align: right;\n",
              "    }\n",
              "</style>\n",
              "<table border=\"1\" class=\"dataframe\">\n",
              "  <thead>\n",
              "    <tr style=\"text-align: right;\">\n",
              "      <th></th>\n",
              "      <th>category</th>\n",
              "      <th>description</th>\n",
              "      <th>title</th>\n",
              "      <th>brand</th>\n",
              "      <th>feature</th>\n",
              "      <th>main_cat</th>\n",
              "      <th>date</th>\n",
              "      <th>price</th>\n",
              "      <th>asin</th>\n",
              "      <th>imageURLHighRes</th>\n",
              "      <th>dateYear</th>\n",
              "      <th>dateMonth</th>\n",
              "      <th>ori_title</th>\n",
              "    </tr>\n",
              "  </thead>\n",
              "  <tbody>\n",
              "    <tr>\n",
              "      <th>131</th>\n",
              "      <td>Appliances Refrigerators, Freezers &amp; Ice Makers</td>\n",
              "      <td>compact mini cooler warmer hold 17 liter twent...</td>\n",
              "      <td>coldmate mr 128 mini cooler warmer deluxe mini...</td>\n",
              "      <td>coldmate</td>\n",
              "      <td>press the cold button to cool to 40 f and hot ...</td>\n",
              "      <td>appliances</td>\n",
              "      <td>2001-10-02</td>\n",
              "      <td></td>\n",
              "      <td>B0001YH10C</td>\n",
              "      <td>['https://images-na.ssl-images-amazon.com/imag...</td>\n",
              "      <td>2001</td>\n",
              "      <td>10</td>\n",
              "      <td>Coldmate MR-128 Mini Cooler/Warmer Deluxe Mini...</td>\n",
              "    </tr>\n",
              "  </tbody>\n",
              "</table>\n",
              "</div>\n",
              "      <button class=\"colab-df-convert\" onclick=\"convertToInteractive('df-952e2bd0-279c-4389-9fb3-59e0c565ddba')\"\n",
              "              title=\"Convert this dataframe to an interactive table.\"\n",
              "              style=\"display:none;\">\n",
              "        \n",
              "  <svg xmlns=\"http://www.w3.org/2000/svg\" height=\"24px\"viewBox=\"0 0 24 24\"\n",
              "       width=\"24px\">\n",
              "    <path d=\"M0 0h24v24H0V0z\" fill=\"none\"/>\n",
              "    <path d=\"M18.56 5.44l.94 2.06.94-2.06 2.06-.94-2.06-.94-.94-2.06-.94 2.06-2.06.94zm-11 1L8.5 8.5l.94-2.06 2.06-.94-2.06-.94L8.5 2.5l-.94 2.06-2.06.94zm10 10l.94 2.06.94-2.06 2.06-.94-2.06-.94-.94-2.06-.94 2.06-2.06.94z\"/><path d=\"M17.41 7.96l-1.37-1.37c-.4-.4-.92-.59-1.43-.59-.52 0-1.04.2-1.43.59L10.3 9.45l-7.72 7.72c-.78.78-.78 2.05 0 2.83L4 21.41c.39.39.9.59 1.41.59.51 0 1.02-.2 1.41-.59l7.78-7.78 2.81-2.81c.8-.78.8-2.07 0-2.86zM5.41 20L4 18.59l7.72-7.72 1.47 1.35L5.41 20z\"/>\n",
              "  </svg>\n",
              "      </button>\n",
              "      \n",
              "  <style>\n",
              "    .colab-df-container {\n",
              "      display:flex;\n",
              "      flex-wrap:wrap;\n",
              "      gap: 12px;\n",
              "    }\n",
              "\n",
              "    .colab-df-convert {\n",
              "      background-color: #E8F0FE;\n",
              "      border: none;\n",
              "      border-radius: 50%;\n",
              "      cursor: pointer;\n",
              "      display: none;\n",
              "      fill: #1967D2;\n",
              "      height: 32px;\n",
              "      padding: 0 0 0 0;\n",
              "      width: 32px;\n",
              "    }\n",
              "\n",
              "    .colab-df-convert:hover {\n",
              "      background-color: #E2EBFA;\n",
              "      box-shadow: 0px 1px 2px rgba(60, 64, 67, 0.3), 0px 1px 3px 1px rgba(60, 64, 67, 0.15);\n",
              "      fill: #174EA6;\n",
              "    }\n",
              "\n",
              "    [theme=dark] .colab-df-convert {\n",
              "      background-color: #3B4455;\n",
              "      fill: #D2E3FC;\n",
              "    }\n",
              "\n",
              "    [theme=dark] .colab-df-convert:hover {\n",
              "      background-color: #434B5C;\n",
              "      box-shadow: 0px 1px 3px 1px rgba(0, 0, 0, 0.15);\n",
              "      filter: drop-shadow(0px 1px 2px rgba(0, 0, 0, 0.3));\n",
              "      fill: #FFFFFF;\n",
              "    }\n",
              "  </style>\n",
              "\n",
              "      <script>\n",
              "        const buttonEl =\n",
              "          document.querySelector('#df-952e2bd0-279c-4389-9fb3-59e0c565ddba button.colab-df-convert');\n",
              "        buttonEl.style.display =\n",
              "          google.colab.kernel.accessAllowed ? 'block' : 'none';\n",
              "\n",
              "        async function convertToInteractive(key) {\n",
              "          const element = document.querySelector('#df-952e2bd0-279c-4389-9fb3-59e0c565ddba');\n",
              "          const dataTable =\n",
              "            await google.colab.kernel.invokeFunction('convertToInteractive',\n",
              "                                                     [key], {});\n",
              "          if (!dataTable) return;\n",
              "\n",
              "          const docLinkHtml = 'Like what you see? Visit the ' +\n",
              "            '<a target=\"_blank\" href=https://colab.research.google.com/notebooks/data_table.ipynb>data table notebook</a>'\n",
              "            + ' to learn more about interactive tables.';\n",
              "          element.innerHTML = '';\n",
              "          dataTable['output_type'] = 'display_data';\n",
              "          await google.colab.output.renderOutput(dataTable, element);\n",
              "          const docLink = document.createElement('div');\n",
              "          docLink.innerHTML = docLinkHtml;\n",
              "          element.appendChild(docLink);\n",
              "        }\n",
              "      </script>\n",
              "    </div>\n",
              "  </div>\n",
              "  "
            ]
          },
          "metadata": {},
          "execution_count": 16
        }
      ]
    },
    {
      "cell_type": "code",
      "source": [
        "# get input id and title for the recommendation\n",
        "input_id = product_df[product_df['title'].str.contains('refrigerator', case=False)].iloc[0]['asin']\n",
        "input_title = product_df[product_df['title'].str.contains('refrigerator', case=False)].iloc[0]['title']"
      ],
      "metadata": {
        "id": "hoYG3qhjpxDC"
      },
      "execution_count": 17,
      "outputs": []
    },
    {
      "cell_type": "code",
      "source": [
        "#Get recommendations for Coldmate MR-128 Mini Cooler/Warmer Deluxe Mini Refrigerator, input the product id \n",
        "asin, title = description_recommender(input_id)"
      ],
      "metadata": {
        "id": "ve_-2M0jhutw"
      },
      "execution_count": 18,
      "outputs": []
    },
    {
      "cell_type": "code",
      "source": [
        "print('Description Based Recommender Result for {}, {}: '.format(input_id, input_title))\n",
        "for i in range(0, 10):\n",
        "  print('{}. {}, {}'.format(i+1, asin[i], title[i]))"
      ],
      "metadata": {
        "id": "vTLC12LFob-w",
        "outputId": "8048ee75-d1a7-47ab-b223-afef30fec9c2",
        "colab": {
          "base_uri": "https://localhost:8080/"
        }
      },
      "execution_count": 19,
      "outputs": [
        {
          "output_type": "stream",
          "name": "stdout",
          "text": [
            "Description Based Recommender Result for B0001YH10C, coldmate mr 128 mini cooler warmer deluxe mini refrigerator: \n",
            "1. B00ID8CLMG, Avanti FF45006W 4.3 CF Frost Free Refrigerator Freezer, White\n",
            "2. B00RNAH5OY, goFridge Mini Fridge Portable Electric Cooler\n",
            "3. B001H80RN4, Frigidaire 241505301 Refrigerator Door Bin Genuine Original Equipment Manufacturer (OEM) Part\n",
            "4. B004NEYPYQ, Frost-Free 4.3 Cu. Ft. Refrigerator/Freezer White\n",
            "5. B000JLL3BK, Pek Vino Vault Wine Preserving Refrigerator, Silver\n",
            "6. B01F79MKME, Amana AMA43BK Compact Single Door Refrigerator, 4.3 cu. ft, Black\n",
            "7. B001F7H4RY, PORTABLE COOLER WARMER MINI FRIDGE WINE BEER\n",
            "8. B001AAHW6E, Whirlpool 2179404KRA Beverage Rack\n",
            "9. B001775T4C, Nostalgia Electrics CRF170RETRORED Retro Series Mini Fridge, 1.7 Cubic Feet\n",
            "10. B004Y3C9J4, 1.7 cuft Superconduction Refrigerator\n"
          ]
        }
      ]
    },
    {
      "cell_type": "code",
      "source": [
        "# np.save('cosine_sim', cosine_sim)"
      ],
      "metadata": {
        "id": "pn2Li6e2OQOY"
      },
      "execution_count": 20,
      "outputs": []
    },
    {
      "cell_type": "code",
      "source": [
        "# original_cs = np.load(\"cosine_sim.npy\")\n",
        "# original_cs"
      ],
      "metadata": {
        "id": "e6TlEqV9PDXK"
      },
      "execution_count": 21,
      "outputs": []
    },
    {
      "cell_type": "code",
      "source": [
        "# get input id and title for the recommendation\n",
        "# input_id = product_df[product_df['title'].str.contains('refrigerator', case=False)].iloc[1]['asin']\n",
        "# input_title = product_df[product_df['title'].str.contains('refrigerator', case=False)].iloc[1]['title']"
      ],
      "metadata": {
        "id": "_1qh4GUZRCPE"
      },
      "execution_count": 22,
      "outputs": []
    },
    {
      "cell_type": "code",
      "source": [
        "#Get recommendations\n",
        "# asin, title = description_recommender(input_id, cosine_sim=original_cs)"
      ],
      "metadata": {
        "id": "VihsEg-ZREkS"
      },
      "execution_count": 23,
      "outputs": []
    },
    {
      "cell_type": "code",
      "source": [
        "# print('Description Based Recommender Result for {}, {}: '.format(input_id, input_title))\n",
        "# for i in range(0, 10):\n",
        "#   print('{}. {}, {}'.format(i+1, asin[i], title[i]))"
      ],
      "metadata": {
        "id": "gbJ35xtpQt4z"
      },
      "execution_count": 24,
      "outputs": []
    },
    {
      "cell_type": "markdown",
      "source": [
        "### Metadata Based Recommender"
      ],
      "metadata": {
        "id": "YfIQKHicnnIo"
      }
    },
    {
      "cell_type": "code",
      "source": [
        "product_df = pd.read_csv('/content/cleaned_amazon_product.zip?raw=true', compression='zip')\n",
        "product_df = product_df.fillna('')"
      ],
      "metadata": {
        "id": "Xz23qOx1aimV"
      },
      "execution_count": 25,
      "outputs": []
    },
    {
      "cell_type": "code",
      "source": [
        "product_df.info()"
      ],
      "metadata": {
        "id": "hOK69ojkamwj",
        "outputId": "e821ea8f-69c9-465b-8b24-aaa7cb153c88",
        "colab": {
          "base_uri": "https://localhost:8080/"
        }
      },
      "execution_count": 26,
      "outputs": [
        {
          "output_type": "stream",
          "name": "stdout",
          "text": [
            "<class 'pandas.core.frame.DataFrame'>\n",
            "RangeIndex: 30239 entries, 0 to 30238\n",
            "Data columns (total 13 columns):\n",
            " #   Column           Non-Null Count  Dtype \n",
            "---  ------           --------------  ----- \n",
            " 0   category         30239 non-null  object\n",
            " 1   description      30239 non-null  object\n",
            " 2   title            30239 non-null  object\n",
            " 3   brand            30239 non-null  object\n",
            " 4   feature          30239 non-null  object\n",
            " 5   main_cat         30239 non-null  object\n",
            " 6   date             30239 non-null  object\n",
            " 7   price            30239 non-null  object\n",
            " 8   asin             30239 non-null  object\n",
            " 9   imageURLHighRes  30239 non-null  object\n",
            " 10  dateYear         30239 non-null  int64 \n",
            " 11  dateMonth        30239 non-null  int64 \n",
            " 12  ori_title        30239 non-null  object\n",
            "dtypes: int64(2), object(11)\n",
            "memory usage: 3.0+ MB\n"
          ]
        }
      ]
    },
    {
      "cell_type": "code",
      "source": [
        "# Use meta data except description and features\n",
        "product_df['meta_text'] = product_df['category'] + ' ' +  product_df['title'] + ' ' +  product_df['brand'] + ' ' + product_df['main_cat'] + ' ' + product_df['price'].astype(str) + ' ' + product_df['dateYear'].astype(str) + ' ' + product_df['dateMonth'].astype(str) \n",
        "product_df['meta_text'] = product_df['meta_text'].apply(lemma)"
      ],
      "metadata": {
        "id": "vOw-1YRzncWP"
      },
      "execution_count": 27,
      "outputs": []
    },
    {
      "cell_type": "code",
      "source": [
        "# Define a TF-IDF Vectorizer object and remove all english stopwords\n",
        "tfidf2 = TfidfVectorizer(stop_words='english', max_df = 0.9, min_df = 5)"
      ],
      "metadata": {
        "id": "7TTolxYHoss8"
      },
      "execution_count": 28,
      "outputs": []
    },
    {
      "cell_type": "code",
      "source": [
        "tfidf_matrix2 = tfidf2.fit_transform(product_df['meta_text'])"
      ],
      "metadata": {
        "id": "z1yuRxOwcdmX"
      },
      "execution_count": 29,
      "outputs": []
    },
    {
      "cell_type": "code",
      "source": [
        "tfidf_matrix2.shape"
      ],
      "metadata": {
        "id": "t-LGdfsocjFb",
        "outputId": "a175164d-3ef6-4c9d-ec9e-6a17b8b1703e",
        "colab": {
          "base_uri": "https://localhost:8080/"
        }
      },
      "execution_count": 30,
      "outputs": [
        {
          "output_type": "execute_result",
          "data": {
            "text/plain": [
              "(30239, 3381)"
            ]
          },
          "metadata": {},
          "execution_count": 30
        }
      ]
    },
    {
      "cell_type": "code",
      "source": [
        "cosine_sim2 = linear_kernel(tfidf_matrix2, tfidf_matrix2)"
      ],
      "metadata": {
        "id": "8JirBTDjcnaz"
      },
      "execution_count": 31,
      "outputs": []
    },
    {
      "cell_type": "code",
      "source": [
        "indices = pd.Series(product_df.index, index=product_df['asin'].str.lower()).drop_duplicates()"
      ],
      "metadata": {
        "id": "4H092bO7cuVa"
      },
      "execution_count": 32,
      "outputs": []
    },
    {
      "cell_type": "code",
      "source": [
        "# Function that takes in product id as input and gives recommendations \n",
        "def description_recommender(id, cosine_sim = cosine_sim2, df = product_df, indices = indices):\n",
        "  # get the index of the product that matches the id\n",
        "  idx = indices[id.lower()]\n",
        "\n",
        "  # get the pairwsie similarity scores \n",
        "  # then convert it into a list of tuples as described above\n",
        "  sim_scores = list(enumerate(cosine_sim[idx]))\n",
        "\n",
        "  # sort the product based on the cosine similarity scores\n",
        "  sim_scores = sorted(sim_scores, key=lambda x: x[1], reverse=True)\n",
        "\n",
        "  # get the scores of the 10 most similar product. Ignore the first one because it is the input product.\n",
        "  sim_scores = sim_scores[1:11]\n",
        "\n",
        "  # get the product indices\n",
        "  product_indices = [i[0] for i in sim_scores]\n",
        "\n",
        "  # return the top 10 most similar product\n",
        "  return df['asin'].iloc[product_indices].tolist(), df['ori_title'].iloc[product_indices].tolist()"
      ],
      "metadata": {
        "id": "8aNKLpfAcyAH"
      },
      "execution_count": 33,
      "outputs": []
    },
    {
      "cell_type": "code",
      "source": [
        "product_df[product_df['title'].str.contains('refrigerator', case=False)].head(1)"
      ],
      "metadata": {
        "id": "AxmlCJfDc0zW",
        "outputId": "8ddf5974-303a-4f4f-c555-cb493c45afcd",
        "colab": {
          "base_uri": "https://localhost:8080/",
          "height": 177
        }
      },
      "execution_count": 34,
      "outputs": [
        {
          "output_type": "execute_result",
          "data": {
            "text/plain": [
              "                                            category  \\\n",
              "131  Appliances Refrigerators, Freezers & Ice Makers   \n",
              "\n",
              "                                           description  \\\n",
              "131  this compact mini cooler and warmer holds 17 l...   \n",
              "\n",
              "                                                 title     brand  \\\n",
              "131  coldmate mr 128 mini cooler warmer deluxe mini...  coldmate   \n",
              "\n",
              "                                               feature    main_cat  \\\n",
              "131  press the cold button to cool to 40 f and hot ...  appliances   \n",
              "\n",
              "           date price        asin  \\\n",
              "131  2001-10-02        B0001YH10C   \n",
              "\n",
              "                                       imageURLHighRes  dateYear  dateMonth  \\\n",
              "131  ['https://images-na.ssl-images-amazon.com/imag...      2001         10   \n",
              "\n",
              "                                             ori_title  \\\n",
              "131  Coldmate MR-128 Mini Cooler/Warmer Deluxe Mini...   \n",
              "\n",
              "                                             meta_text  \n",
              "131  Appliances Refrigerators, Freezers & Ice Maker...  "
            ],
            "text/html": [
              "\n",
              "  <div id=\"df-29f4443b-bf5c-4aeb-865b-42b5efd1de29\">\n",
              "    <div class=\"colab-df-container\">\n",
              "      <div>\n",
              "<style scoped>\n",
              "    .dataframe tbody tr th:only-of-type {\n",
              "        vertical-align: middle;\n",
              "    }\n",
              "\n",
              "    .dataframe tbody tr th {\n",
              "        vertical-align: top;\n",
              "    }\n",
              "\n",
              "    .dataframe thead th {\n",
              "        text-align: right;\n",
              "    }\n",
              "</style>\n",
              "<table border=\"1\" class=\"dataframe\">\n",
              "  <thead>\n",
              "    <tr style=\"text-align: right;\">\n",
              "      <th></th>\n",
              "      <th>category</th>\n",
              "      <th>description</th>\n",
              "      <th>title</th>\n",
              "      <th>brand</th>\n",
              "      <th>feature</th>\n",
              "      <th>main_cat</th>\n",
              "      <th>date</th>\n",
              "      <th>price</th>\n",
              "      <th>asin</th>\n",
              "      <th>imageURLHighRes</th>\n",
              "      <th>dateYear</th>\n",
              "      <th>dateMonth</th>\n",
              "      <th>ori_title</th>\n",
              "      <th>meta_text</th>\n",
              "    </tr>\n",
              "  </thead>\n",
              "  <tbody>\n",
              "    <tr>\n",
              "      <th>131</th>\n",
              "      <td>Appliances Refrigerators, Freezers &amp; Ice Makers</td>\n",
              "      <td>this compact mini cooler and warmer holds 17 l...</td>\n",
              "      <td>coldmate mr 128 mini cooler warmer deluxe mini...</td>\n",
              "      <td>coldmate</td>\n",
              "      <td>press the cold button to cool to 40 f and hot ...</td>\n",
              "      <td>appliances</td>\n",
              "      <td>2001-10-02</td>\n",
              "      <td></td>\n",
              "      <td>B0001YH10C</td>\n",
              "      <td>['https://images-na.ssl-images-amazon.com/imag...</td>\n",
              "      <td>2001</td>\n",
              "      <td>10</td>\n",
              "      <td>Coldmate MR-128 Mini Cooler/Warmer Deluxe Mini...</td>\n",
              "      <td>Appliances Refrigerators, Freezers &amp; Ice Maker...</td>\n",
              "    </tr>\n",
              "  </tbody>\n",
              "</table>\n",
              "</div>\n",
              "      <button class=\"colab-df-convert\" onclick=\"convertToInteractive('df-29f4443b-bf5c-4aeb-865b-42b5efd1de29')\"\n",
              "              title=\"Convert this dataframe to an interactive table.\"\n",
              "              style=\"display:none;\">\n",
              "        \n",
              "  <svg xmlns=\"http://www.w3.org/2000/svg\" height=\"24px\"viewBox=\"0 0 24 24\"\n",
              "       width=\"24px\">\n",
              "    <path d=\"M0 0h24v24H0V0z\" fill=\"none\"/>\n",
              "    <path d=\"M18.56 5.44l.94 2.06.94-2.06 2.06-.94-2.06-.94-.94-2.06-.94 2.06-2.06.94zm-11 1L8.5 8.5l.94-2.06 2.06-.94-2.06-.94L8.5 2.5l-.94 2.06-2.06.94zm10 10l.94 2.06.94-2.06 2.06-.94-2.06-.94-.94-2.06-.94 2.06-2.06.94z\"/><path d=\"M17.41 7.96l-1.37-1.37c-.4-.4-.92-.59-1.43-.59-.52 0-1.04.2-1.43.59L10.3 9.45l-7.72 7.72c-.78.78-.78 2.05 0 2.83L4 21.41c.39.39.9.59 1.41.59.51 0 1.02-.2 1.41-.59l7.78-7.78 2.81-2.81c.8-.78.8-2.07 0-2.86zM5.41 20L4 18.59l7.72-7.72 1.47 1.35L5.41 20z\"/>\n",
              "  </svg>\n",
              "      </button>\n",
              "      \n",
              "  <style>\n",
              "    .colab-df-container {\n",
              "      display:flex;\n",
              "      flex-wrap:wrap;\n",
              "      gap: 12px;\n",
              "    }\n",
              "\n",
              "    .colab-df-convert {\n",
              "      background-color: #E8F0FE;\n",
              "      border: none;\n",
              "      border-radius: 50%;\n",
              "      cursor: pointer;\n",
              "      display: none;\n",
              "      fill: #1967D2;\n",
              "      height: 32px;\n",
              "      padding: 0 0 0 0;\n",
              "      width: 32px;\n",
              "    }\n",
              "\n",
              "    .colab-df-convert:hover {\n",
              "      background-color: #E2EBFA;\n",
              "      box-shadow: 0px 1px 2px rgba(60, 64, 67, 0.3), 0px 1px 3px 1px rgba(60, 64, 67, 0.15);\n",
              "      fill: #174EA6;\n",
              "    }\n",
              "\n",
              "    [theme=dark] .colab-df-convert {\n",
              "      background-color: #3B4455;\n",
              "      fill: #D2E3FC;\n",
              "    }\n",
              "\n",
              "    [theme=dark] .colab-df-convert:hover {\n",
              "      background-color: #434B5C;\n",
              "      box-shadow: 0px 1px 3px 1px rgba(0, 0, 0, 0.15);\n",
              "      filter: drop-shadow(0px 1px 2px rgba(0, 0, 0, 0.3));\n",
              "      fill: #FFFFFF;\n",
              "    }\n",
              "  </style>\n",
              "\n",
              "      <script>\n",
              "        const buttonEl =\n",
              "          document.querySelector('#df-29f4443b-bf5c-4aeb-865b-42b5efd1de29 button.colab-df-convert');\n",
              "        buttonEl.style.display =\n",
              "          google.colab.kernel.accessAllowed ? 'block' : 'none';\n",
              "\n",
              "        async function convertToInteractive(key) {\n",
              "          const element = document.querySelector('#df-29f4443b-bf5c-4aeb-865b-42b5efd1de29');\n",
              "          const dataTable =\n",
              "            await google.colab.kernel.invokeFunction('convertToInteractive',\n",
              "                                                     [key], {});\n",
              "          if (!dataTable) return;\n",
              "\n",
              "          const docLinkHtml = 'Like what you see? Visit the ' +\n",
              "            '<a target=\"_blank\" href=https://colab.research.google.com/notebooks/data_table.ipynb>data table notebook</a>'\n",
              "            + ' to learn more about interactive tables.';\n",
              "          element.innerHTML = '';\n",
              "          dataTable['output_type'] = 'display_data';\n",
              "          await google.colab.output.renderOutput(dataTable, element);\n",
              "          const docLink = document.createElement('div');\n",
              "          docLink.innerHTML = docLinkHtml;\n",
              "          element.appendChild(docLink);\n",
              "        }\n",
              "      </script>\n",
              "    </div>\n",
              "  </div>\n",
              "  "
            ]
          },
          "metadata": {},
          "execution_count": 34
        }
      ]
    },
    {
      "cell_type": "code",
      "source": [
        "# get input id and title for the recommendation\n",
        "input_id = product_df[product_df['title'].str.contains('refrigerator', case=False)].iloc[0]['asin']\n",
        "input_title = product_df[product_df['title'].str.contains('refrigerator', case=False)].iloc[0]['title']"
      ],
      "metadata": {
        "id": "8ik0cIoVc4GO"
      },
      "execution_count": 35,
      "outputs": []
    },
    {
      "cell_type": "code",
      "source": [
        "#Get recommendations\n",
        "asin2, title2 = description_recommender(input_id, cosine_sim=cosine_sim2)"
      ],
      "metadata": {
        "id": "_jykFIK1c5nH"
      },
      "execution_count": 36,
      "outputs": []
    },
    {
      "cell_type": "code",
      "source": [
        "print('Description Based Recommender Result for {}, {}: '.format(input_id, input_title))\n",
        "for i in range(0, 10):\n",
        "  print('{}. {}, {}'.format(i+1, asin2[i], title2[i]))"
      ],
      "metadata": {
        "id": "HN5a20Eqc7fg",
        "outputId": "3292d604-2219-4849-affb-21fceaa50916",
        "colab": {
          "base_uri": "https://localhost:8080/"
        }
      },
      "execution_count": 37,
      "outputs": [
        {
          "output_type": "stream",
          "name": "stdout",
          "text": [
            "Description Based Recommender Result for B0001YH10C, coldmate mr 128 mini cooler warmer deluxe mini refrigerator: \n",
            "1. B001F7H4RY, PORTABLE COOLER WARMER MINI FRIDGE WINE BEER\n",
            "2. B00YNNEC8Q, Mini Wine Cooler\n",
            "3. B00YNMUYV6, Mini Wine Cooler Refrigerator with Lock\n",
            "4. B00ND5CWAA, Phoenix USB 5v Portable One Zip-top Can Cooler-mini Car Compact Refrigerator and Warmer\n",
            "5. B00RNAH5OY, goFridge Mini Fridge Portable Electric Cooler\n",
            "6. B016K4J3U2, Honeykoko Mini USB PC Refrigerator Fridge Beverage Drink Can Cooler Warmer Heater Gadget One Can in Home Office\n",
            "7. B016KQ7X8E, ThreeH New Mini Red USB Fridge Cooler Beverage Drink Cans Cooler/Warmer Refrigerator for Laptop PC Computer Red H-UF05Red\n",
            "8. B0187KYRQC, Coca-Cola Mini Can Cooler\n",
            "9. B00KE7FM3O, Mini USB Desktop Fridge Cooler Refrigerator\n",
            "10. B00YACMRIM, Neon&reg; Mini USB PC Refrigerator Fridge Beverage Drink Can Cooler Warmer Heater Gadget with Fake LCD Display Function\n"
          ]
        }
      ]
    }
  ]
}