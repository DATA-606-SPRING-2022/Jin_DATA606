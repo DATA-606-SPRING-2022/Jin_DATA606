{
  "nbformat": 4,
  "nbformat_minor": 0,
  "metadata": {
    "colab": {
      "name": "DATA606_Part2_ContentBasedFiltering.ipynb",
      "provenance": [],
      "machine_shape": "hm",
      "toc_visible": true,
      "authorship_tag": "ABX9TyOhRuKofQTYDm1zpovl/bs2",
      "include_colab_link": true
    },
    "kernelspec": {
      "name": "python3",
      "display_name": "Python 3"
    },
    "language_info": {
      "name": "python"
    },
    "accelerator": "GPU"
  },
  "cells": [
    {
      "cell_type": "markdown",
      "metadata": {
        "id": "view-in-github",
        "colab_type": "text"
      },
      "source": [
        "<a href=\"https://colab.research.google.com/github/JinHuiXu1991/Jin_DATA606/blob/main/ipynb/DATA606_Part2_ContentBasedFiltering.ipynb\" target=\"_parent\"><img src=\"https://colab.research.google.com/assets/colab-badge.svg\" alt=\"Open In Colab\"/></a>"
      ]
    },
    {
      "cell_type": "markdown",
      "source": [
        "# Amazon Product Recommender Systems\n",
        "## Author: Jin Hui Xu"
      ],
      "metadata": {
        "id": "IBqWel5PQXJ6"
      }
    },
    {
      "cell_type": "markdown",
      "source": [
        "##Content Based Filtering "
      ],
      "metadata": {
        "id": "3wPShliQZrYA"
      }
    },
    {
      "cell_type": "code",
      "execution_count": 1,
      "metadata": {
        "id": "JhuAJzIGQRHQ",
        "colab": {
          "base_uri": "https://localhost:8080/"
        },
        "outputId": "f6c13ace-545f-47ed-f5f4-ad5cfd3ad117"
      },
      "outputs": [
        {
          "output_type": "stream",
          "name": "stdout",
          "text": [
            "--2022-03-20 20:04:43--  https://github.com/JinHuiXu1991/Jin_DATA606/blob/main/cleaned_data/cleaned_amazon_product.zip?raw=true\n",
            "Resolving github.com (github.com)... 192.30.255.112\n",
            "Connecting to github.com (github.com)|192.30.255.112|:443... connected.\n",
            "HTTP request sent, awaiting response... 302 Found\n",
            "Location: https://github.com/JinHuiXu1991/Jin_DATA606/raw/main/cleaned_data/cleaned_amazon_product.zip [following]\n",
            "--2022-03-20 20:04:44--  https://github.com/JinHuiXu1991/Jin_DATA606/raw/main/cleaned_data/cleaned_amazon_product.zip\n",
            "Reusing existing connection to github.com:443.\n",
            "HTTP request sent, awaiting response... 302 Found\n",
            "Location: https://raw.githubusercontent.com/JinHuiXu1991/Jin_DATA606/main/cleaned_data/cleaned_amazon_product.zip [following]\n",
            "--2022-03-20 20:04:44--  https://raw.githubusercontent.com/JinHuiXu1991/Jin_DATA606/main/cleaned_data/cleaned_amazon_product.zip\n",
            "Resolving raw.githubusercontent.com (raw.githubusercontent.com)... 185.199.108.133, 185.199.110.133, 185.199.111.133, ...\n",
            "Connecting to raw.githubusercontent.com (raw.githubusercontent.com)|185.199.108.133|:443... connected.\n",
            "HTTP request sent, awaiting response... 200 OK\n",
            "Length: 5544756 (5.3M) [application/zip]\n",
            "Saving to: ‘cleaned_amazon_product.zip?raw=true’\n",
            "\n",
            "cleaned_amazon_prod 100%[===================>]   5.29M  --.-KB/s    in 0.05s   \n",
            "\n",
            "2022-03-20 20:04:44 (105 MB/s) - ‘cleaned_amazon_product.zip?raw=true’ saved [5544756/5544756]\n",
            "\n",
            "--2022-03-20 20:04:44--  https://github.com/JinHuiXu1991/Jin_DATA606/blob/main/cleaned_data/cleaned_amazon_review.zip?raw=true\n",
            "Resolving github.com (github.com)... 192.30.255.113\n",
            "Connecting to github.com (github.com)|192.30.255.113|:443... connected.\n",
            "HTTP request sent, awaiting response... 302 Found\n",
            "Location: https://github.com/JinHuiXu1991/Jin_DATA606/raw/main/cleaned_data/cleaned_amazon_review.zip [following]\n",
            "--2022-03-20 20:04:45--  https://github.com/JinHuiXu1991/Jin_DATA606/raw/main/cleaned_data/cleaned_amazon_review.zip\n",
            "Reusing existing connection to github.com:443.\n",
            "HTTP request sent, awaiting response... 302 Found\n",
            "Location: https://raw.githubusercontent.com/JinHuiXu1991/Jin_DATA606/main/cleaned_data/cleaned_amazon_review.zip [following]\n",
            "--2022-03-20 20:04:45--  https://raw.githubusercontent.com/JinHuiXu1991/Jin_DATA606/main/cleaned_data/cleaned_amazon_review.zip\n",
            "Resolving raw.githubusercontent.com (raw.githubusercontent.com)... 185.199.110.133, 185.199.109.133, 185.199.108.133, ...\n",
            "Connecting to raw.githubusercontent.com (raw.githubusercontent.com)|185.199.110.133|:443... connected.\n",
            "HTTP request sent, awaiting response... 200 OK\n",
            "Length: 51337311 (49M) [application/zip]\n",
            "Saving to: ‘cleaned_amazon_review.zip?raw=true’\n",
            "\n",
            "cleaned_amazon_revi 100%[===================>]  48.96M   175MB/s    in 0.3s    \n",
            "\n",
            "2022-03-20 20:04:47 (175 MB/s) - ‘cleaned_amazon_review.zip?raw=true’ saved [51337311/51337311]\n",
            "\n"
          ]
        }
      ],
      "source": [
        "!wget https://github.com/JinHuiXu1991/Jin_DATA606/blob/main/cleaned_data/cleaned_amazon_product.zip?raw=true\n",
        "\n",
        "!wget https://github.com/JinHuiXu1991/Jin_DATA606/blob/main/cleaned_data/cleaned_amazon_review.zip?raw=true"
      ]
    },
    {
      "cell_type": "code",
      "source": [
        "import pandas as pd\n",
        "from sklearn.feature_extraction.text import TfidfVectorizer\n",
        "from sklearn.metrics.pairwise import cosine_similarity\n",
        "from sklearn.metrics.pairwise import linear_kernel\n",
        "import time\n",
        "import numpy as np\n",
        "import nltk\n",
        "from nltk.corpus import stopwords\n",
        "import re\n",
        "from nltk.stem import WordNetLemmatizer\n",
        "nltk.download('stopwords')\n",
        "nltk.download('wordnet')\n",
        "nltk.download('words')\n",
        "import gensim\n",
        "from gensim.utils import simple_preprocess\n",
        "import gensim.corpora as corpora\n",
        "from pprint import pprint\n",
        "from gensim.models import CoherenceModel\n",
        "import spacy\n",
        "from bs4 import BeautifulSoup\n",
        "import matplotlib.pyplot as plt"
      ],
      "metadata": {
        "id": "h_oy-cnD3mTa",
        "colab": {
          "base_uri": "https://localhost:8080/"
        },
        "outputId": "20d4dd1d-4cdc-426d-cefc-81e90f382ab2"
      },
      "execution_count": 226,
      "outputs": [
        {
          "output_type": "stream",
          "name": "stdout",
          "text": [
            "[nltk_data] Downloading package stopwords to /root/nltk_data...\n",
            "[nltk_data]   Package stopwords is already up-to-date!\n",
            "[nltk_data] Downloading package wordnet to /root/nltk_data...\n",
            "[nltk_data]   Package wordnet is already up-to-date!\n",
            "[nltk_data] Downloading package words to /root/nltk_data...\n",
            "[nltk_data]   Package words is already up-to-date!\n"
          ]
        }
      ]
    },
    {
      "cell_type": "markdown",
      "source": [
        "### Description Based Recommender (Cosine Similarity)"
      ],
      "metadata": {
        "id": "f5Rtf0qLZvuf"
      }
    },
    {
      "cell_type": "code",
      "source": [
        "product_df = pd.read_csv('/content/cleaned_amazon_product.zip?raw=true', compression='zip')"
      ],
      "metadata": {
        "id": "KpgFhp7f33iv"
      },
      "execution_count": 3,
      "outputs": []
    },
    {
      "cell_type": "code",
      "source": [
        "product_df.head()"
      ],
      "metadata": {
        "colab": {
          "base_uri": "https://localhost:8080/",
          "height": 458
        },
        "id": "hdRDusr836UP",
        "outputId": "8b2020ff-f284-49c9-eeff-832572c79e2c"
      },
      "execution_count": 4,
      "outputs": [
        {
          "output_type": "execute_result",
          "data": {
            "text/plain": [
              "                                            category  \\\n",
              "0    Appliances Refrigerators, Freezers & Ice Makers   \n",
              "1    Appliances Refrigerators, Freezers & Ice Makers   \n",
              "2                     Appliances Parts & Accessories   \n",
              "3                     Appliances Parts & Accessories   \n",
              "4  Appliances Parts & Accessories Range Parts & A...   \n",
              "\n",
              "                                         description  \\\n",
              "0                                                NaN   \n",
              "1  2 x tupperware pure fresh unique covered cool ...   \n",
              "2                                                NaN   \n",
              "3  multi purpost descaler especially suited to wa...   \n",
              "4  full gauge and size beveled edge furnished wit...   \n",
              "\n",
              "                                               title           brand  \\\n",
              "0  tupperware freezer square round container set ...      tupperware   \n",
              "1  2 x tupperware pure amp fresh unique covered c...      tupperware   \n",
              "2                      the cigar moments of pleasure  the cigar book   \n",
              "3               caraselle 2x 50g appliance descalene       caraselle   \n",
              "4  eaton wiring 39ch sp l arrow hart 1 gang chrom...    eaton wiring   \n",
              "\n",
              "                                             feature                main_cat  \\\n",
              "0  each 3 pc set includes two 7 8 cup 200 ml and ...              appliances   \n",
              "1  2 x tupperware pure fresh unique covered cool ...              appliances   \n",
              "2                                                NaN             amazon home   \n",
              "3                                                NaN  tools home improvement   \n",
              "4  returns will not be honored on this closeout i...  tools home improvement   \n",
              "\n",
              "         date   price        asin  \\\n",
              "0  2008-11-19     NaN  7301113188   \n",
              "1  2016-06-05    3.62  7861850250   \n",
              "2         NaN  150.26  8792559360   \n",
              "3  2014-12-17     NaN  9792954481   \n",
              "4  2007-01-16    3.43  B00002N5EL   \n",
              "\n",
              "                                     imageURLHighRes  dateYear  dateMonth  \\\n",
              "0                                                 []      2008         11   \n",
              "1  ['https://images-na.ssl-images-amazon.com/imag...      2016          6   \n",
              "2  ['https://images-na.ssl-images-amazon.com/imag...         0          0   \n",
              "3  ['https://images-na.ssl-images-amazon.com/imag...      2014         12   \n",
              "4                                                 []      2007          1   \n",
              "\n",
              "                                           ori_title  \n",
              "0  Tupperware Freezer Square Round Container Set ...  \n",
              "1  2 X Tupperware Pure &amp; Fresh Unique Covered...  \n",
              "2                    The Cigar - Moments of Pleasure  \n",
              "3               Caraselle 2X 50G Appliance Descalene  \n",
              "4  EATON Wiring 39CH-SP-L Arrow Hart 1-Gang Chrom...  "
            ],
            "text/html": [
              "\n",
              "  <div id=\"df-5ef18dc2-ba2f-41e9-9815-ef4753a434ee\">\n",
              "    <div class=\"colab-df-container\">\n",
              "      <div>\n",
              "<style scoped>\n",
              "    .dataframe tbody tr th:only-of-type {\n",
              "        vertical-align: middle;\n",
              "    }\n",
              "\n",
              "    .dataframe tbody tr th {\n",
              "        vertical-align: top;\n",
              "    }\n",
              "\n",
              "    .dataframe thead th {\n",
              "        text-align: right;\n",
              "    }\n",
              "</style>\n",
              "<table border=\"1\" class=\"dataframe\">\n",
              "  <thead>\n",
              "    <tr style=\"text-align: right;\">\n",
              "      <th></th>\n",
              "      <th>category</th>\n",
              "      <th>description</th>\n",
              "      <th>title</th>\n",
              "      <th>brand</th>\n",
              "      <th>feature</th>\n",
              "      <th>main_cat</th>\n",
              "      <th>date</th>\n",
              "      <th>price</th>\n",
              "      <th>asin</th>\n",
              "      <th>imageURLHighRes</th>\n",
              "      <th>dateYear</th>\n",
              "      <th>dateMonth</th>\n",
              "      <th>ori_title</th>\n",
              "    </tr>\n",
              "  </thead>\n",
              "  <tbody>\n",
              "    <tr>\n",
              "      <th>0</th>\n",
              "      <td>Appliances Refrigerators, Freezers &amp; Ice Makers</td>\n",
              "      <td>NaN</td>\n",
              "      <td>tupperware freezer square round container set ...</td>\n",
              "      <td>tupperware</td>\n",
              "      <td>each 3 pc set includes two 7 8 cup 200 ml and ...</td>\n",
              "      <td>appliances</td>\n",
              "      <td>2008-11-19</td>\n",
              "      <td>NaN</td>\n",
              "      <td>7301113188</td>\n",
              "      <td>[]</td>\n",
              "      <td>2008</td>\n",
              "      <td>11</td>\n",
              "      <td>Tupperware Freezer Square Round Container Set ...</td>\n",
              "    </tr>\n",
              "    <tr>\n",
              "      <th>1</th>\n",
              "      <td>Appliances Refrigerators, Freezers &amp; Ice Makers</td>\n",
              "      <td>2 x tupperware pure fresh unique covered cool ...</td>\n",
              "      <td>2 x tupperware pure amp fresh unique covered c...</td>\n",
              "      <td>tupperware</td>\n",
              "      <td>2 x tupperware pure fresh unique covered cool ...</td>\n",
              "      <td>appliances</td>\n",
              "      <td>2016-06-05</td>\n",
              "      <td>3.62</td>\n",
              "      <td>7861850250</td>\n",
              "      <td>['https://images-na.ssl-images-amazon.com/imag...</td>\n",
              "      <td>2016</td>\n",
              "      <td>6</td>\n",
              "      <td>2 X Tupperware Pure &amp;amp; Fresh Unique Covered...</td>\n",
              "    </tr>\n",
              "    <tr>\n",
              "      <th>2</th>\n",
              "      <td>Appliances Parts &amp; Accessories</td>\n",
              "      <td>NaN</td>\n",
              "      <td>the cigar moments of pleasure</td>\n",
              "      <td>the cigar book</td>\n",
              "      <td>NaN</td>\n",
              "      <td>amazon home</td>\n",
              "      <td>NaN</td>\n",
              "      <td>150.26</td>\n",
              "      <td>8792559360</td>\n",
              "      <td>['https://images-na.ssl-images-amazon.com/imag...</td>\n",
              "      <td>0</td>\n",
              "      <td>0</td>\n",
              "      <td>The Cigar - Moments of Pleasure</td>\n",
              "    </tr>\n",
              "    <tr>\n",
              "      <th>3</th>\n",
              "      <td>Appliances Parts &amp; Accessories</td>\n",
              "      <td>multi purpost descaler especially suited to wa...</td>\n",
              "      <td>caraselle 2x 50g appliance descalene</td>\n",
              "      <td>caraselle</td>\n",
              "      <td>NaN</td>\n",
              "      <td>tools home improvement</td>\n",
              "      <td>2014-12-17</td>\n",
              "      <td>NaN</td>\n",
              "      <td>9792954481</td>\n",
              "      <td>['https://images-na.ssl-images-amazon.com/imag...</td>\n",
              "      <td>2014</td>\n",
              "      <td>12</td>\n",
              "      <td>Caraselle 2X 50G Appliance Descalene</td>\n",
              "    </tr>\n",
              "    <tr>\n",
              "      <th>4</th>\n",
              "      <td>Appliances Parts &amp; Accessories Range Parts &amp; A...</td>\n",
              "      <td>full gauge and size beveled edge furnished wit...</td>\n",
              "      <td>eaton wiring 39ch sp l arrow hart 1 gang chrom...</td>\n",
              "      <td>eaton wiring</td>\n",
              "      <td>returns will not be honored on this closeout i...</td>\n",
              "      <td>tools home improvement</td>\n",
              "      <td>2007-01-16</td>\n",
              "      <td>3.43</td>\n",
              "      <td>B00002N5EL</td>\n",
              "      <td>[]</td>\n",
              "      <td>2007</td>\n",
              "      <td>1</td>\n",
              "      <td>EATON Wiring 39CH-SP-L Arrow Hart 1-Gang Chrom...</td>\n",
              "    </tr>\n",
              "  </tbody>\n",
              "</table>\n",
              "</div>\n",
              "      <button class=\"colab-df-convert\" onclick=\"convertToInteractive('df-5ef18dc2-ba2f-41e9-9815-ef4753a434ee')\"\n",
              "              title=\"Convert this dataframe to an interactive table.\"\n",
              "              style=\"display:none;\">\n",
              "        \n",
              "  <svg xmlns=\"http://www.w3.org/2000/svg\" height=\"24px\"viewBox=\"0 0 24 24\"\n",
              "       width=\"24px\">\n",
              "    <path d=\"M0 0h24v24H0V0z\" fill=\"none\"/>\n",
              "    <path d=\"M18.56 5.44l.94 2.06.94-2.06 2.06-.94-2.06-.94-.94-2.06-.94 2.06-2.06.94zm-11 1L8.5 8.5l.94-2.06 2.06-.94-2.06-.94L8.5 2.5l-.94 2.06-2.06.94zm10 10l.94 2.06.94-2.06 2.06-.94-2.06-.94-.94-2.06-.94 2.06-2.06.94z\"/><path d=\"M17.41 7.96l-1.37-1.37c-.4-.4-.92-.59-1.43-.59-.52 0-1.04.2-1.43.59L10.3 9.45l-7.72 7.72c-.78.78-.78 2.05 0 2.83L4 21.41c.39.39.9.59 1.41.59.51 0 1.02-.2 1.41-.59l7.78-7.78 2.81-2.81c.8-.78.8-2.07 0-2.86zM5.41 20L4 18.59l7.72-7.72 1.47 1.35L5.41 20z\"/>\n",
              "  </svg>\n",
              "      </button>\n",
              "      \n",
              "  <style>\n",
              "    .colab-df-container {\n",
              "      display:flex;\n",
              "      flex-wrap:wrap;\n",
              "      gap: 12px;\n",
              "    }\n",
              "\n",
              "    .colab-df-convert {\n",
              "      background-color: #E8F0FE;\n",
              "      border: none;\n",
              "      border-radius: 50%;\n",
              "      cursor: pointer;\n",
              "      display: none;\n",
              "      fill: #1967D2;\n",
              "      height: 32px;\n",
              "      padding: 0 0 0 0;\n",
              "      width: 32px;\n",
              "    }\n",
              "\n",
              "    .colab-df-convert:hover {\n",
              "      background-color: #E2EBFA;\n",
              "      box-shadow: 0px 1px 2px rgba(60, 64, 67, 0.3), 0px 1px 3px 1px rgba(60, 64, 67, 0.15);\n",
              "      fill: #174EA6;\n",
              "    }\n",
              "\n",
              "    [theme=dark] .colab-df-convert {\n",
              "      background-color: #3B4455;\n",
              "      fill: #D2E3FC;\n",
              "    }\n",
              "\n",
              "    [theme=dark] .colab-df-convert:hover {\n",
              "      background-color: #434B5C;\n",
              "      box-shadow: 0px 1px 3px 1px rgba(0, 0, 0, 0.15);\n",
              "      filter: drop-shadow(0px 1px 2px rgba(0, 0, 0, 0.3));\n",
              "      fill: #FFFFFF;\n",
              "    }\n",
              "  </style>\n",
              "\n",
              "      <script>\n",
              "        const buttonEl =\n",
              "          document.querySelector('#df-5ef18dc2-ba2f-41e9-9815-ef4753a434ee button.colab-df-convert');\n",
              "        buttonEl.style.display =\n",
              "          google.colab.kernel.accessAllowed ? 'block' : 'none';\n",
              "\n",
              "        async function convertToInteractive(key) {\n",
              "          const element = document.querySelector('#df-5ef18dc2-ba2f-41e9-9815-ef4753a434ee');\n",
              "          const dataTable =\n",
              "            await google.colab.kernel.invokeFunction('convertToInteractive',\n",
              "                                                     [key], {});\n",
              "          if (!dataTable) return;\n",
              "\n",
              "          const docLinkHtml = 'Like what you see? Visit the ' +\n",
              "            '<a target=\"_blank\" href=https://colab.research.google.com/notebooks/data_table.ipynb>data table notebook</a>'\n",
              "            + ' to learn more about interactive tables.';\n",
              "          element.innerHTML = '';\n",
              "          dataTable['output_type'] = 'display_data';\n",
              "          await google.colab.output.renderOutput(dataTable, element);\n",
              "          const docLink = document.createElement('div');\n",
              "          docLink.innerHTML = docLinkHtml;\n",
              "          element.appendChild(docLink);\n",
              "        }\n",
              "      </script>\n",
              "    </div>\n",
              "  </div>\n",
              "  "
            ]
          },
          "metadata": {},
          "execution_count": 4
        }
      ]
    },
    {
      "cell_type": "code",
      "source": [
        "product_df.shape"
      ],
      "metadata": {
        "id": "lqIbznqFmZJb",
        "outputId": "50aed470-0b92-4aaf-ce2f-2c61f3a26445",
        "colab": {
          "base_uri": "https://localhost:8080/"
        }
      },
      "execution_count": 5,
      "outputs": [
        {
          "output_type": "execute_result",
          "data": {
            "text/plain": [
              "(30239, 13)"
            ]
          },
          "metadata": {},
          "execution_count": 5
        }
      ]
    },
    {
      "cell_type": "code",
      "source": [
        "# Replace all NaN with an empty string\n",
        "product_df = product_df.fillna('')\n",
        "product_df.isnull().sum()"
      ],
      "metadata": {
        "id": "uN8kZQImcZE1",
        "outputId": "73f512c2-a5c9-4e24-984f-d32a3ba731f2",
        "colab": {
          "base_uri": "https://localhost:8080/"
        }
      },
      "execution_count": 6,
      "outputs": [
        {
          "output_type": "execute_result",
          "data": {
            "text/plain": [
              "category           0\n",
              "description        0\n",
              "title              0\n",
              "brand              0\n",
              "feature            0\n",
              "main_cat           0\n",
              "date               0\n",
              "price              0\n",
              "asin               0\n",
              "imageURLHighRes    0\n",
              "dateYear           0\n",
              "dateMonth          0\n",
              "ori_title          0\n",
              "dtype: int64"
            ]
          },
          "metadata": {},
          "execution_count": 6
        }
      ]
    },
    {
      "cell_type": "code",
      "source": [
        "stop = stopwords.words('english')"
      ],
      "metadata": {
        "id": "hJoIiQqc86Wu"
      },
      "execution_count": 45,
      "outputs": []
    },
    {
      "cell_type": "code",
      "source": [
        "lem = WordNetLemmatizer()\n",
        "def lemma(text):\n",
        "    return ' '.join(lem.lemmatize(w) for w in text.split() if w not in stop)   "
      ],
      "metadata": {
        "id": "I7gR__0BW2px"
      },
      "execution_count": 7,
      "outputs": []
    },
    {
      "cell_type": "code",
      "source": [
        "product_df['description'] = product_df['description'].apply(lemma)"
      ],
      "metadata": {
        "id": "cym1OkB0XAkl"
      },
      "execution_count": 8,
      "outputs": []
    },
    {
      "cell_type": "code",
      "source": [
        "# Define a TF-IDF Vectorizer object and remove all english stopwords\n",
        "tfidf = TfidfVectorizer(stop_words='english', max_df = 0.9, min_df = 5)"
      ],
      "metadata": {
        "id": "mVZ7Xw3GcTjq"
      },
      "execution_count": 9,
      "outputs": []
    },
    {
      "cell_type": "code",
      "source": [
        "# Construct the required TF-IDF matrix \n",
        "tfidf_matrix = tfidf.fit_transform(product_df['description'])"
      ],
      "metadata": {
        "id": "s1HLfKZKcVPu"
      },
      "execution_count": 10,
      "outputs": []
    },
    {
      "cell_type": "code",
      "source": [
        "# Output the shape of tfidf_matrix\n",
        "tfidf_matrix.shape"
      ],
      "metadata": {
        "id": "_1rhvJm-c-Px",
        "outputId": "73d5ca49-a258-474f-c830-37500144566c",
        "colab": {
          "base_uri": "https://localhost:8080/"
        }
      },
      "execution_count": 11,
      "outputs": [
        {
          "output_type": "execute_result",
          "data": {
            "text/plain": [
              "(30239, 9738)"
            ]
          },
          "metadata": {},
          "execution_count": 11
        }
      ]
    },
    {
      "cell_type": "markdown",
      "source": [
        "Both linear_kernel and cosine_similarity methods produce the same result. We would like to apply both methods can see the performance of creating the cosine similarity matrix, and choose the faster one."
      ],
      "metadata": {
        "id": "K7RwGuq9uCFY"
      }
    },
    {
      "cell_type": "code",
      "source": [
        "start = time.time()\n",
        "cosine_sim = linear_kernel(tfidf_matrix, tfidf_matrix)\n",
        "print(\"Time taken: %s seconds\" % (time.time() - start))"
      ],
      "metadata": {
        "id": "cTgIW-1OeE3C",
        "outputId": "aac367af-98a0-464b-e55c-ce3dcbbdc71d",
        "colab": {
          "base_uri": "https://localhost:8080/"
        }
      },
      "execution_count": 12,
      "outputs": [
        {
          "output_type": "stream",
          "name": "stdout",
          "text": [
            "Time taken: 14.88059139251709 seconds\n"
          ]
        }
      ]
    },
    {
      "cell_type": "code",
      "source": [
        "# start = time.time()\n",
        "# cosine_sim2 = cosine_similarity(tfidf_matrix, tfidf_matrix)\n",
        "# print(\"Time taken: %s seconds\" % (time.time() - start))"
      ],
      "metadata": {
        "id": "eSwHoC3BeGdl"
      },
      "execution_count": 13,
      "outputs": []
    },
    {
      "cell_type": "markdown",
      "source": [
        "The performance results are very close, and the linear_kernel result will be used"
      ],
      "metadata": {
        "id": "EQHugHhAuhc7"
      }
    },
    {
      "cell_type": "code",
      "source": [
        "# Reverse mapping of indices and product id\n",
        "indices = pd.Series(product_df.index, index=product_df['asin'].str.lower()).drop_duplicates()"
      ],
      "metadata": {
        "id": "mUWwgEmKgxfi"
      },
      "execution_count": 14,
      "outputs": []
    },
    {
      "cell_type": "code",
      "source": [
        "# Function that takes in product id as input and gives recommendations \n",
        "def description_recommender(id, cosine_sim = cosine_sim, df = product_df, indices = indices):\n",
        "  # get the index of the product that matches the id\n",
        "  idx = indices[id.lower()]\n",
        "\n",
        "  # get the pairwsie similarity scores \n",
        "  # then convert it into a list of tuples as described above\n",
        "  sim_scores = list(enumerate(cosine_sim[idx]))\n",
        "\n",
        "  # sort the product based on the cosine similarity scores\n",
        "  sim_scores = sorted(sim_scores, key=lambda x: x[1], reverse=True)\n",
        "\n",
        "  # get the scores of the 10 most similar product. Ignore the first one because it is the input product.\n",
        "  sim_scores = sim_scores[1:11]\n",
        "\n",
        "  # get the product indices\n",
        "  product_indices = [i[0] for i in sim_scores]\n",
        "\n",
        "  # return the top 10 most similar product\n",
        "  return df['asin'].iloc[product_indices].tolist(), df['ori_title'].iloc[product_indices].tolist()"
      ],
      "metadata": {
        "id": "i6vi4fLvhDQl"
      },
      "execution_count": 15,
      "outputs": []
    },
    {
      "cell_type": "code",
      "source": [
        "product_df[product_df['title'].str.contains('refrigerator', case=False)].head(1)"
      ],
      "metadata": {
        "id": "Q88318ZNhyZO",
        "outputId": "e9e707c9-bf38-4bd3-f05a-ab0bdf5e3bcc",
        "colab": {
          "base_uri": "https://localhost:8080/",
          "height": 159
        }
      },
      "execution_count": 16,
      "outputs": [
        {
          "output_type": "execute_result",
          "data": {
            "text/plain": [
              "                                            category  \\\n",
              "131  Appliances Refrigerators, Freezers & Ice Makers   \n",
              "\n",
              "                                           description  \\\n",
              "131  compact mini cooler warmer hold 17 liter twent...   \n",
              "\n",
              "                                                 title     brand  \\\n",
              "131  coldmate mr 128 mini cooler warmer deluxe mini...  coldmate   \n",
              "\n",
              "                                               feature    main_cat  \\\n",
              "131  press the cold button to cool to 40 f and hot ...  appliances   \n",
              "\n",
              "           date price        asin  \\\n",
              "131  2001-10-02        B0001YH10C   \n",
              "\n",
              "                                       imageURLHighRes  dateYear  dateMonth  \\\n",
              "131  ['https://images-na.ssl-images-amazon.com/imag...      2001         10   \n",
              "\n",
              "                                             ori_title  \n",
              "131  Coldmate MR-128 Mini Cooler/Warmer Deluxe Mini...  "
            ],
            "text/html": [
              "\n",
              "  <div id=\"df-516bae4e-62ca-4eb9-a119-22416eb50524\">\n",
              "    <div class=\"colab-df-container\">\n",
              "      <div>\n",
              "<style scoped>\n",
              "    .dataframe tbody tr th:only-of-type {\n",
              "        vertical-align: middle;\n",
              "    }\n",
              "\n",
              "    .dataframe tbody tr th {\n",
              "        vertical-align: top;\n",
              "    }\n",
              "\n",
              "    .dataframe thead th {\n",
              "        text-align: right;\n",
              "    }\n",
              "</style>\n",
              "<table border=\"1\" class=\"dataframe\">\n",
              "  <thead>\n",
              "    <tr style=\"text-align: right;\">\n",
              "      <th></th>\n",
              "      <th>category</th>\n",
              "      <th>description</th>\n",
              "      <th>title</th>\n",
              "      <th>brand</th>\n",
              "      <th>feature</th>\n",
              "      <th>main_cat</th>\n",
              "      <th>date</th>\n",
              "      <th>price</th>\n",
              "      <th>asin</th>\n",
              "      <th>imageURLHighRes</th>\n",
              "      <th>dateYear</th>\n",
              "      <th>dateMonth</th>\n",
              "      <th>ori_title</th>\n",
              "    </tr>\n",
              "  </thead>\n",
              "  <tbody>\n",
              "    <tr>\n",
              "      <th>131</th>\n",
              "      <td>Appliances Refrigerators, Freezers &amp; Ice Makers</td>\n",
              "      <td>compact mini cooler warmer hold 17 liter twent...</td>\n",
              "      <td>coldmate mr 128 mini cooler warmer deluxe mini...</td>\n",
              "      <td>coldmate</td>\n",
              "      <td>press the cold button to cool to 40 f and hot ...</td>\n",
              "      <td>appliances</td>\n",
              "      <td>2001-10-02</td>\n",
              "      <td></td>\n",
              "      <td>B0001YH10C</td>\n",
              "      <td>['https://images-na.ssl-images-amazon.com/imag...</td>\n",
              "      <td>2001</td>\n",
              "      <td>10</td>\n",
              "      <td>Coldmate MR-128 Mini Cooler/Warmer Deluxe Mini...</td>\n",
              "    </tr>\n",
              "  </tbody>\n",
              "</table>\n",
              "</div>\n",
              "      <button class=\"colab-df-convert\" onclick=\"convertToInteractive('df-516bae4e-62ca-4eb9-a119-22416eb50524')\"\n",
              "              title=\"Convert this dataframe to an interactive table.\"\n",
              "              style=\"display:none;\">\n",
              "        \n",
              "  <svg xmlns=\"http://www.w3.org/2000/svg\" height=\"24px\"viewBox=\"0 0 24 24\"\n",
              "       width=\"24px\">\n",
              "    <path d=\"M0 0h24v24H0V0z\" fill=\"none\"/>\n",
              "    <path d=\"M18.56 5.44l.94 2.06.94-2.06 2.06-.94-2.06-.94-.94-2.06-.94 2.06-2.06.94zm-11 1L8.5 8.5l.94-2.06 2.06-.94-2.06-.94L8.5 2.5l-.94 2.06-2.06.94zm10 10l.94 2.06.94-2.06 2.06-.94-2.06-.94-.94-2.06-.94 2.06-2.06.94z\"/><path d=\"M17.41 7.96l-1.37-1.37c-.4-.4-.92-.59-1.43-.59-.52 0-1.04.2-1.43.59L10.3 9.45l-7.72 7.72c-.78.78-.78 2.05 0 2.83L4 21.41c.39.39.9.59 1.41.59.51 0 1.02-.2 1.41-.59l7.78-7.78 2.81-2.81c.8-.78.8-2.07 0-2.86zM5.41 20L4 18.59l7.72-7.72 1.47 1.35L5.41 20z\"/>\n",
              "  </svg>\n",
              "      </button>\n",
              "      \n",
              "  <style>\n",
              "    .colab-df-container {\n",
              "      display:flex;\n",
              "      flex-wrap:wrap;\n",
              "      gap: 12px;\n",
              "    }\n",
              "\n",
              "    .colab-df-convert {\n",
              "      background-color: #E8F0FE;\n",
              "      border: none;\n",
              "      border-radius: 50%;\n",
              "      cursor: pointer;\n",
              "      display: none;\n",
              "      fill: #1967D2;\n",
              "      height: 32px;\n",
              "      padding: 0 0 0 0;\n",
              "      width: 32px;\n",
              "    }\n",
              "\n",
              "    .colab-df-convert:hover {\n",
              "      background-color: #E2EBFA;\n",
              "      box-shadow: 0px 1px 2px rgba(60, 64, 67, 0.3), 0px 1px 3px 1px rgba(60, 64, 67, 0.15);\n",
              "      fill: #174EA6;\n",
              "    }\n",
              "\n",
              "    [theme=dark] .colab-df-convert {\n",
              "      background-color: #3B4455;\n",
              "      fill: #D2E3FC;\n",
              "    }\n",
              "\n",
              "    [theme=dark] .colab-df-convert:hover {\n",
              "      background-color: #434B5C;\n",
              "      box-shadow: 0px 1px 3px 1px rgba(0, 0, 0, 0.15);\n",
              "      filter: drop-shadow(0px 1px 2px rgba(0, 0, 0, 0.3));\n",
              "      fill: #FFFFFF;\n",
              "    }\n",
              "  </style>\n",
              "\n",
              "      <script>\n",
              "        const buttonEl =\n",
              "          document.querySelector('#df-516bae4e-62ca-4eb9-a119-22416eb50524 button.colab-df-convert');\n",
              "        buttonEl.style.display =\n",
              "          google.colab.kernel.accessAllowed ? 'block' : 'none';\n",
              "\n",
              "        async function convertToInteractive(key) {\n",
              "          const element = document.querySelector('#df-516bae4e-62ca-4eb9-a119-22416eb50524');\n",
              "          const dataTable =\n",
              "            await google.colab.kernel.invokeFunction('convertToInteractive',\n",
              "                                                     [key], {});\n",
              "          if (!dataTable) return;\n",
              "\n",
              "          const docLinkHtml = 'Like what you see? Visit the ' +\n",
              "            '<a target=\"_blank\" href=https://colab.research.google.com/notebooks/data_table.ipynb>data table notebook</a>'\n",
              "            + ' to learn more about interactive tables.';\n",
              "          element.innerHTML = '';\n",
              "          dataTable['output_type'] = 'display_data';\n",
              "          await google.colab.output.renderOutput(dataTable, element);\n",
              "          const docLink = document.createElement('div');\n",
              "          docLink.innerHTML = docLinkHtml;\n",
              "          element.appendChild(docLink);\n",
              "        }\n",
              "      </script>\n",
              "    </div>\n",
              "  </div>\n",
              "  "
            ]
          },
          "metadata": {},
          "execution_count": 16
        }
      ]
    },
    {
      "cell_type": "code",
      "source": [
        "# get input id and title for the recommendation\n",
        "input_id = product_df[product_df['title'].str.contains('refrigerator', case=False)].iloc[0]['asin']\n",
        "input_title = product_df[product_df['title'].str.contains('refrigerator', case=False)].iloc[0]['title']"
      ],
      "metadata": {
        "id": "hoYG3qhjpxDC"
      },
      "execution_count": 17,
      "outputs": []
    },
    {
      "cell_type": "code",
      "source": [
        "#Get recommendations for Coldmate MR-128 Mini Cooler/Warmer Deluxe Mini Refrigerator, input the product id \n",
        "asin, title = description_recommender(input_id)"
      ],
      "metadata": {
        "id": "ve_-2M0jhutw"
      },
      "execution_count": 18,
      "outputs": []
    },
    {
      "cell_type": "code",
      "source": [
        "print('Description Based Recommender Result for {}, {}: '.format(input_id, input_title))\n",
        "for i in range(0, 10):\n",
        "  print('{}. {}, {}'.format(i+1, asin[i], title[i]))"
      ],
      "metadata": {
        "id": "vTLC12LFob-w",
        "outputId": "9f0f90c7-3940-413c-84c4-c0a84f0650ab",
        "colab": {
          "base_uri": "https://localhost:8080/"
        }
      },
      "execution_count": 19,
      "outputs": [
        {
          "output_type": "stream",
          "name": "stdout",
          "text": [
            "Description Based Recommender Result for B0001YH10C, coldmate mr 128 mini cooler warmer deluxe mini refrigerator: \n",
            "1. B00ID8CLMG, Avanti FF45006W 4.3 CF Frost Free Refrigerator Freezer, White\n",
            "2. B00RNAH5OY, goFridge Mini Fridge Portable Electric Cooler\n",
            "3. B001H80RN4, Frigidaire 241505301 Refrigerator Door Bin Genuine Original Equipment Manufacturer (OEM) Part\n",
            "4. B004NEYPYQ, Frost-Free 4.3 Cu. Ft. Refrigerator/Freezer White\n",
            "5. B000JLL3BK, Pek Vino Vault Wine Preserving Refrigerator, Silver\n",
            "6. B01F79MKME, Amana AMA43BK Compact Single Door Refrigerator, 4.3 cu. ft, Black\n",
            "7. B001F7H4RY, PORTABLE COOLER WARMER MINI FRIDGE WINE BEER\n",
            "8. B001AAHW6E, Whirlpool 2179404KRA Beverage Rack\n",
            "9. B001775T4C, Nostalgia Electrics CRF170RETRORED Retro Series Mini Fridge, 1.7 Cubic Feet\n",
            "10. B004Y3C9J4, 1.7 cuft Superconduction Refrigerator\n"
          ]
        }
      ]
    },
    {
      "cell_type": "code",
      "source": [
        "# np.save('cosine_sim', cosine_sim)"
      ],
      "metadata": {
        "id": "pn2Li6e2OQOY"
      },
      "execution_count": 20,
      "outputs": []
    },
    {
      "cell_type": "code",
      "source": [
        "# original_cs = np.load(\"cosine_sim.npy\")\n",
        "# original_cs"
      ],
      "metadata": {
        "id": "e6TlEqV9PDXK"
      },
      "execution_count": 21,
      "outputs": []
    },
    {
      "cell_type": "code",
      "source": [
        "# get input id and title for the recommendation\n",
        "# input_id = product_df[product_df['title'].str.contains('refrigerator', case=False)].iloc[1]['asin']\n",
        "# input_title = product_df[product_df['title'].str.contains('refrigerator', case=False)].iloc[1]['title']"
      ],
      "metadata": {
        "id": "_1qh4GUZRCPE"
      },
      "execution_count": 22,
      "outputs": []
    },
    {
      "cell_type": "code",
      "source": [
        "#Get recommendations\n",
        "# asin, title = description_recommender(input_id, cosine_sim=original_cs)"
      ],
      "metadata": {
        "id": "VihsEg-ZREkS"
      },
      "execution_count": 23,
      "outputs": []
    },
    {
      "cell_type": "code",
      "source": [
        "# print('Description Based Recommender Result for {}, {}: '.format(input_id, input_title))\n",
        "# for i in range(0, 10):\n",
        "#   print('{}. {}, {}'.format(i+1, asin[i], title[i]))"
      ],
      "metadata": {
        "id": "gbJ35xtpQt4z"
      },
      "execution_count": 24,
      "outputs": []
    },
    {
      "cell_type": "markdown",
      "source": [
        "### Metadata Based Recommender (Cosine Similarity)"
      ],
      "metadata": {
        "id": "YfIQKHicnnIo"
      }
    },
    {
      "cell_type": "code",
      "source": [
        "product_df = pd.read_csv('/content/cleaned_amazon_product.zip?raw=true', compression='zip')\n",
        "product_df = product_df.fillna('')"
      ],
      "metadata": {
        "id": "Xz23qOx1aimV"
      },
      "execution_count": 25,
      "outputs": []
    },
    {
      "cell_type": "code",
      "source": [
        "product_df.info()"
      ],
      "metadata": {
        "id": "hOK69ojkamwj",
        "outputId": "f0aac499-7d17-4d89-9afd-7825db91690c",
        "colab": {
          "base_uri": "https://localhost:8080/"
        }
      },
      "execution_count": 26,
      "outputs": [
        {
          "output_type": "stream",
          "name": "stdout",
          "text": [
            "<class 'pandas.core.frame.DataFrame'>\n",
            "RangeIndex: 30239 entries, 0 to 30238\n",
            "Data columns (total 13 columns):\n",
            " #   Column           Non-Null Count  Dtype \n",
            "---  ------           --------------  ----- \n",
            " 0   category         30239 non-null  object\n",
            " 1   description      30239 non-null  object\n",
            " 2   title            30239 non-null  object\n",
            " 3   brand            30239 non-null  object\n",
            " 4   feature          30239 non-null  object\n",
            " 5   main_cat         30239 non-null  object\n",
            " 6   date             30239 non-null  object\n",
            " 7   price            30239 non-null  object\n",
            " 8   asin             30239 non-null  object\n",
            " 9   imageURLHighRes  30239 non-null  object\n",
            " 10  dateYear         30239 non-null  int64 \n",
            " 11  dateMonth        30239 non-null  int64 \n",
            " 12  ori_title        30239 non-null  object\n",
            "dtypes: int64(2), object(11)\n",
            "memory usage: 3.0+ MB\n"
          ]
        }
      ]
    },
    {
      "cell_type": "code",
      "source": [
        "# Use meta data except description and features\n",
        "product_df['meta_text'] = product_df['category'] + ' ' +  product_df['title'] + ' ' +  product_df['brand'] + ' ' + product_df['main_cat'] + ' ' + product_df['price'].astype(str) + ' ' + product_df['dateYear'].astype(str) + ' ' + product_df['dateMonth'].astype(str) \n",
        "product_df['meta_text'] = product_df['meta_text'].apply(lemma)"
      ],
      "metadata": {
        "id": "vOw-1YRzncWP"
      },
      "execution_count": 27,
      "outputs": []
    },
    {
      "cell_type": "code",
      "source": [
        "# Define a TF-IDF Vectorizer object and remove all english stopwords\n",
        "tfidf2 = TfidfVectorizer(stop_words='english', max_df = 0.9, min_df = 5)"
      ],
      "metadata": {
        "id": "7TTolxYHoss8"
      },
      "execution_count": 28,
      "outputs": []
    },
    {
      "cell_type": "code",
      "source": [
        "tfidf_matrix2 = tfidf2.fit_transform(product_df['meta_text'])"
      ],
      "metadata": {
        "id": "z1yuRxOwcdmX"
      },
      "execution_count": 29,
      "outputs": []
    },
    {
      "cell_type": "code",
      "source": [
        "tfidf_matrix2.shape"
      ],
      "metadata": {
        "id": "t-LGdfsocjFb",
        "outputId": "e8a89834-951c-400d-ad9e-0d74d168abff",
        "colab": {
          "base_uri": "https://localhost:8080/"
        }
      },
      "execution_count": 30,
      "outputs": [
        {
          "output_type": "execute_result",
          "data": {
            "text/plain": [
              "(30239, 3381)"
            ]
          },
          "metadata": {},
          "execution_count": 30
        }
      ]
    },
    {
      "cell_type": "code",
      "source": [
        "cosine_sim2 = linear_kernel(tfidf_matrix2, tfidf_matrix2)"
      ],
      "metadata": {
        "id": "8JirBTDjcnaz"
      },
      "execution_count": 31,
      "outputs": []
    },
    {
      "cell_type": "code",
      "source": [
        "indices = pd.Series(product_df.index, index=product_df['asin'].str.lower()).drop_duplicates()"
      ],
      "metadata": {
        "id": "4H092bO7cuVa"
      },
      "execution_count": 32,
      "outputs": []
    },
    {
      "cell_type": "code",
      "source": [
        "# Function that takes in product id as input and gives recommendations \n",
        "def description_recommender(id, cosine_sim = cosine_sim2, df = product_df, indices = indices):\n",
        "  # get the index of the product that matches the id\n",
        "  idx = indices[id.lower()]\n",
        "\n",
        "  # get the pairwsie similarity scores \n",
        "  # then convert it into a list of tuples as described above\n",
        "  sim_scores = list(enumerate(cosine_sim[idx]))\n",
        "\n",
        "  # sort the product based on the cosine similarity scores\n",
        "  sim_scores = sorted(sim_scores, key=lambda x: x[1], reverse=True)\n",
        "\n",
        "  # get the scores of the 10 most similar product. Ignore the first one because it is the input product.\n",
        "  sim_scores = sim_scores[1:11]\n",
        "\n",
        "  # get the product indices\n",
        "  product_indices = [i[0] for i in sim_scores]\n",
        "\n",
        "  # return the top 10 most similar product\n",
        "  return df['asin'].iloc[product_indices].tolist(), df['ori_title'].iloc[product_indices].tolist()"
      ],
      "metadata": {
        "id": "8aNKLpfAcyAH"
      },
      "execution_count": 33,
      "outputs": []
    },
    {
      "cell_type": "code",
      "source": [
        "product_df[product_df['title'].str.contains('refrigerator', case=False)].head(1)"
      ],
      "metadata": {
        "id": "AxmlCJfDc0zW",
        "outputId": "c1df9939-346c-4abb-d02b-6b9d3b8fe65e",
        "colab": {
          "base_uri": "https://localhost:8080/",
          "height": 177
        }
      },
      "execution_count": 34,
      "outputs": [
        {
          "output_type": "execute_result",
          "data": {
            "text/plain": [
              "                                            category  \\\n",
              "131  Appliances Refrigerators, Freezers & Ice Makers   \n",
              "\n",
              "                                           description  \\\n",
              "131  this compact mini cooler and warmer holds 17 l...   \n",
              "\n",
              "                                                 title     brand  \\\n",
              "131  coldmate mr 128 mini cooler warmer deluxe mini...  coldmate   \n",
              "\n",
              "                                               feature    main_cat  \\\n",
              "131  press the cold button to cool to 40 f and hot ...  appliances   \n",
              "\n",
              "           date price        asin  \\\n",
              "131  2001-10-02        B0001YH10C   \n",
              "\n",
              "                                       imageURLHighRes  dateYear  dateMonth  \\\n",
              "131  ['https://images-na.ssl-images-amazon.com/imag...      2001         10   \n",
              "\n",
              "                                             ori_title  \\\n",
              "131  Coldmate MR-128 Mini Cooler/Warmer Deluxe Mini...   \n",
              "\n",
              "                                             meta_text  \n",
              "131  Appliances Refrigerators, Freezers & Ice Maker...  "
            ],
            "text/html": [
              "\n",
              "  <div id=\"df-51553971-60f9-423e-8f06-791e63724b7c\">\n",
              "    <div class=\"colab-df-container\">\n",
              "      <div>\n",
              "<style scoped>\n",
              "    .dataframe tbody tr th:only-of-type {\n",
              "        vertical-align: middle;\n",
              "    }\n",
              "\n",
              "    .dataframe tbody tr th {\n",
              "        vertical-align: top;\n",
              "    }\n",
              "\n",
              "    .dataframe thead th {\n",
              "        text-align: right;\n",
              "    }\n",
              "</style>\n",
              "<table border=\"1\" class=\"dataframe\">\n",
              "  <thead>\n",
              "    <tr style=\"text-align: right;\">\n",
              "      <th></th>\n",
              "      <th>category</th>\n",
              "      <th>description</th>\n",
              "      <th>title</th>\n",
              "      <th>brand</th>\n",
              "      <th>feature</th>\n",
              "      <th>main_cat</th>\n",
              "      <th>date</th>\n",
              "      <th>price</th>\n",
              "      <th>asin</th>\n",
              "      <th>imageURLHighRes</th>\n",
              "      <th>dateYear</th>\n",
              "      <th>dateMonth</th>\n",
              "      <th>ori_title</th>\n",
              "      <th>meta_text</th>\n",
              "    </tr>\n",
              "  </thead>\n",
              "  <tbody>\n",
              "    <tr>\n",
              "      <th>131</th>\n",
              "      <td>Appliances Refrigerators, Freezers &amp; Ice Makers</td>\n",
              "      <td>this compact mini cooler and warmer holds 17 l...</td>\n",
              "      <td>coldmate mr 128 mini cooler warmer deluxe mini...</td>\n",
              "      <td>coldmate</td>\n",
              "      <td>press the cold button to cool to 40 f and hot ...</td>\n",
              "      <td>appliances</td>\n",
              "      <td>2001-10-02</td>\n",
              "      <td></td>\n",
              "      <td>B0001YH10C</td>\n",
              "      <td>['https://images-na.ssl-images-amazon.com/imag...</td>\n",
              "      <td>2001</td>\n",
              "      <td>10</td>\n",
              "      <td>Coldmate MR-128 Mini Cooler/Warmer Deluxe Mini...</td>\n",
              "      <td>Appliances Refrigerators, Freezers &amp; Ice Maker...</td>\n",
              "    </tr>\n",
              "  </tbody>\n",
              "</table>\n",
              "</div>\n",
              "      <button class=\"colab-df-convert\" onclick=\"convertToInteractive('df-51553971-60f9-423e-8f06-791e63724b7c')\"\n",
              "              title=\"Convert this dataframe to an interactive table.\"\n",
              "              style=\"display:none;\">\n",
              "        \n",
              "  <svg xmlns=\"http://www.w3.org/2000/svg\" height=\"24px\"viewBox=\"0 0 24 24\"\n",
              "       width=\"24px\">\n",
              "    <path d=\"M0 0h24v24H0V0z\" fill=\"none\"/>\n",
              "    <path d=\"M18.56 5.44l.94 2.06.94-2.06 2.06-.94-2.06-.94-.94-2.06-.94 2.06-2.06.94zm-11 1L8.5 8.5l.94-2.06 2.06-.94-2.06-.94L8.5 2.5l-.94 2.06-2.06.94zm10 10l.94 2.06.94-2.06 2.06-.94-2.06-.94-.94-2.06-.94 2.06-2.06.94z\"/><path d=\"M17.41 7.96l-1.37-1.37c-.4-.4-.92-.59-1.43-.59-.52 0-1.04.2-1.43.59L10.3 9.45l-7.72 7.72c-.78.78-.78 2.05 0 2.83L4 21.41c.39.39.9.59 1.41.59.51 0 1.02-.2 1.41-.59l7.78-7.78 2.81-2.81c.8-.78.8-2.07 0-2.86zM5.41 20L4 18.59l7.72-7.72 1.47 1.35L5.41 20z\"/>\n",
              "  </svg>\n",
              "      </button>\n",
              "      \n",
              "  <style>\n",
              "    .colab-df-container {\n",
              "      display:flex;\n",
              "      flex-wrap:wrap;\n",
              "      gap: 12px;\n",
              "    }\n",
              "\n",
              "    .colab-df-convert {\n",
              "      background-color: #E8F0FE;\n",
              "      border: none;\n",
              "      border-radius: 50%;\n",
              "      cursor: pointer;\n",
              "      display: none;\n",
              "      fill: #1967D2;\n",
              "      height: 32px;\n",
              "      padding: 0 0 0 0;\n",
              "      width: 32px;\n",
              "    }\n",
              "\n",
              "    .colab-df-convert:hover {\n",
              "      background-color: #E2EBFA;\n",
              "      box-shadow: 0px 1px 2px rgba(60, 64, 67, 0.3), 0px 1px 3px 1px rgba(60, 64, 67, 0.15);\n",
              "      fill: #174EA6;\n",
              "    }\n",
              "\n",
              "    [theme=dark] .colab-df-convert {\n",
              "      background-color: #3B4455;\n",
              "      fill: #D2E3FC;\n",
              "    }\n",
              "\n",
              "    [theme=dark] .colab-df-convert:hover {\n",
              "      background-color: #434B5C;\n",
              "      box-shadow: 0px 1px 3px 1px rgba(0, 0, 0, 0.15);\n",
              "      filter: drop-shadow(0px 1px 2px rgba(0, 0, 0, 0.3));\n",
              "      fill: #FFFFFF;\n",
              "    }\n",
              "  </style>\n",
              "\n",
              "      <script>\n",
              "        const buttonEl =\n",
              "          document.querySelector('#df-51553971-60f9-423e-8f06-791e63724b7c button.colab-df-convert');\n",
              "        buttonEl.style.display =\n",
              "          google.colab.kernel.accessAllowed ? 'block' : 'none';\n",
              "\n",
              "        async function convertToInteractive(key) {\n",
              "          const element = document.querySelector('#df-51553971-60f9-423e-8f06-791e63724b7c');\n",
              "          const dataTable =\n",
              "            await google.colab.kernel.invokeFunction('convertToInteractive',\n",
              "                                                     [key], {});\n",
              "          if (!dataTable) return;\n",
              "\n",
              "          const docLinkHtml = 'Like what you see? Visit the ' +\n",
              "            '<a target=\"_blank\" href=https://colab.research.google.com/notebooks/data_table.ipynb>data table notebook</a>'\n",
              "            + ' to learn more about interactive tables.';\n",
              "          element.innerHTML = '';\n",
              "          dataTable['output_type'] = 'display_data';\n",
              "          await google.colab.output.renderOutput(dataTable, element);\n",
              "          const docLink = document.createElement('div');\n",
              "          docLink.innerHTML = docLinkHtml;\n",
              "          element.appendChild(docLink);\n",
              "        }\n",
              "      </script>\n",
              "    </div>\n",
              "  </div>\n",
              "  "
            ]
          },
          "metadata": {},
          "execution_count": 34
        }
      ]
    },
    {
      "cell_type": "code",
      "source": [
        "# get input id and title for the recommendation\n",
        "input_id = product_df[product_df['title'].str.contains('refrigerator', case=False)].iloc[0]['asin']\n",
        "input_title = product_df[product_df['title'].str.contains('refrigerator', case=False)].iloc[0]['title']"
      ],
      "metadata": {
        "id": "8ik0cIoVc4GO"
      },
      "execution_count": 35,
      "outputs": []
    },
    {
      "cell_type": "code",
      "source": [
        "#Get recommendations\n",
        "asin2, title2 = description_recommender(input_id, cosine_sim=cosine_sim2)"
      ],
      "metadata": {
        "id": "_jykFIK1c5nH"
      },
      "execution_count": 36,
      "outputs": []
    },
    {
      "cell_type": "code",
      "source": [
        "print('Description Based Recommender Result for {}, {}: '.format(input_id, input_title))\n",
        "for i in range(0, 10):\n",
        "  print('{}. {}, {}'.format(i+1, asin2[i], title2[i]))"
      ],
      "metadata": {
        "id": "HN5a20Eqc7fg",
        "outputId": "f872479d-7851-45a4-d674-03cb10da9d61",
        "colab": {
          "base_uri": "https://localhost:8080/"
        }
      },
      "execution_count": 37,
      "outputs": [
        {
          "output_type": "stream",
          "name": "stdout",
          "text": [
            "Description Based Recommender Result for B0001YH10C, coldmate mr 128 mini cooler warmer deluxe mini refrigerator: \n",
            "1. B001F7H4RY, PORTABLE COOLER WARMER MINI FRIDGE WINE BEER\n",
            "2. B00YNNEC8Q, Mini Wine Cooler\n",
            "3. B00YNMUYV6, Mini Wine Cooler Refrigerator with Lock\n",
            "4. B00ND5CWAA, Phoenix USB 5v Portable One Zip-top Can Cooler-mini Car Compact Refrigerator and Warmer\n",
            "5. B00RNAH5OY, goFridge Mini Fridge Portable Electric Cooler\n",
            "6. B016K4J3U2, Honeykoko Mini USB PC Refrigerator Fridge Beverage Drink Can Cooler Warmer Heater Gadget One Can in Home Office\n",
            "7. B016KQ7X8E, ThreeH New Mini Red USB Fridge Cooler Beverage Drink Cans Cooler/Warmer Refrigerator for Laptop PC Computer Red H-UF05Red\n",
            "8. B0187KYRQC, Coca-Cola Mini Can Cooler\n",
            "9. B00KE7FM3O, Mini USB Desktop Fridge Cooler Refrigerator\n",
            "10. B00YACMRIM, Neon&reg; Mini USB PC Refrigerator Fridge Beverage Drink Can Cooler Warmer Heater Gadget with Fake LCD Display Function\n"
          ]
        }
      ]
    },
    {
      "cell_type": "markdown",
      "source": [
        "### Topic Modeling Recommender (LDA)"
      ],
      "metadata": {
        "id": "TeS0svs67EVB"
      }
    },
    {
      "cell_type": "code",
      "source": [
        "product_df = pd.read_csv('/content/cleaned_amazon_product.zip?raw=true', compression='zip')\n",
        "product_df = product_df.fillna('')"
      ],
      "metadata": {
        "id": "Im4bKwiF7C_t"
      },
      "execution_count": 232,
      "outputs": []
    },
    {
      "cell_type": "code",
      "source": [
        "product_df.head()"
      ],
      "metadata": {
        "id": "gPrWDsz58Ffc",
        "outputId": "90dba52d-cdc2-4c6a-8204-9eb9c40d9c9c",
        "colab": {
          "base_uri": "https://localhost:8080/",
          "height": 458
        }
      },
      "execution_count": 233,
      "outputs": [
        {
          "output_type": "execute_result",
          "data": {
            "text/plain": [
              "                                            category  \\\n",
              "0    Appliances Refrigerators, Freezers & Ice Makers   \n",
              "1    Appliances Refrigerators, Freezers & Ice Makers   \n",
              "2                     Appliances Parts & Accessories   \n",
              "3                     Appliances Parts & Accessories   \n",
              "4  Appliances Parts & Accessories Range Parts & A...   \n",
              "\n",
              "                                         description  \\\n",
              "0                                                      \n",
              "1  2 x tupperware pure fresh unique covered cool ...   \n",
              "2                                                      \n",
              "3  multi purpost descaler especially suited to wa...   \n",
              "4  full gauge and size beveled edge furnished wit...   \n",
              "\n",
              "                                               title           brand  \\\n",
              "0  tupperware freezer square round container set ...      tupperware   \n",
              "1  2 x tupperware pure amp fresh unique covered c...      tupperware   \n",
              "2                      the cigar moments of pleasure  the cigar book   \n",
              "3               caraselle 2x 50g appliance descalene       caraselle   \n",
              "4  eaton wiring 39ch sp l arrow hart 1 gang chrom...    eaton wiring   \n",
              "\n",
              "                                             feature                main_cat  \\\n",
              "0  each 3 pc set includes two 7 8 cup 200 ml and ...              appliances   \n",
              "1  2 x tupperware pure fresh unique covered cool ...              appliances   \n",
              "2                                                                amazon home   \n",
              "3                                                     tools home improvement   \n",
              "4  returns will not be honored on this closeout i...  tools home improvement   \n",
              "\n",
              "         date   price        asin  \\\n",
              "0  2008-11-19          7301113188   \n",
              "1  2016-06-05    3.62  7861850250   \n",
              "2              150.26  8792559360   \n",
              "3  2014-12-17          9792954481   \n",
              "4  2007-01-16    3.43  B00002N5EL   \n",
              "\n",
              "                                     imageURLHighRes  dateYear  dateMonth  \\\n",
              "0                                                 []      2008         11   \n",
              "1  ['https://images-na.ssl-images-amazon.com/imag...      2016          6   \n",
              "2  ['https://images-na.ssl-images-amazon.com/imag...         0          0   \n",
              "3  ['https://images-na.ssl-images-amazon.com/imag...      2014         12   \n",
              "4                                                 []      2007          1   \n",
              "\n",
              "                                           ori_title  \n",
              "0  Tupperware Freezer Square Round Container Set ...  \n",
              "1  2 X Tupperware Pure &amp; Fresh Unique Covered...  \n",
              "2                    The Cigar - Moments of Pleasure  \n",
              "3               Caraselle 2X 50G Appliance Descalene  \n",
              "4  EATON Wiring 39CH-SP-L Arrow Hart 1-Gang Chrom...  "
            ],
            "text/html": [
              "\n",
              "  <div id=\"df-50e4311e-7a74-4cf9-b9ca-a4bbc04a2b97\">\n",
              "    <div class=\"colab-df-container\">\n",
              "      <div>\n",
              "<style scoped>\n",
              "    .dataframe tbody tr th:only-of-type {\n",
              "        vertical-align: middle;\n",
              "    }\n",
              "\n",
              "    .dataframe tbody tr th {\n",
              "        vertical-align: top;\n",
              "    }\n",
              "\n",
              "    .dataframe thead th {\n",
              "        text-align: right;\n",
              "    }\n",
              "</style>\n",
              "<table border=\"1\" class=\"dataframe\">\n",
              "  <thead>\n",
              "    <tr style=\"text-align: right;\">\n",
              "      <th></th>\n",
              "      <th>category</th>\n",
              "      <th>description</th>\n",
              "      <th>title</th>\n",
              "      <th>brand</th>\n",
              "      <th>feature</th>\n",
              "      <th>main_cat</th>\n",
              "      <th>date</th>\n",
              "      <th>price</th>\n",
              "      <th>asin</th>\n",
              "      <th>imageURLHighRes</th>\n",
              "      <th>dateYear</th>\n",
              "      <th>dateMonth</th>\n",
              "      <th>ori_title</th>\n",
              "    </tr>\n",
              "  </thead>\n",
              "  <tbody>\n",
              "    <tr>\n",
              "      <th>0</th>\n",
              "      <td>Appliances Refrigerators, Freezers &amp; Ice Makers</td>\n",
              "      <td></td>\n",
              "      <td>tupperware freezer square round container set ...</td>\n",
              "      <td>tupperware</td>\n",
              "      <td>each 3 pc set includes two 7 8 cup 200 ml and ...</td>\n",
              "      <td>appliances</td>\n",
              "      <td>2008-11-19</td>\n",
              "      <td></td>\n",
              "      <td>7301113188</td>\n",
              "      <td>[]</td>\n",
              "      <td>2008</td>\n",
              "      <td>11</td>\n",
              "      <td>Tupperware Freezer Square Round Container Set ...</td>\n",
              "    </tr>\n",
              "    <tr>\n",
              "      <th>1</th>\n",
              "      <td>Appliances Refrigerators, Freezers &amp; Ice Makers</td>\n",
              "      <td>2 x tupperware pure fresh unique covered cool ...</td>\n",
              "      <td>2 x tupperware pure amp fresh unique covered c...</td>\n",
              "      <td>tupperware</td>\n",
              "      <td>2 x tupperware pure fresh unique covered cool ...</td>\n",
              "      <td>appliances</td>\n",
              "      <td>2016-06-05</td>\n",
              "      <td>3.62</td>\n",
              "      <td>7861850250</td>\n",
              "      <td>['https://images-na.ssl-images-amazon.com/imag...</td>\n",
              "      <td>2016</td>\n",
              "      <td>6</td>\n",
              "      <td>2 X Tupperware Pure &amp;amp; Fresh Unique Covered...</td>\n",
              "    </tr>\n",
              "    <tr>\n",
              "      <th>2</th>\n",
              "      <td>Appliances Parts &amp; Accessories</td>\n",
              "      <td></td>\n",
              "      <td>the cigar moments of pleasure</td>\n",
              "      <td>the cigar book</td>\n",
              "      <td></td>\n",
              "      <td>amazon home</td>\n",
              "      <td></td>\n",
              "      <td>150.26</td>\n",
              "      <td>8792559360</td>\n",
              "      <td>['https://images-na.ssl-images-amazon.com/imag...</td>\n",
              "      <td>0</td>\n",
              "      <td>0</td>\n",
              "      <td>The Cigar - Moments of Pleasure</td>\n",
              "    </tr>\n",
              "    <tr>\n",
              "      <th>3</th>\n",
              "      <td>Appliances Parts &amp; Accessories</td>\n",
              "      <td>multi purpost descaler especially suited to wa...</td>\n",
              "      <td>caraselle 2x 50g appliance descalene</td>\n",
              "      <td>caraselle</td>\n",
              "      <td></td>\n",
              "      <td>tools home improvement</td>\n",
              "      <td>2014-12-17</td>\n",
              "      <td></td>\n",
              "      <td>9792954481</td>\n",
              "      <td>['https://images-na.ssl-images-amazon.com/imag...</td>\n",
              "      <td>2014</td>\n",
              "      <td>12</td>\n",
              "      <td>Caraselle 2X 50G Appliance Descalene</td>\n",
              "    </tr>\n",
              "    <tr>\n",
              "      <th>4</th>\n",
              "      <td>Appliances Parts &amp; Accessories Range Parts &amp; A...</td>\n",
              "      <td>full gauge and size beveled edge furnished wit...</td>\n",
              "      <td>eaton wiring 39ch sp l arrow hart 1 gang chrom...</td>\n",
              "      <td>eaton wiring</td>\n",
              "      <td>returns will not be honored on this closeout i...</td>\n",
              "      <td>tools home improvement</td>\n",
              "      <td>2007-01-16</td>\n",
              "      <td>3.43</td>\n",
              "      <td>B00002N5EL</td>\n",
              "      <td>[]</td>\n",
              "      <td>2007</td>\n",
              "      <td>1</td>\n",
              "      <td>EATON Wiring 39CH-SP-L Arrow Hart 1-Gang Chrom...</td>\n",
              "    </tr>\n",
              "  </tbody>\n",
              "</table>\n",
              "</div>\n",
              "      <button class=\"colab-df-convert\" onclick=\"convertToInteractive('df-50e4311e-7a74-4cf9-b9ca-a4bbc04a2b97')\"\n",
              "              title=\"Convert this dataframe to an interactive table.\"\n",
              "              style=\"display:none;\">\n",
              "        \n",
              "  <svg xmlns=\"http://www.w3.org/2000/svg\" height=\"24px\"viewBox=\"0 0 24 24\"\n",
              "       width=\"24px\">\n",
              "    <path d=\"M0 0h24v24H0V0z\" fill=\"none\"/>\n",
              "    <path d=\"M18.56 5.44l.94 2.06.94-2.06 2.06-.94-2.06-.94-.94-2.06-.94 2.06-2.06.94zm-11 1L8.5 8.5l.94-2.06 2.06-.94-2.06-.94L8.5 2.5l-.94 2.06-2.06.94zm10 10l.94 2.06.94-2.06 2.06-.94-2.06-.94-.94-2.06-.94 2.06-2.06.94z\"/><path d=\"M17.41 7.96l-1.37-1.37c-.4-.4-.92-.59-1.43-.59-.52 0-1.04.2-1.43.59L10.3 9.45l-7.72 7.72c-.78.78-.78 2.05 0 2.83L4 21.41c.39.39.9.59 1.41.59.51 0 1.02-.2 1.41-.59l7.78-7.78 2.81-2.81c.8-.78.8-2.07 0-2.86zM5.41 20L4 18.59l7.72-7.72 1.47 1.35L5.41 20z\"/>\n",
              "  </svg>\n",
              "      </button>\n",
              "      \n",
              "  <style>\n",
              "    .colab-df-container {\n",
              "      display:flex;\n",
              "      flex-wrap:wrap;\n",
              "      gap: 12px;\n",
              "    }\n",
              "\n",
              "    .colab-df-convert {\n",
              "      background-color: #E8F0FE;\n",
              "      border: none;\n",
              "      border-radius: 50%;\n",
              "      cursor: pointer;\n",
              "      display: none;\n",
              "      fill: #1967D2;\n",
              "      height: 32px;\n",
              "      padding: 0 0 0 0;\n",
              "      width: 32px;\n",
              "    }\n",
              "\n",
              "    .colab-df-convert:hover {\n",
              "      background-color: #E2EBFA;\n",
              "      box-shadow: 0px 1px 2px rgba(60, 64, 67, 0.3), 0px 1px 3px 1px rgba(60, 64, 67, 0.15);\n",
              "      fill: #174EA6;\n",
              "    }\n",
              "\n",
              "    [theme=dark] .colab-df-convert {\n",
              "      background-color: #3B4455;\n",
              "      fill: #D2E3FC;\n",
              "    }\n",
              "\n",
              "    [theme=dark] .colab-df-convert:hover {\n",
              "      background-color: #434B5C;\n",
              "      box-shadow: 0px 1px 3px 1px rgba(0, 0, 0, 0.15);\n",
              "      filter: drop-shadow(0px 1px 2px rgba(0, 0, 0, 0.3));\n",
              "      fill: #FFFFFF;\n",
              "    }\n",
              "  </style>\n",
              "\n",
              "      <script>\n",
              "        const buttonEl =\n",
              "          document.querySelector('#df-50e4311e-7a74-4cf9-b9ca-a4bbc04a2b97 button.colab-df-convert');\n",
              "        buttonEl.style.display =\n",
              "          google.colab.kernel.accessAllowed ? 'block' : 'none';\n",
              "\n",
              "        async function convertToInteractive(key) {\n",
              "          const element = document.querySelector('#df-50e4311e-7a74-4cf9-b9ca-a4bbc04a2b97');\n",
              "          const dataTable =\n",
              "            await google.colab.kernel.invokeFunction('convertToInteractive',\n",
              "                                                     [key], {});\n",
              "          if (!dataTable) return;\n",
              "\n",
              "          const docLinkHtml = 'Like what you see? Visit the ' +\n",
              "            '<a target=\"_blank\" href=https://colab.research.google.com/notebooks/data_table.ipynb>data table notebook</a>'\n",
              "            + ' to learn more about interactive tables.';\n",
              "          element.innerHTML = '';\n",
              "          dataTable['output_type'] = 'display_data';\n",
              "          await google.colab.output.renderOutput(dataTable, element);\n",
              "          const docLink = document.createElement('div');\n",
              "          docLink.innerHTML = docLinkHtml;\n",
              "          element.appendChild(docLink);\n",
              "        }\n",
              "      </script>\n",
              "    </div>\n",
              "  </div>\n",
              "  "
            ]
          },
          "metadata": {},
          "execution_count": 233
        }
      ]
    },
    {
      "cell_type": "code",
      "source": [
        "product_df['all_text'] = product_df['category'] + ' ' + product_df['description'] + ' ' + product_df['title'] + ' ' + product_df['brand'] + ' ' + product_df['feature'] +\\\n",
        "                         product_df['main_cat']"
      ],
      "metadata": {
        "id": "64x14FF3g6we"
      },
      "execution_count": 234,
      "outputs": []
    },
    {
      "cell_type": "code",
      "source": [
        "\n",
        "words = set(nltk.corpus.words.words())\n",
        "def clear_text(doc):\n",
        "  soup = BeautifulSoup(doc)\n",
        "  cleaned_text = soup.get_text()\n",
        "  #cleaned_text = \" \".join(w for w in nltk.wordpunct_tokenize(cleaned_text) if w.lower() in words or not w.isalpha())\n",
        "  cleaned_text = re.sub('[^a-zA-Z0-9]', ' ', cleaned_text)\n",
        "  cleaned_text = re.sub('\\s\\s+', ' ', cleaned_text)\n",
        "  cleaned_text = cleaned_text.lower()\n",
        "  return cleaned_text"
      ],
      "metadata": {
        "id": "WGzlRyPLiPn7"
      },
      "execution_count": 235,
      "outputs": []
    },
    {
      "cell_type": "code",
      "source": [
        "product_df['all_text'] = product_df['all_text'].apply(clear_text)"
      ],
      "metadata": {
        "id": "0HoWGaQ68NmL"
      },
      "execution_count": 236,
      "outputs": []
    },
    {
      "cell_type": "code",
      "source": [
        "def sent_to_words(sentences):\n",
        "    for sentence in sentences:\n",
        "        yield(gensim.utils.simple_preprocess(str(sentence), deacc=True))  # deacc=True removes punctuations and special characters\n",
        "\n",
        "data_words = list(sent_to_words(product_df['all_text']))"
      ],
      "metadata": {
        "id": "G4LFCLWE8Vgo"
      },
      "execution_count": 237,
      "outputs": []
    },
    {
      "cell_type": "code",
      "source": [
        "def remove_stopwords(texts):\n",
        "    return [[word for word in simple_preprocess(str(doc)) if word not in stop] for doc in texts]"
      ],
      "metadata": {
        "id": "mzJQPhiB8vDO"
      },
      "execution_count": 238,
      "outputs": []
    },
    {
      "cell_type": "code",
      "source": [
        "# Build the bigram \n",
        "bigram = gensim.models.Phrases(data_words, min_count=5, threshold=10) # higher threshold fewer phrases.\n",
        "bigram_mod = gensim.models.phrases.Phraser(bigram)\n",
        "\n",
        "def make_bigrams(texts):\n",
        "    return [bigram_mod[doc] for doc in texts]"
      ],
      "metadata": {
        "id": "l7Q_jueG8wka"
      },
      "execution_count": 239,
      "outputs": []
    },
    {
      "cell_type": "code",
      "source": [
        "lem = WordNetLemmatizer()\n",
        "def lemma(texts):\n",
        "    return [[lem.lemmatize(w) for w in simple_preprocess(str(doc))] for doc in texts]"
      ],
      "metadata": {
        "id": "pQV5Av8kjCCo"
      },
      "execution_count": 240,
      "outputs": []
    },
    {
      "cell_type": "code",
      "source": [
        "# Remove Stop Words\n",
        "data_words_nostops = remove_stopwords(data_words)\n",
        "\n",
        "# Form Bigrams\n",
        "data_words_bigrams = make_bigrams(data_words_nostops)\n",
        "\n",
        "# Do lemmatization\n",
        "data_lemmatized = lemma(data_words_bigrams)\n",
        "data_lemmatized[0]"
      ],
      "metadata": {
        "id": "RJaQKdc09Es6",
        "outputId": "d69363e9-8f4c-42b4-fc5f-ccf6ff3e7849",
        "colab": {
          "base_uri": "https://localhost:8080/"
        }
      },
      "execution_count": 241,
      "outputs": [
        {
          "output_type": "execute_result",
          "data": {
            "text/plain": [
              "['ice',\n",
              " 'freezer',\n",
              " 'square',\n",
              " 'round',\n",
              " 'container',\n",
              " 'set',\n",
              " 'set',\n",
              " 'two',\n",
              " 'cup',\n",
              " 'one',\n",
              " 'cup',\n",
              " 'use',\n",
              " 'keep',\n",
              " 'sandwich',\n",
              " 'fresh',\n",
              " 'refrigerator',\n",
              " 'gently',\n",
              " 'twist',\n",
              " 'container',\n",
              " 'pop',\n",
              " 'frozen',\n",
              " 'dishwasher_safe',\n",
              " 'set',\n",
              " 'le']"
            ]
          },
          "metadata": {},
          "execution_count": 241
        }
      ]
    },
    {
      "cell_type": "markdown",
      "source": [
        "Create the two main inputs for the LDA topic model: the dictionary(id2word) and the corpus. "
      ],
      "metadata": {
        "id": "TWtZc5EVrdK2"
      }
    },
    {
      "cell_type": "code",
      "source": [
        "# Create Dictionary\n",
        "id2word = corpora.Dictionary(data_lemmatized)\n",
        "\n",
        "# Filter out tokens that appear in only 1 documents and appear in more than 90% of the documents\n",
        "id2word.filter_extremes(no_below=2, no_above=0.9)\n",
        "\n",
        "# Create Corpus\n",
        "texts = data_lemmatized\n",
        "\n",
        "# Term Document Frequency\n",
        "corpus = [id2word.doc2bow(text) for text in texts]\n",
        "\n",
        "# View\n",
        "print(corpus[:1])"
      ],
      "metadata": {
        "id": "BrUJxHL9-AAc",
        "outputId": "d608feeb-5742-4210-c380-94105d1acee9",
        "colab": {
          "base_uri": "https://localhost:8080/"
        }
      },
      "execution_count": 242,
      "outputs": [
        {
          "output_type": "stream",
          "name": "stdout",
          "text": [
            "[[(0, 2), (1, 2), (2, 1), (3, 1), (4, 1), (5, 1), (6, 1), (7, 1), (8, 1), (9, 1), (10, 1), (11, 1), (12, 1), (13, 1), (14, 1), (15, 3), (16, 1), (17, 1), (18, 1), (19, 1)]]\n"
          ]
        }
      ]
    },
    {
      "cell_type": "code",
      "source": [
        "# supporting function\n",
        "def compute_coherence_values(corpus, dictionary, k):\n",
        "    \n",
        "    lda_model = gensim.models.LdaMulticore(corpus=corpus,\n",
        "                                           id2word=id2word,\n",
        "                                           num_topics=k, \n",
        "                                           random_state=100,\n",
        "                                           chunksize=100,\n",
        "                                           passes=10,\n",
        "                                           per_word_topics=True)\n",
        "    \n",
        "    coherence_model_lda = CoherenceModel(model=lda_model, texts=data_lemmatized, dictionary=id2word, coherence='c_v')\n",
        "    \n",
        "    return coherence_model_lda.get_coherence()"
      ],
      "metadata": {
        "id": "dSW48fv4_19C"
      },
      "execution_count": 243,
      "outputs": []
    },
    {
      "cell_type": "code",
      "source": [
        "# Iterate over possible number of topics.\n",
        "topic_param = [1,2,3,4,5,6,7,8,9,10,11,12,13,14,15,16,17,18,19,20]\n",
        "coherence_score = []\n",
        "\n",
        "for k in topic_param:\n",
        "    cv = compute_coherence_values(corpus=corpus, dictionary=id2word, k=k)\n",
        "    coherence_score.append(cv)\n",
        "\n",
        "param_tuning_coherence = pd.DataFrame()\n",
        "param_tuning_coherence[\"topic_param\"] = topic_param\n",
        "param_tuning_coherence['coherence_score'] = coherence_score\n",
        "param_tuning_coherence"
      ],
      "metadata": {
        "id": "1uKxZvfD_8XU",
        "outputId": "1410bda4-5c59-4558-8ce8-cdf0718524c6",
        "colab": {
          "base_uri": "https://localhost:8080/",
          "height": 677
        }
      },
      "execution_count": 244,
      "outputs": [
        {
          "output_type": "execute_result",
          "data": {
            "text/plain": [
              "    topic_param  coherence_score\n",
              "0             1         0.365570\n",
              "1             2         0.469751\n",
              "2             3         0.549681\n",
              "3             4         0.555160\n",
              "4             5         0.583055\n",
              "5             6         0.558670\n",
              "6             7         0.503020\n",
              "7             8         0.588805\n",
              "8             9         0.604291\n",
              "9            10         0.606212\n",
              "10           11         0.559956\n",
              "11           12         0.554560\n",
              "12           13         0.552361\n",
              "13           14         0.582964\n",
              "14           15         0.551274\n",
              "15           16         0.599921\n",
              "16           17         0.559760\n",
              "17           18         0.584606\n",
              "18           19         0.553477\n",
              "19           20         0.556810"
            ],
            "text/html": [
              "\n",
              "  <div id=\"df-79e44de8-e307-4765-814f-0d70081817a5\">\n",
              "    <div class=\"colab-df-container\">\n",
              "      <div>\n",
              "<style scoped>\n",
              "    .dataframe tbody tr th:only-of-type {\n",
              "        vertical-align: middle;\n",
              "    }\n",
              "\n",
              "    .dataframe tbody tr th {\n",
              "        vertical-align: top;\n",
              "    }\n",
              "\n",
              "    .dataframe thead th {\n",
              "        text-align: right;\n",
              "    }\n",
              "</style>\n",
              "<table border=\"1\" class=\"dataframe\">\n",
              "  <thead>\n",
              "    <tr style=\"text-align: right;\">\n",
              "      <th></th>\n",
              "      <th>topic_param</th>\n",
              "      <th>coherence_score</th>\n",
              "    </tr>\n",
              "  </thead>\n",
              "  <tbody>\n",
              "    <tr>\n",
              "      <th>0</th>\n",
              "      <td>1</td>\n",
              "      <td>0.365570</td>\n",
              "    </tr>\n",
              "    <tr>\n",
              "      <th>1</th>\n",
              "      <td>2</td>\n",
              "      <td>0.469751</td>\n",
              "    </tr>\n",
              "    <tr>\n",
              "      <th>2</th>\n",
              "      <td>3</td>\n",
              "      <td>0.549681</td>\n",
              "    </tr>\n",
              "    <tr>\n",
              "      <th>3</th>\n",
              "      <td>4</td>\n",
              "      <td>0.555160</td>\n",
              "    </tr>\n",
              "    <tr>\n",
              "      <th>4</th>\n",
              "      <td>5</td>\n",
              "      <td>0.583055</td>\n",
              "    </tr>\n",
              "    <tr>\n",
              "      <th>5</th>\n",
              "      <td>6</td>\n",
              "      <td>0.558670</td>\n",
              "    </tr>\n",
              "    <tr>\n",
              "      <th>6</th>\n",
              "      <td>7</td>\n",
              "      <td>0.503020</td>\n",
              "    </tr>\n",
              "    <tr>\n",
              "      <th>7</th>\n",
              "      <td>8</td>\n",
              "      <td>0.588805</td>\n",
              "    </tr>\n",
              "    <tr>\n",
              "      <th>8</th>\n",
              "      <td>9</td>\n",
              "      <td>0.604291</td>\n",
              "    </tr>\n",
              "    <tr>\n",
              "      <th>9</th>\n",
              "      <td>10</td>\n",
              "      <td>0.606212</td>\n",
              "    </tr>\n",
              "    <tr>\n",
              "      <th>10</th>\n",
              "      <td>11</td>\n",
              "      <td>0.559956</td>\n",
              "    </tr>\n",
              "    <tr>\n",
              "      <th>11</th>\n",
              "      <td>12</td>\n",
              "      <td>0.554560</td>\n",
              "    </tr>\n",
              "    <tr>\n",
              "      <th>12</th>\n",
              "      <td>13</td>\n",
              "      <td>0.552361</td>\n",
              "    </tr>\n",
              "    <tr>\n",
              "      <th>13</th>\n",
              "      <td>14</td>\n",
              "      <td>0.582964</td>\n",
              "    </tr>\n",
              "    <tr>\n",
              "      <th>14</th>\n",
              "      <td>15</td>\n",
              "      <td>0.551274</td>\n",
              "    </tr>\n",
              "    <tr>\n",
              "      <th>15</th>\n",
              "      <td>16</td>\n",
              "      <td>0.599921</td>\n",
              "    </tr>\n",
              "    <tr>\n",
              "      <th>16</th>\n",
              "      <td>17</td>\n",
              "      <td>0.559760</td>\n",
              "    </tr>\n",
              "    <tr>\n",
              "      <th>17</th>\n",
              "      <td>18</td>\n",
              "      <td>0.584606</td>\n",
              "    </tr>\n",
              "    <tr>\n",
              "      <th>18</th>\n",
              "      <td>19</td>\n",
              "      <td>0.553477</td>\n",
              "    </tr>\n",
              "    <tr>\n",
              "      <th>19</th>\n",
              "      <td>20</td>\n",
              "      <td>0.556810</td>\n",
              "    </tr>\n",
              "  </tbody>\n",
              "</table>\n",
              "</div>\n",
              "      <button class=\"colab-df-convert\" onclick=\"convertToInteractive('df-79e44de8-e307-4765-814f-0d70081817a5')\"\n",
              "              title=\"Convert this dataframe to an interactive table.\"\n",
              "              style=\"display:none;\">\n",
              "        \n",
              "  <svg xmlns=\"http://www.w3.org/2000/svg\" height=\"24px\"viewBox=\"0 0 24 24\"\n",
              "       width=\"24px\">\n",
              "    <path d=\"M0 0h24v24H0V0z\" fill=\"none\"/>\n",
              "    <path d=\"M18.56 5.44l.94 2.06.94-2.06 2.06-.94-2.06-.94-.94-2.06-.94 2.06-2.06.94zm-11 1L8.5 8.5l.94-2.06 2.06-.94-2.06-.94L8.5 2.5l-.94 2.06-2.06.94zm10 10l.94 2.06.94-2.06 2.06-.94-2.06-.94-.94-2.06-.94 2.06-2.06.94z\"/><path d=\"M17.41 7.96l-1.37-1.37c-.4-.4-.92-.59-1.43-.59-.52 0-1.04.2-1.43.59L10.3 9.45l-7.72 7.72c-.78.78-.78 2.05 0 2.83L4 21.41c.39.39.9.59 1.41.59.51 0 1.02-.2 1.41-.59l7.78-7.78 2.81-2.81c.8-.78.8-2.07 0-2.86zM5.41 20L4 18.59l7.72-7.72 1.47 1.35L5.41 20z\"/>\n",
              "  </svg>\n",
              "      </button>\n",
              "      \n",
              "  <style>\n",
              "    .colab-df-container {\n",
              "      display:flex;\n",
              "      flex-wrap:wrap;\n",
              "      gap: 12px;\n",
              "    }\n",
              "\n",
              "    .colab-df-convert {\n",
              "      background-color: #E8F0FE;\n",
              "      border: none;\n",
              "      border-radius: 50%;\n",
              "      cursor: pointer;\n",
              "      display: none;\n",
              "      fill: #1967D2;\n",
              "      height: 32px;\n",
              "      padding: 0 0 0 0;\n",
              "      width: 32px;\n",
              "    }\n",
              "\n",
              "    .colab-df-convert:hover {\n",
              "      background-color: #E2EBFA;\n",
              "      box-shadow: 0px 1px 2px rgba(60, 64, 67, 0.3), 0px 1px 3px 1px rgba(60, 64, 67, 0.15);\n",
              "      fill: #174EA6;\n",
              "    }\n",
              "\n",
              "    [theme=dark] .colab-df-convert {\n",
              "      background-color: #3B4455;\n",
              "      fill: #D2E3FC;\n",
              "    }\n",
              "\n",
              "    [theme=dark] .colab-df-convert:hover {\n",
              "      background-color: #434B5C;\n",
              "      box-shadow: 0px 1px 3px 1px rgba(0, 0, 0, 0.15);\n",
              "      filter: drop-shadow(0px 1px 2px rgba(0, 0, 0, 0.3));\n",
              "      fill: #FFFFFF;\n",
              "    }\n",
              "  </style>\n",
              "\n",
              "      <script>\n",
              "        const buttonEl =\n",
              "          document.querySelector('#df-79e44de8-e307-4765-814f-0d70081817a5 button.colab-df-convert');\n",
              "        buttonEl.style.display =\n",
              "          google.colab.kernel.accessAllowed ? 'block' : 'none';\n",
              "\n",
              "        async function convertToInteractive(key) {\n",
              "          const element = document.querySelector('#df-79e44de8-e307-4765-814f-0d70081817a5');\n",
              "          const dataTable =\n",
              "            await google.colab.kernel.invokeFunction('convertToInteractive',\n",
              "                                                     [key], {});\n",
              "          if (!dataTable) return;\n",
              "\n",
              "          const docLinkHtml = 'Like what you see? Visit the ' +\n",
              "            '<a target=\"_blank\" href=https://colab.research.google.com/notebooks/data_table.ipynb>data table notebook</a>'\n",
              "            + ' to learn more about interactive tables.';\n",
              "          element.innerHTML = '';\n",
              "          dataTable['output_type'] = 'display_data';\n",
              "          await google.colab.output.renderOutput(dataTable, element);\n",
              "          const docLink = document.createElement('div');\n",
              "          docLink.innerHTML = docLinkHtml;\n",
              "          element.appendChild(docLink);\n",
              "        }\n",
              "      </script>\n",
              "    </div>\n",
              "  </div>\n",
              "  "
            ]
          },
          "metadata": {},
          "execution_count": 244
        }
      ]
    },
    {
      "cell_type": "code",
      "source": [
        "plt.figure(figsize=(16, 8))\n",
        "plt.plot(topic_param, param_tuning_coherence['coherence_score'])\n",
        "\n",
        "plt.title(\"Choosing Optimal LDA Model\")\n",
        "plt.xlabel(\"Num Topics\")\n",
        "plt.ylabel(\"Coherence Scores\")\n",
        "plt.show()"
      ],
      "metadata": {
        "id": "72_kSlcFAGrc",
        "outputId": "f0bb73fe-1465-4a06-a412-3f2151cafba9",
        "colab": {
          "base_uri": "https://localhost:8080/",
          "height": 513
        }
      },
      "execution_count": 245,
      "outputs": [
        {
          "output_type": "display_data",
          "data": {
            "text/plain": [
              "<Figure size 1152x576 with 1 Axes>"
            ],
            "image/png": "[encoded data removed]"
          },
          "metadata": {
            "needs_background": "light"
          }
        }
      ]
    },
    {
      "cell_type": "code",
      "source": [
        "# Build LDA model\n",
        "k=10\n",
        "lda_model = gensim.models.LdaMulticore(corpus=corpus,\n",
        "                                       id2word=id2word,\n",
        "                                       num_topics=k, \n",
        "                                       random_state=100,\n",
        "                                       chunksize=100,\n",
        "                                       passes=10,\n",
        "                                       per_word_topics=True)"
      ],
      "metadata": {
        "id": "1dymBZO3_S_8"
      },
      "execution_count": 246,
      "outputs": []
    },
    {
      "cell_type": "code",
      "source": [
        "lda_model.print_topics()"
      ],
      "metadata": {
        "id": "hrn2jpaJ_cq9",
        "outputId": "6fc924ba-09f3-433d-f361-8459798abd5c",
        "colab": {
          "base_uri": "https://localhost:8080/"
        }
      },
      "execution_count": 247,
      "outputs": [
        {
          "output_type": "execute_result",
          "data": {
            "text/plain": [
              "[(0,\n",
              "  '0.178*\"part\" + 0.100*\"ge\" + 0.086*\"brand\" + 0.064*\"authorized\" + 0.062*\"various\" + 0.040*\"product\" + 0.039*\"number\" + 0.022*\"p\" + 0.019*\"factory\" + 0.017*\"improvement\"'),\n",
              " (1,\n",
              "  '0.133*\"quot\" + 0.040*\"span\" + 0.032*\"span_class\" + 0.030*\"input_type\" + 0.023*\"hidden_name\" + 0.019*\"wb\" + 0.017*\"class_icon\" + 0.015*\"name\" + 0.015*\"value\" + 0.014*\"class_button\"'),\n",
              " (2,\n",
              "  '0.046*\"ice\" + 0.036*\"refrigerator\" + 0.032*\"door\" + 0.019*\"freezer\" + 0.015*\"ice_maker\" + 0.012*\"glass\" + 0.010*\"handle\" + 0.009*\"storage\" + 0.009*\"capacity\" + 0.009*\"food\"'),\n",
              " (3,\n",
              "  '0.014*\"temperature\" + 0.013*\"easy\" + 0.012*\"use\" + 0.010*\"one\" + 0.009*\"time\" + 0.008*\"new\" + 0.008*\"humidity\" + 0.008*\"size\" + 0.007*\"made\" + 0.007*\"home\"'),\n",
              " (4,\n",
              "  '0.111*\"water\" + 0.085*\"filter\" + 0.040*\"refrigerator\" + 0.040*\"replacement\" + 0.019*\"air\" + 0.018*\"compatible\" + 0.018*\"product\" + 0.014*\"humidifier\" + 0.013*\"pack\" + 0.012*\"certified\"'),\n",
              " (5,\n",
              "  '0.033*\"stainless_steel\" + 0.031*\"range_hood\" + 0.016*\"inch\" + 0.015*\"speed\" + 0.015*\"range\" + 0.015*\"kitchen\" + 0.013*\"air\" + 0.013*\"control\" + 0.012*\"filter\" + 0.010*\"vent\"'),\n",
              " (6,\n",
              "  '0.048*\"span\" + 0.041*\"washer\" + 0.041*\"color_secondary\" + 0.041*\"size_base\" + 0.038*\"span_class\" + 0.021*\"water\" + 0.017*\"washing_machine\" + 0.013*\"wash\" + 0.011*\"li\" + 0.011*\"button_button\"'),\n",
              " (7,\n",
              "  '0.116*\"whirlpool\" + 0.107*\"replacement\" + 0.100*\"part\" + 0.067*\"genuine\" + 0.029*\"model_number\" + 0.026*\"name\" + 0.024*\"following_item\" + 0.020*\"refrigerator\" + 0.017*\"manufacturer\" + 0.016*\"wr\"'),\n",
              " (8,\n",
              "  '0.046*\"dishwasher\" + 0.038*\"ap\" + 0.032*\"beneficial\" + 0.031*\"bosch\" + 0.020*\"size_pt\" + 0.016*\"strong_strong\" + 0.012*\"compatible\" + 0.012*\"er\" + 0.010*\"strong\" + 0.009*\"lead_free\"'),\n",
              " (9,\n",
              "  '0.065*\"range\" + 0.053*\"oven\" + 0.035*\"gas\" + 0.024*\"burner\" + 0.017*\"electric\" + 0.017*\"heating_element\" + 0.014*\"stainless_steel\" + 0.013*\"stove\" + 0.013*\"heat\" + 0.011*\"quot\"')]"
            ]
          },
          "metadata": {},
          "execution_count": 247
        }
      ]
    },
    {
      "cell_type": "code",
      "source": [
        "coherence_model_lda = CoherenceModel(model=lda_model, texts=data_lemmatized, dictionary=id2word, coherence='c_v')\n",
        "coherence_lda = coherence_model_lda.get_coherence()\n",
        "print('\\nCoherence Score: ', coherence_lda)"
      ],
      "metadata": {
        "id": "TcYshZmw_xvw",
        "outputId": "bd644b95-5af6-41d7-9424-344911fe1cbc",
        "colab": {
          "base_uri": "https://localhost:8080/"
        }
      },
      "execution_count": 248,
      "outputs": [
        {
          "output_type": "stream",
          "name": "stdout",
          "text": [
            "\n",
            "Coherence Score:  0.6019663382792829\n"
          ]
        }
      ]
    },
    {
      "cell_type": "code",
      "source": [
        "def Sort_Tuple(tup):  \n",
        "    return(sorted(tup, key = lambda x: x[1], reverse = True))   "
      ],
      "metadata": {
        "id": "AV3RoLGcHUkO"
      },
      "execution_count": 249,
      "outputs": []
    },
    {
      "cell_type": "code",
      "source": [
        "doc_num, topic_num, prob = [], [], []\n",
        "print(lda_model.get_document_topics(corpus))\n",
        "for n in range(len(product_df)):\n",
        "  get_document_topics = lda_model.get_document_topics(corpus[n])\n",
        "  doc_num.append(n)\n",
        "  sorted_doc_topics = Sort_Tuple(get_document_topics)\n",
        "  topic_num.append(sorted_doc_topics[0][0])\n",
        "  prob.append(sorted_doc_topics[0][1])\n",
        "product_df['Doc'] = doc_num\n",
        "product_df['Topic'] = topic_num\n",
        "product_df['Probability'] = prob\n"
      ],
      "metadata": {
        "id": "gg3jNh01GoJW",
        "outputId": "3b5b4595-a20b-48d1-fc9a-5f8b5b5a78e1",
        "colab": {
          "base_uri": "https://localhost:8080/"
        }
      },
      "execution_count": 250,
      "outputs": [
        {
          "output_type": "stream",
          "name": "stdout",
          "text": [
            "<gensim.interfaces.TransformedCorpus object at 0x7fd7809c52d0>\n"
          ]
        }
      ]
    },
    {
      "cell_type": "code",
      "source": [
        "product_df"
      ],
      "metadata": {
        "id": "sORUB2gqVNPh",
        "outputId": "42fa9797-6081-43f6-b430-c8ff5c509451",
        "colab": {
          "base_uri": "https://localhost:8080/",
          "height": 1000
        }
      },
      "execution_count": 251,
      "outputs": [
        {
          "output_type": "execute_result",
          "data": {
            "text/plain": [
              "                                                category  \\\n",
              "0        Appliances Refrigerators, Freezers & Ice Makers   \n",
              "1        Appliances Refrigerators, Freezers & Ice Makers   \n",
              "2                         Appliances Parts & Accessories   \n",
              "3                         Appliances Parts & Accessories   \n",
              "4      Appliances Parts & Accessories Range Parts & A...   \n",
              "...                                                  ...   \n",
              "30234                     Appliances Parts & Accessories   \n",
              "30235                     Appliances Parts & Accessories   \n",
              "30236                     Appliances Parts & Accessories   \n",
              "30237  Appliances Parts & Accessories Range Parts & A...   \n",
              "30238                     Appliances Parts & Accessories   \n",
              "\n",
              "                                             description  \\\n",
              "0                                                          \n",
              "1      2 x tupperware pure fresh unique covered cool ...   \n",
              "2                                                          \n",
              "3      multi purpost descaler especially suited to wa...   \n",
              "4      full gauge and size beveled edge furnished wit...   \n",
              "...                                                  ...   \n",
              "30234  this is an authorized aftermarket product fits...   \n",
              "30235  this is an authorized aftermarket product fits...   \n",
              "30236  this is an authorized aftermarket product fits...   \n",
              "30237  this is an o e m authorized part fits with var...   \n",
              "30238  this is an authorized aftermarket product fits...   \n",
              "\n",
              "                                                   title           brand  \\\n",
              "0      tupperware freezer square round container set ...      tupperware   \n",
              "1      2 x tupperware pure amp fresh unique covered c...      tupperware   \n",
              "2                          the cigar moments of pleasure  the cigar book   \n",
              "3                   caraselle 2x 50g appliance descalene       caraselle   \n",
              "4      eaton wiring 39ch sp l arrow hart 1 gang chrom...    eaton wiring   \n",
              "...                                                  ...             ...   \n",
              "30234                              bosch 00175338 switch           bosch   \n",
              "30235                         bosch 00478807 panel facia           bosch   \n",
              "30236                           bosch 00649288 ice maker           bosch   \n",
              "30237                          frigidaire 316543810 knob      frigidaire   \n",
              "30238                          bosch 00674704 pump drain           bosch   \n",
              "\n",
              "                                                 feature  \\\n",
              "0      each 3 pc set includes two 7 8 cup 200 ml and ...   \n",
              "1      2 x tupperware pure fresh unique covered cool ...   \n",
              "2                                                          \n",
              "3                                                          \n",
              "4      returns will not be honored on this closeout i...   \n",
              "...                                                  ...   \n",
              "30234  this is an o e m authorized part fits with var...   \n",
              "30235  this is an o e m authorized part fits with var...   \n",
              "30236  this is an o e m authorized part fits with var...   \n",
              "30237  this is an o e m authorized part fits with var...   \n",
              "30238  this is an o e m authorized part fits with var...   \n",
              "\n",
              "                     main_cat        date   price        asin  \\\n",
              "0                  appliances  2008-11-19          7301113188   \n",
              "1                  appliances  2016-06-05    3.62  7861850250   \n",
              "2                 amazon home              150.26  8792559360   \n",
              "3      tools home improvement  2014-12-17          9792954481   \n",
              "4      tools home improvement  2007-01-16    3.43  B00002N5EL   \n",
              "...                       ...         ...     ...         ...   \n",
              "30234  tools home improvement  2016-06-25   40.23  B01HJH92JQ   \n",
              "30235  tools home improvement  2010-03-03   95.99  B01HJH2I5G   \n",
              "30236  tools home improvement  2016-06-25  250.79  B01HJH0J1G   \n",
              "30237  tools home improvement  2016-06-25   14.99  B01HJHHEA0   \n",
              "30238  tools home improvement  2010-04-10   64.99  B01HJH397M   \n",
              "\n",
              "                                         imageURLHighRes  dateYear  dateMonth  \\\n",
              "0                                                     []      2008         11   \n",
              "1      ['https://images-na.ssl-images-amazon.com/imag...      2016          6   \n",
              "2      ['https://images-na.ssl-images-amazon.com/imag...         0          0   \n",
              "3      ['https://images-na.ssl-images-amazon.com/imag...      2014         12   \n",
              "4                                                     []      2007          1   \n",
              "...                                                  ...       ...        ...   \n",
              "30234                                                 []      2016          6   \n",
              "30235  ['https://images-na.ssl-images-amazon.com/imag...      2010          3   \n",
              "30236                                                 []      2016          6   \n",
              "30237  ['https://images-na.ssl-images-amazon.com/imag...      2016          6   \n",
              "30238  ['https://images-na.ssl-images-amazon.com/imag...      2010          4   \n",
              "\n",
              "                                               ori_title  \\\n",
              "0      Tupperware Freezer Square Round Container Set ...   \n",
              "1      2 X Tupperware Pure &amp; Fresh Unique Covered...   \n",
              "2                        The Cigar - Moments of Pleasure   \n",
              "3                   Caraselle 2X 50G Appliance Descalene   \n",
              "4      EATON Wiring 39CH-SP-L Arrow Hart 1-Gang Chrom...   \n",
              "...                                                  ...   \n",
              "30234                              Bosch 00175338 Switch   \n",
              "30235                         Bosch 00478807 Panel-Facia   \n",
              "30236                           Bosch 00649288 Ice Maker   \n",
              "30237                          Frigidaire 316543810 Knob   \n",
              "30238                          Bosch 00674704 Pump-Drain   \n",
              "\n",
              "                                                all_text    Doc  Topic  \\\n",
              "0       ice freezer square round container set of 6 e...      0      3   \n",
              "1       ice 2 x pure fresh unique covered cool ice tr...      1      2   \n",
              "2              the cigar of pleasure the cigar book home      2      6   \n",
              "3       especially to washing and can also be used fo...      3      3   \n",
              "4       range plug full gauge and size beveled edge f...      4      5   \n",
              "...                                                  ...    ...    ...   \n",
              "30234   this is an authorized product with various bo...  30234      0   \n",
              "30235   this is an authorized product with various bo...  30235      0   \n",
              "30236   this is an authorized product with various bo...  30236      0   \n",
              "30237   range this is an o e m authorized part with v...  30237      0   \n",
              "30238   this is an authorized product with various bo...  30238      0   \n",
              "\n",
              "       Probability  \n",
              "0         0.388930  \n",
              "1         0.674470  \n",
              "2         0.560310  \n",
              "3         0.809065  \n",
              "4         0.445263  \n",
              "...            ...  \n",
              "30234     0.649453  \n",
              "30235     0.665370  \n",
              "30236     0.609090  \n",
              "30237     0.835164  \n",
              "30238     0.576964  \n",
              "\n",
              "[30239 rows x 17 columns]"
            ],
            "text/html": [
              "\n",
              "  <div id=\"df-6a301aae-e853-4051-a457-2c07a0f8b892\">\n",
              "    <div class=\"colab-df-container\">\n",
              "      <div>\n",
              "<style scoped>\n",
              "    .dataframe tbody tr th:only-of-type {\n",
              "        vertical-align: middle;\n",
              "    }\n",
              "\n",
              "    .dataframe tbody tr th {\n",
              "        vertical-align: top;\n",
              "    }\n",
              "\n",
              "    .dataframe thead th {\n",
              "        text-align: right;\n",
              "    }\n",
              "</style>\n",
              "<table border=\"1\" class=\"dataframe\">\n",
              "  <thead>\n",
              "    <tr style=\"text-align: right;\">\n",
              "      <th></th>\n",
              "      <th>category</th>\n",
              "      <th>description</th>\n",
              "      <th>title</th>\n",
              "      <th>brand</th>\n",
              "      <th>feature</th>\n",
              "      <th>main_cat</th>\n",
              "      <th>date</th>\n",
              "      <th>price</th>\n",
              "      <th>asin</th>\n",
              "      <th>imageURLHighRes</th>\n",
              "      <th>dateYear</th>\n",
              "      <th>dateMonth</th>\n",
              "      <th>ori_title</th>\n",
              "      <th>all_text</th>\n",
              "      <th>Doc</th>\n",
              "      <th>Topic</th>\n",
              "      <th>Probability</th>\n",
              "    </tr>\n",
              "  </thead>\n",
              "  <tbody>\n",
              "    <tr>\n",
              "      <th>0</th>\n",
              "      <td>Appliances Refrigerators, Freezers &amp; Ice Makers</td>\n",
              "      <td></td>\n",
              "      <td>tupperware freezer square round container set ...</td>\n",
              "      <td>tupperware</td>\n",
              "      <td>each 3 pc set includes two 7 8 cup 200 ml and ...</td>\n",
              "      <td>appliances</td>\n",
              "      <td>2008-11-19</td>\n",
              "      <td></td>\n",
              "      <td>7301113188</td>\n",
              "      <td>[]</td>\n",
              "      <td>2008</td>\n",
              "      <td>11</td>\n",
              "      <td>Tupperware Freezer Square Round Container Set ...</td>\n",
              "      <td>ice freezer square round container set of 6 e...</td>\n",
              "      <td>0</td>\n",
              "      <td>3</td>\n",
              "      <td>0.388930</td>\n",
              "    </tr>\n",
              "    <tr>\n",
              "      <th>1</th>\n",
              "      <td>Appliances Refrigerators, Freezers &amp; Ice Makers</td>\n",
              "      <td>2 x tupperware pure fresh unique covered cool ...</td>\n",
              "      <td>2 x tupperware pure amp fresh unique covered c...</td>\n",
              "      <td>tupperware</td>\n",
              "      <td>2 x tupperware pure fresh unique covered cool ...</td>\n",
              "      <td>appliances</td>\n",
              "      <td>2016-06-05</td>\n",
              "      <td>3.62</td>\n",
              "      <td>7861850250</td>\n",
              "      <td>['https://images-na.ssl-images-amazon.com/imag...</td>\n",
              "      <td>2016</td>\n",
              "      <td>6</td>\n",
              "      <td>2 X Tupperware Pure &amp;amp; Fresh Unique Covered...</td>\n",
              "      <td>ice 2 x pure fresh unique covered cool ice tr...</td>\n",
              "      <td>1</td>\n",
              "      <td>2</td>\n",
              "      <td>0.674470</td>\n",
              "    </tr>\n",
              "    <tr>\n",
              "      <th>2</th>\n",
              "      <td>Appliances Parts &amp; Accessories</td>\n",
              "      <td></td>\n",
              "      <td>the cigar moments of pleasure</td>\n",
              "      <td>the cigar book</td>\n",
              "      <td></td>\n",
              "      <td>amazon home</td>\n",
              "      <td></td>\n",
              "      <td>150.26</td>\n",
              "      <td>8792559360</td>\n",
              "      <td>['https://images-na.ssl-images-amazon.com/imag...</td>\n",
              "      <td>0</td>\n",
              "      <td>0</td>\n",
              "      <td>The Cigar - Moments of Pleasure</td>\n",
              "      <td>the cigar of pleasure the cigar book home</td>\n",
              "      <td>2</td>\n",
              "      <td>6</td>\n",
              "      <td>0.560310</td>\n",
              "    </tr>\n",
              "    <tr>\n",
              "      <th>3</th>\n",
              "      <td>Appliances Parts &amp; Accessories</td>\n",
              "      <td>multi purpost descaler especially suited to wa...</td>\n",
              "      <td>caraselle 2x 50g appliance descalene</td>\n",
              "      <td>caraselle</td>\n",
              "      <td></td>\n",
              "      <td>tools home improvement</td>\n",
              "      <td>2014-12-17</td>\n",
              "      <td></td>\n",
              "      <td>9792954481</td>\n",
              "      <td>['https://images-na.ssl-images-amazon.com/imag...</td>\n",
              "      <td>2014</td>\n",
              "      <td>12</td>\n",
              "      <td>Caraselle 2X 50G Appliance Descalene</td>\n",
              "      <td>especially to washing and can also be used fo...</td>\n",
              "      <td>3</td>\n",
              "      <td>3</td>\n",
              "      <td>0.809065</td>\n",
              "    </tr>\n",
              "    <tr>\n",
              "      <th>4</th>\n",
              "      <td>Appliances Parts &amp; Accessories Range Parts &amp; A...</td>\n",
              "      <td>full gauge and size beveled edge furnished wit...</td>\n",
              "      <td>eaton wiring 39ch sp l arrow hart 1 gang chrom...</td>\n",
              "      <td>eaton wiring</td>\n",
              "      <td>returns will not be honored on this closeout i...</td>\n",
              "      <td>tools home improvement</td>\n",
              "      <td>2007-01-16</td>\n",
              "      <td>3.43</td>\n",
              "      <td>B00002N5EL</td>\n",
              "      <td>[]</td>\n",
              "      <td>2007</td>\n",
              "      <td>1</td>\n",
              "      <td>EATON Wiring 39CH-SP-L Arrow Hart 1-Gang Chrom...</td>\n",
              "      <td>range plug full gauge and size beveled edge f...</td>\n",
              "      <td>4</td>\n",
              "      <td>5</td>\n",
              "      <td>0.445263</td>\n",
              "    </tr>\n",
              "    <tr>\n",
              "      <th>...</th>\n",
              "      <td>...</td>\n",
              "      <td>...</td>\n",
              "      <td>...</td>\n",
              "      <td>...</td>\n",
              "      <td>...</td>\n",
              "      <td>...</td>\n",
              "      <td>...</td>\n",
              "      <td>...</td>\n",
              "      <td>...</td>\n",
              "      <td>...</td>\n",
              "      <td>...</td>\n",
              "      <td>...</td>\n",
              "      <td>...</td>\n",
              "      <td>...</td>\n",
              "      <td>...</td>\n",
              "      <td>...</td>\n",
              "      <td>...</td>\n",
              "    </tr>\n",
              "    <tr>\n",
              "      <th>30234</th>\n",
              "      <td>Appliances Parts &amp; Accessories</td>\n",
              "      <td>this is an authorized aftermarket product fits...</td>\n",
              "      <td>bosch 00175338 switch</td>\n",
              "      <td>bosch</td>\n",
              "      <td>this is an o e m authorized part fits with var...</td>\n",
              "      <td>tools home improvement</td>\n",
              "      <td>2016-06-25</td>\n",
              "      <td>40.23</td>\n",
              "      <td>B01HJH92JQ</td>\n",
              "      <td>[]</td>\n",
              "      <td>2016</td>\n",
              "      <td>6</td>\n",
              "      <td>Bosch 00175338 Switch</td>\n",
              "      <td>this is an authorized product with various bo...</td>\n",
              "      <td>30234</td>\n",
              "      <td>0</td>\n",
              "      <td>0.649453</td>\n",
              "    </tr>\n",
              "    <tr>\n",
              "      <th>30235</th>\n",
              "      <td>Appliances Parts &amp; Accessories</td>\n",
              "      <td>this is an authorized aftermarket product fits...</td>\n",
              "      <td>bosch 00478807 panel facia</td>\n",
              "      <td>bosch</td>\n",
              "      <td>this is an o e m authorized part fits with var...</td>\n",
              "      <td>tools home improvement</td>\n",
              "      <td>2010-03-03</td>\n",
              "      <td>95.99</td>\n",
              "      <td>B01HJH2I5G</td>\n",
              "      <td>['https://images-na.ssl-images-amazon.com/imag...</td>\n",
              "      <td>2010</td>\n",
              "      <td>3</td>\n",
              "      <td>Bosch 00478807 Panel-Facia</td>\n",
              "      <td>this is an authorized product with various bo...</td>\n",
              "      <td>30235</td>\n",
              "      <td>0</td>\n",
              "      <td>0.665370</td>\n",
              "    </tr>\n",
              "    <tr>\n",
              "      <th>30236</th>\n",
              "      <td>Appliances Parts &amp; Accessories</td>\n",
              "      <td>this is an authorized aftermarket product fits...</td>\n",
              "      <td>bosch 00649288 ice maker</td>\n",
              "      <td>bosch</td>\n",
              "      <td>this is an o e m authorized part fits with var...</td>\n",
              "      <td>tools home improvement</td>\n",
              "      <td>2016-06-25</td>\n",
              "      <td>250.79</td>\n",
              "      <td>B01HJH0J1G</td>\n",
              "      <td>[]</td>\n",
              "      <td>2016</td>\n",
              "      <td>6</td>\n",
              "      <td>Bosch 00649288 Ice Maker</td>\n",
              "      <td>this is an authorized product with various bo...</td>\n",
              "      <td>30236</td>\n",
              "      <td>0</td>\n",
              "      <td>0.609090</td>\n",
              "    </tr>\n",
              "    <tr>\n",
              "      <th>30237</th>\n",
              "      <td>Appliances Parts &amp; Accessories Range Parts &amp; A...</td>\n",
              "      <td>this is an o e m authorized part fits with var...</td>\n",
              "      <td>frigidaire 316543810 knob</td>\n",
              "      <td>frigidaire</td>\n",
              "      <td>this is an o e m authorized part fits with var...</td>\n",
              "      <td>tools home improvement</td>\n",
              "      <td>2016-06-25</td>\n",
              "      <td>14.99</td>\n",
              "      <td>B01HJHHEA0</td>\n",
              "      <td>['https://images-na.ssl-images-amazon.com/imag...</td>\n",
              "      <td>2016</td>\n",
              "      <td>6</td>\n",
              "      <td>Frigidaire 316543810 Knob</td>\n",
              "      <td>range this is an o e m authorized part with v...</td>\n",
              "      <td>30237</td>\n",
              "      <td>0</td>\n",
              "      <td>0.835164</td>\n",
              "    </tr>\n",
              "    <tr>\n",
              "      <th>30238</th>\n",
              "      <td>Appliances Parts &amp; Accessories</td>\n",
              "      <td>this is an authorized aftermarket product fits...</td>\n",
              "      <td>bosch 00674704 pump drain</td>\n",
              "      <td>bosch</td>\n",
              "      <td>this is an o e m authorized part fits with var...</td>\n",
              "      <td>tools home improvement</td>\n",
              "      <td>2010-04-10</td>\n",
              "      <td>64.99</td>\n",
              "      <td>B01HJH397M</td>\n",
              "      <td>['https://images-na.ssl-images-amazon.com/imag...</td>\n",
              "      <td>2010</td>\n",
              "      <td>4</td>\n",
              "      <td>Bosch 00674704 Pump-Drain</td>\n",
              "      <td>this is an authorized product with various bo...</td>\n",
              "      <td>30238</td>\n",
              "      <td>0</td>\n",
              "      <td>0.576964</td>\n",
              "    </tr>\n",
              "  </tbody>\n",
              "</table>\n",
              "<p>30239 rows × 17 columns</p>\n",
              "</div>\n",
              "      <button class=\"colab-df-convert\" onclick=\"convertToInteractive('df-6a301aae-e853-4051-a457-2c07a0f8b892')\"\n",
              "              title=\"Convert this dataframe to an interactive table.\"\n",
              "              style=\"display:none;\">\n",
              "        \n",
              "  <svg xmlns=\"http://www.w3.org/2000/svg\" height=\"24px\"viewBox=\"0 0 24 24\"\n",
              "       width=\"24px\">\n",
              "    <path d=\"M0 0h24v24H0V0z\" fill=\"none\"/>\n",
              "    <path d=\"M18.56 5.44l.94 2.06.94-2.06 2.06-.94-2.06-.94-.94-2.06-.94 2.06-2.06.94zm-11 1L8.5 8.5l.94-2.06 2.06-.94-2.06-.94L8.5 2.5l-.94 2.06-2.06.94zm10 10l.94 2.06.94-2.06 2.06-.94-2.06-.94-.94-2.06-.94 2.06-2.06.94z\"/><path d=\"M17.41 7.96l-1.37-1.37c-.4-.4-.92-.59-1.43-.59-.52 0-1.04.2-1.43.59L10.3 9.45l-7.72 7.72c-.78.78-.78 2.05 0 2.83L4 21.41c.39.39.9.59 1.41.59.51 0 1.02-.2 1.41-.59l7.78-7.78 2.81-2.81c.8-.78.8-2.07 0-2.86zM5.41 20L4 18.59l7.72-7.72 1.47 1.35L5.41 20z\"/>\n",
              "  </svg>\n",
              "      </button>\n",
              "      \n",
              "  <style>\n",
              "    .colab-df-container {\n",
              "      display:flex;\n",
              "      flex-wrap:wrap;\n",
              "      gap: 12px;\n",
              "    }\n",
              "\n",
              "    .colab-df-convert {\n",
              "      background-color: #E8F0FE;\n",
              "      border: none;\n",
              "      border-radius: 50%;\n",
              "      cursor: pointer;\n",
              "      display: none;\n",
              "      fill: #1967D2;\n",
              "      height: 32px;\n",
              "      padding: 0 0 0 0;\n",
              "      width: 32px;\n",
              "    }\n",
              "\n",
              "    .colab-df-convert:hover {\n",
              "      background-color: #E2EBFA;\n",
              "      box-shadow: 0px 1px 2px rgba(60, 64, 67, 0.3), 0px 1px 3px 1px rgba(60, 64, 67, 0.15);\n",
              "      fill: #174EA6;\n",
              "    }\n",
              "\n",
              "    [theme=dark] .colab-df-convert {\n",
              "      background-color: #3B4455;\n",
              "      fill: #D2E3FC;\n",
              "    }\n",
              "\n",
              "    [theme=dark] .colab-df-convert:hover {\n",
              "      background-color: #434B5C;\n",
              "      box-shadow: 0px 1px 3px 1px rgba(0, 0, 0, 0.15);\n",
              "      filter: drop-shadow(0px 1px 2px rgba(0, 0, 0, 0.3));\n",
              "      fill: #FFFFFF;\n",
              "    }\n",
              "  </style>\n",
              "\n",
              "      <script>\n",
              "        const buttonEl =\n",
              "          document.querySelector('#df-6a301aae-e853-4051-a457-2c07a0f8b892 button.colab-df-convert');\n",
              "        buttonEl.style.display =\n",
              "          google.colab.kernel.accessAllowed ? 'block' : 'none';\n",
              "\n",
              "        async function convertToInteractive(key) {\n",
              "          const element = document.querySelector('#df-6a301aae-e853-4051-a457-2c07a0f8b892');\n",
              "          const dataTable =\n",
              "            await google.colab.kernel.invokeFunction('convertToInteractive',\n",
              "                                                     [key], {});\n",
              "          if (!dataTable) return;\n",
              "\n",
              "          const docLinkHtml = 'Like what you see? Visit the ' +\n",
              "            '<a target=\"_blank\" href=https://colab.research.google.com/notebooks/data_table.ipynb>data table notebook</a>'\n",
              "            + ' to learn more about interactive tables.';\n",
              "          element.innerHTML = '';\n",
              "          dataTable['output_type'] = 'display_data';\n",
              "          await google.colab.output.renderOutput(dataTable, element);\n",
              "          const docLink = document.createElement('div');\n",
              "          docLink.innerHTML = docLinkHtml;\n",
              "          element.appendChild(docLink);\n",
              "        }\n",
              "      </script>\n",
              "    </div>\n",
              "  </div>\n",
              "  "
            ]
          },
          "metadata": {},
          "execution_count": 251
        }
      ]
    },
    {
      "cell_type": "code",
      "source": [
        "def topic_modeling_recommender(title, df):\n",
        "    recommended = []\n",
        "    top10_list = []\n",
        "    \n",
        "    title = title.lower()\n",
        "    df['title'] = df['title'].str.lower()\n",
        "    topic_num = df[df['title']==title].Topic.values\n",
        "    doc_num = df[df['title']==title].Doc.values    \n",
        "    \n",
        "    output_df = df[df['Topic']==topic_num[0]].sort_values('Probability', ascending=False).reset_index(drop=True)\n",
        "\n",
        "    index = output_df[output_df['Doc']==doc_num[0]].index[0]\n",
        "    \n",
        "    top10_list += list(output_df.iloc[index-5:index].index)\n",
        "    top10_list += list(output_df.iloc[index+1:index+6].index)\n",
        "    \n",
        "    output_df['title'] = output_df['title'].str.title()\n",
        "    \n",
        "    for each in top10_list:\n",
        "        recommended.append(output_df.iloc[each].title)\n",
        "        \n",
        "    return recommended"
      ],
      "metadata": {
        "id": "3D0lKCxiHYws"
      },
      "execution_count": 252,
      "outputs": []
    },
    {
      "cell_type": "code",
      "source": [
        "topic_modeling_recommender(\"coldmate mr 128 mini cooler warmer deluxe mini refrigerator\", product_df)"
      ],
      "metadata": {
        "id": "whDiOgkgHaOs",
        "outputId": "41ff8f71-0318-4183-fe3a-176eeacff8fb",
        "colab": {
          "base_uri": "https://localhost:8080/"
        }
      },
      "execution_count": 253,
      "outputs": [
        {
          "output_type": "execute_result",
          "data": {
            "text/plain": [
              "['Refrigerator Dispenser Door Flap Flapper New Oem Ge',\n",
              " 'Wine Bouquet Kit Professional',\n",
              " 'Whirlpool Reg 33 Inch Wide Top Freezer Refrigerator With Optional Ez Connect Icemaker Kit 20 5 Cu Ft',\n",
              " 'Avallon Abr151Sgrh 86 Can 15 Quot Built In Beverage Cooler Right Hinge',\n",
              " 'Frigidaire Gallery Stainless Steel Refrigerator Freezer Combo Amp Trim Fgru19F6Qf Fgfu19F6Qf Trimkitez2',\n",
              " 'Rca Frf472 Chest Freezer 7 1 Cubic Feet White',\n",
              " 'Frigidaire 242015101 Nameplate Label For Refrigerator',\n",
              " 'Magic Chef Replacement Refrigerator Freezer Ice Maker 62577 5',\n",
              " 'Delfield 3978279 Refrigerator Freezer Wire Shelf',\n",
              " 'Scotsman Ice Systems A09543 000 Spinner Jet Fc01']"
            ]
          },
          "metadata": {},
          "execution_count": 253
        }
      ]
    },
    {
      "cell_type": "code",
      "source": [
        "product_df.to_csv(\"Content_based_LDA_output.csv\", index=False)"
      ],
      "metadata": {
        "id": "wNLlkZ1uZEJS"
      },
      "execution_count": 254,
      "outputs": []
    }
  ]
}